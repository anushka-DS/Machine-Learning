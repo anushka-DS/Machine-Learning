{
 "cells": [
  {
   "cell_type": "markdown",
   "metadata": {},
   "source": [
    "# How to Develop Word Embeddings in Python with Gensim\n",
    "Word embeddings are a modern approach for representing text in natural language processing.\n",
    "\n",
    "Embedding algorithms like word2vec and GloVe are key to the state-of-the-art results achieved by neural network models on natural language processing problems like machine translation.\n",
    "\n",
    "In this tutorial, you will discover how to train and load word embedding models for natural language processing applications in Python using Gensim.\n",
    "\n",
    "After completing this tutorial, you will know:\n",
    "\n",
    "* How to train your own word2vec word embedding model on text data.\n",
    "* How to visualize a trained word embedding model using Principal Component Analysis.\n",
    "* How to load pre-trained word2vec and GloVe word embedding models from Google and Stanford.\n",
    "\n",
    "Let’s get started."
   ]
  },
  {
   "cell_type": "markdown",
   "metadata": {},
   "source": [
    "## Tutorial Overview\n",
    "This tutorial is divided into 6 parts; they are:\n",
    "\n",
    "1. Word Embeddings\n",
    "2. Gensim Library\n",
    "3. Develop Word2Vec Embedding\n",
    "4. Visualize Word Embedding\n",
    "5. Load Google’s Word2Vec Embedding\n",
    "6. Load Stanford’s GloVe Embedding\n",
    "\n",
    "## Word Embeddings\n",
    "A word embedding is an approach to provide a dense vector representation of words that capture something about their meaning.\n",
    "\n",
    "Word embeddings are an improvement over simpler bag-of-word model word encoding schemes like word counts and frequencies that result in large and sparse vectors (mostly 0 values) that describe documents but not the meaning of the words.\n",
    "\n",
    "Word embeddings work by using an algorithm to train a set of fixed-length dense and continuous-valued vectors based on a large corpus of text. Each word is represented by a point in the embedding space and these points are learned and moved around based on the words that surround the target word.\n",
    "\n",
    "It is defining a word by the company that it keeps that allows the word embedding to learn something about the meaning of words. The vector space representation of the words provides a projection where words with similar meanings are locally clustered within the space.\n",
    "\n",
    "The use of word embeddings over other text representations is one of the key methods that has led to breakthrough performance with deep neural networks on problems like machine translation.\n",
    "\n",
    "In this tutorial, we are going to look at how to use two different word embedding methods called word2vec by researchers at Google and GloVe by researchers at Stanford.\n",
    "\n",
    "## Gensim Python Library\n",
    "[Gensim](https://radimrehurek.com/gensim/index.html) is an open source Python library for natural language processing, with a focus on topic modeling.\n",
    "\n",
    "Gensim was developed and is maintained by the Czech natural language processing researcher [Radim Řehůřek](https://www.linkedin.com/in/radimrehurek/) and his company [RaRe Technologies](https://rare-technologies.com/).\n",
    "\n",
    "It is not an everything-including-the-kitchen-sink NLP research library (like NLTK); instead, Gensim is a mature, focused, and efficient suite of NLP tools for topic modeling. Most notably for this tutorial, it supports an implementation of the Word2Vec word embedding for learning new word vectors from text.\n",
    "\n",
    "It also provides tools for loading pre-trained word embeddings in a few formats and for making use and querying a loaded embedding.\n",
    "\n",
    "We will use the Gensim library in this tutorial.\n",
    "\n",
    "Gensim can be installed easily using pip or easy_install."
   ]
  },
  {
   "cell_type": "markdown",
   "metadata": {},
   "source": [
    "## Develop Word2Vec Embedding\n",
    "[Word2vec](https://en.wikipedia.org/wiki/Word2vec) is one algorithm for learning a word embedding from a text corpus.\n",
    "\n",
    "There are two main training algorithms that can be used to learn the embedding from text; they are continuous bag of words (CBOW) and skip grams.\n",
    "\n",
    "We will not get into the algorithms other than to say that they generally look at a window of words for each target word to provide context and in turn meaning for words. The approach was developed by Tomas Mikolov, formerly at Google and currently at Facebook.\n",
    "\n",
    "Word2Vec models require a lot of text, e.g. the entire Wikipedia corpus. Nevertheless, we will demonstrate the principles using a small in-memory example of text.\n",
    "\n",
    "Gensim provides the [Word2Vec](https://radimrehurek.com/gensim/models/word2vec.html) class for working with a Word2Vec model.\n",
    "\n",
    "Learning a word embedding from text involves loading and organizing the text into sentences and providing them to the constructor of a new Word2Vec() instance. For example:"
   ]
  },
  {
   "cell_type": "code",
   "execution_count": null,
   "metadata": {},
   "outputs": [],
   "source": [
    "sentences = ...\n",
    "model = Word2Vec(sentences)"
   ]
  },
  {
   "cell_type": "markdown",
   "metadata": {},
   "source": [
    "Specifically, each sentence must be tokenized, meaning divided into words and prepared (e.g. perhaps pre-filtered and perhaps converted to a preferred case).\n",
    "\n",
    "The sentences could be text loaded into memory, or an iterator that progressively loads text, required for very large text corpora.\n",
    "\n",
    "There are many parameters on this constructor; a few noteworthy arguments you may wish to configure are:\n",
    "\n",
    "* **size**: (default 100) The number of dimensions of the embedding, e.g. the length of the dense vector to represent each token (word).\n",
    "* **window**: (default 5) The maximum distance between a target word and words around the target word.\n",
    "* **min_count**: (default 5) The minimum count of words to consider when training the model; words with an occurrence less than this count will be ignored.\n",
    "* **workers**: (default 3) The number of threads to use while training.\n",
    "* **sg**: (default 0 or CBOW) The training algorithm, either CBOW (0) or skip gram (1).\n",
    "\n",
    "The defaults are often good enough when just getting started. If you have a lot of cores, as most modern computers do, I strongly encourage you to increase workers to match the number of cores (e.g. 8).\n",
    "\n",
    "After the model is trained, it is accessible via the “wv” attribute. This is the actual word vector model in which queries can be made.\n",
    "\n",
    "For example, you can print the learned vocabulary of tokens (words) as follows:"
   ]
  },
  {
   "cell_type": "code",
   "execution_count": null,
   "metadata": {},
   "outputs": [],
   "source": [
    "words = list(model.wv.vocab)\n",
    "print(words)"
   ]
  },
  {
   "cell_type": "markdown",
   "metadata": {},
   "source": [
    "You can review the embedded vector for a specific token as follows:"
   ]
  },
  {
   "cell_type": "code",
   "execution_count": null,
   "metadata": {},
   "outputs": [],
   "source": [
    "print(model['word'])"
   ]
  },
  {
   "cell_type": "markdown",
   "metadata": {},
   "source": [
    "Finally, a trained model can then be saved to file by calling the save_word2vec_format() function on the word vector model.\n",
    "\n",
    "By default, the model is saved in a binary format to save space. For example:"
   ]
  },
  {
   "cell_type": "code",
   "execution_count": null,
   "metadata": {},
   "outputs": [],
   "source": [
    "model.wv.save_word2vec_format('model.bin')"
   ]
  },
  {
   "cell_type": "markdown",
   "metadata": {},
   "source": [
    "When getting started, you can save the learned model in ASCII format and review the contents.\n",
    "\n",
    "You can do this by setting binary=False when calling the save_word2vec_format() function, for example:"
   ]
  },
  {
   "cell_type": "code",
   "execution_count": null,
   "metadata": {},
   "outputs": [],
   "source": [
    "model.wv.save_word2vec_format('model.txt', binary=False)"
   ]
  },
  {
   "cell_type": "markdown",
   "metadata": {},
   "source": [
    "The saved model can then be loaded again by calling the Word2Vec.load() function. For example:"
   ]
  },
  {
   "cell_type": "code",
   "execution_count": null,
   "metadata": {},
   "outputs": [],
   "source": [
    "model = Word2Vec.load('model.bin')"
   ]
  },
  {
   "cell_type": "markdown",
   "metadata": {},
   "source": [
    "We can tie all of this together with a worked example.\n",
    "\n",
    "Rather than loading a large text document or corpus from file, we will work with a small, in-memory list of pre-tokenized sentences. The model is trained and the minimum count for words is set to 1 so that no words are ignored.\n",
    "\n",
    "After the model is learned, we summarize, print the vocabulary, then print a single vector for the word ‘sentence‘.\n",
    "\n",
    "Finally, the model is saved to a file in binary format, loaded, and then summarized."
   ]
  },
  {
   "cell_type": "code",
   "execution_count": 1,
   "metadata": {},
   "outputs": [
    {
     "name": "stdout",
     "output_type": "stream",
     "text": [
      "Word2Vec(vocab=14, size=100, alpha=0.025)\n",
      "['and', 'word2vec', 'for', 'sentence', 'this', 'is', 'one', 'second', 'another', 'the', 'first', 'yet', 'final', 'more']\n",
      "[ 1.0910820e-03 -1.5077452e-03 -3.2069760e-03 -9.9484180e-04\n",
      "  3.1507821e-04  4.3721409e-03 -3.6966589e-03 -3.3398340e-03\n",
      " -4.5425897e-03  9.9963380e-04 -4.2361259e-03 -3.8322308e-03\n",
      "  4.3286034e-03 -3.2514911e-03  2.9569527e-03 -3.7188190e-03\n",
      " -1.0051982e-03  4.8464374e-03 -3.5323880e-03  1.2242071e-04\n",
      " -4.5874268e-03  3.7173247e-03 -4.1582971e-03 -3.9330549e-03\n",
      " -8.7048812e-04 -4.5904196e-03  3.7684049e-03 -3.9869444e-03\n",
      "  1.5684202e-03  4.3672328e-03  1.7569183e-03  1.4254355e-03\n",
      " -3.0226770e-03  1.5630876e-03  1.1366424e-03 -1.0663142e-03\n",
      "  4.9594906e-03  1.5107748e-03 -3.5520273e-03 -1.7370946e-03\n",
      " -4.4726627e-03 -3.6770348e-03  3.5596718e-03 -7.3829072e-04\n",
      "  7.4810127e-04  2.5676086e-03  8.0731243e-04 -2.7061251e-03\n",
      " -4.2320942e-03  3.4339249e-03  9.2918600e-04  4.3059429e-03\n",
      " -1.6868339e-03  2.3244848e-03 -3.9865668e-03  4.2214273e-03\n",
      "  3.0529061e-03  2.7524345e-03  4.3230103e-03 -3.9409990e-03\n",
      " -2.2007530e-03 -2.5688580e-03 -4.1240761e-03 -1.5698475e-03\n",
      " -3.0006173e-03 -3.1934893e-03  2.1189270e-03 -4.9184784e-03\n",
      " -2.9591753e-03 -2.7208854e-03 -3.6836134e-03  4.8212996e-03\n",
      " -3.2314796e-03  7.9252338e-04 -1.1393809e-03  4.1330149e-03\n",
      " -2.2852742e-03  1.1882690e-03  4.9270047e-03  1.0303492e-03\n",
      " -2.9270577e-03  2.5646228e-03  3.5660752e-04  3.5602620e-03\n",
      "  7.4526753e-05 -4.0080678e-04 -3.8333556e-03 -1.5198218e-03\n",
      " -1.2780972e-03 -3.4368543e-03 -3.1265458e-03  2.0513015e-03\n",
      " -4.0272819e-03 -3.5779302e-03 -1.9546321e-03 -1.0096101e-03\n",
      "  2.4777828e-03 -1.2672107e-03 -3.6294560e-03 -1.7686683e-03]\n",
      "Word2Vec(vocab=14, size=100, alpha=0.025)\n"
     ]
    },
    {
     "name": "stderr",
     "output_type": "stream",
     "text": [
      "/Users/khanhnamle/anaconda2/lib/python2.7/site-packages/ipykernel_launcher.py:16: DeprecationWarning: Call to deprecated `__getitem__` (Method will be removed in 4.0.0, use self.wv.__getitem__() instead).\n",
      "  app.launch_new_instance()\n"
     ]
    }
   ],
   "source": [
    "from gensim.models import Word2Vec\n",
    "# define training data\n",
    "sentences = [['this', 'is', 'the', 'first', 'sentence', 'for', 'word2vec'],\n",
    "\t\t\t['this', 'is', 'the', 'second', 'sentence'],\n",
    "\t\t\t['yet', 'another', 'sentence'],\n",
    "\t\t\t['one', 'more', 'sentence'],\n",
    "\t\t\t['and', 'the', 'final', 'sentence']]\n",
    "# train model\n",
    "model = Word2Vec(sentences, min_count=1)\n",
    "# summarize the loaded model\n",
    "print(model)\n",
    "# summarize vocabulary\n",
    "words = list(model.wv.vocab)\n",
    "print(words)\n",
    "# access vector for one word\n",
    "print(model['sentence'])\n",
    "# save model\n",
    "model.save('model.bin')\n",
    "# load model\n",
    "new_model = Word2Vec.load('model.bin')\n",
    "print(new_model)"
   ]
  },
  {
   "cell_type": "markdown",
   "metadata": {},
   "source": [
    "You can see that with a little work to prepare your text document, you can create your own word embedding very easily with Gensim.\n",
    "\n",
    "## Visualize Word Embedding\n",
    "After you learn word embedding for your text data, it can be nice to explore it with visualization.\n",
    "\n",
    "You can use classical projection methods to reduce the high-dimensional word vectors to two-dimensional plots and plot them on a graph.\n",
    "\n",
    "The visualizations can provide a qualitative diagnostic for your learned model.\n",
    "\n",
    "We can retrieve all of the vectors from a trained model as follows:"
   ]
  },
  {
   "cell_type": "code",
   "execution_count": null,
   "metadata": {},
   "outputs": [],
   "source": [
    "X = model[model.wv.vocab]"
   ]
  },
  {
   "cell_type": "markdown",
   "metadata": {},
   "source": [
    "We can then train a projection method on the vectors, such as those methods offered in scikit-learn, then use matplotlib to plot the projection as a scatter plot.\n",
    "\n",
    "Let’s look at an example with Principal Component Analysis or PCA.\n",
    "\n",
    "### Plot Word Vectors Using PCA\n",
    "We can create a 2-dimensional PCA model of the word vectors using the scikit-learn [PCA class](http://scikit-learn.org/stable/modules/generated/sklearn.decomposition.PCA.html) as follows."
   ]
  },
  {
   "cell_type": "code",
   "execution_count": null,
   "metadata": {},
   "outputs": [],
   "source": [
    "pca = PCA(n_components=2)\n",
    "result = pca.fit_transform(X)"
   ]
  },
  {
   "cell_type": "markdown",
   "metadata": {},
   "source": [
    "The resulting projection can be plotted using matplotlib as follows, pulling out the two dimensions as x and y coordinates."
   ]
  },
  {
   "cell_type": "code",
   "execution_count": null,
   "metadata": {},
   "outputs": [],
   "source": [
    "pyplot.scatter(result[:, 0], result[:, 1])"
   ]
  },
  {
   "cell_type": "markdown",
   "metadata": {},
   "source": [
    "We can go one step further and annotate the points on the graph with the words themselves. A crude version without any nice offsets looks as follows."
   ]
  },
  {
   "cell_type": "code",
   "execution_count": null,
   "metadata": {},
   "outputs": [],
   "source": [
    "words = list(model.wv.vocab)\n",
    "for i, word in enumerate(words):\n",
    "\tpyplot.annotate(word, xy=(result[i, 0], result[i, 1]))"
   ]
  },
  {
   "cell_type": "markdown",
   "metadata": {},
   "source": [
    "Putting this all together with the model from the previous section, the complete example is listed below."
   ]
  },
  {
   "cell_type": "code",
   "execution_count": 2,
   "metadata": {},
   "outputs": [
    {
     "name": "stderr",
     "output_type": "stream",
     "text": [
      "/Users/khanhnamle/anaconda2/lib/python2.7/site-packages/ipykernel_launcher.py:13: DeprecationWarning: Call to deprecated `__getitem__` (Method will be removed in 4.0.0, use self.wv.__getitem__() instead).\n",
      "  del sys.path[0]\n"
     ]
    },
    {
     "data": {
      "image/png": "[encoded data removed]",
      "text/plain": [
       "<matplotlib.figure.Figure at 0x113296110>"
      ]
     },
     "metadata": {},
     "output_type": "display_data"
    }
   ],
   "source": [
    "from gensim.models import Word2Vec\n",
    "from sklearn.decomposition import PCA\n",
    "from matplotlib import pyplot\n",
    "# define training data\n",
    "sentences = [['this', 'is', 'the', 'first', 'sentence', 'for', 'word2vec'],\n",
    "\t\t\t['this', 'is', 'the', 'second', 'sentence'],\n",
    "\t\t\t['yet', 'another', 'sentence'],\n",
    "\t\t\t['one', 'more', 'sentence'],\n",
    "\t\t\t['and', 'the', 'final', 'sentence']]\n",
    "# train model\n",
    "model = Word2Vec(sentences, min_count=1)\n",
    "# fit a 2d PCA model to the vectors\n",
    "X = model[model.wv.vocab]\n",
    "pca = PCA(n_components=2)\n",
    "result = pca.fit_transform(X)\n",
    "# create a scatter plot of the projection\n",
    "pyplot.scatter(result[:, 0], result[:, 1])\n",
    "words = list(model.wv.vocab)\n",
    "for i, word in enumerate(words):\n",
    "\tpyplot.annotate(word, xy=(result[i, 0], result[i, 1]))\n",
    "pyplot.show()"
   ]
  },
  {
   "cell_type": "markdown",
   "metadata": {},
   "source": [
    "Running the example creates a scatter plot with the dots annotated with the words.\n",
    "\n",
    "It is hard to pull much meaning out of the graph given such a tiny corpus was used to fit the model.\n",
    "\n",
    "## Load Google’s Word2Vec Embedding\n",
    "Training your own word vectors may be the best approach for a given NLP problem.\n",
    "\n",
    "But it can take a long time, a fast computer with a lot of RAM and disk space, and perhaps some expertise in finessing the input data and training algorithm.\n",
    "\n",
    "An alternative is to simply use an existing pre-trained word embedding.\n",
    "\n",
    "Along with the paper and code for word2vec, Google also published a pre-trained word2vec model on the [Word2Vec Google Code Project](https://code.google.com/archive/p/word2vec/).\n",
    "\n",
    "A pre-trained model is nothing more than a file containing tokens and their associated word vectors. The pre-trained Google word2vec model was trained on Google news data (about 100 billion words); it contains 3 million words and phrases and was fit using 300-dimensional word vectors.\n",
    "\n",
    "It is a 1.53 Gigabytes file. You can download it from here:\n",
    "\n",
    "* [GoogleNews-vectors-negative300.bin.gz](https://drive.google.com/file/d/0B7XkCwpI5KDYNlNUTTlSS21pQmM/edit)\n",
    "\n",
    "Unzipped, the binary file (GoogleNews-vectors-negative300.bin) is 3.4 Gigabytes.\n",
    "\n",
    "The Gensim library provides tools to load this file. Specifically, you can call the KeyedVectors.load_word2vec_format() function to load this model into memory, for example:"
   ]
  },
  {
   "cell_type": "code",
   "execution_count": null,
   "metadata": {},
   "outputs": [],
   "source": [
    "from gensim.models import KeyedVectors\n",
    "filename = 'GoogleNews-vectors-negative300.bin'\n",
    "model = KeyedVectors.load_word2vec_format(filename, binary=True)"
   ]
  },
  {
   "cell_type": "markdown",
   "metadata": {},
   "source": [
    "On my modern workstation, it takes about 43 seconds to load.\n",
    "\n",
    "Another interesting thing that you can do is do a little linear algebra arithmetic with words.\n",
    "\n",
    "For example, a popular example described in lectures and introduction papers is:"
   ]
  },
  {
   "cell_type": "code",
   "execution_count": null,
   "metadata": {},
   "outputs": [],
   "source": [
    "queen = (king - man) + woman"
   ]
  },
  {
   "cell_type": "markdown",
   "metadata": {},
   "source": [
    "That is the word queen is the closest word given the subtraction of the notion of man from king and adding the word woman. The “man-ness” in king is replaced with “woman-ness” to give us queen. A very cool concept.\n",
    "\n",
    "Gensim provides an interface for performing these types of operations in the most_similar() function on the trained or loaded model.\n",
    "\n",
    "For example:"
   ]
  },
  {
   "cell_type": "code",
   "execution_count": null,
   "metadata": {},
   "outputs": [],
   "source": [
    "result = model.most_similar(positive=['woman', 'king'], negative=['man'], topn=1)\n",
    "print(result)"
   ]
  },
  {
   "cell_type": "markdown",
   "metadata": {},
   "source": [
    "We can put all of this together as follows."
   ]
  },
  {
   "cell_type": "code",
   "execution_count": 3,
   "metadata": {},
   "outputs": [
    {
     "name": "stdout",
     "output_type": "stream",
     "text": [
      "[(u'queen', 0.7118192315101624)]\n"
     ]
    }
   ],
   "source": [
    "from gensim.models import KeyedVectors\n",
    "# load the google word2vec model\n",
    "filename = 'GoogleNews-vectors-negative300.bin'\n",
    "model = KeyedVectors.load_word2vec_format(filename, binary=True)\n",
    "# calculate: (king - man) + woman = ?\n",
    "result = model.most_similar(positive=['woman', 'king'], negative=['man'], topn=1)\n",
    "print(result)"
   ]
  },
  {
   "cell_type": "markdown",
   "metadata": {},
   "source": [
    "Running the example loads the Google pre-trained word2vec model and then calculates the (king – man) + woman = ? operation on the word vectors for those words.\n",
    "\n",
    "The answer, as we would expect, is queen.\n",
    "\n",
    "## Load Stanford’s GloVe Embedding\n",
    "Stanford researchers also have their own word embedding algorithm like word2vec called [Global Vectors for Word Representation](https://nlp.stanford.edu/projects/glove/), or GloVe for short.\n",
    "\n",
    "I won’t get into the details of the differences between word2vec and GloVe here, but generally, NLP practitioners seem to prefer GloVe at the moment based on results.\n",
    "\n",
    "Like word2vec, the GloVe researchers also provide pre-trained word vectors, in this case, a great selection to choose from.\n",
    "\n",
    "You can download the GloVe pre-trained word vectors and load them easily with gensim.\n",
    "\n",
    "The first step is to convert the GloVe file format to the word2vec file format. The only difference is the addition of a small header line. This can be done by calling the glove2word2vec() function. For example:"
   ]
  },
  {
   "cell_type": "code",
   "execution_count": null,
   "metadata": {},
   "outputs": [],
   "source": [
    "from gensim.scripts.glove2word2vec import glove2word2vec\n",
    "glove_input_file = 'glove.txt'\n",
    "word2vec_output_file = 'word2vec.txt'\n",
    "glove2word2vec(glove_input_file, word2vec_output_file)"
   ]
  },
  {
   "cell_type": "markdown",
   "metadata": {},
   "source": [
    "Once converted, the file can be loaded just like word2vec file above.\n",
    "\n",
    "Let’s make this concrete with an example.\n",
    "\n",
    "You can download the smallest GloVe pre-trained model from the [GloVe website](https://nlp.stanford.edu/projects/glove/). It is an 822 Megabyte zip file with 4 different models (50, 100, 200 and 300-dimensional vectors) trained on Wikipedia data with 6 billion tokens and a 400,000 word vocabulary.\n",
    "\n",
    "Working with the 100-dimensional version of the model, we can convert the file to word2vec format as follows:"
   ]
  },
  {
   "cell_type": "code",
   "execution_count": 4,
   "metadata": {},
   "outputs": [
    {
     "data": {
      "text/plain": [
       "(400000, 100)"
      ]
     },
     "execution_count": 4,
     "metadata": {},
     "output_type": "execute_result"
    }
   ],
   "source": [
    "from gensim.scripts.glove2word2vec import glove2word2vec\n",
    "glove_input_file = 'glove.6B.100d.txt'\n",
    "word2vec_output_file = 'glove.6B.100d.txt.word2vec'\n",
    "glove2word2vec(glove_input_file, word2vec_output_file)"
   ]
  },
  {
   "cell_type": "markdown",
   "metadata": {},
   "source": [
    "You now have a copy of the GloVe model in word2vec format with the filename glove.6B.100d.txt.word2vec.\n",
    "\n",
    "Now we can load it and perform the same (king – man) + woman = ? test as in the previous section. The complete code listing is provided below. Note that the converted file is ASCII format, not binary, so we set binary=False when loading."
   ]
  },
  {
   "cell_type": "code",
   "execution_count": 5,
   "metadata": {},
   "outputs": [
    {
     "name": "stdout",
     "output_type": "stream",
     "text": [
      "[(u'queen', 0.7698540687561035)]\n"
     ]
    }
   ],
   "source": [
    "from gensim.models import KeyedVectors\n",
    "# load the Stanford GloVe model\n",
    "filename = 'glove.6B.100d.txt.word2vec'\n",
    "model = KeyedVectors.load_word2vec_format(filename, binary=False)\n",
    "# calculate: (king - man) + woman = ?\n",
    "result = model.most_similar(positive=['woman', 'king'], negative=['man'], topn=1)\n",
    "print(result)"
   ]
  },
  {
   "cell_type": "markdown",
   "metadata": {},
   "source": [
    "Let's try it with the 50-dimensional version of the model:"
   ]
  },
  {
   "cell_type": "code",
   "execution_count": 6,
   "metadata": {},
   "outputs": [
    {
     "name": "stdout",
     "output_type": "stream",
     "text": [
      "[(u'queen', 0.8523603677749634)]\n"
     ]
    }
   ],
   "source": [
    "from gensim.scripts.glove2word2vec import glove2word2vec\n",
    "glove_input_file = 'glove.6B.50d.txt'\n",
    "word2vec_output_file = 'glove.6B.50d.txt.word2vec'\n",
    "glove2word2vec(glove_input_file, word2vec_output_file)\n",
    "\n",
    "from gensim.models import KeyedVectors\n",
    "# load the Stanford GloVe model\n",
    "filename = 'glove.6B.50d.txt.word2vec'\n",
    "model = KeyedVectors.load_word2vec_format(filename, binary=False)\n",
    "# calculate: (king - man) + woman = ?\n",
    "result = model.most_similar(positive=['woman', 'king'], negative=['man'], topn=1)\n",
    "print(result)"
   ]
  },
  {
   "cell_type": "markdown",
   "metadata": {},
   "source": [
    "Let's try it with the 200-dimensional version of the model:"
   ]
  },
  {
   "cell_type": "code",
   "execution_count": 7,
   "metadata": {},
   "outputs": [
    {
     "name": "stdout",
     "output_type": "stream",
     "text": [
      "[(u'queen', 0.6978678703308105)]\n"
     ]
    }
   ],
   "source": [
    "from gensim.scripts.glove2word2vec import glove2word2vec\n",
    "glove_input_file = 'glove.6B.200d.txt'\n",
    "word2vec_output_file = 'glove.6B.200d.txt.word2vec'\n",
    "glove2word2vec(glove_input_file, word2vec_output_file)\n",
    "\n",
    "from gensim.models import KeyedVectors\n",
    "# load the Stanford GloVe model\n",
    "filename = 'glove.6B.200d.txt.word2vec'\n",
    "model = KeyedVectors.load_word2vec_format(filename, binary=False)\n",
    "# calculate: (king - man) + woman = ?\n",
    "result = model.most_similar(positive=['woman', 'king'], negative=['man'], topn=1)\n",
    "print(result)"
   ]
  },
  {
   "cell_type": "markdown",
   "metadata": {},
   "source": [
    "Let's try it with the 300-dimensional version of the model:"
   ]
  },
  {
   "cell_type": "code",
   "execution_count": 8,
   "metadata": {},
   "outputs": [
    {
     "name": "stdout",
     "output_type": "stream",
     "text": [
      "[(u'queen', 0.6713277101516724)]\n"
     ]
    }
   ],
   "source": [
    "from gensim.scripts.glove2word2vec import glove2word2vec\n",
    "glove_input_file = 'glove.6B.300d.txt'\n",
    "word2vec_output_file = 'glove.6B.300d.txt.word2vec'\n",
    "glove2word2vec(glove_input_file, word2vec_output_file)\n",
    "\n",
    "from gensim.models import KeyedVectors\n",
    "# load the Stanford GloVe model\n",
    "filename = 'glove.6B.300d.txt.word2vec'\n",
    "model = KeyedVectors.load_word2vec_format(filename, binary=False)\n",
    "# calculate: (king - man) + woman = ?\n",
    "result = model.most_similar(positive=['woman', 'king'], negative=['man'], topn=1)\n",
    "print(result)"
   ]
  },
  {
   "cell_type": "markdown",
   "metadata": {},
   "source": [
    "Running the example prints the same result of ‘queen’.\n",
    "\n",
    "## Summary\n",
    "In this tutorial, you discovered how to develop and load word embedding layers in Python using Gensim.\n",
    "\n",
    "Specifically, you learned:\n",
    "\n",
    "* How to train your own word2vec word embedding model on text data.\n",
    "* How to visualize a trained word embedding model using Principal Component Analysis.\n",
    "* How to load pre-trained word2vec and GloVe word embedding models from Google and Stanford."
   ]
  }
 ],
 "metadata": {
  "kernelspec": {
   "display_name": "Python 2",
   "language": "python",
   "name": "python2"
  },
  "language_info": {
   "codemirror_mode": {
    "name": "ipython",
    "version": 2
   },
   "file_extension": ".py",
   "mimetype": "text/x-python",
   "name": "python",
   "nbconvert_exporter": "python",
   "pygments_lexer": "ipython2",
   "version": "2.7.14"
  }
 },
 "nbformat": 4,
 "nbformat_minor": 2
}
