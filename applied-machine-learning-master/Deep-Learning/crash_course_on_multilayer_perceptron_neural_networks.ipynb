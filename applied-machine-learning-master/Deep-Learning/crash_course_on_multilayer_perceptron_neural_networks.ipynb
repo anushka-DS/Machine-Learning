{
 "cells": [
  {
   "cell_type": "markdown",
   "metadata": {},
   "source": [
    "# Crash Course On Multi-Layer Perceptron Neural Networks\n",
    "Artificial neural networks are a fascinating area of study, although they can be intimidating when just getting started.\n",
    "\n",
    "There are a lot of specialized terminology used when describing the data structures and algorithms used in the field.\n",
    "\n",
    "In this post you will get a crash course in the terminology and processes used in the field of multi-layer perceptron artificial neural networks. After reading this post you will know:\n",
    "* The building blocks of neural networks including neurons, weights and activation functions.\n",
    "* How the building blocks are used in layers to create networks.\n",
    "* How networks are trained from example data.\n",
    "\n",
    "Let’s get started."
   ]
  },
  {
   "cell_type": "markdown",
   "metadata": {},
   "source": [
    "## Crash Course Overview\n",
    "We are going to cover a lot of ground very quickly in this post. Here is an idea of what is ahead:\n",
    "\n",
    "1. Multi-Layer Perceptrons.\n",
    "2. Neurons, Weights and Activations.\n",
    "3. Networks of Neurons.\n",
    "4. Training Networks.\n",
    "\n",
    "We will start off with an overview of multi-layer perceptrons."
   ]
  },
  {
   "cell_type": "markdown",
   "metadata": {},
   "source": [
    "## 1. Multi-Layer Perceptrons\n",
    "The field of artificial neural networks is often just called neural networks or multi-layer perceptrons after perhaps the most useful type of neural network. A perceptron is a single neuron model that was a precursor to larger neural networks.\n",
    "\n",
    "It is a field that investigates how simple models of biological brains can be used to solve difficult computational tasks like the predictive modeling tasks we see in machine learning. The goal is not to create realistic models of the brain, but instead to develop robust algorithms and data structures that we can use to model difficult problems.\n",
    "\n",
    "The power of neural networks come from their ability to learn the representation in your training data and how to best relate it to the output variable that you want to predict. In this sense neural networks learn a mapping. Mathematically, they are capable of learning any mapping function and have been proven to be a universal approximation algorithm.\n",
    "\n",
    "The predictive capability of neural networks comes from the hierarchical or multi-layered structure of the networks. The data structure can pick out (learn to represent) features at different scales or resolutions and combine them into higher-order features. For example from lines, to collections of lines to shapes."
   ]
  },
  {
   "cell_type": "markdown",
   "metadata": {},
   "source": [
    "## 2. Neurons\n",
    "The building block for neural networks are artificial neurons.\n",
    "\n",
    "These are simple computational units that have weighted input signals and produce an output signal using an activation function.\n",
    "\n",
    "![neuron](Neuron.png)\n",
    "\n",
    "### Neuron Weights\n",
    "You may be familiar with linear regression, in which case the weights on the inputs are very much like the coefficients used in a regression equation.\n",
    "\n",
    "Like linear regression, each neuron also has a bias which can be thought of as an input that always has the value 1.0 and it too must be weighted.\n",
    "\n",
    "For example, a neuron may have two inputs in which case it requires three weights. One for each input and one for the bias.\n",
    "\n",
    "Weights are often initialized to small random values, such as values in the range 0 to 0.3, although more complex initialization schemes can be used.\n",
    "\n",
    "Like linear regression, larger weights indicate increased complexity and fragility. It is desirable to keep weights in the network small and regularization techniques can be used.\n",
    "\n",
    "### Activation\n",
    "The weighted inputs are summed and passed through an activation function, sometimes called a transfer function.\n",
    "\n",
    "An activation function is a simple mapping of summed weighted input to the output of the neuron. It is called an activation function because it governs the threshold at which the neuron is activated and strength of the output signal.\n",
    "\n",
    "Historically simple step activation functions were used where if the summed input was above a threshold, for example 0.5, then the neuron would output a value of 1.0, otherwise it would output a 0.0.\n",
    "\n",
    "Traditionally non-linear activation functions are used. This allows the network to combine the inputs in more complex ways and in turn provide a richer capability in the functions they can model. Non-linear functions like the logistic also called the sigmoid function were used that output a value between 0 and 1 with an s-shaped distribution, and the hyperbolic tangent function also called tanh that outputs the same distribution over the range -1 to +1.\n",
    "\n",
    "More recently the rectifier activation function has been shown to provide better results."
   ]
  },
  {
   "cell_type": "markdown",
   "metadata": {},
   "source": [
    "## 3. Networks of Neurons\n",
    "Neurons are arranged into networks of neurons.\n",
    "\n",
    "A row of neurons is called a layer and one network can have multiple layers. The architecture of the neurons in the network is often called the network topology.\n",
    "\n",
    "![network](Network.png)\n",
    "\n",
    "### Input or Visible Layers\n",
    "The bottom layer that takes input from your dataset is called the visible layer, because it is the exposed part of the network. Often a neural network is drawn with a visible layer with one neuron per input value or column in your dataset. These are not neurons as described above, but simply pass the input value though to the next layer.\n",
    "\n",
    "### Hidden Layers\n",
    "Layers after the input layer are called hidden layers because that are not directly exposed to the input. The simplest network structure is to have a single neuron in the hidden layer that directly outputs the value.\n",
    "\n",
    "Given increases in computing power and efficient libraries, very deep neural networks can be constructed. Deep learning can refer to having many hidden layers in your neural network. They are deep because they would have been unimaginably slow to train historically, but may take seconds or minutes to train using modern techniques and hardware.\n",
    "\n",
    "### Output Layer\n",
    "The final hidden layer is called the output layer and it is responsible for outputting a value or vector of values that correspond to the format required for the problem.\n",
    "\n",
    "The choice of activation function in he output layer is strongly constrained by the type of problem that you are modeling. For example:\n",
    "\n",
    "* A regression problem may have a single output neuron and the neuron may have no activation function.\n",
    "* A binary classification problem may have a single output neuron and use a sigmoid activation function to output a value between 0 and 1 to represent the probability of predicting a value for the class 1. This can be turned into a crisp class value by using a threshold of 0.5 and snap values less than the threshold to 0 otherwise to 1.\n",
    "* A multi-class classification problem may have multiple neurons in the output layer, one for each class (e.g. three neurons for the three classes in the famous [iris flowers classification problem](https://en.wikipedia.org/wiki/Iris_flower_data_set)). In this case a softmax activation function may be used to output a probability of the network predicting each of the class values. Selecting the output with the highest probability can be used to produce a crisp class classification value."
   ]
  },
  {
   "cell_type": "markdown",
   "metadata": {},
   "source": [
    "## 4. Training Networks\n",
    "Once configured, the neural network needs to be trained on your dataset.\n",
    "\n",
    "### Data Preparation\n",
    "You must first prepare your data for training on a neural network.\n",
    "\n",
    "Data must be numerical, for example real values. If you have categorical data, such as a sex attribute with the values “male” and “female”, you can convert it to a real-valued representation called a [one hot encoding](https://en.wikipedia.org/wiki/One-hot). This is where one new column is added for each class value (two columns in the case of sex of male and female) and a 0 or 1 is added for each row depending on the class value for that row.\n",
    "\n",
    "This same one hot encoding can be used on the output variable in classification problems with more than one class. This would create a binary vector from a single column that would be easy to directly compare to the output of the neuron in the network’s output layer, that as described above, would output one value for each class.\n",
    "\n",
    "Neural networks require the input to be scaled in a consistent way. You can rescale it to the range between 0 and 1 called normalization. Another popular technique is to standardize it so that the distribution of each column has the mean of zero and the standard deviation of 1.\n",
    "\n",
    "Scaling also applies to image pixel data. Data such as words can be converted to integers, such as the popularity rank of the word in the dataset and other encoding techniques.\n",
    "\n",
    "### Stochastic Gradient Descent\n",
    "The classical and still preferred training algorithm for neural networks is called stochastic gradient descent.\n",
    "\n",
    "This is where one row of data is exposed to the network at a time as input. The network processes the input upward activating neurons as it goes to finally produce an output value. This is called a forward pass on the network. It is the type of pass that is also used after the network is trained in order to make predictions on new data.\n",
    "\n",
    "The output of the network is compared to the expected output and an error is calculated. This error is then propagated back through the network, one layer at a time, and the weights are updated according to the amount that they contributed to the error. This clever bit of math is called the [backpropagation algorithm](https://en.wikipedia.org/wiki/Backpropagation).\n",
    "\n",
    "The process is repeated for all of the examples in your training data. One of updating the network for the entire training dataset is called an epoch. A network may be trained for tens, hundreds or many thousands of epochs.\n",
    "\n",
    "### Weight Updates\n",
    "The weights in the network can be updated from the errors calculated for each training example and this is called online learning. It can result in fast but also chaotic changes to the network.\n",
    "\n",
    "Alternatively, the errors can be saved up across all of the training examples and the network can be updated at the end. This is called batch learning and is often more stable.\n",
    "\n",
    "Typically, because datasets are so large and because of computational efficiencies, the size of the batch, the number of examples the network is shown before an update is often reduced to a small number, such as tens or hundreds of examples.\n",
    "\n",
    "The amount that weights are updated is controlled by a configuration parameters called the learning rate. It is also called the step size and controls the step or change made to network weight for a given error. Often small weight sizes are used such as 0.1 or 0.01 or smaller.\n",
    "\n",
    "The update equation can be complemented with additional configuration terms that you can set.\n",
    "\n",
    "* Momentum is a term that incorporates the properties from the previous weight update to allow the weights to continue to change in the same direction even when there is less error being calculated.\n",
    "* Learning Rate Decay is used to decrease the learning rate over epochs to allow the network to make large changes to the weights at the beginning and smaller fine tuning changes later in the training schedule.\n",
    "\n",
    "### Prediction\n",
    "Once a neural network has been trained it can be used to make predictions.\n",
    "\n",
    "You can make predictions on test or validation data in order to estimate the skill of the model on unseen data. You can also deploy it operationally and use it to make predictions continuously.\n",
    "\n",
    "The network topology and the final set of weights is all that you need to save from the model. Predictions are made by providing the input to the network and performing a forward-pass allowing it to generate an output that you can use as a prediction."
   ]
  },
  {
   "cell_type": "markdown",
   "metadata": {},
   "source": [
    "## Summary\n",
    "In this post you discovered artificial neural networks for machine learning.\n",
    "\n",
    "After reading this post you now know:\n",
    "\n",
    "* How neural networks are not models of the brain but are instead computational models for solving complex machine learning problems.\n",
    "* That neural networks are comprised of neurons that have weights and activation functions.\n",
    "* The networks are organized into layers of neurons and are trained using stochastic gradient descent.\n",
    "\n",
    "That it is a good idea to prepare your data before training a neural network model."
   ]
  }
 ],
 "metadata": {
  "kernelspec": {
   "display_name": "Python 3",
   "language": "python",
   "name": "python3"
  },
  "language_info": {
   "codemirror_mode": {
    "name": "ipython",
    "version": 3
   },
   "file_extension": ".py",
   "mimetype": "text/x-python",
   "name": "python",
   "nbconvert_exporter": "python",
   "pygments_lexer": "ipython3",
   "version": "3.6.4"
  }
 },
 "nbformat": 4,
 "nbformat_minor": 2
}
