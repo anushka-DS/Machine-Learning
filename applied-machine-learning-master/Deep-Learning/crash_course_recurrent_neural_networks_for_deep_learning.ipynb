{
 "cells": [
  {
   "cell_type": "markdown",
   "metadata": {},
   "source": [
    "# Crash Course in Recurrent Neural Networks for Deep Learning\n",
    "There is another type of neural network that is dominating difficult machine learning problems that involve sequences of inputs called recurrent neural networks.\n",
    "\n",
    "Recurrent neural networks have connections that have loops, adding feedback and memory to the networks over time. This memory allows this type of network to learn and generalize across sequences of inputs rather than individual patterns.\n",
    "\n",
    "A powerful type of Recurrent Neural Network called the Long Short-Term Memory Network has been shown to be particularly effective when stacked into a deep configuration, achieving state-of-the-art results on a diverse array of problems from language translation to automatic captioning of images and videos.\n",
    "\n",
    "In this post you will get a crash course in recurrent neural networks for deep learning, acquiring just enough understanding to start using LSTM networks in Python with Keras.\n",
    "\n",
    "After reading this post, you will know:\n",
    "\n",
    "* The limitations of Multilayer Perceptrons that are addressed by recurrent neural networks.\n",
    "* The problems that must be addressed to make Recurrent Neural networks useful.\n",
    "* The details of the Long Short-Term Memory networks used in applied deep learning.\n",
    "\n",
    "Let’s get started."
   ]
  },
  {
   "cell_type": "markdown",
   "metadata": {},
   "source": [
    "## Support For Sequences in Neural Networks\n",
    "There are some problem types that are best framed involving either a sequence as an input or an output.\n",
    "\n",
    "For example, consider a univariate time series problem, like the price of a stock over time. This dataset can be framed as a prediction problem for a classical feedforward multilayer Perceptron network by defining a windows size (e.g. 5) and training the network to learn to make short term predictions from the fixed sized window of inputs.\n",
    "\n",
    "This would work, but is very limited. The window of inputs adds memory to the problem, but is limited to just a fixed number of points and must be chosen with sufficient knowledge of the problem. A naive window would not capture the broader trends over minutes, hours and days that might be relevant to making a prediction. From one prediction to the next, the network only knows about the specific inputs it is provided.\n",
    "\n",
    "Univariate time series prediction is important, but there are even more interesting problems that involve sequences.\n",
    "\n",
    "Consider the following taxonomy of sequence problems that require a mapping of an input to an output (taken from Andrej Karpathy).\n",
    "\n",
    "* One-to-Many: sequence output, for image captioning.\n",
    "* Many-to-One: sequence input, for sentiment classification.\n",
    "* Many-to-Many: sequence in and out, for machine translation.\n",
    "* Synched Many-to-Many: synced sequences in and out, for video classification.\n",
    "\n",
    "We can also see that a one-to-one example of input to output would be an example of a classical feedforward neural network for a prediction task like image classification.\n",
    "\n",
    "Support for sequences in neural networks is an important class of problem and one where deep learning has recently shown impressive results State-of-the art results have been using a type of network specifically designed for sequence problems called recurrent neural networks."
   ]
  },
  {
   "cell_type": "markdown",
   "metadata": {},
   "source": [
    "## Recurrent Neural Networks\n",
    "Recurrent Neural Networks or RNNs are a special type of neural network designed for sequence problems.\n",
    "\n",
    "Given a standard feed-forward multilayer Perceptron network, a recurrent neural network can be thought of as the addition of loops to the architecture. For example, in a given layer, each neuron may pass its signal latterly (sideways) in addition to forward to the next layer. The output of the network may feedback as an input to the network with the next input vector. And so on.\n",
    "\n",
    "The recurrent connections add state or memory to the network and allow it to learn broader abstractions from the input sequences.\n",
    "\n",
    "The field of recurrent neural networks is well established with popular methods. For the techniques to be effective on real problems, two major issues needed to be resolved for the network to be useful.\n",
    "\n",
    "1. How to train the network with Backpropagation.\n",
    "2. How to stop gradients vanishing or exploding during training.\n",
    "\n",
    "### 1. How to Train Recurrent Neural Networks\n",
    "The staple technique for training feedforward neural networks is to back propagate error and update the network weights.\n",
    "\n",
    "Backpropagation breaks down in a recurrent neural network, because of the recurrent or loop connections.\n",
    "\n",
    "This was addressed with a modification of the Backpropagation technique called Backpropagation Through Time or BPTT.\n",
    "\n",
    "Instead of performing backpropagation on the recurrent network as stated, the structure of the network is unrolled, where copies of the neurons that have recurrent connections are created. For example a single neuron with a connection to itself (A->A) could be represented as two neurons with the same weight values (A->B).\n",
    "\n",
    "This allows the cyclic graph of a recurrent neural network to be turned into an acyclic graph like a classic feed-forward neural network, and Backpropagation can be applied.\n",
    "\n",
    "### 2. How to Have Stable Gradients During Training\n",
    "When Backpropagation is used in very deep neural networks and in unrolled recurrent neural networks, the gradients that are calculated in order to update the weights can become unstable.\n",
    "\n",
    "They can become very large numbers called exploding gradients or very small numbers called the vanishing gradient problem. These large numbers in turn are used to update the weights in the network, making training unstable and the network unreliable.\n",
    "\n",
    "This problem is alleviated in deep multilayer Perceptron networks through the use of the Rectifier transfer function, and even more exotic but now less popular approaches of using unsupervised pre-training of layers.\n",
    "\n",
    "In recurrent neural network architectures, this problem has been alleviated using a new type of architecture called the Long Short-Term Memory Networks that allows deep recurrent networks to be trained."
   ]
  },
  {
   "cell_type": "markdown",
   "metadata": {},
   "source": [
    "## Long Short-Term Memory Networks\n",
    "The Long Short-Term Memory or LSTM network is a recurrent neural network that is trained using Backpropagation Through Time and overcomes the vanishing gradient problem.\n",
    "\n",
    "As such it can be used to create large (stacked) recurrent networks, that in turn can be used to address difficult sequence problems in machine learning and achieve state-of-the-art results.\n",
    "\n",
    "Instead of neurons, LSTM networks have memory blocks that are connected into layers.\n",
    "\n",
    "A block has components that make it smarter than a classical neuron and a memory for recent sequences. A block contains gates that manage the block’s state and output. A unit operates upon an input sequence and each gate within a unit uses the sigmoid activation function to control whether they are triggered or not, making the change of state and addition of information flowing through the unit conditional.\n",
    "\n",
    "There are three types of gates within a memory unit:\n",
    "\n",
    "* Forget Gate: conditionally decides what information to discard from the unit.\n",
    "* Input Gate: conditionally decides which values from the input to update the memory state.\n",
    "* Output Gate: conditionally decides what to output based on input and the memory of the unit.\n",
    "\n",
    "Each unit is like a mini state machine where the gates of the units have weights that are learned during the training procedure.\n",
    "\n",
    "You can see how you may achieve a sophisticated learning and memory from a layer of LSTMs, and it is not hard to imagine how higher-order abstractions may be layered with multiple such layers."
   ]
  },
  {
   "cell_type": "markdown",
   "metadata": {},
   "source": [
    "## Resources\n",
    "We have covered a lot of ground in this post. Below are some resources that you can use to go deeper into the topic of recurrent neural networks for deep learning.\n",
    "\n",
    "Resources to learn more about Recurrent Neural Networks and LSTMs.\n",
    "* [Recurrent neural network on Wikipedia](https://en.wikipedia.org/wiki/Recurrent_neural_network)\n",
    "* [Long Short-Term Memory on Wikipedia](https://en.wikipedia.org/wiki/Long_short-term_memory)\n",
    "* [The Unreasonable Effectiveness of Recurrent Neural Networks by Andrej Karpathy](http://karpathy.github.io/2015/05/21/rnn-effectiveness/)\n",
    "* [Understanding LSTM Networks](http://colah.github.io/posts/2015-08-Understanding-LSTMs/)\n",
    "* [Deep Dive into Recurrent Neural Nets](http://nikhilbuduma.com/2015/01/11/a-deep-dive-into-recurrent-neural-networks/)\n",
    "* [A Beginner’s Guide to Recurrent Networks and LSTMs](https://deeplearning4j.org/lstm.html)\n",
    "\n",
    "Popular tutorials for implementing LSTMs.\n",
    "* [LSTMs for language modeling with TensorFlow](https://www.tensorflow.org/tutorials/recurrent)\n",
    "* [RNN for Spoken Word Understanding in Theano](http://deeplearning.net/tutorial/rnnslu.html)\n",
    "* [LSTM for sentiment analysis in Theano](http://deeplearning.net/tutorial/lstm.html)\n",
    "\n",
    "Primary sources on LSTMs.\n",
    "* [Long short-term memory](http://deeplearning.cs.cmu.edu/pdfs/Hochreiter97_lstm.pdf) [pdf], 1997 paper by Hochreiter and Schmidhuber\n",
    "* [Learning to forget: Continual prediction with LSTM](https://www.mitpressjournals.org/doi/abs/10.1162/089976600300015015), 2000 by Schmidhuber and Cummins that add the forget gate\n",
    "* [On the difficulty of training Recurrent Neural Networks](https://arxiv.org/pdf/1211.5063v2.pdf) [pdf], 2013\n",
    "\n",
    "People to follow doing great work with LSTMs.\n",
    "* [Alex Graves](http://www.cs.toronto.edu/~graves/)\n",
    "* [Jürgen Schmidhuber](http://people.idsia.ch/~juergen/)\n",
    "* [Ilya Sutskever](http://www.cs.toronto.edu/~ilya/)\n",
    "* [Tomas Mikolov](http://www.rnnlm.org/)"
   ]
  },
  {
   "cell_type": "markdown",
   "metadata": {},
   "source": [
    "## Summary\n",
    "In this post you discovered sequence problems and recurrent neural networks that can be used to address them.\n",
    "\n",
    "Specifically, you learned:\n",
    "* The limitations of classical feedforward neural networks and how recurrent neural networks can overcome these problems.\n",
    "* The practical problems in training recurrent neural networks and how they are overcome.\n",
    "* The Long Short-Term Memory network used to create deep recurrent neural networks."
   ]
  }
 ],
 "metadata": {
  "kernelspec": {
   "display_name": "Python 3",
   "language": "python",
   "name": "python3"
  },
  "language_info": {
   "codemirror_mode": {
    "name": "ipython",
    "version": 3
   },
   "file_extension": ".py",
   "mimetype": "text/x-python",
   "name": "python",
   "nbconvert_exporter": "python",
   "pygments_lexer": "ipython3",
   "version": "3.6.4"
  }
 },
 "nbformat": 4,
 "nbformat_minor": 2
}
