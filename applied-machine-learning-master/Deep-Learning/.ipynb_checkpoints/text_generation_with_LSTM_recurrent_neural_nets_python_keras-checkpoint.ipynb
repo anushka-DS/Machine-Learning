{
 "cells": [
  {
   "cell_type": "markdown",
   "metadata": {},
   "source": [
    "# Text Generation With LSTM Recurrent Neural Networks in Python with Keras\n",
    "Recurrent neural networks can also be used as generative models.\n",
    "\n",
    "This means that in addition to being used for predictive models (making predictions) they can learn the sequences of a problem and then generate entirely new plausible sequences for the problem domain.\n",
    "\n",
    "Generative models like this are useful not only to study how well a model has learned a problem, but to learn more about the problem domain itself.\n",
    "\n",
    "In this post you will discover how to create a generative model for text, character-by-character using LSTM recurrent neural networks in Python with Keras.\n",
    "\n",
    "After reading this post you will know:\n",
    "\n",
    "* Where to download a free corpus of text that you can use to train text generative models.\n",
    "* How to frame the problem of text sequences to a recurrent neural network generative model.\n",
    "* How to develop an LSTM to generate plausible text sequences for a given problem.\n",
    "\n",
    "Let’s get started."
   ]
  },
  {
   "cell_type": "markdown",
   "metadata": {},
   "source": [
    "## Problem Description: Project Gutenberg\n",
    "Many of the classical texts are no longer protected under copyright.\n",
    "\n",
    "This means that you can download all of the text for these books for free and use them in experiments, like creating generative models. Perhaps the best place to get access to free books that are no longer protected by copyright is [Project Gutenberg](https://www.gutenberg.org/).\n",
    "\n",
    "In this tutorial we are going to use a favorite book from childhood as the dataset: [Alice’s Adventures in Wonderland by Lewis Carroll](https://www.gutenberg.org/ebooks/11).\n",
    "\n",
    "We are going to learn the dependencies between characters and the conditional probabilities of characters in sequences so that we can in turn generate wholly new and original sequences of characters.\n",
    "\n",
    "This is a lot of fun and I recommend repeating these experiments with other books from Project Gutenberg, [here is a list of the most popular books on the site](https://www.gutenberg.org/ebooks/search/%3Fsort_order%3Ddownloads).\n",
    "\n",
    "These experiments are not limited to text, you can also experiment with other ASCII data, such as computer source code, marked up documents in LaTeX, HTML or Markdown and more.\n",
    "\n",
    "You can [download the complete text in ASCII format](http://www.gutenberg.org/cache/epub/11/pg11.txt) (Plain Text UTF-8) for this book for free and place it in your working directory with the filename wonderland.txt.\n",
    "\n",
    "Now we need to prepare the dataset ready for modeling.\n",
    "\n",
    "Project Gutenberg adds a standard header and footer to each book and this is not part of the original text. Open the file in a text editor and delete the header and footer.\n",
    "\n",
    "The header is obvious and ends with the text:"
   ]
  },
  {
   "cell_type": "code",
   "execution_count": null,
   "metadata": {},
   "outputs": [],
   "source": [
    "*** START OF THIS PROJECT GUTENBERG EBOOK ALICE'S ADVENTURES IN WONDERLAND ***"
   ]
  },
  {
   "cell_type": "markdown",
   "metadata": {},
   "source": [
    "The footer is all of the text after the line of text that says:"
   ]
  },
  {
   "cell_type": "code",
   "execution_count": null,
   "metadata": {},
   "outputs": [],
   "source": [
    "THE END"
   ]
  },
  {
   "cell_type": "markdown",
   "metadata": {},
   "source": [
    "You should be left with a text file that has about 3,330 lines of text.\n",
    "\n",
    "## Develop a Small LSTM Recurrent Neural Network\n",
    "In this section we will develop a simple LSTM network to learn sequences of characters from Alice in Wonderland. In the next section we will use this model to generate new sequences of characters.\n",
    "\n",
    "Let’s start off by importing the classes and functions we intend to use to train our model."
   ]
  },
  {
   "cell_type": "code",
   "execution_count": 14,
   "metadata": {},
   "outputs": [],
   "source": [
    "import sys\n",
    "import numpy\n",
    "from keras.models import Sequential\n",
    "from keras.layers import Dense\n",
    "from keras.layers import Dropout\n",
    "from keras.layers import LSTM\n",
    "from keras.callbacks import ModelCheckpoint\n",
    "from keras.utils import np_utils"
   ]
  },
  {
   "cell_type": "markdown",
   "metadata": {},
   "source": [
    "Next, we need to load the ASCII text for the book into memory and convert all of the characters to lowercase to reduce the vocabulary that the network must learn."
   ]
  },
  {
   "cell_type": "code",
   "execution_count": 2,
   "metadata": {},
   "outputs": [],
   "source": [
    "# load ascii text and covert to lowercase\n",
    "filename = \"wonderland.txt\"\n",
    "raw_text = open(filename).read()\n",
    "raw_text = raw_text.lower()"
   ]
  },
  {
   "cell_type": "markdown",
   "metadata": {},
   "source": [
    "Now that the book is loaded, we must prepare the data for modeling by the neural network. We cannot model the characters directly, instead we must convert the characters to integers.\n",
    "\n",
    "We can do this easily by first creating a set of all of the distinct characters in the book, then creating a map of each character to a unique integer."
   ]
  },
  {
   "cell_type": "code",
   "execution_count": 3,
   "metadata": {},
   "outputs": [],
   "source": [
    "# create mapping of unique chars to integers\n",
    "chars = sorted(list(set(raw_text)))\n",
    "char_to_int = dict((c, i) for i, c in enumerate(chars))"
   ]
  },
  {
   "cell_type": "markdown",
   "metadata": {},
   "source": [
    "For example, the list of unique sorted lowercase characters in the book is as follows:"
   ]
  },
  {
   "cell_type": "code",
   "execution_count": null,
   "metadata": {},
   "outputs": [],
   "source": [
    "['\\n', '\\r', ' ', '!', '\"', \"'\", '(', ')', '*', ',', '-', '.', ':', ';', '?', '[', ']', '_', 'a', 'b', 'c', 'd', 'e', 'f', 'g', 'h', 'i', 'j', 'k', 'l', 'm', 'n', 'o', 'p', 'q', 'r', 's', 't', 'u', 'v', 'w', 'x', 'y', 'z', '\\xbb', '\\xbf', '\\xef']"
   ]
  },
  {
   "cell_type": "markdown",
   "metadata": {},
   "source": [
    "You can see that there may be some characters that we could remove to further clean up the dataset that will reduce the vocabulary and may improve the modeling process.\n",
    "\n",
    "Now that the book has been loaded and the mapping prepared, we can summarize the dataset."
   ]
  },
  {
   "cell_type": "code",
   "execution_count": 4,
   "metadata": {},
   "outputs": [
    {
     "name": "stdout",
     "output_type": "stream",
     "text": [
      "Total Characters:  173595\n",
      "Total Vocab:  66\n"
     ]
    }
   ],
   "source": [
    "n_chars = len(raw_text)\n",
    "n_vocab = len(chars)\n",
    "print \"Total Characters: \", n_chars\n",
    "print \"Total Vocab: \", n_vocab"
   ]
  },
  {
   "cell_type": "markdown",
   "metadata": {},
   "source": [
    "We can see that the book has just more than 170,000 characters and that when converted to lowercase that there are 66 distinct characters in the vocabulary for the network to learn. Much more than the 26 in the alphabet.\n",
    "\n",
    "We now need to define the training data for the network. There is a lot of flexibility in how you choose to break up the text and expose it to the network during training.\n",
    "\n",
    "In this tutorial we will split the book text up into subsequences with a fixed length of 100 characters, an arbitrary length. We could just as easily split the data up by sentences and pad the shorter sequences and truncate the longer ones.\n",
    "\n",
    "Each training pattern of the network is comprised of 100 time steps of one character (X) followed by one character output (y). When creating these sequences, we slide this window along the whole book one character at a time, allowing each character a chance to be learned from the 100 characters that preceded it (except the first 100 characters of course).\n",
    "\n",
    "For example, if the sequence length is 5 (for simplicity) then the first two training patterns would be as follows:"
   ]
  },
  {
   "cell_type": "code",
   "execution_count": null,
   "metadata": {},
   "outputs": [],
   "source": [
    "CHAPT -> E\n",
    "HAPTE -> R"
   ]
  },
  {
   "cell_type": "markdown",
   "metadata": {},
   "source": [
    "As we split up the book into these sequences, we convert the characters to integers using our lookup table we prepared earlier."
   ]
  },
  {
   "cell_type": "code",
   "execution_count": 5,
   "metadata": {},
   "outputs": [
    {
     "name": "stdout",
     "output_type": "stream",
     "text": [
      "Total Patterns:  173495\n"
     ]
    }
   ],
   "source": [
    "# prepare the dataset of input to output pairs encoded as integers\n",
    "seq_length = 100\n",
    "dataX = []\n",
    "dataY = []\n",
    "for i in range(0, n_chars - seq_length, 1):\n",
    "\tseq_in = raw_text[i:i + seq_length]\n",
    "\tseq_out = raw_text[i + seq_length]\n",
    "\tdataX.append([char_to_int[char] for char in seq_in])\n",
    "\tdataY.append(char_to_int[seq_out])\n",
    "n_patterns = len(dataX)\n",
    "print \"Total Patterns: \", n_patterns"
   ]
  },
  {
   "cell_type": "markdown",
   "metadata": {},
   "source": [
    "Running the code to this point shows us that when we split up the dataset into training data for the network to learn that we have more than 170,000 training pattens. This makes sense as excluding the first 100 characters, we have one training pattern to predict each of the remaining characters.\n",
    "\n",
    "Now that we have prepared our training data we need to transform it so that it is suitable for use with Keras.\n",
    "\n",
    "First we must transform the list of input sequences into the form *[samples, time steps, features]* expected by an LSTM network.\n",
    "\n",
    "Next we need to rescale the integers to the range 0-to-1 to make the patterns easier to learn by the LSTM network that uses the sigmoid activation function by default.\n",
    "\n",
    "Finally, we need to convert the output patterns (single characters converted to integers) into a one hot encoding. This is so that we can configure the network to predict the probability of each of the 47 different characters in the vocabulary (an easier representation) rather than trying to force it to predict precisely the next character. Each y value is converted into a sparse vector with a length of 47, full of zeros except with a 1 in the column for the letter (integer) that the pattern represents.\n",
    "\n",
    "For example, when “n” (integer value 31) is one hot encoded it looks as follows:"
   ]
  },
  {
   "cell_type": "code",
   "execution_count": null,
   "metadata": {},
   "outputs": [],
   "source": [
    "[ 0.  0.  0.  0.  0.  0.  0.  0.  0.  0.  0.  0.  0.  0.  0.  0.  0.  0.\n",
    "  0.  0.  0.  0.  0.  0.  0.  0.  0.  0.  0.  0.  0.  1.  0.  0.  0.  0.\n",
    "  0.  0.  0.  0.  0.  0.  0.  0.]"
   ]
  },
  {
   "cell_type": "markdown",
   "metadata": {},
   "source": [
    "We can implement these steps as below."
   ]
  },
  {
   "cell_type": "code",
   "execution_count": 6,
   "metadata": {},
   "outputs": [],
   "source": [
    "# reshape X to be [samples, time steps, features]\n",
    "X = numpy.reshape(dataX, (n_patterns, seq_length, 1))\n",
    "# normalize\n",
    "X = X / float(n_vocab)\n",
    "# one hot encode the output variable\n",
    "y = np_utils.to_categorical(dataY)"
   ]
  },
  {
   "cell_type": "markdown",
   "metadata": {},
   "source": [
    "We can now define our LSTM model. Here we define a single hidden LSTM layer with 256 memory units. The network uses dropout with a probability of 20. The output layer is a Dense layer using the softmax activation function to output a probability prediction for each of the 47 characters between 0 and 1.\n",
    "\n",
    "The problem is really a single character classification problem with 47 classes and as such is defined as optimizing the log loss (cross entropy), here using the ADAM optimization algorithm for speed."
   ]
  },
  {
   "cell_type": "code",
   "execution_count": 7,
   "metadata": {},
   "outputs": [],
   "source": [
    "# define the LSTM model\n",
    "model = Sequential()\n",
    "model.add(LSTM(256, input_shape=(X.shape[1], X.shape[2])))\n",
    "model.add(Dropout(0.2))\n",
    "model.add(Dense(y.shape[1], activation='softmax'))\n",
    "model.compile(loss='categorical_crossentropy', optimizer='adam')"
   ]
  },
  {
   "cell_type": "markdown",
   "metadata": {},
   "source": [
    "There is no test dataset. We are modeling the entire training dataset to learn the probability of each character in a sequence.\n",
    "\n",
    "We are not interested in the most accurate (classification accuracy) model of the training dataset. This would be a model that predicts each character in the training dataset perfectly. Instead we are interested in a generalization of the dataset that minimizes the chosen loss function. We are seeking a balance between generalization and overfitting but short of memorization.\n",
    "\n",
    "The network is slow to train (about 300 seconds per epoch on an Nvidia K520 GPU). Because of the slowness and because of our optimization requirements, we will use model checkpointing to record all of the network weights to file each time an improvement in loss is observed at the end of the epoch. We will use the best set of weights (lowest loss) to instantiate our generative model in the next section."
   ]
  },
  {
   "cell_type": "code",
   "execution_count": 8,
   "metadata": {},
   "outputs": [],
   "source": [
    "# define the checkpoint\n",
    "filepath=\"weights-improvement-{epoch:02d}-{loss:.4f}.hdf5\"\n",
    "checkpoint = ModelCheckpoint(filepath, monitor='loss', verbose=1, save_best_only=True, mode='min')\n",
    "callbacks_list = [checkpoint]"
   ]
  },
  {
   "cell_type": "markdown",
   "metadata": {},
   "source": [
    "We can now fit our model to the data. Here we use a modest number of 20 epochs and a large batch size of 128 patterns."
   ]
  },
  {
   "cell_type": "code",
   "execution_count": 9,
   "metadata": {},
   "outputs": [
    {
     "name": "stdout",
     "output_type": "stream",
     "text": [
      "Epoch 1/20\n",
      "173440/173495 [============================>.] - ETA: 0s - loss: 3.0494\n",
      "Epoch 00001: loss improved from inf to 3.04926, saving model to weights-improvement-01-3.0493.hdf5\n",
      "173495/173495 [==============================] - 1245s 7ms/step - loss: 3.0493\n",
      "Epoch 2/20\n",
      "173440/173495 [============================>.] - ETA: 0s - loss: 2.8096\n",
      "Epoch 00002: loss improved from 3.04926 to 2.80962, saving model to weights-improvement-02-2.8096.hdf5\n",
      "173495/173495 [==============================] - 1363s 8ms/step - loss: 2.8096\n",
      "Epoch 3/20\n",
      "173440/173495 [============================>.] - ETA: 0s - loss: 2.7232\n",
      "Epoch 00003: loss improved from 2.80962 to 2.72321, saving model to weights-improvement-03-2.7232.hdf5\n",
      "173495/173495 [==============================] - 1253s 7ms/step - loss: 2.7232\n",
      "Epoch 4/20\n",
      "173440/173495 [============================>.] - ETA: 0s - loss: 2.6403\n",
      "Epoch 00004: loss improved from 2.72321 to 2.64039, saving model to weights-improvement-04-2.6404.hdf5\n",
      "173495/173495 [==============================] - 1366s 8ms/step - loss: 2.6404\n",
      "Epoch 5/20\n",
      "173440/173495 [============================>.] - ETA: 0s - loss: 2.5740\n",
      "Epoch 00005: loss improved from 2.64039 to 2.57397, saving model to weights-improvement-05-2.5740.hdf5\n",
      "173495/173495 [==============================] - 1269s 7ms/step - loss: 2.5740\n",
      "Epoch 6/20\n",
      "173440/173495 [============================>.] - ETA: 0s - loss: 2.5206\n",
      "Epoch 00006: loss improved from 2.57397 to 2.52051, saving model to weights-improvement-06-2.5205.hdf5\n",
      "173495/173495 [==============================] - 1557s 9ms/step - loss: 2.5205\n",
      "Epoch 7/20\n",
      "173440/173495 [============================>.] - ETA: 0s - loss: 2.4679\n",
      "Epoch 00007: loss improved from 2.52051 to 2.46791, saving model to weights-improvement-07-2.4679.hdf5\n",
      "173495/173495 [==============================] - 1014s 6ms/step - loss: 2.4679\n",
      "Epoch 8/20\n",
      "173440/173495 [============================>.] - ETA: 0s - loss: 2.4207\n",
      "Epoch 00008: loss improved from 2.46791 to 2.42076, saving model to weights-improvement-08-2.4208.hdf5\n",
      "173495/173495 [==============================] - 1071s 6ms/step - loss: 2.4208\n",
      "Epoch 9/20\n",
      "173440/173495 [============================>.] - ETA: 0s - loss: 2.3841\n",
      "Epoch 00009: loss improved from 2.42076 to 2.38405, saving model to weights-improvement-09-2.3840.hdf5\n",
      "173495/173495 [==============================] - 1165s 7ms/step - loss: 2.3840\n",
      "Epoch 10/20\n",
      "173440/173495 [============================>.] - ETA: 0s - loss: 2.3460\n",
      "Epoch 00010: loss improved from 2.38405 to 2.34600, saving model to weights-improvement-10-2.3460.hdf5\n",
      "173495/173495 [==============================] - 1060s 6ms/step - loss: 2.3460\n",
      "Epoch 11/20\n",
      "173440/173495 [============================>.] - ETA: 0s - loss: 2.3087\n",
      "Epoch 00011: loss improved from 2.34600 to 2.30860, saving model to weights-improvement-11-2.3086.hdf5\n",
      "173495/173495 [==============================] - 1021s 6ms/step - loss: 2.3086\n",
      "Epoch 12/20\n",
      "173440/173495 [============================>.] - ETA: 0s - loss: 2.2709\n",
      "Epoch 00012: loss improved from 2.30860 to 2.27094, saving model to weights-improvement-12-2.2709.hdf5\n",
      "173495/173495 [==============================] - 1022s 6ms/step - loss: 2.2709\n",
      "Epoch 13/20\n",
      "173440/173495 [============================>.] - ETA: 0s - loss: 2.2404\n",
      "Epoch 00013: loss improved from 2.27094 to 2.24030, saving model to weights-improvement-13-2.2403.hdf5\n",
      "173495/173495 [==============================] - 1043s 6ms/step - loss: 2.2403\n",
      "Epoch 14/20\n",
      "173440/173495 [============================>.] - ETA: 0s - loss: 2.2074\n",
      "Epoch 00014: loss improved from 2.24030 to 2.20742, saving model to weights-improvement-14-2.2074.hdf5\n",
      "173495/173495 [==============================] - 1109s 6ms/step - loss: 2.2074\n",
      "Epoch 15/20\n",
      "173440/173495 [============================>.] - ETA: 0s - loss: 2.1759\n",
      "Epoch 00015: loss improved from 2.20742 to 2.17591, saving model to weights-improvement-15-2.1759.hdf5\n",
      "173495/173495 [==============================] - 1109s 6ms/step - loss: 2.1759\n",
      "Epoch 16/20\n",
      "173440/173495 [============================>.] - ETA: 0s - loss: 2.1502\n",
      "Epoch 00016: loss improved from 2.17591 to 2.15015, saving model to weights-improvement-16-2.1502.hdf5\n",
      "173495/173495 [==============================] - 1108s 6ms/step - loss: 2.1502\n",
      "Epoch 17/20\n",
      "173440/173495 [============================>.] - ETA: 0s - loss: 2.1244\n",
      "Epoch 00017: loss improved from 2.15015 to 2.12439, saving model to weights-improvement-17-2.1244.hdf5\n",
      "173495/173495 [==============================] - 1109s 6ms/step - loss: 2.1244\n",
      "Epoch 18/20\n",
      "173440/173495 [============================>.] - ETA: 0s - loss: 2.0972\n",
      "Epoch 00018: loss improved from 2.12439 to 2.09713, saving model to weights-improvement-18-2.0971.hdf5\n",
      "173495/173495 [==============================] - 1102s 6ms/step - loss: 2.0971\n",
      "Epoch 19/20\n",
      "173440/173495 [============================>.] - ETA: 0s - loss: 2.0742\n",
      "Epoch 00019: loss improved from 2.09713 to 2.07430, saving model to weights-improvement-19-2.0743.hdf5\n",
      "173495/173495 [==============================] - 1253s 7ms/step - loss: 2.0743\n",
      "Epoch 20/20\n",
      "173440/173495 [============================>.] - ETA: 0s - loss: 2.0517\n",
      "Epoch 00020: loss improved from 2.07430 to 2.05181, saving model to weights-improvement-20-2.0518.hdf5\n",
      "173495/173495 [==============================] - 1197s 7ms/step - loss: 2.0518\n"
     ]
    },
    {
     "data": {
      "text/plain": [
       "<keras.callbacks.History at 0x1048bad90>"
      ]
     },
     "execution_count": 9,
     "metadata": {},
     "output_type": "execute_result"
    }
   ],
   "source": [
    "model.fit(X, y, epochs=20, batch_size=128, callbacks=callbacks_list)"
   ]
  },
  {
   "cell_type": "markdown",
   "metadata": {},
   "source": [
    "The full code listing is provided below for completeness."
   ]
  },
  {
   "cell_type": "code",
   "execution_count": null,
   "metadata": {},
   "outputs": [],
   "source": [
    "# Small LSTM Network to Generate Text for Alice in Wonderland\n",
    "import numpy\n",
    "from keras.models import Sequential\n",
    "from keras.layers import Dense\n",
    "from keras.layers import Dropout\n",
    "from keras.layers import LSTM\n",
    "from keras.callbacks import ModelCheckpoint\n",
    "from keras.utils import np_utils\n",
    "# load ascii text and covert to lowercase\n",
    "filename = \"wonderland.txt\"\n",
    "raw_text = open(filename).read()\n",
    "raw_text = raw_text.lower()\n",
    "# create mapping of unique chars to integers\n",
    "chars = sorted(list(set(raw_text)))\n",
    "char_to_int = dict((c, i) for i, c in enumerate(chars))\n",
    "# summarize the loaded data\n",
    "n_chars = len(raw_text)\n",
    "n_vocab = len(chars)\n",
    "print \"Total Characters: \", n_chars\n",
    "print \"Total Vocab: \", n_vocab\n",
    "# prepare the dataset of input to output pairs encoded as integers\n",
    "seq_length = 100\n",
    "dataX = []\n",
    "dataY = []\n",
    "for i in range(0, n_chars - seq_length, 1):\n",
    "\tseq_in = raw_text[i:i + seq_length]\n",
    "\tseq_out = raw_text[i + seq_length]\n",
    "\tdataX.append([char_to_int[char] for char in seq_in])\n",
    "\tdataY.append(char_to_int[seq_out])\n",
    "n_patterns = len(dataX)\n",
    "print \"Total Patterns: \", n_patterns\n",
    "# reshape X to be [samples, time steps, features]\n",
    "X = numpy.reshape(dataX, (n_patterns, seq_length, 1))\n",
    "# normalize\n",
    "X = X / float(n_vocab)\n",
    "# one hot encode the output variable\n",
    "y = np_utils.to_categorical(dataY)\n",
    "# define the LSTM model\n",
    "model = Sequential()\n",
    "model.add(LSTM(256, input_shape=(X.shape[1], X.shape[2])))\n",
    "model.add(Dropout(0.2))\n",
    "model.add(Dense(y.shape[1], activation='softmax'))\n",
    "model.compile(loss='categorical_crossentropy', optimizer='adam')\n",
    "# define the checkpoint\n",
    "filepath=\"weights-improvement-{epoch:02d}-{loss:.4f}.hdf5\"\n",
    "checkpoint = ModelCheckpoint(filepath, monitor='loss', verbose=1, save_best_only=True, mode='min')\n",
    "callbacks_list = [checkpoint]\n",
    "# fit the model\n",
    "model.fit(X, y, epochs=20, batch_size=128, callbacks=callbacks_list)"
   ]
  },
  {
   "cell_type": "markdown",
   "metadata": {},
   "source": [
    "You will see different results because of the stochastic nature of the model, and because it is hard to fix the random seed for LSTM models to get 100% reproducible results. This is not a concern for this generative model.\n",
    "\n",
    "After running the example, you should have a number of weight checkpoint files in the local directory.\n",
    "\n",
    "You can delete them all except the one with the smallest loss value.\n",
    "\n",
    "The network loss decreased almost every epoch and I expect the network could benefit from training for many more epochs.\n",
    "\n",
    "In the next section we will look at using this model to generate new text sequences.\n",
    "\n",
    "## Generating Text with an LSTM Network\n",
    "Generating text using the trained LSTM network is relatively straightforward.\n",
    "\n",
    "Firstly, we load the data and define the network in exactly the same way, except the network weights are loaded from a checkpoint file and the network does not need to be trained."
   ]
  },
  {
   "cell_type": "code",
   "execution_count": 15,
   "metadata": {},
   "outputs": [],
   "source": [
    "# load the network weights\n",
    "filename = \"weights-improvement-20-2.0518.hdf5\"\n",
    "model.load_weights(filename)\n",
    "model.compile(loss='categorical_crossentropy', optimizer='adam')"
   ]
  },
  {
   "cell_type": "markdown",
   "metadata": {},
   "source": [
    "Also, when preparing the mapping of unique characters to integers, we must also create a reverse mapping that we can use to convert the integers back to characters so that we can understand the predictions."
   ]
  },
  {
   "cell_type": "code",
   "execution_count": 16,
   "metadata": {},
   "outputs": [],
   "source": [
    "int_to_char = dict((i, c) for i, c in enumerate(chars))"
   ]
  },
  {
   "cell_type": "markdown",
   "metadata": {},
   "source": [
    "Finally, we need to actually make predictions.\n",
    "\n",
    "The simplest way to use the Keras LSTM model to make predictions is to first start off with a seed sequence as input, generate the next character then update the seed sequence to add the generated character on the end and trim off the first character. This process is repeated for as long as we want to predict new characters (e.g. a sequence of 1,000 characters in length).\n",
    "\n",
    "We can pick a random input pattern as our seed sequence, then print generated characters as we generate them."
   ]
  },
  {
   "cell_type": "code",
   "execution_count": 17,
   "metadata": {},
   "outputs": [
    {
     "name": "stdout",
     "output_type": "stream",
     "text": [
      "Seed:\n",
      "\" d! i’m\n",
      "sure i don’t want to stay in here any longer!’\n",
      "\n",
      "she waited for some time without hea \"\n",
      " so the toiee of the soee to the\n",
      "aale to the sheee and the could she whst on whs oo whs soe toee to the\n",
      "cane to the care and the woide the wosdd the wosdd the wosdd the woide\n",
      "an ael the woide oo the soeee of the soeee of the soeee of the soeee\n",
      "and the couldus thi soeee oo the soeee of the soeee of the soee the\n",
      "aalen oo the soeee and the woide the was aol the could so the hors of \n",
      "the wosdd the wosdd the wosdd the wosdd the wosdd the wosdd the woide\n",
      "an ael the woide oo the soeee of the soeee of the soeee of the soeee\n",
      "and the couldus thi soeee oo the soeee of the soeee of the soee the\n",
      "aalen oo the soeee and the woide the was aol the could so the hors of \n",
      "the wosdd the wosdd the wosdd the wosdd the wosdd the wosdd the woide\n",
      "an ael the woide oo the soeee of the soeee of the soeee of the soeee\n",
      "and the couldus thi soeee oo the soeee of the soeee of the soee the\n",
      "aalen oo the soeee and the woide the was aol the could so the hors of \n",
      "the wosdd the wosdd the wosdd the wosdd the wosdd \n",
      "Done.\n"
     ]
    }
   ],
   "source": [
    "# pick a random seed\n",
    "start = numpy.random.randint(0, len(dataX)-1)\n",
    "pattern = dataX[start]\n",
    "print \"Seed:\"\n",
    "print \"\\\"\", ''.join([int_to_char[value] for value in pattern]), \"\\\"\"\n",
    "# generate characters\n",
    "for i in range(1000):\n",
    "\tx = numpy.reshape(pattern, (1, len(pattern), 1))\n",
    "\tx = x / float(n_vocab)\n",
    "\tprediction = model.predict(x, verbose=0)\n",
    "\tindex = numpy.argmax(prediction)\n",
    "\tresult = int_to_char[index]\n",
    "\tseq_in = [int_to_char[value] for value in pattern]\n",
    "\tsys.stdout.write(result)\n",
    "\tpattern.append(index)\n",
    "\tpattern = pattern[1:len(pattern)]\n",
    "print \"\\nDone.\""
   ]
  },
  {
   "cell_type": "markdown",
   "metadata": {},
   "source": [
    "The full code example for generating text using the loaded LSTM model is listed below for completeness."
   ]
  },
  {
   "cell_type": "code",
   "execution_count": null,
   "metadata": {},
   "outputs": [],
   "source": [
    "# Load LSTM network and generate text\n",
    "import sys\n",
    "import numpy\n",
    "from keras.models import Sequential\n",
    "from keras.layers import Dense\n",
    "from keras.layers import Dropout\n",
    "from keras.layers import LSTM\n",
    "from keras.callbacks import ModelCheckpoint\n",
    "from keras.utils import np_utils\n",
    "# load ascii text and covert to lowercase\n",
    "filename = \"wonderland.txt\"\n",
    "raw_text = open(filename).read()\n",
    "raw_text = raw_text.lower()\n",
    "# create mapping of unique chars to integers, and a reverse mapping\n",
    "chars = sorted(list(set(raw_text)))\n",
    "char_to_int = dict((c, i) for i, c in enumerate(chars))\n",
    "int_to_char = dict((i, c) for i, c in enumerate(chars))\n",
    "# summarize the loaded data\n",
    "n_chars = len(raw_text)\n",
    "n_vocab = len(chars)\n",
    "print \"Total Characters: \", n_chars\n",
    "print \"Total Vocab: \", n_vocab\n",
    "# prepare the dataset of input to output pairs encoded as integers\n",
    "seq_length = 100\n",
    "dataX = []\n",
    "dataY = []\n",
    "for i in range(0, n_chars - seq_length, 1):\n",
    "\tseq_in = raw_text[i:i + seq_length]\n",
    "\tseq_out = raw_text[i + seq_length]\n",
    "\tdataX.append([char_to_int[char] for char in seq_in])\n",
    "\tdataY.append(char_to_int[seq_out])\n",
    "n_patterns = len(dataX)\n",
    "print \"Total Patterns: \", n_patterns\n",
    "# reshape X to be [samples, time steps, features]\n",
    "X = numpy.reshape(dataX, (n_patterns, seq_length, 1))\n",
    "# normalize\n",
    "X = X / float(n_vocab)\n",
    "# one hot encode the output variable\n",
    "y = np_utils.to_categorical(dataY)\n",
    "# define the LSTM model\n",
    "model = Sequential()\n",
    "model.add(LSTM(256, input_shape=(X.shape[1], X.shape[2])))\n",
    "model.add(Dropout(0.2))\n",
    "model.add(Dense(y.shape[1], activation='softmax'))\n",
    "# load the network weights\n",
    "filename = \"weights-improvement-20-2.0518.hdf5\"\n",
    "model.load_weights(filename)\n",
    "model.compile(loss='categorical_crossentropy', optimizer='adam')\n",
    "# pick a random seed\n",
    "start = numpy.random.randint(0, len(dataX)-1)\n",
    "pattern = dataX[start]\n",
    "print \"Seed:\"\n",
    "print \"\\\"\", ''.join([int_to_char[value] for value in pattern]), \"\\\"\"\n",
    "# generate characters\n",
    "for i in range(1000):\n",
    "\tx = numpy.reshape(pattern, (1, len(pattern), 1))\n",
    "\tx = x / float(n_vocab)\n",
    "\tprediction = model.predict(x, verbose=0)\n",
    "\tindex = numpy.argmax(prediction)\n",
    "\tresult = int_to_char[index]\n",
    "\tseq_in = [int_to_char[value] for value in pattern]\n",
    "\tsys.stdout.write(result)\n",
    "\tpattern.append(index)\n",
    "\tpattern = pattern[1:len(pattern)]\n",
    "print \"\\nDone.\""
   ]
  },
  {
   "cell_type": "markdown",
   "metadata": {},
   "source": [
    "Running this example first outputs the selected random seed, then each character as it is generated.\n",
    "\n",
    "We can note some observations about the generated text.\n",
    "\n",
    "* It generally conforms to the line format observed in the original text of less than 80 characters before a new line.\n",
    "* The characters are separated into word-like groups and most groups are actual English words (e.g. “the”, “little” and “was”), but many do not (e.g. “lott”, “tiie” and “taede”).\n",
    "* Some of the words in sequence make sense(e.g. “and the white rabbit“), but many do not (e.g. “wese tilel“).\n",
    "\n",
    "The fact that this character based model of the book produces output like this is very impressive. It gives you a sense of the learning capabilities of LSTM networks."
   ]
  },
  {
   "cell_type": "markdown",
   "metadata": {},
   "source": [
    "## 10 Extension Ideas to Improve the Model\n",
    "Below are 10 ideas that may further improve the model that you could experiment with are:\n",
    "\n",
    "* Predict fewer than 1,000 characters as output for a given seed.\n",
    "* Remove all punctuation from the source text, and therefore from the models’ vocabulary.\n",
    "* Try a one hot encoded for the input sequences.\n",
    "* Train the model on padded sentences rather than random sequences of characters.\n",
    "* Increase the number of training epochs to 100 or many hundreds.\n",
    "* Add dropout to the visible input layer and consider tuning the dropout percentage.\n",
    "* Tune the batch size, try a batch size of 1 as a (very slow) baseline and larger sizes from there.\n",
    "* Add more memory units to the layers and/or more layers.\n",
    "* Experiment with scale factors when interpreting the prediction probabilities.\n",
    "* Change the LSTM layers to be “stateful” to maintain state across batches.\n",
    "\n",
    "## Resources\n",
    "This character text model is a popular way for generating text using recurrent neural networks.\n",
    "\n",
    "Below are some more resources and tutorials on the topic if you are interested in going deeper. Perhaps the most popular is the tutorial by Andrej Karpathy titled “[The Unreasonable Effectiveness of Recurrent Neural Networks](http://karpathy.github.io/2015/05/21/rnn-effectiveness/)“.\n",
    "\n",
    "* [Generating Text with Recurrent Neural Networks](http://www.cs.utoronto.ca/~ilya/pubs/2011/LANG-RNN.pdf) [pdf], 2011\n",
    "* [Keras code example of LSTM for text generation](https://github.com/keras-team/keras/blob/master/examples/lstm_text_generation.py).\n",
    "* [Lasagne code example of LSTM for text generation](https://github.com/Lasagne/Recipes/blob/master/examples/lstm_text_generation.py).\n",
    "* [Auto-Generating Clickbait With Recurrent Neural Networks](https://larseidnes.com/2015/10/13/auto-generating-clickbait-with-recurrent-neural-networks/).\n",
    "\n",
    "## Summary\n",
    "In this post you discovered how you can develop an LSTM recurrent neural network for text generation in Python with the Keras deep learning library.\n",
    "\n",
    "After reading this post you know:\n",
    "\n",
    "* Where to download the ASCII text for classical books for free that you can use for training.\n",
    "* How to train an LSTM network on text sequences and how to use the trained network to generate new sequences.\n",
    "* How to develop stacked LSTM networks and lift the performance of the model."
   ]
  }
 ],
 "metadata": {
  "kernelspec": {
   "display_name": "Python 2",
   "language": "python",
   "name": "python2"
  },
  "language_info": {
   "codemirror_mode": {
    "name": "ipython",
    "version": 2
   },
   "file_extension": ".py",
   "mimetype": "text/x-python",
   "name": "python",
   "nbconvert_exporter": "python",
   "pygments_lexer": "ipython2",
   "version": "2.7.14"
  }
 },
 "nbformat": 4,
 "nbformat_minor": 2
}
