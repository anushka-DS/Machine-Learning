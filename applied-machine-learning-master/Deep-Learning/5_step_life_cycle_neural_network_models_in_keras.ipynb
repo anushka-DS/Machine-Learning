{
 "cells": [
  {
   "cell_type": "markdown",
   "metadata": {},
   "source": [
    "# 5 Step Life-Cycle for Neural Network Models in Keras\n",
    "Deep learning neural networks are very easy to create and evaluate in Python with Keras, but you must follow a strict model life-cycle.\n",
    "\n",
    "In this post you will discover the step-by-step life-cycle for creating, training and evaluating deep learning neural networks in Keras and how to make predictions with a trained model.\n",
    "\n",
    "After reading this post you will know:\n",
    "\n",
    "* How to define, compile, fit and evaluate a deep learning neural network in Keras.\n",
    "* How to select standard defaults for regression and classification predictive modeling problems.\n",
    "* How to tie it all together to develop and run your first Multilayer Perceptron network in Keras.\n",
    "\n",
    "Let’s get started."
   ]
  },
  {
   "cell_type": "markdown",
   "metadata": {},
   "source": [
    "## Overview\n",
    "Below is an overview of the 5 steps in the neural network model life-cycle in Keras that we are going to look at.\n",
    "\n",
    "1. Define Network.\n",
    "2. Compile Network.\n",
    "3. Fit Network.\n",
    "4. Evaluate Network.\n",
    "5. Make Predictions.\n",
    "\n",
    "![5-step](5-Step-Life-Cycle-for-Neural-Network-Models-in-Keras.png)"
   ]
  },
  {
   "cell_type": "markdown",
   "metadata": {},
   "source": [
    "## Step 1. Define Network\n",
    "The first step is to define your neural network.\n",
    "\n",
    "Neural networks are defined in Keras as a sequence of layers. The container for these layers is the Sequential class.\n",
    "\n",
    "The first step is to create an instance of the Sequential class. Then you can create your layers and add them in the order that they should be connected.\n",
    "\n",
    "For example, we can do this in two steps:"
   ]
  },
  {
   "cell_type": "code",
   "execution_count": null,
   "metadata": {
    "collapsed": true
   },
   "outputs": [],
   "source": [
    "model = Sequential()\n",
    "model.add(Dense(2))"
   ]
  },
  {
   "cell_type": "markdown",
   "metadata": {},
   "source": [
    "But we can also do this in one step by creating an array of layers and passing it to the constructor of the Sequential."
   ]
  },
  {
   "cell_type": "code",
   "execution_count": null,
   "metadata": {
    "collapsed": true
   },
   "outputs": [],
   "source": [
    "layers = [Dense(2)]\n",
    "model = Sequential(layers)"
   ]
  },
  {
   "cell_type": "markdown",
   "metadata": {},
   "source": [
    "The first layer in the network must define the number of inputs to expect. The way that this is specified can differ depending on the network type, but for a Multilayer Perceptron model this is specified by the input_dim attribute.\n",
    "\n",
    "For example, a small Multilayer Perceptron model with 2 inputs in the visible layer, 5 neurons in the hidden layer and one neuron in the output layer can be defined as:"
   ]
  },
  {
   "cell_type": "code",
   "execution_count": null,
   "metadata": {
    "collapsed": true
   },
   "outputs": [],
   "source": [
    "model = Sequential()\n",
    "model.add(Dense(5, input_dim=2))\n",
    "model.add(Dense(1))"
   ]
  },
  {
   "cell_type": "markdown",
   "metadata": {},
   "source": [
    "Think of a Sequential model as a pipeline with your raw data fed in at the bottom and predictions that come out at the top.\n",
    "\n",
    "This is a helpful conception in Keras as concerns that were traditionally associated with a layer can also be split out and added as separate layers, clearly showing their role in the transform of data from input to prediction. For example, activation functions that transform a summed signal from each neuron in a layer can be extracted and added to the Sequential as a layer-like object called Activation."
   ]
  },
  {
   "cell_type": "code",
   "execution_count": null,
   "metadata": {
    "collapsed": true
   },
   "outputs": [],
   "source": [
    "model = Sequential()\n",
    "model.add(Dense(5, input_dim=2))\n",
    "model.add(Activation('relu'))\n",
    "model.add(Dense(1))\n",
    "model.add(Activation('sigmoid'))"
   ]
  },
  {
   "cell_type": "markdown",
   "metadata": {},
   "source": [
    "The choice of activation function is most important for the output layer as it will define the format that predictions will take.\n",
    "\n",
    "For example, below are some common predictive modeling problem types and the structure and standard activation function that you can use in the output layer:\n",
    "\n",
    "* Regression: Linear activation function or ‘linear’ and the number of neurons matching the number of outputs.\n",
    "* Binary Classification (2 class): Logistic activation function or ‘sigmoid’ and one neuron the output layer.\n",
    "* Multiclass Classification (>2 class): Softmax activation function or ‘softmax’ and one output neuron per class value, assuming a one-hot encoded output pattern."
   ]
  },
  {
   "cell_type": "markdown",
   "metadata": {},
   "source": [
    "## Step 2. Compile Network\n",
    "Once we have defined our network, we must compile it.\n",
    "\n",
    "Compilation is an efficiency step. It transforms the simple sequence of layers that we defined into a highly efficient series of matrix transforms in a format intended to be executed on your GPU or CPU, depending on how Keras is configured.\n",
    "\n",
    "Think of compilation as a precompute step for your network.\n",
    "\n",
    "Compilation is always required after defining a model. This includes both before training it using an optimization scheme as well as loading a set of pre-trained weights from a save file. The reason is that the compilation step prepares an efficient representation of the network that is also required to make predictions on your hardware.\n",
    "\n",
    "Compilation requires a number of parameters to be specified, specifically tailored to training your network. Specifically the optimization algorithm to use to train the network and the loss function used to evaluate the network that is minimized by the optimization algorithm.\n",
    "\n",
    "For example, below is a case of compiling a defined model and specifying the stochastic gradient descent (sgd) optimization algorithm and the mean squared error (mse) loss function, intended for a regression type problem."
   ]
  },
  {
   "cell_type": "code",
   "execution_count": null,
   "metadata": {
    "collapsed": true
   },
   "outputs": [],
   "source": [
    "model.compile(optimizer='sgd', loss='mse')"
   ]
  },
  {
   "cell_type": "markdown",
   "metadata": {},
   "source": [
    "The type of predictive modeling problem imposes constraints on the type of loss function that can be used.\n",
    "\n",
    "For example, below are some standard loss functions for different predictive model types:\n",
    "\n",
    "* Regression: Mean Squared Error or ‘mse‘.\n",
    "* Binary Classification (2 class): Logarithmic Loss, also called cross entropy or ‘binary_crossentropy‘.\n",
    "* Multiclass Classification (>2 class): Multiclass Logarithmic Loss or ‘categorical_crossentropy‘.\n",
    "\n",
    "You can review the [suite of loss functions supported by Keras](https://keras.io/objectives/).\n",
    "\n",
    "The most common optimization algorithm is stochastic gradient descent, but Keras also supports a [suite of other state of the art optimization algorithms](https://keras.io/optimizers/).\n",
    "\n",
    "Perhaps the most commonly used optimization algorithms because of their generally better performance are:\n",
    "\n",
    "* Stochastic Gradient Descent or ‘sgd‘ that requires the tuning of a learning rate and momentum.\n",
    "* ADAM or ‘adam‘ that requires the tuning of learning rate.\n",
    "* RMSprop or ‘rmsprop‘ that requires the tuning of learning rate.\n",
    "\n",
    "Finally, you can also specify metrics to collect while fitting your model in addition to the loss function. Generally, the most useful additional metric to collect is accuracy for classification problems. The metrics to collect are specified by name in an array.\n",
    "\n",
    "For example:"
   ]
  },
  {
   "cell_type": "code",
   "execution_count": null,
   "metadata": {
    "collapsed": true
   },
   "outputs": [],
   "source": [
    "model.compile(optimizer='sgd', loss='mse', metrics=['accuracy'])"
   ]
  },
  {
   "cell_type": "markdown",
   "metadata": {},
   "source": [
    "## Step 3. Fit Network\n",
    "Once the network is compiled, it can be fit, which means adapt the weights on a training dataset.\n",
    "\n",
    "Fitting the network requires the training data to be specified, both a matrix of input patterns X and an array of matching output patterns y.\n",
    "\n",
    "The network is trained using the backpropagation algorithm and optimized according to the optimization algorithm and loss function specified when compiling the model.\n",
    "\n",
    "The backpropagation algorithm requires that the network be trained for a specified number of epochs or exposures to the training dataset.\n",
    "\n",
    "Each epoch can be partitioned into groups of input-output pattern pairs called batches. This define the number of patterns that the network is exposed to before the weights are updated within an epoch. It is also an efficiency optimization, ensuring that not too many input patterns are loaded into memory at a time.\n",
    "\n",
    "A minimal example of fitting a network is as follows:"
   ]
  },
  {
   "cell_type": "code",
   "execution_count": null,
   "metadata": {
    "collapsed": true
   },
   "outputs": [],
   "source": [
    "history = model.fit(X, y, batch_size=10, epochs=100)"
   ]
  },
  {
   "cell_type": "markdown",
   "metadata": {},
   "source": [
    "Once fit, a history object is returned that provides a summary of the performance of the model during training. This includes both the loss and any additional metrics specified when compiling the model, recorded each epoch.\n",
    "\n",
    "## Step 4. Evaluate Network\n",
    "Once the network is trained, it can be evaluated.\n",
    "\n",
    "The network can be evaluated on the training data, but this will not provide a useful indication of the performance of the network as a predictive model, as it has seen all of this data before.\n",
    "\n",
    "We can evaluate the performance of the network on a separate dataset, unseen during testing. This will provide an estimate of the performance of the network at making predictions for unseen data in the future.\n",
    "\n",
    "The model evaluates the loss across all of the test patterns, as well as any other metrics specified when the model was compiled, like classification accuracy. A list of evaluation metrics is returned.\n",
    "\n",
    "For example, for a model compiled with the accuracy metric, we could evaluate it on a new dataset as follows:"
   ]
  },
  {
   "cell_type": "code",
   "execution_count": null,
   "metadata": {
    "collapsed": true
   },
   "outputs": [],
   "source": [
    "loss, accuracy = model.evaluate(X, y)"
   ]
  },
  {
   "cell_type": "markdown",
   "metadata": {},
   "source": [
    "## Step 5. Make Predictions\n",
    "Finally, once we are satisfied with the performance of our fit model, we can use it to make predictions on new data.\n",
    "\n",
    "This is as easy as calling the predict() function on the model with an array of new input patterns.\n",
    "\n",
    "For example:"
   ]
  },
  {
   "cell_type": "code",
   "execution_count": null,
   "metadata": {
    "collapsed": true
   },
   "outputs": [],
   "source": [
    "predictions = model.predict(x)"
   ]
  },
  {
   "cell_type": "markdown",
   "metadata": {},
   "source": [
    "The predictions will be returned in the format provided by the output layer of the network.\n",
    "\n",
    "In the case of a regression problem, these predictions may be in the format of the problem directly, provided by a linear activation function.\n",
    "\n",
    "For a binary classification problem, the predictions may be an array of probabilities for the first class that can be converted to a 1 or 0 by rounding.\n",
    "\n",
    "For a multiclass classification problem, the results may be in the form of an array of probabilities (assuming a one hot encoded output variable) that may need to be converted to a single class output prediction using the [argmax function](https://docs.scipy.org/doc/numpy/reference/generated/numpy.argmax.html).\n",
    "\n",
    "## End-to-End Worked Example\n",
    "Let’s tie all of this together with a small worked example.\n",
    "\n",
    "This example will use the Pima Indians onset of diabetes binary classification problem, that you can [download from the UCI Machine Learning Repository](https://archive.ics.uci.edu/ml/datasets/Pima+Indians+Diabetes).\n",
    "\n",
    "The problem has 8 input variables and a single output class variable with the integer values 0 and 1.\n",
    "\n",
    "We will construct a Multilayer Perceptron neural network with a 8 inputs in the visible layer, 12 neurons in the hidden layer with a rectifier activation function and 1 neuron in the output layer with a sigmoid activation function.\n",
    "\n",
    "We will train the network for 100 epochs with a batch size of 10, optimized using the ADAM optimization algorithm and the logarithmic loss function.\n",
    "\n",
    "Once fit, we will evaluate the model on the training data and then make standalone predictions for the training data. This is for brevity, normally we would evaluate the model on a separate test dataset and make predictions for new data.\n",
    "\n",
    "The complete code listing is provided below."
   ]
  },
  {
   "cell_type": "code",
   "execution_count": 1,
   "metadata": {},
   "outputs": [
    {
     "name": "stderr",
     "output_type": "stream",
     "text": [
      "Using TensorFlow backend.\n"
     ]
    },
    {
     "name": "stdout",
     "output_type": "stream",
     "text": [
      "Epoch 1/100\n",
      "768/768 [==============================] - 1s 902us/step - loss: 5.6245 - acc: 0.6510\n",
      "Epoch 2/100\n",
      "768/768 [==============================] - 0s 313us/step - loss: 5.6245 - acc: 0.6510\n",
      "Epoch 3/100\n",
      "768/768 [==============================] - 0s 302us/step - loss: 5.6245 - acc: 0.6510\n",
      "Epoch 4/100\n",
      "768/768 [==============================] - 0s 318us/step - loss: 5.6245 - acc: 0.6510\n",
      "Epoch 5/100\n",
      "768/768 [==============================] - 0s 301us/step - loss: 5.6245 - acc: 0.6510\n",
      "Epoch 6/100\n",
      "768/768 [==============================] - 0s 301us/step - loss: 5.6245 - acc: 0.6510\n",
      "Epoch 7/100\n",
      "768/768 [==============================] - 0s 319us/step - loss: 5.6245 - acc: 0.6510\n",
      "Epoch 8/100\n",
      "768/768 [==============================] - 0s 320us/step - loss: 5.6245 - acc: 0.6510\n",
      "Epoch 9/100\n",
      "768/768 [==============================] - 0s 290us/step - loss: 5.6245 - acc: 0.6510\n",
      "Epoch 10/100\n",
      "768/768 [==============================] - 0s 316us/step - loss: 5.6245 - acc: 0.6510\n",
      "Epoch 11/100\n",
      "768/768 [==============================] - 0s 307us/step - loss: 5.6245 - acc: 0.6510\n",
      "Epoch 12/100\n",
      "768/768 [==============================] - 0s 311us/step - loss: 5.6245 - acc: 0.6510\n",
      "Epoch 13/100\n",
      "768/768 [==============================] - 0s 317us/step - loss: 5.6245 - acc: 0.6510\n",
      "Epoch 14/100\n",
      "768/768 [==============================] - 0s 356us/step - loss: 5.6245 - acc: 0.6510\n",
      "Epoch 15/100\n",
      "768/768 [==============================] - 0s 336us/step - loss: 5.6245 - acc: 0.6510\n",
      "Epoch 16/100\n",
      "768/768 [==============================] - 0s 401us/step - loss: 5.6245 - acc: 0.6510\n",
      "Epoch 17/100\n",
      "768/768 [==============================] - 0s 300us/step - loss: 5.6245 - acc: 0.6510\n",
      "Epoch 18/100\n",
      "768/768 [==============================] - 0s 271us/step - loss: 5.6245 - acc: 0.6510\n",
      "Epoch 19/100\n",
      "768/768 [==============================] - 0s 248us/step - loss: 5.6245 - acc: 0.6510\n",
      "Epoch 20/100\n",
      "768/768 [==============================] - 0s 247us/step - loss: 5.6245 - acc: 0.6510\n",
      "Epoch 21/100\n",
      "768/768 [==============================] - 0s 253us/step - loss: 5.6245 - acc: 0.6510\n",
      "Epoch 22/100\n",
      "768/768 [==============================] - 0s 253us/step - loss: 5.6245 - acc: 0.6510\n",
      "Epoch 23/100\n",
      "768/768 [==============================] - 0s 278us/step - loss: 5.6245 - acc: 0.6510\n",
      "Epoch 24/100\n",
      "768/768 [==============================] - 0s 289us/step - loss: 5.6245 - acc: 0.6510\n",
      "Epoch 25/100\n",
      "768/768 [==============================] - 0s 271us/step - loss: 5.6245 - acc: 0.6510\n",
      "Epoch 26/100\n",
      "768/768 [==============================] - 0s 244us/step - loss: 5.6245 - acc: 0.6510\n",
      "Epoch 27/100\n",
      "768/768 [==============================] - 0s 244us/step - loss: 5.6245 - acc: 0.6510\n",
      "Epoch 28/100\n",
      "768/768 [==============================] - 0s 250us/step - loss: 5.6245 - acc: 0.6510\n",
      "Epoch 29/100\n",
      "768/768 [==============================] - 0s 279us/step - loss: 5.6245 - acc: 0.6510\n",
      "Epoch 30/100\n",
      "768/768 [==============================] - 0s 292us/step - loss: 5.6245 - acc: 0.6510\n",
      "Epoch 31/100\n",
      "768/768 [==============================] - 0s 275us/step - loss: 5.6245 - acc: 0.6510\n",
      "Epoch 32/100\n",
      "768/768 [==============================] - 0s 281us/step - loss: 5.6245 - acc: 0.6510\n",
      "Epoch 33/100\n",
      "768/768 [==============================] - 0s 292us/step - loss: 5.6245 - acc: 0.6510\n",
      "Epoch 34/100\n",
      "768/768 [==============================] - 0s 304us/step - loss: 5.6245 - acc: 0.6510\n",
      "Epoch 35/100\n",
      "768/768 [==============================] - 0s 491us/step - loss: 5.6245 - acc: 0.6510\n",
      "Epoch 36/100\n",
      "768/768 [==============================] - 0s 341us/step - loss: 5.6245 - acc: 0.6510\n",
      "Epoch 37/100\n",
      "768/768 [==============================] - 0s 309us/step - loss: 5.6245 - acc: 0.6510\n",
      "Epoch 38/100\n",
      "768/768 [==============================] - 0s 332us/step - loss: 5.6245 - acc: 0.6510\n",
      "Epoch 39/100\n",
      "768/768 [==============================] - 0s 350us/step - loss: 5.6245 - acc: 0.6510\n",
      "Epoch 40/100\n",
      "768/768 [==============================] - 0s 368us/step - loss: 5.6245 - acc: 0.6510\n",
      "Epoch 41/100\n",
      "768/768 [==============================] - 0s 376us/step - loss: 5.6245 - acc: 0.6510\n",
      "Epoch 42/100\n",
      "768/768 [==============================] - 0s 399us/step - loss: 5.6245 - acc: 0.6510\n",
      "Epoch 43/100\n",
      "768/768 [==============================] - 0s 249us/step - loss: 5.6245 - acc: 0.6510\n",
      "Epoch 44/100\n",
      "768/768 [==============================] - 0s 276us/step - loss: 5.6245 - acc: 0.6510\n",
      "Epoch 45/100\n",
      "768/768 [==============================] - 0s 322us/step - loss: 5.6245 - acc: 0.6510\n",
      "Epoch 46/100\n",
      "768/768 [==============================] - 0s 258us/step - loss: 5.6245 - acc: 0.6510 0s - loss: 5.8831 - acc: 0.63\n",
      "Epoch 47/100\n",
      "768/768 [==============================] - 0s 255us/step - loss: 5.6245 - acc: 0.6510\n",
      "Epoch 48/100\n",
      "768/768 [==============================] - 0s 242us/step - loss: 5.6245 - acc: 0.6510\n",
      "Epoch 49/100\n",
      "768/768 [==============================] - 0s 233us/step - loss: 5.6245 - acc: 0.6510\n",
      "Epoch 50/100\n",
      "768/768 [==============================] - 0s 251us/step - loss: 5.6245 - acc: 0.6510\n",
      "Epoch 51/100\n",
      "768/768 [==============================] - 0s 252us/step - loss: 5.6245 - acc: 0.6510\n",
      "Epoch 52/100\n",
      "768/768 [==============================] - 0s 247us/step - loss: 5.6245 - acc: 0.6510\n",
      "Epoch 53/100\n",
      "768/768 [==============================] - 0s 253us/step - loss: 5.6245 - acc: 0.6510\n",
      "Epoch 54/100\n",
      "768/768 [==============================] - 0s 243us/step - loss: 5.6245 - acc: 0.6510\n",
      "Epoch 55/100\n",
      "768/768 [==============================] - 0s 256us/step - loss: 5.6245 - acc: 0.6510\n",
      "Epoch 56/100\n",
      "768/768 [==============================] - 0s 251us/step - loss: 5.6245 - acc: 0.6510\n",
      "Epoch 57/100\n",
      "768/768 [==============================] - 0s 273us/step - loss: 5.6245 - acc: 0.6510\n",
      "Epoch 58/100\n",
      "768/768 [==============================] - 0s 284us/step - loss: 5.6245 - acc: 0.6510\n",
      "Epoch 59/100\n",
      "768/768 [==============================] - 0s 277us/step - loss: 5.6245 - acc: 0.6510\n",
      "Epoch 60/100\n",
      "768/768 [==============================] - 0s 296us/step - loss: 5.6245 - acc: 0.6510\n",
      "Epoch 61/100\n",
      "768/768 [==============================] - 0s 269us/step - loss: 5.6245 - acc: 0.6510\n",
      "Epoch 62/100\n",
      "768/768 [==============================] - 0s 285us/step - loss: 5.6245 - acc: 0.6510\n",
      "Epoch 63/100\n",
      "768/768 [==============================] - 0s 250us/step - loss: 5.6245 - acc: 0.6510\n",
      "Epoch 64/100\n",
      "768/768 [==============================] - 0s 241us/step - loss: 5.6245 - acc: 0.6510\n",
      "Epoch 65/100\n",
      "768/768 [==============================] - 0s 255us/step - loss: 5.6245 - acc: 0.6510\n",
      "Epoch 66/100\n",
      "768/768 [==============================] - 0s 286us/step - loss: 5.6245 - acc: 0.6510\n",
      "Epoch 67/100\n",
      "768/768 [==============================] - 0s 258us/step - loss: 5.6245 - acc: 0.6510\n",
      "Epoch 68/100\n",
      "768/768 [==============================] - 0s 255us/step - loss: 5.6245 - acc: 0.6510\n",
      "Epoch 69/100\n",
      "768/768 [==============================] - 0s 252us/step - loss: 5.6245 - acc: 0.6510\n",
      "Epoch 70/100\n",
      "768/768 [==============================] - 0s 305us/step - loss: 5.6245 - acc: 0.6510\n",
      "Epoch 71/100\n",
      "768/768 [==============================] - 0s 281us/step - loss: 5.6245 - acc: 0.6510\n",
      "Epoch 72/100\n",
      "768/768 [==============================] - 0s 273us/step - loss: 5.6245 - acc: 0.6510\n",
      "Epoch 73/100\n",
      "768/768 [==============================] - 0s 283us/step - loss: 5.6245 - acc: 0.6510\n",
      "Epoch 74/100\n",
      "768/768 [==============================] - 0s 301us/step - loss: 5.6245 - acc: 0.6510\n",
      "Epoch 75/100\n",
      "768/768 [==============================] - 0s 451us/step - loss: 5.6245 - acc: 0.6510\n",
      "Epoch 76/100\n",
      "768/768 [==============================] - 0s 291us/step - loss: 5.6245 - acc: 0.6510\n",
      "Epoch 77/100\n",
      "768/768 [==============================] - 0s 296us/step - loss: 5.6245 - acc: 0.6510\n",
      "Epoch 78/100\n",
      "768/768 [==============================] - 0s 320us/step - loss: 5.6245 - acc: 0.6510\n",
      "Epoch 79/100\n",
      "768/768 [==============================] - 0s 335us/step - loss: 5.6245 - acc: 0.6510\n",
      "Epoch 80/100\n",
      "768/768 [==============================] - 0s 338us/step - loss: 5.6245 - acc: 0.6510\n",
      "Epoch 81/100\n",
      "768/768 [==============================] - ETA: 0s - loss: 5.6413 - acc: 0.650 - 0s 333us/step - loss: 5.6245 - acc: 0.6510\n",
      "Epoch 82/100\n",
      "768/768 [==============================] - 0s 338us/step - loss: 5.6245 - acc: 0.6510\n",
      "Epoch 83/100\n"
     ]
    },
    {
     "name": "stdout",
     "output_type": "stream",
     "text": [
      "768/768 [==============================] - 0s 370us/step - loss: 5.6245 - acc: 0.6510\n",
      "Epoch 84/100\n",
      "768/768 [==============================] - 0s 289us/step - loss: 5.6245 - acc: 0.6510\n",
      "Epoch 85/100\n",
      "768/768 [==============================] - 0s 301us/step - loss: 5.6245 - acc: 0.6510\n",
      "Epoch 86/100\n",
      "768/768 [==============================] - 0s 319us/step - loss: 5.6245 - acc: 0.6510\n",
      "Epoch 87/100\n",
      "768/768 [==============================] - 0s 332us/step - loss: 5.6245 - acc: 0.6510\n",
      "Epoch 88/100\n",
      "768/768 [==============================] - 0s 304us/step - loss: 5.6245 - acc: 0.6510\n",
      "Epoch 89/100\n",
      "768/768 [==============================] - 0s 318us/step - loss: 5.6245 - acc: 0.6510\n",
      "Epoch 90/100\n",
      "768/768 [==============================] - 0s 315us/step - loss: 5.6245 - acc: 0.6510\n",
      "Epoch 91/100\n",
      "768/768 [==============================] - 0s 360us/step - loss: 5.6245 - acc: 0.6510\n",
      "Epoch 92/100\n",
      "768/768 [==============================] - 0s 337us/step - loss: 5.6245 - acc: 0.6510\n",
      "Epoch 93/100\n",
      "768/768 [==============================] - 0s 296us/step - loss: 5.6245 - acc: 0.6510\n",
      "Epoch 94/100\n",
      "768/768 [==============================] - 0s 327us/step - loss: 5.6245 - acc: 0.6510\n",
      "Epoch 95/100\n",
      "768/768 [==============================] - 0s 318us/step - loss: 5.6245 - acc: 0.6510\n",
      "Epoch 96/100\n",
      "768/768 [==============================] - 0s 321us/step - loss: 5.6245 - acc: 0.6510\n",
      "Epoch 97/100\n",
      "768/768 [==============================] - 0s 309us/step - loss: 5.6245 - acc: 0.6510\n",
      "Epoch 98/100\n",
      "768/768 [==============================] - 0s 308us/step - loss: 5.6245 - acc: 0.6510\n",
      "Epoch 99/100\n",
      "768/768 [==============================] - 0s 314us/step - loss: 5.6245 - acc: 0.6510\n",
      "Epoch 100/100\n",
      "768/768 [==============================] - 0s 313us/step - loss: 5.6245 - acc: 0.6510\n",
      "768/768 [==============================] - 0s 56us/step\n",
      "\n",
      "Loss: 5.62, Accuracy: 65.10%\n",
      "Prediction Accuracy: 65.10%\n"
     ]
    }
   ],
   "source": [
    "# Sample Multilayer Perceptron Neural Network in Keras\n",
    "from keras.models import Sequential\n",
    "from keras.layers import Dense\n",
    "import numpy\n",
    "# load and prepare the dataset\n",
    "dataset = numpy.loadtxt(\"pima-indians-diabetes.csv\", delimiter=\",\")\n",
    "X = dataset[:,0:8]\n",
    "Y = dataset[:,8]\n",
    "# 1. define the network\n",
    "model = Sequential()\n",
    "model.add(Dense(12, input_dim=8, activation='relu'))\n",
    "model.add(Dense(1, activation='sigmoid'))\n",
    "# 2. compile the network\n",
    "model.compile(loss='binary_crossentropy', optimizer='adam', metrics=['accuracy'])\n",
    "# 3. fit the network\n",
    "history = model.fit(X, Y, epochs=100, batch_size=10)\n",
    "# 4. evaluate the network\n",
    "loss, accuracy = model.evaluate(X, Y)\n",
    "print(\"\\nLoss: %.2f, Accuracy: %.2f%%\" % (loss, accuracy*100))\n",
    "# 5. make predictions\n",
    "probabilities = model.predict(X)\n",
    "predictions = [float(round(x)) for x in probabilities]\n",
    "accuracy = numpy.mean(predictions == Y)\n",
    "print(\"Prediction Accuracy: %.2f%%\" % (accuracy*100))"
   ]
  },
  {
   "cell_type": "markdown",
   "metadata": {},
   "source": [
    "## Summary\n",
    "In this post you discovered the 5-step life-cycle of a deep learning neural network using the Keras library.\n",
    "\n",
    "Specifically, you learned:\n",
    "\n",
    "* How to define, compile, fit, evaluate and make predictions for a neural network in Keras.\n",
    "* How to select activation functions and output layer configurations for classification and regression problems.\n",
    "* How to develop and run your first Multilayer Perceptron model in Keras."
   ]
  }
 ],
 "metadata": {
  "kernelspec": {
   "display_name": "Python 2",
   "language": "python",
   "name": "python2"
  },
  "language_info": {
   "codemirror_mode": {
    "name": "ipython",
    "version": 2
   },
   "file_extension": ".py",
   "mimetype": "text/x-python",
   "name": "python",
   "nbconvert_exporter": "python",
   "pygments_lexer": "ipython2",
   "version": "2.7.14"
  }
 },
 "nbformat": 4,
 "nbformat_minor": 2
}
