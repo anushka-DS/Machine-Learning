{
 "cells": [
  {
   "cell_type": "markdown",
   "metadata": {},
   "source": [
    "# Introduction to Matrix Types in Linear Algebra for Machine Learning\n",
    "A lot of linear algebra is concerned with operations on vectors and matrices, and there are many different types of matrices.\n",
    "\n",
    "There are a few types of matrices that you may encounter again and again when getting started in linear algebra, particularity the parts of linear algebra relevant to machine learning.\n",
    "\n",
    "In this tutorial, you will discover a suite of different types of matrices from the field of linear algebra that you may encounter in machine learning.\n",
    "\n",
    "After completing this tutorial, you will know:\n",
    "\n",
    "* Square, symmetric, triangular, and diagonal matrices that are much as their names suggest.\n",
    "* Identity matrices that are all zero values except along the main diagonal where the values are 1.\n",
    "* Orthogonal matrices that generalize the idea of perpendicular vectors and have useful computational properties.\n",
    "\n",
    "Let’s get started."
   ]
  },
  {
   "cell_type": "markdown",
   "metadata": {},
   "source": [
    "## Tutorial Overview\n",
    "This tutorial is divided into 6 parts to cover the main types of matrices; they are:\n",
    "\n",
    "1. Square Matrix\n",
    "2. Symmetric Matrix\n",
    "3. Triangular Matrix\n",
    "4. Diagonal Matrix\n",
    "5. Identity Matrix\n",
    "6. Orthogonal Matrix\n",
    "\n",
    "## Square Matrix\n",
    "A square matrix is a matrix where the number of rows (n) equals the number of columns (m)."
   ]
  },
  {
   "cell_type": "code",
   "execution_count": null,
   "metadata": {
    "collapsed": true
   },
   "outputs": [],
   "source": [
    "n = m"
   ]
  },
  {
   "cell_type": "markdown",
   "metadata": {},
   "source": [
    "The square matrix is contrasted with the rectangular matrix where the number of rows and columns are not equal.\n",
    "\n",
    "Given that the number of rows and columns match, the dimensions are usually denoted as n, e.g. n x n. The size of the matrix is called the order, so an order 4 square matrix is 4 x 4.\n",
    "\n",
    "The vector of values along the diagonal of the matrix from the top left to the bottom right is called the main diagonal.\n",
    "\n",
    "Below is an example of an order 3 square matrix."
   ]
  },
  {
   "cell_type": "code",
   "execution_count": null,
   "metadata": {
    "collapsed": true
   },
   "outputs": [],
   "source": [
    "     1, 2, 3\n",
    "M = (1, 2, 3)\n",
    "     1, 2, 3"
   ]
  },
  {
   "cell_type": "markdown",
   "metadata": {},
   "source": [
    "Square matrices are readily added and multiplied together and are the basis of many simple linear transformations, such as rotations (as in the rotations of images).\n",
    "\n",
    "## Symmetric Matrix\n",
    "A symmetric matrix is a type of square matrix where the top-right triangle is the same as the bottom-left triangle.\n",
    "\n",
    "To be symmetric, the axis of symmetry is always the main diagonal of the matrix, from the top left to the bottom right.\n",
    "\n",
    "Below is an example of a 5×5 symmetric matrix."
   ]
  },
  {
   "cell_type": "code",
   "execution_count": null,
   "metadata": {
    "collapsed": true
   },
   "outputs": [],
   "source": [
    "     1, 2, 3, 4, 5\n",
    "     2, 1, 2, 3, 4\n",
    "M = (3, 2, 1, 2, 3)\n",
    "     4, 3, 2, 1, 2\n",
    "     5, 4, 3, 2, 1"
   ]
  },
  {
   "cell_type": "markdown",
   "metadata": {},
   "source": [
    "A symmetric matrix is always square and equal to its own transpose."
   ]
  },
  {
   "cell_type": "code",
   "execution_count": null,
   "metadata": {
    "collapsed": true
   },
   "outputs": [],
   "source": [
    "M = M^T"
   ]
  },
  {
   "cell_type": "markdown",
   "metadata": {},
   "source": [
    "## Triangular Matrix\n",
    "A triangular matrix is a type of square matrix that has all values in the upper-right or lower-left of the matrix with the remaining elements filled with zero values.\n",
    "\n",
    "A triangular matrix with values only above the main diagonal is called an upper triangular matrix. Whereas, a triangular matrix with values only below the main diagonal is called a lower triangular matrix.\n",
    "\n",
    "Below is an example of a 3×3 upper triangular matrix."
   ]
  },
  {
   "cell_type": "code",
   "execution_count": null,
   "metadata": {
    "collapsed": true
   },
   "outputs": [],
   "source": [
    "     1, 2, 3\n",
    "M = (0, 2, 3)\n",
    "     0, 0, 3"
   ]
  },
  {
   "cell_type": "markdown",
   "metadata": {},
   "source": [
    "Below is an example of a 3×3 lower triangular matrix."
   ]
  },
  {
   "cell_type": "code",
   "execution_count": null,
   "metadata": {
    "collapsed": true
   },
   "outputs": [],
   "source": [
    "     1, 0, 0\n",
    "M = (1, 2, 0)\n",
    "     1, 2, 3"
   ]
  },
  {
   "cell_type": "markdown",
   "metadata": {},
   "source": [
    "The LU decomposition resolves a given matrix into upper and lower triangular matrices.\n",
    "\n",
    "NumPy provides functions to calculate a triangular matrix from an existing square matrix. The tril() function to calculate the lower triangular matrix from a given matrix and the triu() to calculate the upper triangular matrix from a given matrix\n",
    "\n",
    "The example below defines a 3×3 square matrix and calculates the lower and upper triangular matrix from it."
   ]
  },
  {
   "cell_type": "code",
   "execution_count": 1,
   "metadata": {},
   "outputs": [
    {
     "name": "stdout",
     "output_type": "stream",
     "text": [
      "[[1 2 3]\n",
      " [1 2 3]\n",
      " [1 2 3]]\n",
      "[[1 0 0]\n",
      " [1 2 0]\n",
      " [1 2 3]]\n",
      "[[1 2 3]\n",
      " [0 2 3]\n",
      " [0 0 3]]\n"
     ]
    }
   ],
   "source": [
    "# triangular matrices\n",
    "from numpy import array\n",
    "from numpy import tril\n",
    "from numpy import triu\n",
    "M = array([[1, 2, 3], [1, 2, 3], [1, 2, 3]])\n",
    "print(M)\n",
    "lower = tril(M)\n",
    "print(lower)\n",
    "upper = triu(M)\n",
    "print(upper)"
   ]
  },
  {
   "cell_type": "markdown",
   "metadata": {},
   "source": [
    "Running the example prints the defined matrix followed by the lower and upper triangular matrices.\n",
    "\n",
    "## Diagonal Matrix\n",
    "A diagonal matrix is one where values outside of the main diagonal have a zero value, where the main diagonal is taken from the top left of the matrix to the bottom right.\n",
    "\n",
    "A diagonal matrix is often denoted with the variable D and may be represented as a full matrix or as a vector of values on the main diagonal.\n",
    "\n",
    "Below is an example of a 3×3 square diagonal matrix."
   ]
  },
  {
   "cell_type": "code",
   "execution_count": null,
   "metadata": {
    "collapsed": true
   },
   "outputs": [],
   "source": [
    "     1, 0, 0\n",
    "D = (0, 2, 0)\n",
    "     0, 0, 3"
   ]
  },
  {
   "cell_type": "markdown",
   "metadata": {},
   "source": [
    "As a vector, it would be represented as:"
   ]
  },
  {
   "cell_type": "code",
   "execution_count": null,
   "metadata": {
    "collapsed": true
   },
   "outputs": [],
   "source": [
    "d = (d11, d22, d33)"
   ]
  },
  {
   "cell_type": "markdown",
   "metadata": {},
   "source": [
    "Or, with the specified scalar values:"
   ]
  },
  {
   "cell_type": "code",
   "execution_count": null,
   "metadata": {
    "collapsed": true
   },
   "outputs": [],
   "source": [
    "d = (1, 2, 3)"
   ]
  },
  {
   "cell_type": "markdown",
   "metadata": {},
   "source": [
    "A diagonal matrix does not have to be square. In the case of a rectangular matrix, the diagonal would cover the shortest dimension; for example:"
   ]
  },
  {
   "cell_type": "code",
   "execution_count": null,
   "metadata": {
    "collapsed": true
   },
   "outputs": [],
   "source": [
    "     1, 0, 0, 0\n",
    "     0, 2, 0, 0\n",
    "D = (0, 0, 3, 0)\n",
    "     0, 0, 0, 4\n",
    "     0, 0, 0, 0"
   ]
  },
  {
   "cell_type": "markdown",
   "metadata": {},
   "source": [
    "NumPy provides the function diag() that can create a diagonal matrix from an existing matrix, or transform a vector into a diagonal matrix.\n",
    "\n",
    "The example below defines a 3×3 square matrix, extracts the main diagonal as a vector, and then creates a diagonal matrix from the extracted vector."
   ]
  },
  {
   "cell_type": "code",
   "execution_count": 2,
   "metadata": {},
   "outputs": [
    {
     "name": "stdout",
     "output_type": "stream",
     "text": [
      "[[1 2 3]\n",
      " [1 2 3]\n",
      " [1 2 3]]\n",
      "[1 2 3]\n",
      "[[1 0 0]\n",
      " [0 2 0]\n",
      " [0 0 3]]\n"
     ]
    }
   ],
   "source": [
    "# diagonal matrix\n",
    "from numpy import array\n",
    "from numpy import diag\n",
    "M = array([[1, 2, 3], [1, 2, 3], [1, 2, 3]])\n",
    "print(M)\n",
    "# extract diagonal vector\n",
    "d = diag(M)\n",
    "print(d)\n",
    "# create diagonal matrix from vector\n",
    "D = diag(d)\n",
    "print(D)"
   ]
  },
  {
   "cell_type": "markdown",
   "metadata": {},
   "source": [
    "Running the example first prints the defined matrix, followed by the vector of the main diagonal and the diagonal matrix constructed from the vector.\n",
    "\n",
    "## Identity Matrix\n",
    "An identity matrix is a square matrix that does not change a vector when multiplied.\n",
    "\n",
    "The values of an identity matrix are known. All of the scalar values along the main diagonal (top-left to bottom-right) have the value one, while all other values are zero.\n",
    "\n",
    "An identity matrix is often represented using the notation “I” or with the dimensionality “In”, where n is a subscript that indicates the dimensionality of the square identity matrix. In some notations, the identity may be referred to as the unit matrix, or “U”, to honor the one value it contains (this is different from a Unitary matrix).\n",
    "\n",
    "For example, an identity matrix with the size 3 or I3 would be as follows:"
   ]
  },
  {
   "cell_type": "code",
   "execution_count": null,
   "metadata": {
    "collapsed": true
   },
   "outputs": [],
   "source": [
    "     1, 0, 0\n",
    "I = (0, 1, 0)\n",
    "     0, 0, 1"
   ]
  },
  {
   "cell_type": "markdown",
   "metadata": {},
   "source": [
    "In NumPy, an identity matrix can be created with a specific size using the identity() function.\n",
    "\n",
    "The example below creates an I3 identity matrix."
   ]
  },
  {
   "cell_type": "code",
   "execution_count": 3,
   "metadata": {},
   "outputs": [
    {
     "name": "stdout",
     "output_type": "stream",
     "text": [
      "[[1. 0. 0.]\n",
      " [0. 1. 0.]\n",
      " [0. 0. 1.]]\n"
     ]
    }
   ],
   "source": [
    "# identity matrix\n",
    "from numpy import identity\n",
    "I = identity(3)\n",
    "print(I)"
   ]
  },
  {
   "cell_type": "markdown",
   "metadata": {},
   "source": [
    "Running the example prints the created identity matrix.\n",
    "\n",
    "Alone, the identity matrix is not that interesting, although it is a component in other import matrix operations, such as matrix inversion.\n",
    "\n",
    "## Orthogonal Matrix\n",
    "Two vectors are orthogonal when their dot product equals zero, called orthonormal."
   ]
  },
  {
   "cell_type": "code",
   "execution_count": null,
   "metadata": {
    "collapsed": true
   },
   "outputs": [],
   "source": [
    "v . w = 0"
   ]
  },
  {
   "cell_type": "markdown",
   "metadata": {},
   "source": [
    "or"
   ]
  },
  {
   "cell_type": "code",
   "execution_count": null,
   "metadata": {
    "collapsed": true
   },
   "outputs": [],
   "source": [
    "v . w^T = 0"
   ]
  },
  {
   "cell_type": "markdown",
   "metadata": {},
   "source": [
    "This is intuitive when we consider that one line is orthogonal with another if it is perpendicular to it.\n",
    "\n",
    "An Orthogonal matrix is a type of square matrix whose columns and rows are orthonormal unit vectors, e.g. perpendicular and have a length or magnitude of 1.\n",
    "\n",
    "An Orthogonal matrix is often denoted as uppercase “Q”.\n",
    "\n",
    "The Orthogonal matrix is defined formally as follows:"
   ]
  },
  {
   "cell_type": "code",
   "execution_count": null,
   "metadata": {
    "collapsed": true
   },
   "outputs": [],
   "source": [
    "Q^T . Q = Q . Q^T = I"
   ]
  },
  {
   "cell_type": "markdown",
   "metadata": {},
   "source": [
    "Where Q is the orthogonal matrix, Q^T indicates the transpose of Q, and I is the identity matrix.\n",
    "\n",
    "A matrix is orthogonal if its transpose is equal to its inverse."
   ]
  },
  {
   "cell_type": "code",
   "execution_count": null,
   "metadata": {
    "collapsed": true
   },
   "outputs": [],
   "source": [
    "Q^T = Q^-1"
   ]
  },
  {
   "cell_type": "markdown",
   "metadata": {},
   "source": [
    "Another equivalence for an orthogonal matrix is if the dot product of the matrix and itself equals the identity matrix."
   ]
  },
  {
   "cell_type": "code",
   "execution_count": null,
   "metadata": {
    "collapsed": true
   },
   "outputs": [],
   "source": [
    "Q . Q^T = I"
   ]
  },
  {
   "cell_type": "markdown",
   "metadata": {},
   "source": [
    "Orthogonal matrices are used a lot for linear transformations, such as reflections and permutations.\n",
    "\n",
    "A simple 2×2 orthogonal matrix is listed below, which is an example of a reflection matrix or coordinate reflection."
   ]
  },
  {
   "cell_type": "code",
   "execution_count": null,
   "metadata": {
    "collapsed": true
   },
   "outputs": [],
   "source": [
    "     1,  0\n",
    "Q = (0, -1)"
   ]
  },
  {
   "cell_type": "markdown",
   "metadata": {},
   "source": [
    "The example below creates this orthogonal matrix and checks the above equivalences."
   ]
  },
  {
   "cell_type": "code",
   "execution_count": 4,
   "metadata": {},
   "outputs": [
    {
     "name": "stdout",
     "output_type": "stream",
     "text": [
      "[[ 1  0]\n",
      " [ 0 -1]]\n",
      "[[ 1  0]\n",
      " [ 0 -1]]\n",
      "[[ 1.  0.]\n",
      " [-0. -1.]]\n",
      "[[1 0]\n",
      " [0 1]]\n"
     ]
    }
   ],
   "source": [
    "# orthogonal matrix\n",
    "from numpy import array\n",
    "from numpy.linalg import inv\n",
    "Q = array([[1, 0], [0, -1]])\n",
    "print(Q)\n",
    "# inverse equivalence\n",
    "V = inv(Q)\n",
    "print(Q.T)\n",
    "print(V)\n",
    "# identity equivalence\n",
    "I = Q.dot(Q.T)\n",
    "print(I)"
   ]
  },
  {
   "cell_type": "markdown",
   "metadata": {},
   "source": [
    "Running the example first prints the orthogonal matrix, the inverse of the orthogonal matrix, and the transpose of the orthogonal matrix are then printed and are shown to be equivalent. Finally, the identity matrix is printed which is calculated from the dot product of the orthogonal matrix with its transpose.\n",
    "\n",
    "Orthogonal matrices are useful tools as they are computationally cheap and stable to calculate their inverse as simply their transpose.\n",
    "\n",
    "## Summary\n",
    "In this tutorial, you discovered a suite of different types of matrices from the field of linear algebra that you may encounter in machine learning.\n",
    "\n",
    "Specifically, you learned:\n",
    "\n",
    "* Square, symmetric, triangular, and diagonal matrices that are much as their name suggests.\n",
    "* Identity matrices that are all zero values except along the main diagonal where the values are 1.\n",
    "* Orthogonal matrices that generalize the idea of perpendicular vectors and have useful computational properties."
   ]
  }
 ],
 "metadata": {
  "kernelspec": {
   "display_name": "Python 2",
   "language": "python",
   "name": "python2"
  },
  "language_info": {
   "codemirror_mode": {
    "name": "ipython",
    "version": 2
   },
   "file_extension": ".py",
   "mimetype": "text/x-python",
   "name": "python",
   "nbconvert_exporter": "python",
   "pygments_lexer": "ipython2",
   "version": "2.7.14"
  }
 },
 "nbformat": 4,
 "nbformat_minor": 2
}
