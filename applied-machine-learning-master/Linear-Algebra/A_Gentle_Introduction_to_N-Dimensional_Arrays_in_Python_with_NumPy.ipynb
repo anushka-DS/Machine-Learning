{
 "cells": [
  {
   "cell_type": "markdown",
   "metadata": {},
   "source": [
    "# A Gentle Introduction to N-Dimensional Arrays in Python with NumPy\n",
    "Arrays are the main data structure used in machine learning.\n",
    "\n",
    "In Python, arrays from the NumPy library, called N-dimensional arrays or the ndarray, are used as the primary data structure for representing data.\n",
    "\n",
    "In this tutorial, you will discover the N-dimensional array in NumPy for representing numerical and manipulating data in Python.\n",
    "\n",
    "After completing this tutorial, you will know:\n",
    "\n",
    "* What the ndarray is and how to create and inspect an array in Python.\n",
    "* Key functions for creating new empty arrays and arrays with default values.\n",
    "* How to combine existing arrays to create new arrays.\n",
    "\n",
    "Let’s get started."
   ]
  },
  {
   "cell_type": "markdown",
   "metadata": {},
   "source": [
    "## Tutorial Overview\n",
    "This tutorial is divided into 3 parts; they are:\n",
    "\n",
    "1. NumPy N-dimensional Array\n",
    "2. Functions to Create Arrays\n",
    "3. Combining Arrays\n",
    "\n",
    "## NumPy N-dimensional Array\n",
    "NumPy is a Python library that can be used for scientific and numerical applications and is the tool to use for linear algebra operations.\n",
    "\n",
    "The main data structure in NumPy is the ndarray, which is a shorthand name for N-dimensional array. When working with NumPy, data in an ndarray is simply referred to as an array.\n",
    "\n",
    "It is a fixed-sized array in memory that contains data of the same type, such as integers or floating point values.\n",
    "\n",
    "The data type supported by an array can be accessed via the “dtype” attribute on the array. The dimensions of an array can be accessed via the “shape” attribute that returns a tuple describing the length of each dimension. There are a host of other attributes.\n",
    "\n",
    "A simple way to create an array from data or simple Python data structures like a list is to use the array() function.\n",
    "\n",
    "The example below creates a Python list of 3 floating point values, then creates an ndarray from the list and access the arrays’ shape and data type."
   ]
  },
  {
   "cell_type": "code",
   "execution_count": 1,
   "metadata": {},
   "outputs": [
    {
     "name": "stdout",
     "output_type": "stream",
     "text": [
      "[1. 2. 3.]\n",
      "(3,)\n",
      "float64\n"
     ]
    }
   ],
   "source": [
    "# create array\n",
    "from numpy import array\n",
    "l = [1.0, 2.0, 3.0]\n",
    "a = array(l)\n",
    "print(a)\n",
    "print(a.shape)\n",
    "print(a.dtype)"
   ]
  },
  {
   "cell_type": "markdown",
   "metadata": {},
   "source": [
    "Running the example prints the contents of the ndarray, the shape, which is a one-dimensional array with 3 elements, and the data type, which is a 64-bit floating point.\n",
    "\n",
    "## Functions to Create Arrays\n",
    "There are more convenience functions for creating fixed-sized arrays that you may encounter or be required to use.\n",
    "\n",
    "Let’s look at just a few.\n",
    "\n",
    "### Empty\n",
    "The empty() function will create a new array of the specified shape.\n",
    "\n",
    "The argument to the function is an array or tuple that specifies the length of each dimension of the array to create. The values or content of the created array will be random and will need to be assigned before use.\n",
    "\n",
    "The example below creates an empty 3×3 two-dimensional array."
   ]
  },
  {
   "cell_type": "code",
   "execution_count": 2,
   "metadata": {},
   "outputs": [
    {
     "name": "stdout",
     "output_type": "stream",
     "text": [
      "[[1.49166815e-154 1.49166815e-154 2.16289058e-314]\n",
      " [2.15920699e-314 2.15771540e-314 2.15921154e-314]\n",
      " [1.35719037e+131 0.00000000e+000 2.15708346e-314]]\n"
     ]
    }
   ],
   "source": [
    "# create empty array\n",
    "from numpy import empty\n",
    "a = empty([3,3])\n",
    "print(a)"
   ]
  },
  {
   "cell_type": "markdown",
   "metadata": {},
   "source": [
    "Running the example prints the content of the empty array. Your specific array contents will vary.\n",
    "\n",
    "### Zeros\n",
    "The zeros() function will create a new array of the specified size with the contents filled with zero values.\n",
    "\n",
    "The argument to the function is an array or tuple that specifies the length of each dimension of the array to create.\n",
    "\n",
    "The example below creates a 3×5 zero two-dimensional array."
   ]
  },
  {
   "cell_type": "code",
   "execution_count": 3,
   "metadata": {},
   "outputs": [
    {
     "name": "stdout",
     "output_type": "stream",
     "text": [
      "[[0. 0. 0. 0. 0.]\n",
      " [0. 0. 0. 0. 0.]\n",
      " [0. 0. 0. 0. 0.]]\n"
     ]
    }
   ],
   "source": [
    "# create zero array\n",
    "from numpy import zeros\n",
    "a = zeros([3,5])\n",
    "print(a)"
   ]
  },
  {
   "cell_type": "markdown",
   "metadata": {},
   "source": [
    "Running the example prints the contents of the created zero array.\n",
    "\n",
    "### Ones\n",
    "The ones() function will create a new array of the specified size with the contents filled with one values.\n",
    "\n",
    "The argument to the function is an array or tuple that specifies the length of each dimension of the array to create.\n",
    "\n",
    "The example below creates a 5-element one-dimensional array."
   ]
  },
  {
   "cell_type": "code",
   "execution_count": 4,
   "metadata": {},
   "outputs": [
    {
     "name": "stdout",
     "output_type": "stream",
     "text": [
      "[1. 1. 1. 1. 1.]\n"
     ]
    }
   ],
   "source": [
    "# create one array\n",
    "from numpy import ones\n",
    "a = ones([5])\n",
    "print(a)"
   ]
  },
  {
   "cell_type": "markdown",
   "metadata": {},
   "source": [
    "Running the example prints the contents of the created ones array.\n",
    "\n",
    "## Combining Arrays\n",
    "NumPy provides many functions to create new arrays from existing arrays.\n",
    "\n",
    "Let’s look at two of the most popular functions you may need or encounter.\n",
    "\n",
    "### Vertical Stack\n",
    "Given two or more existing arrays, you can stack them vertically using the vstack() function.\n",
    "\n",
    "For example, given two one-dimensional arrays, you can create a new two-dimensional array with two rows by vertically stacking them.\n",
    "\n",
    "This is demonstrated in the example below."
   ]
  },
  {
   "cell_type": "code",
   "execution_count": 5,
   "metadata": {},
   "outputs": [
    {
     "name": "stdout",
     "output_type": "stream",
     "text": [
      "[1 2 3]\n",
      "[4 5 6]\n",
      "[[1 2 3]\n",
      " [4 5 6]]\n",
      "(2, 3)\n"
     ]
    }
   ],
   "source": [
    "# vstack\n",
    "from numpy import array\n",
    "from numpy import vstack\n",
    "a1 = array([1,2,3])\n",
    "print(a1)\n",
    "a2 = array([4,5,6])\n",
    "print(a2)\n",
    "a3 = vstack((a1, a2))\n",
    "print(a3)\n",
    "print(a3.shape)"
   ]
  },
  {
   "cell_type": "markdown",
   "metadata": {},
   "source": [
    "Running the example first prints the two separately defined one-dimensional arrays. The arrays are vertically stacked resulting in a new 2×3 array, the contents and shape of which are printed.\n",
    "\n",
    "### Horizontal Stack\n",
    "Given two or more existing arrays, you can stack them horizontally using the hstack() function.\n",
    "\n",
    "For example, given two one-dimensional arrays, you can create a new one-dimensional array or one row with the columns of the first and second arrays concatenated.\n",
    "\n",
    "This is demonstrated in the example below."
   ]
  },
  {
   "cell_type": "code",
   "execution_count": 6,
   "metadata": {},
   "outputs": [
    {
     "name": "stdout",
     "output_type": "stream",
     "text": [
      "[1 2 3]\n",
      "[4 5 6]\n",
      "[1 2 3 4 5 6]\n",
      "(6,)\n"
     ]
    }
   ],
   "source": [
    "# hstack\n",
    "from numpy import array\n",
    "from numpy import hstack\n",
    "a1 = array([1,2,3])\n",
    "print(a1)\n",
    "a2 = array([4,5,6])\n",
    "print(a2)\n",
    "a3 = hstack((a1, a2))\n",
    "print(a3)\n",
    "print(a3.shape)"
   ]
  },
  {
   "cell_type": "markdown",
   "metadata": {},
   "source": [
    "Running the example first prints the two separately defined one-dimensional arrays. The arrays are then horizontally stacked resulting in a new one-dimensional array with 6 elements, the contents and shape of which are printed.\n",
    "\n",
    "## Summary\n",
    "In this tutorial, you discovered the N-dimensional array in NumPy for representing numerical and manipulating data in Python.\n",
    "\n",
    "Specifically, you learned:\n",
    "\n",
    "* What the ndarray is and how to create and inspect an array in Python.\n",
    "* Key functions for creating new empty arrays and arrays with default values.\n",
    "* How to combine existing arrays to create new arrays."
   ]
  }
 ],
 "metadata": {
  "kernelspec": {
   "display_name": "Python 2",
   "language": "python",
   "name": "python2"
  },
  "language_info": {
   "codemirror_mode": {
    "name": "ipython",
    "version": 2
   },
   "file_extension": ".py",
   "mimetype": "text/x-python",
   "name": "python",
   "nbconvert_exporter": "python",
   "pygments_lexer": "ipython2",
   "version": "2.7.14"
  }
 },
 "nbformat": 4,
 "nbformat_minor": 2
}
