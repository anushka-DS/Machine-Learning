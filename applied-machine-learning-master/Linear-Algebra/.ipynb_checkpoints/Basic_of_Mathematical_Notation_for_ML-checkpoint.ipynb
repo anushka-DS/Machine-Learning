{
 "cells": [
  {
   "cell_type": "markdown",
   "metadata": {},
   "source": [
    "# Basics of Mathematical Notation for Machine Learning\n",
    "You cannot avoid mathematical notation when reading the descriptions of machine learning methods.\n",
    "\n",
    "Often, all it takes is one term or one fragment of notation in an equation to completely derail your understanding of the entire procedure. This can be extremely frustrating, especially for machine learning beginners coming from the world of development.\n",
    "\n",
    "You can make great progress if you know a few basic areas of mathematical notation and some tricks for working through the description of machine learning methods in papers and books.\n",
    "\n",
    "In this tutorial, you will discover the basics of mathematical notation that you may come across when reading descriptions of techniques in machine learning.\n",
    "\n",
    "After completing this tutorial, you will know:\n",
    "\n",
    "* Notation for arithmetic, including variations of multiplication, exponents, roots, and logarithms.\n",
    "* Notation for sequences and sets including indexing, summation, and set membership.\n",
    "* 5 Techniques you can use to get help if you are struggling with mathematical notation.\n",
    "\n",
    "Let’s get started."
   ]
  },
  {
   "cell_type": "markdown",
   "metadata": {},
   "source": [
    "## Tutorial Overview\n",
    "This tutorial is divided into 7 parts; they are:\n",
    "\n",
    "1. The Frustration with Math Notation\n",
    "2. Arithmetic Notation\n",
    "3. Greek Alphabet\n",
    "4. Sequence Notation\n",
    "5. Set Notation\n",
    "6. Other Notation\n",
    "7. Getting More Help"
   ]
  },
  {
   "cell_type": "markdown",
   "metadata": {},
   "source": [
    "## The Frustration with Math Notation\n",
    "You will encounter mathematical notation when reading about machine learning algorithms.\n",
    "\n",
    "For example, notation may be used to:\n",
    "\n",
    "* Describe an algorithm.\n",
    "* Describe data preparation.\n",
    "* Describe results.\n",
    "* Describe a test harness.\n",
    "* Describe implications.\n",
    "* These descriptions may be in research papers, textbooks, blog posts, and elsewhere.\n",
    "\n",
    "Often the terms are well defined, but there are also mathematical notation norms that you may not be familiar with.\n",
    "\n",
    "All it takes is one term or one equation that you do not understand and your understanding of the entire method will be lost. I’ve suffered this problem myself many times, and it is incredibly frustrating!\n",
    "\n",
    "In this tutorial, we will review some basic mathematical notation that will help you when reading descriptions of machine learning methods."
   ]
  },
  {
   "cell_type": "markdown",
   "metadata": {},
   "source": [
    "## Arithmetic Notation\n",
    "In this section, we will go over some less obvious notations for basic arithmetic as well as a few concepts you may have forgotten since school.\n",
    "\n",
    "### Simple Arithmetic\n",
    "The notation for basic arithmetic is as you would write it. For example:\n",
    "\n",
    "* Addition: 1 + 1 = 2\n",
    "* Subtraction: 2 – 1 = 1\n",
    "* Multiplication: 2 x 2 = 4\n",
    "* Division: 2 / 2 = 1\n",
    "\n",
    "Most mathematical operations have a sister operation that performs the inverse operation; for example, subtraction is the inverse of addition and division is the inverse of multiplication.\n",
    "\n",
    "### Algebra\n",
    "We often want to describe operations abstractly to separate them from specific data or specific implementations.\n",
    "\n",
    "For this reason we see heavy use of algebra: that is uppercase and/or lowercase letters or words to represents terms or concepts in mathematical notation. It is also common to use letters from the Greek alphabet.\n",
    "\n",
    "Each sub-field of math may have reserved letters: that is terms or letters that always mean the same thing. Nevertheless, algebraic terms should be defined as part of the description and if they are not, it may just be a poor description, not your fault.\n",
    "\n",
    "### Multiplication Notation\n",
    "Multiplication is a common notation and has a few short hands.\n",
    "\n",
    "Often a little “x” or an asterisk “*” is used to represent multiplication:"
   ]
  },
  {
   "cell_type": "code",
   "execution_count": null,
   "metadata": {
    "collapsed": true
   },
   "outputs": [],
   "source": [
    "c = a x b\n",
    "c = a * b"
   ]
  },
  {
   "cell_type": "markdown",
   "metadata": {},
   "source": [
    "You may see a dot notation used; for example:"
   ]
  },
  {
   "cell_type": "code",
   "execution_count": null,
   "metadata": {
    "collapsed": true
   },
   "outputs": [],
   "source": [
    "c = a . b"
   ]
  },
  {
   "cell_type": "markdown",
   "metadata": {},
   "source": [
    "Which is the same as:"
   ]
  },
  {
   "cell_type": "code",
   "execution_count": null,
   "metadata": {
    "collapsed": true
   },
   "outputs": [],
   "source": [
    "c = a x b"
   ]
  },
  {
   "cell_type": "markdown",
   "metadata": {},
   "source": [
    "Alternately, you may see no operation and no white space separation between previously defined terms; for example:"
   ]
  },
  {
   "cell_type": "code",
   "execution_count": null,
   "metadata": {
    "collapsed": true
   },
   "outputs": [],
   "source": [
    "c = ab"
   ]
  },
  {
   "cell_type": "markdown",
   "metadata": {},
   "source": [
    "Which again is the same thing.\n",
    "\n",
    "### Exponents and Square Roots\n",
    "An exponent is a number raised to a power.\n",
    "\n",
    "The notation is written as the original number, or the base, with a second number, or the exponent, shown as a superscript; for example:"
   ]
  },
  {
   "cell_type": "code",
   "execution_count": null,
   "metadata": {
    "collapsed": true
   },
   "outputs": [],
   "source": [
    "2^3"
   ]
  },
  {
   "cell_type": "markdown",
   "metadata": {},
   "source": [
    "Which would be calculated as 2 multiplied by itself 3 times, or cubing:"
   ]
  },
  {
   "cell_type": "code",
   "execution_count": null,
   "metadata": {
    "collapsed": true
   },
   "outputs": [],
   "source": [
    "2 x 2 x 2 = 8"
   ]
  },
  {
   "cell_type": "markdown",
   "metadata": {},
   "source": [
    "A number raised to the power 2 to is said to be its square."
   ]
  },
  {
   "cell_type": "code",
   "execution_count": null,
   "metadata": {
    "collapsed": true
   },
   "outputs": [],
   "source": [
    "2^2 = 2 x 2 = 4"
   ]
  },
  {
   "cell_type": "markdown",
   "metadata": {},
   "source": [
    "The square of a number can be inverted by calculating the square root. This is shown using the notation of a number and with a tick above, I will use the “sqrt()” function here for simplicity."
   ]
  },
  {
   "cell_type": "code",
   "execution_count": null,
   "metadata": {
    "collapsed": true
   },
   "outputs": [],
   "source": [
    "sqrt(4) = 2"
   ]
  },
  {
   "cell_type": "markdown",
   "metadata": {},
   "source": [
    "Here, we know the result and the exponent and we wish to find the base.\n",
    "\n",
    "In fact, the root operation can be used to inverse any exponent, it just so happens that the default square root assumes an exponent of 2, represented by a subscript 2 in front of the square root tick.\n",
    "\n",
    "For example, we can invert the cubing of a number by taking the cube root (note, the 3 is not a multiplication here, it is notation before the tick of the root sign):"
   ]
  },
  {
   "cell_type": "code",
   "execution_count": null,
   "metadata": {
    "collapsed": true
   },
   "outputs": [],
   "source": [
    "2^3 = 8\n",
    "3 sqrt(8) = 2"
   ]
  },
  {
   "cell_type": "markdown",
   "metadata": {},
   "source": [
    "### Logarithms and e\n",
    "When we raise 10 to an integer exponent, we often call this an order of magnitude."
   ]
  },
  {
   "cell_type": "code",
   "execution_count": null,
   "metadata": {
    "collapsed": true
   },
   "outputs": [],
   "source": [
    "10^2 = 10 x 10 or 100"
   ]
  },
  {
   "cell_type": "markdown",
   "metadata": {},
   "source": [
    "Another way to reverse this operation is by calculating the logarithm of the result 100 assuming a base of 10; in notation this is written as log10()."
   ]
  },
  {
   "cell_type": "code",
   "execution_count": null,
   "metadata": {
    "collapsed": true
   },
   "outputs": [],
   "source": [
    "log10(100) = 2"
   ]
  },
  {
   "cell_type": "markdown",
   "metadata": {},
   "source": [
    "Here, we know the result and the base and wish to find the exponent.\n",
    "\n",
    "This allows us to move up and down orders of magnitude very easily. Taking the logarithm assuming the base of 2 is also commonly used, given the use of binary arithmetic used in computers. For example:"
   ]
  },
  {
   "cell_type": "code",
   "execution_count": null,
   "metadata": {
    "collapsed": true
   },
   "outputs": [],
   "source": [
    "2^6 = 64\n",
    "log2(64) = 6"
   ]
  },
  {
   "cell_type": "markdown",
   "metadata": {},
   "source": [
    "Another popular logarithm is to assume the natural base called e. The e is reserved and is a special number or a constant called Euler’s number (pronounced “oy-ler“) that refers to a value with practically infinite precision."
   ]
  },
  {
   "cell_type": "code",
   "execution_count": null,
   "metadata": {
    "collapsed": true
   },
   "outputs": [],
   "source": [
    "e = 2.71828..."
   ]
  },
  {
   "cell_type": "markdown",
   "metadata": {},
   "source": [
    "Raising e to a power is called a natural exponential function:"
   ]
  },
  {
   "cell_type": "code",
   "execution_count": null,
   "metadata": {
    "collapsed": true
   },
   "outputs": [],
   "source": [
    "e^2 = 7.38905..."
   ]
  },
  {
   "cell_type": "markdown",
   "metadata": {},
   "source": [
    "It can be inverted using the natural logarithm, which is denoted as ln():"
   ]
  },
  {
   "cell_type": "code",
   "execution_count": null,
   "metadata": {
    "collapsed": true
   },
   "outputs": [],
   "source": [
    "ln(7.38905...) = 2"
   ]
  },
  {
   "cell_type": "markdown",
   "metadata": {},
   "source": [
    "Without going into detail, the natural exponent and natural logarithm prove useful throughout mathematics to abstractly describe the continuous growth of some systems, e.g. systems that grow exponentially such as compound interest.\n",
    "\n",
    "## Greek Alphabet\n",
    "Greek letters are used throughout mathematical notation for variables, constants, functions, and more.\n",
    "\n",
    "For example, in statistics we talk about the mean using the lowercase Greek letter mu, and the standard deviation as the lowercase Greek letter sigma. In linear regression, we talk about the coefficients as the lowercase letter beta. And so on.\n",
    "\n",
    "It is useful to know all of the uppercase and lowercase Greek letters and how to pronounce them.\n",
    "\n",
    "Below is the full Greek alphabet.\n",
    "\n",
    "![greek-alphabet](Greek-Alphabet.png)"
   ]
  },
  {
   "cell_type": "markdown",
   "metadata": {},
   "source": [
    "## Sequence Notation\n",
    "Machine learning notation often describes an operation on a sequence.\n",
    "\n",
    "A sequence may be an array of data or a list of terms.\n",
    "\n",
    "### Indexing\n",
    "A key to reading notation for sequences is the notation of indexing elements in the sequence.\n",
    "\n",
    "Often the notation will specify the beginning and end of the sequence, such as 1 to n, where n will be the extent or length of the sequence.\n",
    "\n",
    "Items in the sequence are index by a variable such as i, j, k as a subscript. This is just like array notation.\n",
    "\n",
    "For example, a_i is the i^th element of the sequence a.\n",
    "\n",
    "If the sequence is two dimensional, two indices may be used; for example:\n",
    "\n",
    "b_{i,j} is the i,j^th element of the sequence b.\n",
    "\n",
    "### Sequence Operations\n",
    "Mathematical operations can be performed over a sequence.\n",
    "\n",
    "Two operations are performed on sequences so often that they have their own shorthand: the sum and the multiplication.\n",
    "\n",
    "#### Sequence Summation\n",
    "The sum over a sequence is denoted as the uppercase Greek letter sigma. It is specified with the variable and start of the sequence summation below the sigma (e.g. i = 1) and the index of the end of the summation above the sigma (e.g. n)."
   ]
  },
  {
   "cell_type": "code",
   "execution_count": null,
   "metadata": {
    "collapsed": true
   },
   "outputs": [],
   "source": [
    "Sigma i = 1, n a_i"
   ]
  },
  {
   "cell_type": "markdown",
   "metadata": {},
   "source": [
    "This is the sum of the sequence a starting at element 1 to element n.\n",
    "\n",
    "#### Sequence Multiplication\n",
    "The multiplication over a sequence is denoted as the uppercase Greek letter pi. It is specified in the same way as the sequence summation with the beginning and end of the operation below and above the letter respectively."
   ]
  },
  {
   "cell_type": "code",
   "execution_count": null,
   "metadata": {
    "collapsed": true
   },
   "outputs": [],
   "source": [
    "Pi i = 1, n a_i"
   ]
  },
  {
   "cell_type": "markdown",
   "metadata": {},
   "source": [
    "This is the product of the sequence a starting at element 1 to element n.\n",
    "\n",
    "## Set Notation\n",
    "A set is a group of unique items.\n",
    "\n",
    "We may see set notation used when defining terms in machine learning.\n",
    "\n",
    "### Set of Numbers\n",
    "A common set you may see is a set of numbers, such as a term defined as being within the set of integers or the set of real numbers.\n",
    "\n",
    "Some common sets of numbers you may see include:\n",
    "\n",
    "* Set of all natural numbers: N\n",
    "* Set of all integers: Z\n",
    "* Set of all real numbers: R\n",
    "\n",
    "We often talk about real values or real numbers when defining terms rather than floating point values, which are really discrete creations for operations in computers.\n",
    "\n",
    "### Set Membership\n",
    "It is common to see set membership in definitions of terms.\n",
    "\n",
    "Set membership is denoted as a symbol that looks like an uppercase “E”."
   ]
  },
  {
   "cell_type": "code",
   "execution_count": null,
   "metadata": {
    "collapsed": true
   },
   "outputs": [],
   "source": [
    "a E R"
   ]
  },
  {
   "cell_type": "markdown",
   "metadata": {},
   "source": [
    "Which means a is defined as being a member of the set R or the set of real numbers.\n",
    "\n",
    "There is also a host of set operations; two common set operations include:\n",
    "\n",
    "* Union, or aggregation: A U B\n",
    "* Intersection, or overlap: A ^ B\n",
    "\n",
    "## Other Notation\n",
    "There is other notation that you may come across.\n",
    "\n",
    "I try to lay some of it out in this section.\n",
    "\n",
    "It is common to define a method in the abstract and then define it again as a specific implementation with separate notation.\n",
    "\n",
    "For example, if we are estimating a variable x, we may represent it using a notation that modifies the x; for example:\n",
    "\n",
    "* x-bar\n",
    "* x-prime\n",
    "* x-hat\n",
    "\n",
    "The same notation may have a different meaning in a different context, such as use on different objects or sub-fields of mathematics. For example, a common point of confusion is |x|, which, depending on context, can mean:\n",
    "\n",
    "* |x|: The absolute or positive value of x.\n",
    "* |x|: The length of the vector x.\n",
    "* |x|: The cardinality of the set x.\n",
    "\n",
    "This tutorial only covered the basics of mathematical notation. There are some subfields of mathematics that are more relevant to machine learning and should be reviewed in more detail. They are:\n",
    "\n",
    "* Linear Algebra.\n",
    "* Statistics.\n",
    "* Probability.\n",
    "* Calculus.\n",
    "\n",
    "And perhaps a little bit of multivariate analysis and information theory."
   ]
  },
  {
   "cell_type": "markdown",
   "metadata": {},
   "source": [
    "## 5 Tips for Getting Help with Math Notation\n",
    "This section lists some tips that you can use when you are struggling with mathematical notation in machine learning.\n",
    "\n",
    "### Think About the Author\n",
    "People wrote the paper or book you are reading.\n",
    "\n",
    "People that can make mistakes, make omissions, and even make things confusing because they don’t fully understand what they are writing.\n",
    "\n",
    "Relax the constraints of the notation you are reading slightly and think about the intent of the author. What are they trying to get across?\n",
    "\n",
    "Perhaps you can even contact the author via email, Twitter, Facebook, LinkedIn, etc., and seek clarification. Remember that academics want other people to understand and use their work (mostly).\n",
    "\n",
    "### Check Wikipedia\n",
    "Wikipedia has lists of notation which can help narrow down on the meaning or intent of the notation you are reading.\n",
    "\n",
    "Two places I recommend you start are:\n",
    "\n",
    "* [List of mathematical symbols on Wikipedia](https://en.wikipedia.org/wiki/List_of_mathematical_symbols)\n",
    "* [Greek letters used in mathematics, science, and engineering on Wikipedia](https://en.wikipedia.org/wiki/Greek_letters_used_in_mathematics,_science,_and_engineering)\n",
    "\n",
    "### Sketch in Code\n",
    "Mathematical operations are just functions on data.\n",
    "\n",
    "Map everything you’re reading to pseudocode with variables, for-loops, and more.\n",
    "\n",
    "You might want to use a scripting language as you go, along with small arrays of contrived data or even an Excel spreadsheet.\n",
    "\n",
    "As your reading and understanding of the technique improves, your code-sketch of the technique will make more sense, and at the end you will have a mini prototype to play with.\n",
    "\n",
    "I never used to take much stock in this approach until I saw an academic sketch out a very complex paper in a few lines of matlab with some contrived data. It knocked my socks off because I believed the system had to be coded completely and run with a “real” dataset and that the only option was to get the original code and data. I was very wrong. Also, looking back, the guy was gifted.\n",
    "\n",
    "I now use this method all the time and sketch techniques in Python.\n",
    "\n",
    "### Seek Alternatives\n",
    "There is a trick I use when I’m trying to understand a new technique.\n",
    "\n",
    "I find and read all the papers that reference the paper I’m reading with the new technique.\n",
    "\n",
    "Reading other academics interpretation and re-explanation of the technique can often clarify my misunderstandings in the original description.\n",
    "\n",
    "Not always though. Sometimes it can muddy the waters and introduce misleading explanations or new notation. But more often than not, it helps. After circling back to the original paper and re-reading it, I can often find cases where subsequent papers have actually made errors and misinterpretations of the original method.\n",
    "\n",
    "### Post a Question\n",
    "There are places online where people love to explain math to others. Seriously!\n",
    "\n",
    "Consider taking a screenshot of the notation you are struggling with, write out the full reference or link to it, and post it and your area of misunderstanding to a question-and-answer site.\n",
    "\n",
    "Two great places to start are:\n",
    "\n",
    "* [Mathematics Stack Exchange](https://math.stackexchange.com/)\n",
    "* [Cross Validated](https://stats.stackexchange.com/)"
   ]
  },
  {
   "cell_type": "markdown",
   "metadata": {},
   "source": [
    "## Summary\n",
    "In this tutorial, you discovered the basics of mathematical notation that you may come across when reading descriptions of techniques in machine learning.\n",
    "\n",
    "Specifically, you learned:\n",
    "\n",
    "* Notation for arithmetic, including variations of multiplication, exponents, roots, and logarithms.\n",
    "* Notation for sequences and sets, including indexing, summation, and set membership.\n",
    "* 5 Techniques you can use to get help if you are struggling with mathematical notation."
   ]
  }
 ],
 "metadata": {
  "kernelspec": {
   "display_name": "Python 2",
   "language": "python",
   "name": "python2"
  },
  "language_info": {
   "codemirror_mode": {
    "name": "ipython",
    "version": 2
   },
   "file_extension": ".py",
   "mimetype": "text/x-python",
   "name": "python",
   "nbconvert_exporter": "python",
   "pygments_lexer": "ipython2",
   "version": "2.7.14"
  }
 },
 "nbformat": 4,
 "nbformat_minor": 2
}
