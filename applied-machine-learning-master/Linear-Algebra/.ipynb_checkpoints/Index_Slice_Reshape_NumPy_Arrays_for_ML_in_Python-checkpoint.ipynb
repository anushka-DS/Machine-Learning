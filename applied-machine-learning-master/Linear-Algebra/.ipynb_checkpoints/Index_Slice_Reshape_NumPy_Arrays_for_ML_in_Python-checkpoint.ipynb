{
 "cells": [
  {
   "cell_type": "markdown",
   "metadata": {},
   "source": [
    "# How to Index, Slice and Reshape NumPy Arrays for Machine Learning in Python\n",
    "Machine learning data is represented as arrays.\n",
    "\n",
    "In Python, data is almost universally represented as NumPy arrays.\n",
    "\n",
    "If you are new to Python, you may be confused by some of the pythonic ways of accessing data, such as negative indexing and array slicing.\n",
    "\n",
    "In this tutorial, you will discover how to manipulate and access your data correctly in NumPy arrays.\n",
    "\n",
    "After completing this tutorial, you will know:\n",
    "\n",
    "* How to convert your list data to NumPy arrays.\n",
    "* How to access data using Pythonic indexing and slicing.\n",
    "* How to resize your data to meet the expectations of some machine learning APIs.\n",
    "\n",
    "Let’s get started."
   ]
  },
  {
   "cell_type": "markdown",
   "metadata": {},
   "source": [
    "## Tutorial Overview\n",
    "This tutorial is divided into 4 parts; they are:\n",
    "\n",
    "1. From List to Arrays\n",
    "2. Array Indexing\n",
    "3. Array Slicing\n",
    "4. Array Reshaping\n",
    "\n",
    "## 1. From List to Arrays\n",
    "In general, I recommend loading your data from file using Pandas or even NumPy functions.\n",
    "\n",
    "This section assumes you have loaded or generated your data by other means and it is now represented using Python lists.\n",
    "\n",
    "Let’s look at converting your data in lists to NumPy arrays.\n",
    "\n",
    "### One-Dimensional List to Array\n",
    "You may load your data or generate your data and have access to it as a list.\n",
    "\n",
    "You can convert a one-dimensional list of data to an array by calling the array() NumPy function."
   ]
  },
  {
   "cell_type": "code",
   "execution_count": 1,
   "metadata": {},
   "outputs": [
    {
     "name": "stdout",
     "output_type": "stream",
     "text": [
      "[11 22 33 44 55]\n",
      "<type 'numpy.ndarray'>\n"
     ]
    }
   ],
   "source": [
    "# one dimensional example\n",
    "from numpy import array\n",
    "# list of data\n",
    "data = [11, 22, 33, 44, 55]\n",
    "# array of data\n",
    "data = array(data)\n",
    "print(data)\n",
    "print(type(data))"
   ]
  },
  {
   "cell_type": "markdown",
   "metadata": {},
   "source": [
    "Running the example converts the one-dimensional list to a NumPy array.\n",
    "\n",
    "### Two-Dimensional List of Lists to Array\n",
    "It is more likely in machine learning that you will have two-dimensional data.\n",
    "\n",
    "That is a table of data where each row represents a new observation and each column a new feature.\n",
    "\n",
    "Perhaps you generated the data or loaded it using custom code and now you have a list of lists. Each list represents a new observation.\n",
    "\n",
    "You can convert your list of lists to a NumPy array the same way as above, by calling the array() function."
   ]
  },
  {
   "cell_type": "code",
   "execution_count": 2,
   "metadata": {},
   "outputs": [
    {
     "name": "stdout",
     "output_type": "stream",
     "text": [
      "[[11 22]\n",
      " [33 44]\n",
      " [55 66]]\n",
      "<type 'numpy.ndarray'>\n"
     ]
    }
   ],
   "source": [
    "# two dimensional example\n",
    "from numpy import array\n",
    "# list of data\n",
    "data = [[11, 22],\n",
    "\t\t[33, 44],\n",
    "\t\t[55, 66]]\n",
    "# array of data\n",
    "data = array(data)\n",
    "print(data)\n",
    "print(type(data))"
   ]
  },
  {
   "cell_type": "markdown",
   "metadata": {},
   "source": [
    "Running the example shows the data successfully converted.\n",
    "\n",
    "## 2. Array Indexing\n",
    "Once your data is represented using a NumPy array, you can access it using indexing.\n",
    "\n",
    "Let’s look at some examples of accessing data via indexing.\n",
    "\n",
    "### One-Dimensional Indexing\n",
    "Generally, indexing works just like you would expect from your experience with other programming languages, like Java, C#, and C++.\n",
    "\n",
    "For example, you can access elements using the bracket operator [] specifying the zero-offset index for the value to retrieve."
   ]
  },
  {
   "cell_type": "code",
   "execution_count": 3,
   "metadata": {},
   "outputs": [
    {
     "name": "stdout",
     "output_type": "stream",
     "text": [
      "11\n",
      "55\n"
     ]
    }
   ],
   "source": [
    "# simple indexing\n",
    "from numpy import array\n",
    "# define array\n",
    "data = array([11, 22, 33, 44, 55])\n",
    "# index data\n",
    "print(data[0])\n",
    "print(data[4])"
   ]
  },
  {
   "cell_type": "markdown",
   "metadata": {},
   "source": [
    "Running the example prints the first and last values in the array.\n",
    "\n",
    "Specifying integers too large for the bound of the array will cause an error."
   ]
  },
  {
   "cell_type": "code",
   "execution_count": 4,
   "metadata": {},
   "outputs": [
    {
     "ename": "IndexError",
     "evalue": "index 5 is out of bounds for axis 0 with size 5",
     "output_type": "error",
     "traceback": [
      "\u001b[0;31m---------------------------------------------------------------------------\u001b[0m",
      "\u001b[0;31mIndexError\u001b[0m                                Traceback (most recent call last)",
      "\u001b[0;32m<ipython-input-4-a32725a81bd2>\u001b[0m in \u001b[0;36m<module>\u001b[0;34m()\u001b[0m\n\u001b[1;32m      4\u001b[0m \u001b[0mdata\u001b[0m \u001b[0;34m=\u001b[0m \u001b[0marray\u001b[0m\u001b[0;34m(\u001b[0m\u001b[0;34m[\u001b[0m\u001b[0;36m11\u001b[0m\u001b[0;34m,\u001b[0m \u001b[0;36m22\u001b[0m\u001b[0;34m,\u001b[0m \u001b[0;36m33\u001b[0m\u001b[0;34m,\u001b[0m \u001b[0;36m44\u001b[0m\u001b[0;34m,\u001b[0m \u001b[0;36m55\u001b[0m\u001b[0;34m]\u001b[0m\u001b[0;34m)\u001b[0m\u001b[0;34m\u001b[0m\u001b[0m\n\u001b[1;32m      5\u001b[0m \u001b[0;31m# index data\u001b[0m\u001b[0;34m\u001b[0m\u001b[0;34m\u001b[0m\u001b[0m\n\u001b[0;32m----> 6\u001b[0;31m \u001b[0;32mprint\u001b[0m\u001b[0;34m(\u001b[0m\u001b[0mdata\u001b[0m\u001b[0;34m[\u001b[0m\u001b[0;36m5\u001b[0m\u001b[0;34m]\u001b[0m\u001b[0;34m)\u001b[0m\u001b[0;34m\u001b[0m\u001b[0m\n\u001b[0m",
      "\u001b[0;31mIndexError\u001b[0m: index 5 is out of bounds for axis 0 with size 5"
     ]
    }
   ],
   "source": [
    "# simple indexing\n",
    "from numpy import array\n",
    "# define array\n",
    "data = array([11, 22, 33, 44, 55])\n",
    "# index data\n",
    "print(data[5])"
   ]
  },
  {
   "cell_type": "markdown",
   "metadata": {},
   "source": [
    "One key difference is that you can use negative indexes to retrieve values offset from the end of the array.\n",
    "\n",
    "For example, the index -1 refers to the last item in the array. The index -2 returns the second last item all the way back to -5 for the first item in the current example."
   ]
  },
  {
   "cell_type": "code",
   "execution_count": 5,
   "metadata": {},
   "outputs": [
    {
     "name": "stdout",
     "output_type": "stream",
     "text": [
      "55\n",
      "11\n"
     ]
    }
   ],
   "source": [
    "# simple indexing\n",
    "from numpy import array\n",
    "# define array\n",
    "data = array([11, 22, 33, 44, 55])\n",
    "# index data\n",
    "print(data[-1])\n",
    "print(data[-5])"
   ]
  },
  {
   "cell_type": "markdown",
   "metadata": {},
   "source": [
    "Running the example prints the last and first items in the array.\n",
    "\n",
    "### Two-Dimensional Indexing\n",
    "Indexing two-dimensional data is similar to indexing one-dimensional data, except that a comma is used to separate the index for each dimension."
   ]
  },
  {
   "cell_type": "code",
   "execution_count": null,
   "metadata": {
    "collapsed": true
   },
   "outputs": [],
   "source": [
    "data[0,0]"
   ]
  },
  {
   "cell_type": "markdown",
   "metadata": {},
   "source": [
    "This is different from C-based languages where a separate bracket operator is used for each dimension."
   ]
  },
  {
   "cell_type": "code",
   "execution_count": null,
   "metadata": {
    "collapsed": true
   },
   "outputs": [],
   "source": [
    "data[0][0]"
   ]
  },
  {
   "cell_type": "markdown",
   "metadata": {},
   "source": [
    "For example, we can access the first row and the first column as follows:"
   ]
  },
  {
   "cell_type": "code",
   "execution_count": 6,
   "metadata": {},
   "outputs": [
    {
     "name": "stdout",
     "output_type": "stream",
     "text": [
      "11\n"
     ]
    }
   ],
   "source": [
    "# 2d indexing\n",
    "from numpy import array\n",
    "# define array\n",
    "data = array([[11, 22], [33, 44], [55, 66]])\n",
    "# index data\n",
    "print(data[0,0])"
   ]
  },
  {
   "cell_type": "markdown",
   "metadata": {},
   "source": [
    "Running the example prints the first item in the dataset.\n",
    "\n",
    "If we are interested in all items in the first row, we could leave the second dimension index empty, for example:"
   ]
  },
  {
   "cell_type": "code",
   "execution_count": 7,
   "metadata": {},
   "outputs": [
    {
     "name": "stdout",
     "output_type": "stream",
     "text": [
      "[11 22]\n"
     ]
    }
   ],
   "source": [
    "# 2d indexing\n",
    "from numpy import array\n",
    "# define array\n",
    "data = array([[11, 22], [33, 44], [55, 66]])\n",
    "# index data\n",
    "print(data[0,])"
   ]
  },
  {
   "cell_type": "markdown",
   "metadata": {},
   "source": [
    "This prints the first row of data.\n",
    "\n",
    "## 3. Array Slicing\n",
    "So far, so good; creating and indexing arrays looks familiar.\n",
    "\n",
    "Now we come to array slicing, and this is one feature that causes problems for beginners to Python and NumPy arrays.\n",
    "\n",
    "Structures like lists and NumPy arrays can be sliced. This means that a subsequence of the structure can be indexed and retrieved.\n",
    "\n",
    "This is most useful in machine learning when specifying input variables and output variables, or splitting training rows from testing rows.\n",
    "\n",
    "Slicing is specified using the colon operator ‘:’ with a ‘from‘ and ‘to‘ index before and after the column respectively. The slice extends from the ‘from’ index and ends one item before the ‘to’ index."
   ]
  },
  {
   "cell_type": "code",
   "execution_count": null,
   "metadata": {
    "collapsed": true
   },
   "outputs": [],
   "source": [
    "data[from:to]"
   ]
  },
  {
   "cell_type": "markdown",
   "metadata": {},
   "source": [
    "Let’s work through some examples.\n",
    "\n",
    "### One-Dimensional Slicing\n",
    "You can access all data in an array dimension by specifying the slice ‘:’ with no indexes."
   ]
  },
  {
   "cell_type": "code",
   "execution_count": 8,
   "metadata": {},
   "outputs": [
    {
     "name": "stdout",
     "output_type": "stream",
     "text": [
      "[11 22 33 44 55]\n"
     ]
    }
   ],
   "source": [
    "# simple slicing\n",
    "from numpy import array\n",
    "# define array\n",
    "data = array([11, 22, 33, 44, 55])\n",
    "print(data[:])"
   ]
  },
  {
   "cell_type": "markdown",
   "metadata": {},
   "source": [
    "Running the example prints all elements in the array.\n",
    "\n",
    "The first item of the array can be sliced by specifying a slice that starts at index 0 and ends at index 1 (one item before the ‘to’ index)."
   ]
  },
  {
   "cell_type": "code",
   "execution_count": 9,
   "metadata": {},
   "outputs": [
    {
     "name": "stdout",
     "output_type": "stream",
     "text": [
      "[11]\n"
     ]
    }
   ],
   "source": [
    "# simple slicing\n",
    "from numpy import array\n",
    "# define array\n",
    "data = array([11, 22, 33, 44, 55])\n",
    "print(data[0:1])"
   ]
  },
  {
   "cell_type": "markdown",
   "metadata": {},
   "source": [
    "Running the example returns a subarray with the first element.\n",
    "\n",
    "We can also use negative indexes in slices. For example, we can slice the last two items in the list by starting the slice at -2 (the second last item) and not specifying a ‘to’ index; that takes the slice to the end of the dimension."
   ]
  },
  {
   "cell_type": "code",
   "execution_count": 10,
   "metadata": {},
   "outputs": [
    {
     "name": "stdout",
     "output_type": "stream",
     "text": [
      "[44 55]\n"
     ]
    }
   ],
   "source": [
    "# simple slicing\n",
    "from numpy import array\n",
    "# define array\n",
    "data = array([11, 22, 33, 44, 55])\n",
    "print(data[-2:])"
   ]
  },
  {
   "cell_type": "markdown",
   "metadata": {},
   "source": [
    "Running the example returns a subarray with the last two items only.\n",
    "\n",
    "### Two-Dimensional Slicing\n",
    "Let’s look at the two examples of two-dimensional slicing you are most likely to use in machine learning.\n",
    "\n",
    "#### Split Input and Output Features\n",
    "It is common to split your loaded data into input variables (X) and the output variable (y).\n",
    "\n",
    "We can do this by slicing all rows and all columns up to, but before the last column, then separately indexing the last column.\n",
    "\n",
    "For the input features, we can select all rows and all columns except the last one by specifying ‘:’ for in the rows index, and :-1 in the columns index."
   ]
  },
  {
   "cell_type": "code",
   "execution_count": null,
   "metadata": {
    "collapsed": true
   },
   "outputs": [],
   "source": [
    "X = [:, :-1]"
   ]
  },
  {
   "cell_type": "markdown",
   "metadata": {},
   "source": [
    "For the output column, we can select all rows again using ‘:’ and index just the last column by specifying the -1 index."
   ]
  },
  {
   "cell_type": "code",
   "execution_count": null,
   "metadata": {
    "collapsed": true
   },
   "outputs": [],
   "source": [
    "y = [:, -1]"
   ]
  },
  {
   "cell_type": "markdown",
   "metadata": {},
   "source": [
    "Putting all of this together, we can separate a 3-column 2D dataset into input and output data as follows:"
   ]
  },
  {
   "cell_type": "code",
   "execution_count": 11,
   "metadata": {},
   "outputs": [
    {
     "name": "stdout",
     "output_type": "stream",
     "text": [
      "[[11 22]\n",
      " [44 55]\n",
      " [77 88]]\n",
      "[33 66 99]\n"
     ]
    }
   ],
   "source": [
    "# split input and output\n",
    "from numpy import array\n",
    "# define array\n",
    "data = array([[11, 22, 33],\n",
    "\t\t[44, 55, 66],\n",
    "\t\t[77, 88, 99]])\n",
    "# separate data\n",
    "X, y = data[:, :-1], data[:, -1]\n",
    "print(X)\n",
    "print(y)"
   ]
  },
  {
   "cell_type": "markdown",
   "metadata": {},
   "source": [
    "Running the example prints the separated X and y elements. Note that X is a 2D array and y is a 1D array.\n",
    "\n",
    "#### Split Train and Test Rows\n",
    "It is common to split a loaded dataset into separate train and test sets.\n",
    "\n",
    "This is a splitting of rows where some portion will be used to train the model and the remaining portion will be used to estimate the skill of the trained model.\n",
    "\n",
    "This would involve slicing all columns by specifying ‘:’ in the second dimension index. The training dataset would be all rows from the beginning to the split point."
   ]
  },
  {
   "cell_type": "code",
   "execution_count": null,
   "metadata": {
    "collapsed": true
   },
   "outputs": [],
   "source": [
    "dataset\n",
    "train = data[:split, :]"
   ]
  },
  {
   "cell_type": "markdown",
   "metadata": {},
   "source": [
    "The test dataset would be all rows starting from the split point to the end of the dimension."
   ]
  },
  {
   "cell_type": "code",
   "execution_count": null,
   "metadata": {
    "collapsed": true
   },
   "outputs": [],
   "source": [
    "test = data[split:, :]"
   ]
  },
  {
   "cell_type": "markdown",
   "metadata": {},
   "source": [
    "Putting all of this together, we can split the dataset at the contrived split point of 2."
   ]
  },
  {
   "cell_type": "code",
   "execution_count": 12,
   "metadata": {},
   "outputs": [
    {
     "name": "stdout",
     "output_type": "stream",
     "text": [
      "[[11 22 33]\n",
      " [44 55 66]]\n",
      "[[77 88 99]]\n"
     ]
    }
   ],
   "source": [
    "# split train and test\n",
    "from numpy import array\n",
    "# define array\n",
    "data = array([[11, 22, 33],\n",
    "\t\t[44, 55, 66],\n",
    "\t\t[77, 88, 99]])\n",
    "# separate data\n",
    "split = 2\n",
    "train,test = data[:split,:],data[split:,:]\n",
    "print(train)\n",
    "print(test)"
   ]
  },
  {
   "cell_type": "markdown",
   "metadata": {},
   "source": [
    "Running the example selects the first two rows for training and the last row for the test set.\n",
    "\n",
    "## 4. Array Reshaping\n",
    "After slicing your data, you may need to reshape it.\n",
    "\n",
    "For example, some libraries, such as scikit-learn, may require that a one-dimensional array of output variables (y) be shaped as a two-dimensional array with one column and outcomes for each column.\n",
    "\n",
    "Some algorithms, like the Long Short-Term Memory recurrent neural network in Keras, require input to be specified as a three-dimensional array comprised of samples, timesteps, and features.\n",
    "\n",
    "It is important to know how to reshape your NumPy arrays so that your data meets the expectation of specific Python libraries. We will look at these two examples.\n",
    "\n",
    "### Data Shape\n",
    "NumPy arrays have a shape attribute that returns a tuple of the length of each dimension of the array.\n",
    "\n",
    "For example:"
   ]
  },
  {
   "cell_type": "code",
   "execution_count": 13,
   "metadata": {},
   "outputs": [
    {
     "name": "stdout",
     "output_type": "stream",
     "text": [
      "(5,)\n"
     ]
    }
   ],
   "source": [
    "# array shape\n",
    "from numpy import array\n",
    "# define array\n",
    "data = array([11, 22, 33, 44, 55])\n",
    "print(data.shape)"
   ]
  },
  {
   "cell_type": "markdown",
   "metadata": {},
   "source": [
    "Running the example prints a tuple for the one dimension.\n",
    "\n",
    "A tuple with two lengths is returned for a two-dimensional array."
   ]
  },
  {
   "cell_type": "code",
   "execution_count": 14,
   "metadata": {},
   "outputs": [
    {
     "name": "stdout",
     "output_type": "stream",
     "text": [
      "(3, 2)\n"
     ]
    }
   ],
   "source": [
    "# array shape\n",
    "from numpy import array\n",
    "# list of data\n",
    "data = [[11, 22],\n",
    "\t\t[33, 44],\n",
    "\t\t[55, 66]]\n",
    "# array of data\n",
    "data = array(data)\n",
    "print(data.shape)"
   ]
  },
  {
   "cell_type": "markdown",
   "metadata": {},
   "source": [
    "Running the example returns a tuple with the number of rows and columns.\n",
    "\n",
    "You can use the size of your array dimensions in the shape dimension, such as specifying parameters.\n",
    "\n",
    "The elements of the tuple can be accessed just like an array, with the 0th index for the number of rows and the 1st index for the number of columns. For example:"
   ]
  },
  {
   "cell_type": "code",
   "execution_count": 15,
   "metadata": {},
   "outputs": [
    {
     "name": "stdout",
     "output_type": "stream",
     "text": [
      "Rows: 3\n",
      "Cols: 2\n"
     ]
    }
   ],
   "source": [
    "# array shape\n",
    "from numpy import array\n",
    "# list of data\n",
    "data = [[11, 22],\n",
    "\t\t[33, 44],\n",
    "\t\t[55, 66]]\n",
    "# array of data\n",
    "data = array(data)\n",
    "print('Rows: %d' % data.shape[0])\n",
    "print('Cols: %d' % data.shape[1])"
   ]
  },
  {
   "cell_type": "markdown",
   "metadata": {},
   "source": [
    "Running the example accesses the specific size of each dimension.\n",
    "\n",
    "### Reshape 1D to 2D Array\n",
    "It is common to need to reshape a one-dimensional array into a two-dimensional array with one column and multiple arrays.\n",
    "\n",
    "NumPy provides the reshape() function on the NumPy array object that can be used to reshape the data.\n",
    "\n",
    "The reshape() function takes a single argument that specifies the new shape of the array. In the case of reshaping a one-dimensional array into a two-dimensional array with one column, the tuple would be the shape of the array as the first dimension (data.shape[0]) and 1 for the second dimension."
   ]
  },
  {
   "cell_type": "code",
   "execution_count": null,
   "metadata": {
    "collapsed": true
   },
   "outputs": [],
   "source": [
    "data = data.reshape((data.shape[0], 1))"
   ]
  },
  {
   "cell_type": "markdown",
   "metadata": {},
   "source": [
    "Putting this all together, we get the following worked example."
   ]
  },
  {
   "cell_type": "code",
   "execution_count": 16,
   "metadata": {},
   "outputs": [
    {
     "name": "stdout",
     "output_type": "stream",
     "text": [
      "(5,)\n",
      "(5, 1)\n"
     ]
    }
   ],
   "source": [
    "# reshape 1D array\n",
    "from numpy import array\n",
    "from numpy import reshape\n",
    "# define array\n",
    "data = array([11, 22, 33, 44, 55])\n",
    "print(data.shape)\n",
    "# reshape\n",
    "data = data.reshape((data.shape[0], 1))\n",
    "print(data.shape)"
   ]
  },
  {
   "cell_type": "markdown",
   "metadata": {},
   "source": [
    "Running the example prints the shape of the one-dimensional array, reshapes the array to have 5 rows with 1 column, then prints this new shape.\n",
    "\n",
    "### Reshape 2D to 3D Array\n",
    "It is common to need to reshape two-dimensional data where each row represents a sequence into a three-dimensional array for algorithms that expect multiple samples of one or more time steps and one or more features.\n",
    "\n",
    "A good example is the LSTM recurrent neural network model in the Keras deep learning library.\n",
    "\n",
    "The reshape function can be used directly, specifying the new dimensionality. This is clear with an example where each sequence has multiple time steps with one observation (feature) at each time step.\n",
    "\n",
    "We can use the sizes in the shape attribute on the array to specify the number of samples (rows) and columns (time steps) and fix the number of features at 1."
   ]
  },
  {
   "cell_type": "code",
   "execution_count": null,
   "metadata": {
    "collapsed": true
   },
   "outputs": [],
   "source": [
    "data.reshape((data.shape[0], data.shape[1], 1))"
   ]
  },
  {
   "cell_type": "markdown",
   "metadata": {},
   "source": [
    "Putting this all together, we get the following worked example."
   ]
  },
  {
   "cell_type": "code",
   "execution_count": 17,
   "metadata": {},
   "outputs": [
    {
     "name": "stdout",
     "output_type": "stream",
     "text": [
      "(3, 2)\n",
      "(3, 2, 1)\n"
     ]
    }
   ],
   "source": [
    "# reshape 2D array\n",
    "from numpy import array\n",
    "# list of data\n",
    "data = [[11, 22],\n",
    "\t\t[33, 44],\n",
    "\t\t[55, 66]]\n",
    "# array of data\n",
    "data = array(data)\n",
    "print(data.shape)\n",
    "# reshape\n",
    "data = data.reshape((data.shape[0], data.shape[1], 1))\n",
    "print(data.shape)"
   ]
  },
  {
   "cell_type": "markdown",
   "metadata": {},
   "source": [
    "Running the example first prints the size of each dimension in the 2D array, reshapes the array, then summarizes the shape of the new 3D array.\n",
    "\n",
    "## Summary\n",
    "In this tutorial, you discovered how to access and reshape data in NumPy arrays with Python.\n",
    "\n",
    "Specifically, you learned:\n",
    "\n",
    "* How to convert your list data to NumPy arrays.\n",
    "* How to access data using Pythonic indexing and slicing.\n",
    "* How to resize your data to meet the expectations of some machine learning APIs."
   ]
  }
 ],
 "metadata": {
  "kernelspec": {
   "display_name": "Python 2",
   "language": "python",
   "name": "python2"
  },
  "language_info": {
   "codemirror_mode": {
    "name": "ipython",
    "version": 2
   },
   "file_extension": ".py",
   "mimetype": "text/x-python",
   "name": "python",
   "nbconvert_exporter": "python",
   "pygments_lexer": "ipython2",
   "version": "2.7.14"
  }
 },
 "nbformat": 4,
 "nbformat_minor": 2
}
