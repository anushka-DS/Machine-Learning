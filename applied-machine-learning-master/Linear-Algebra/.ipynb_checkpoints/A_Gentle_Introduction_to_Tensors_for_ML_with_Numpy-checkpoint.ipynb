{
 "cells": [
  {
   "cell_type": "markdown",
   "metadata": {},
   "source": [
    "# A Gentle Introduction to Tensors for Machine Learning with NumPy\n",
    "In deep learning it is common to see a lot of discussion around tensors as the cornerstone data structure.\n",
    "\n",
    "Tensor even appears in name of Google’s flagship machine learning library: “TensorFlow”.\n",
    "\n",
    "Tensors are a type of data structure used in linear algebra, and like vectors and matrices, you can calculate arithmetic operations with tensors.\n",
    "\n",
    "In this tutorial, you will discover what tensors are and how to manipulate them in Python with NumPy\n",
    "\n",
    "After completing this tutorial, you will know:\n",
    "\n",
    "* That tensors are a generalization of matrices and are represented using n-dimensional arrays.\n",
    "* How to implement element-wise operations with tensors.\n",
    "* How to perform the tensor product.\n",
    "\n",
    "Let’s get started."
   ]
  },
  {
   "cell_type": "markdown",
   "metadata": {},
   "source": [
    "## Tutorial Overview\n",
    "This tutorial is divided into 3 parts; they are:\n",
    "\n",
    "1. What are Tensors?\n",
    "2. Tensors in Python\n",
    "3. Element-Wise Tensor Operations\n",
    "4. Tensor Product"
   ]
  },
  {
   "cell_type": "markdown",
   "metadata": {},
   "source": [
    "## What are Tensors?\n",
    "A tensor is a generalization of vectors and matrices and is easily understood as a multidimensional array.\n",
    "\n",
    "A vector is a one-dimensional or first order tensor and a matrix is a two-dimensional or second order tensor.\n",
    "\n",
    "Tensor notation is much like matrix notation with a capital letter representing a tensor and lowercase letters with subscript integers representing scalar values within the tensor."
   ]
  },
  {
   "cell_type": "code",
   "execution_count": null,
   "metadata": {
    "collapsed": true
   },
   "outputs": [],
   "source": [
    "     t111, t121, t131     t112, t122, t132     t113, t123, t133\n",
    "T = (t211, t221, t231),  (t212, t222, t232),  (t213, t223, t233)\n",
    "     t311, t321, t331     t312, t322, t332     t313, t323, t333"
   ]
  },
  {
   "cell_type": "markdown",
   "metadata": {},
   "source": [
    "Many of the operations that can be performed with scalars, vectors, and matrices can be reformulated to be performed with tensors.\n",
    "\n",
    "As a tool, tensors and tensor algebra is widely used in the fields of physics and engineering. It is a term and set of techniques known in machine learning in the training and operation of deep learning models can be described in terms of tensors.\n",
    "\n",
    "## Tensors in Python\n",
    "Like vectors and matrices, tensors can be represented in Python using the N-dimensional array (ndarray).\n",
    "\n",
    "A tensor can be defined in-line to the constructor of array() as a list of lists.\n",
    "\n",
    "The example below defines a 3x3x3 tensor as a NumPy ndarray. Three dimensions is easier to wrap your head around. Here, we first define rows, then a list of rows stacked as columns, then a list of columns stacked as levels in a cube."
   ]
  },
  {
   "cell_type": "code",
   "execution_count": 1,
   "metadata": {},
   "outputs": [
    {
     "name": "stdout",
     "output_type": "stream",
     "text": [
      "(3, 3, 3)\n",
      "[[[ 1  2  3]\n",
      "  [ 4  5  6]\n",
      "  [ 7  8  9]]\n",
      "\n",
      " [[11 12 13]\n",
      "  [14 15 16]\n",
      "  [17 18 19]]\n",
      "\n",
      " [[21 22 23]\n",
      "  [24 25 26]\n",
      "  [27 28 29]]]\n"
     ]
    }
   ],
   "source": [
    "# create tensor\n",
    "from numpy import array\n",
    "T = array([\n",
    "  [[1,2,3],    [4,5,6],    [7,8,9]],\n",
    "  [[11,12,13], [14,15,16], [17,18,19]],\n",
    "  [[21,22,23], [24,25,26], [27,28,29]],\n",
    "  ])\n",
    "print(T.shape)\n",
    "print(T)"
   ]
  },
  {
   "cell_type": "markdown",
   "metadata": {},
   "source": [
    "Running the example first prints the shape of the tensor, then the values of the tensor itself.\n",
    "\n",
    "You can see that, at least in three-dimensions, the tensor is printed as a series of matrices, one for each layer. For this 3D tensor, axis 0 specifies the level, axis 1 specifies the column, and axis 2 specifies the row.\n",
    "\n",
    "## Element-Wise Tensor Operations\n",
    "As with matrices, we can perform element-wise arithmetic between tensors.\n",
    "\n",
    "In this section, we will work through the four main arithmetic operations.\n",
    "\n",
    "### Tensor Addition\n",
    "The element-wise addition of two tensors with the same dimensions results in a new tensor with the same dimensions where each scalar value is the element-wise addition of the scalars in the parent tensors."
   ]
  },
  {
   "cell_type": "code",
   "execution_count": null,
   "metadata": {
    "collapsed": true
   },
   "outputs": [],
   "source": [
    "     a111, a121, a131     a112, a122, a132\n",
    "A = (a211, a221, a231),  (a112, a122, a132)\n",
    " \n",
    "     b111, b121, t131     b112, b122, b132\n",
    "B = (b211, t221, t231),  (b112, b122, b132)\n",
    " \n",
    " \n",
    "C = A + B\n",
    " \n",
    "     a111 + b111, a121 + b121, a131 + b131     a112 + b112, a122 + b122, a132 + b132\n",
    "C = (a211 + b211, a221 + b221, a231 + b231),  (a112 + b112, a122 + b122, a132 + b132)"
   ]
  },
  {
   "cell_type": "markdown",
   "metadata": {},
   "source": [
    "In NumPy, we can add tensors directly by adding arrays."
   ]
  },
  {
   "cell_type": "code",
   "execution_count": 2,
   "metadata": {},
   "outputs": [
    {
     "name": "stdout",
     "output_type": "stream",
     "text": [
      "[[[ 2  4  6]\n",
      "  [ 8 10 12]\n",
      "  [14 16 18]]\n",
      "\n",
      " [[22 24 26]\n",
      "  [28 30 32]\n",
      "  [34 36 38]]\n",
      "\n",
      " [[42 44 46]\n",
      "  [48 50 52]\n",
      "  [54 56 58]]]\n"
     ]
    }
   ],
   "source": [
    "# tensor addition\n",
    "from numpy import array\n",
    "A = array([\n",
    "  [[1,2,3],    [4,5,6],    [7,8,9]],\n",
    "  [[11,12,13], [14,15,16], [17,18,19]],\n",
    "  [[21,22,23], [24,25,26], [27,28,29]],\n",
    "  ])\n",
    "B = array([\n",
    "  [[1,2,3],    [4,5,6],    [7,8,9]],\n",
    "  [[11,12,13], [14,15,16], [17,18,19]],\n",
    "  [[21,22,23], [24,25,26], [27,28,29]],\n",
    "  ])\n",
    "C = A + B\n",
    "print(C)"
   ]
  },
  {
   "cell_type": "markdown",
   "metadata": {},
   "source": [
    "Running the example prints the addition of the two parent tensors.\n",
    "\n",
    "### Tensor Subtraction\n",
    "The element-wise subtraction of one tensor from another tensor with the same dimensions results in a new tensor with the same dimensions where each scalar value is the element-wise subtraction of the scalars in the parent tensors."
   ]
  },
  {
   "cell_type": "code",
   "execution_count": null,
   "metadata": {
    "collapsed": true
   },
   "outputs": [],
   "source": [
    "     a111, a121, a131     a112, a122, a132\n",
    "A = (a211, a221, a231),  (a112, a122, a132)\n",
    " \n",
    "     b111, b121, t131     b112, b122, b132\n",
    "B = (b211, t221, t231),  (b112, b122, b132)\n",
    " \n",
    "C = A - B\n",
    " \n",
    "     a111 - b111, a121 - b121, a131 - b131     a112 - b112, a122 - b122, a132 - b132\n",
    "C = (a211 - b211, a221 - b221, a231 - b231),  (a112 - b112, a122 - b122, a132 - b132)"
   ]
  },
  {
   "cell_type": "markdown",
   "metadata": {},
   "source": [
    "In NumPy, we can subtract tensors directly by subtracting arrays."
   ]
  },
  {
   "cell_type": "code",
   "execution_count": 3,
   "metadata": {},
   "outputs": [
    {
     "name": "stdout",
     "output_type": "stream",
     "text": [
      "[[[0 0 0]\n",
      "  [0 0 0]\n",
      "  [0 0 0]]\n",
      "\n",
      " [[0 0 0]\n",
      "  [0 0 0]\n",
      "  [0 0 0]]\n",
      "\n",
      " [[0 0 0]\n",
      "  [0 0 0]\n",
      "  [0 0 0]]]\n"
     ]
    }
   ],
   "source": [
    "# tensor subtraction\n",
    "from numpy import array\n",
    "A = array([\n",
    "  [[1,2,3],    [4,5,6],    [7,8,9]],\n",
    "  [[11,12,13], [14,15,16], [17,18,19]],\n",
    "  [[21,22,23], [24,25,26], [27,28,29]],\n",
    "  ])\n",
    "B = array([\n",
    "  [[1,2,3],    [4,5,6],    [7,8,9]],\n",
    "  [[11,12,13], [14,15,16], [17,18,19]],\n",
    "  [[21,22,23], [24,25,26], [27,28,29]],\n",
    "  ])\n",
    "C = A - B\n",
    "print(C)"
   ]
  },
  {
   "cell_type": "markdown",
   "metadata": {},
   "source": [
    "Running the example prints the result of subtracting the first tensor from the second.\n",
    "\n",
    "### Tensor Hadamard Product\n",
    "The element-wise multiplication of one tensor from another tensor with the same dimensions results in a new tensor with the same dimensions where each scalar value is the element-wise multiplication of the scalars in the parent tensors.\n",
    "\n",
    "As with matrices, the operation is referred to as the Hadamard Product to differentiate it from tensor multiplication. Here, we will use the “o” operator to indicate the Hadamard product operation between tensors."
   ]
  },
  {
   "cell_type": "code",
   "execution_count": null,
   "metadata": {
    "collapsed": true
   },
   "outputs": [],
   "source": [
    "     a111, a121, a131     a112, a122, a132\n",
    "A = (a211, a221, a231),  (a112, a122, a132)\n",
    " \n",
    "     b111, b121, t131     b112, b122, b132\n",
    "B = (b211, t221, t231),  (b112, b122, b132)\n",
    " \n",
    "C = A o B\n",
    " \n",
    "     a111 * b111, a121 * b121, a131 * b131     a112 * b112, a122 * b122, a132 * b132\n",
    "C = (a211 * b211, a221 * b221, a231 * b231),  (a112 * b112, a122 * b122, a132 * b132)"
   ]
  },
  {
   "cell_type": "markdown",
   "metadata": {},
   "source": [
    "In NumPy, we can multiply tensors directly by multiplying arrays."
   ]
  },
  {
   "cell_type": "code",
   "execution_count": 4,
   "metadata": {},
   "outputs": [
    {
     "name": "stdout",
     "output_type": "stream",
     "text": [
      "[[[  1   4   9]\n",
      "  [ 16  25  36]\n",
      "  [ 49  64  81]]\n",
      "\n",
      " [[121 144 169]\n",
      "  [196 225 256]\n",
      "  [289 324 361]]\n",
      "\n",
      " [[441 484 529]\n",
      "  [576 625 676]\n",
      "  [729 784 841]]]\n"
     ]
    }
   ],
   "source": [
    "# tensor Hadamard product\n",
    "from numpy import array\n",
    "A = array([\n",
    "  [[1,2,3],    [4,5,6],    [7,8,9]],\n",
    "  [[11,12,13], [14,15,16], [17,18,19]],\n",
    "  [[21,22,23], [24,25,26], [27,28,29]],\n",
    "  ])\n",
    "B = array([\n",
    "  [[1,2,3],    [4,5,6],    [7,8,9]],\n",
    "  [[11,12,13], [14,15,16], [17,18,19]],\n",
    "  [[21,22,23], [24,25,26], [27,28,29]],\n",
    "  ])\n",
    "C = A * B\n",
    "print(C)"
   ]
  },
  {
   "cell_type": "markdown",
   "metadata": {},
   "source": [
    "Running the example prints the result of multiplying the tensors.\n",
    "\n",
    "### Tensor Division\n",
    "The element-wise division of one tensor from another tensor with the same dimensions results in a new tensor with the same dimensions where each scalar value is the element-wise division of the scalars in the parent tensors."
   ]
  },
  {
   "cell_type": "code",
   "execution_count": null,
   "metadata": {
    "collapsed": true
   },
   "outputs": [],
   "source": [
    "     a111, a121, a131     a112, a122, a132\n",
    "A = (a211, a221, a231),  (a112, a122, a132)\n",
    " \n",
    "     b111, b121, t131     b112, b122, b132\n",
    "B = (b211, t221, t231),  (b112, b122, b132)\n",
    " \n",
    "C = A / B\n",
    " \n",
    "     a111 / b111, a121 / b121, a131 / b131     a112 / b112, a122 / b122, a132 / b132\n",
    "C = (a211 / b211, a221 / b221, a231 / b231),  (a112 / b112, a122 / b122, a132 / b132)"
   ]
  },
  {
   "cell_type": "markdown",
   "metadata": {},
   "source": [
    "In NumPy, we can divide tensors directly by dividing arrays."
   ]
  },
  {
   "cell_type": "code",
   "execution_count": 5,
   "metadata": {},
   "outputs": [
    {
     "name": "stdout",
     "output_type": "stream",
     "text": [
      "[[[1 1 1]\n",
      "  [1 1 1]\n",
      "  [1 1 1]]\n",
      "\n",
      " [[1 1 1]\n",
      "  [1 1 1]\n",
      "  [1 1 1]]\n",
      "\n",
      " [[1 1 1]\n",
      "  [1 1 1]\n",
      "  [1 1 1]]]\n"
     ]
    }
   ],
   "source": [
    "# tensor division\n",
    "from numpy import array\n",
    "A = array([\n",
    "  [[1,2,3],    [4,5,6],    [7,8,9]],\n",
    "  [[11,12,13], [14,15,16], [17,18,19]],\n",
    "  [[21,22,23], [24,25,26], [27,28,29]],\n",
    "  ])\n",
    "B = array([\n",
    "  [[1,2,3],    [4,5,6],    [7,8,9]],\n",
    "  [[11,12,13], [14,15,16], [17,18,19]],\n",
    "  [[21,22,23], [24,25,26], [27,28,29]],\n",
    "  ])\n",
    "C = A / B\n",
    "print(C)"
   ]
  },
  {
   "cell_type": "markdown",
   "metadata": {},
   "source": [
    "Running the example prints the result of dividing the tensors.\n",
    "\n",
    "## Tensor Product\n",
    "The tensor product operator is often denoted as a circle with a small x in the middle. We will denote it here as “(x)”.\n",
    "\n",
    "Given a tensor A with q dimensions and tensor B with r dimensions, the product of these tensors will be a new tensor with the order of q + r or, said another way, q + r dimensions.\n",
    "\n",
    "The tensor product is not limited to tensors, but can also be performed on matrices and vectors, which can be a good place to practice in order to develop the intuition for higher dimensions.\n",
    "\n",
    "Let’s take a look at the tensor product for vectors."
   ]
  },
  {
   "cell_type": "code",
   "execution_count": null,
   "metadata": {
    "collapsed": true
   },
   "outputs": [],
   "source": [
    "a = (a1, a2)\n",
    " \n",
    "b = (b1, b2)\n",
    " \n",
    "c = a (x) b\n",
    " \n",
    "     a1 * [b1, b2]\n",
    "c = (a2 * [b1, b2])"
   ]
  },
  {
   "cell_type": "markdown",
   "metadata": {},
   "source": [
    "Or, unrolled:"
   ]
  },
  {
   "cell_type": "code",
   "execution_count": null,
   "metadata": {
    "collapsed": true
   },
   "outputs": [],
   "source": [
    "     a1 * b1, a1 * b2\n",
    "c = (a2 * b1, a2 * b2)"
   ]
  },
  {
   "cell_type": "markdown",
   "metadata": {},
   "source": [
    "Let’s take a look at the tensor product for matrices."
   ]
  },
  {
   "cell_type": "code",
   "execution_count": null,
   "metadata": {
    "collapsed": true
   },
   "outputs": [],
   "source": [
    "     a11, a12\n",
    "A = (a21, a22)\n",
    " \n",
    "     b11, b12\n",
    "B = (b21, b22)\n",
    " \n",
    "C = A (x) B\n",
    " \n",
    "            b11, b12          b11, b12\n",
    "     a11 * (b21, b22), a12 * (b21, b22)\n",
    "C = [       b11, b12          b11, b12 ]\n",
    "     a21 * (b21, b22), a22 * (b21, b22)"
   ]
  },
  {
   "cell_type": "markdown",
   "metadata": {},
   "source": [
    "Or, unrolled:"
   ]
  },
  {
   "cell_type": "code",
   "execution_count": null,
   "metadata": {
    "collapsed": true
   },
   "outputs": [],
   "source": [
    "     a11 * b11, a11 * b12, a12 * b11, a12 * b12\n",
    "     a11 * b21, a11 * b22, a12 * b21, a12 * b22\n",
    "C = (a21 * b11, a21 * b12, a22 * b11, a22 * b12)\n",
    "     a21 * b21, a21 * b22, a22 * b21, a22 * b22"
   ]
  },
  {
   "cell_type": "markdown",
   "metadata": {},
   "source": [
    "The tensor product can be implemented in NumPy using the tensordot() function.\n",
    "\n",
    "The function takes as arguments the two tensors to be multiplied and the axis on which to sum the products over, called the sum reduction. To calculate the tensor product, also called the tensor dot product in NumPy, the axis must be set to 0.\n",
    "\n",
    "In the example below, we define two order-1 tensors (vectors) with and calculate the tensor product."
   ]
  },
  {
   "cell_type": "code",
   "execution_count": 6,
   "metadata": {},
   "outputs": [
    {
     "name": "stdout",
     "output_type": "stream",
     "text": [
      "[[3 4]\n",
      " [6 8]]\n"
     ]
    }
   ],
   "source": [
    "# tensor product\n",
    "from numpy import array\n",
    "from numpy import tensordot\n",
    "A = array([1,2])\n",
    "B = array([3,4])\n",
    "C = tensordot(A, B, axes=0)\n",
    "print(C)"
   ]
  },
  {
   "cell_type": "markdown",
   "metadata": {},
   "source": [
    "Running the example prints the result of the tensor product.\n",
    "\n",
    "The result is an order-2 tensor (matrix) with the lengths 2×2.\n",
    "\n",
    "The tensor product is the most common form of tensor multiplication that you may encounter, but there are many other types of tensor multiplications that exist, such as the tensor dot product and the tensor contraction.\n",
    "\n",
    "## Summary\n",
    "In this tutorial, you discovered what tensors are and how to manipulate them in Python with NumPy.\n",
    "\n",
    "Specifically, you learned:\n",
    "\n",
    "* That tensors are a generalization of matrices and are represented using n-dimensional arrays.\n",
    "* How to implement element-wise operations with tensors.\n",
    "* How to perform the tensor product."
   ]
  }
 ],
 "metadata": {
  "kernelspec": {
   "display_name": "Python 2",
   "language": "python",
   "name": "python2"
  },
  "language_info": {
   "codemirror_mode": {
    "name": "ipython",
    "version": 2
   },
   "file_extension": ".py",
   "mimetype": "text/x-python",
   "name": "python",
   "nbconvert_exporter": "python",
   "pygments_lexer": "ipython2",
   "version": "2.7.14"
  }
 },
 "nbformat": 4,
 "nbformat_minor": 2
}
