{
 "cells": [
  {
   "cell_type": "markdown",
   "metadata": {},
   "source": [
    "# Introduction to Matrices and Matrix Arithmetic for Machine Learning\n",
    "Matrices are a foundational element of linear algebra.\n",
    "\n",
    "Matrices are used throughout the field of machine learning in the description of algorithms and processes such as the input data variable (X) when training an algorithm.\n",
    "\n",
    "In this tutorial, you will discover matrices in linear algebra and how to manipulate them in Python.\n",
    "\n",
    "After completing this tutorial, you will know:\n",
    "\n",
    "* What a matrix is and how to define one in Python with NumPy.\n",
    "* How to perform element-wise operations such as addition, subtraction, and the Hadamard product.\n",
    "* How to multiply matrices together and the intuition behind the operation.\n",
    "\n",
    "Let’s get started."
   ]
  },
  {
   "cell_type": "markdown",
   "metadata": {},
   "source": [
    "## Tutorial Overview\n",
    "This tutorial is divided into 6 parts; they are:\n",
    "\n",
    "1. What is a Matrix?\n",
    "2. Defining a Matrix\n",
    "3. Matrix Arithmetic\n",
    "4. Matrix-Matrix Multiplication (Dot Product)\n",
    "5. Matrix-Vector Multiplication\n",
    "6. Matrix-Scalar Multiplication\n",
    "\n",
    "## What is a Matrix?\n",
    "A matrix is a two-dimensional array of scalars with one or more columns and one or more rows.\n",
    "\n",
    "The notation for a matrix is often an uppercase letter, such as A, and entries are referred to by their two-dimensional subscript of row (i) and column (j), such as aij. For example:"
   ]
  },
  {
   "cell_type": "code",
   "execution_count": null,
   "metadata": {
    "collapsed": true
   },
   "outputs": [],
   "source": [
    "A = ((a11, a12), (a21, 22), (a31, a32))"
   ]
  },
  {
   "cell_type": "markdown",
   "metadata": {},
   "source": [
    "It is more common to see matrices defined using a horizontal notation."
   ]
  },
  {
   "cell_type": "code",
   "execution_count": null,
   "metadata": {
    "collapsed": true
   },
   "outputs": [],
   "source": [
    "     a11, a12\n",
    "A = (a21, a22)\n",
    "     a31, a32"
   ]
  },
  {
   "cell_type": "markdown",
   "metadata": {},
   "source": [
    "A likely first place you may encounter a matrix in machine learning is in model training data comprised of many rows and columns and often represented using the capital letter “X”.\n",
    "\n",
    "The geometric analogy used to help understand vectors and some of their operations does not hold with matrices. Further, a vector itself may be considered a matrix with one column and multiple rows.\n",
    "\n",
    "Often the dimensions of the matrix are denoted as m and n for the number of rows and the number of columns.\n",
    "\n",
    "Now that we know what a matrix is, let’s look at defining one in Python.\n",
    "\n",
    "## Defining a Matrix\n",
    "We can represent a matrix in Python using a two-dimensional NumPy array.\n",
    "\n",
    "A NumPy array can be constructed given a list of lists. For example, below is a 3 row, 2 column matrix."
   ]
  },
  {
   "cell_type": "code",
   "execution_count": 1,
   "metadata": {},
   "outputs": [
    {
     "name": "stdout",
     "output_type": "stream",
     "text": [
      "[[1 2 3]\n",
      " [4 5 6]]\n"
     ]
    }
   ],
   "source": [
    "# create matrix\n",
    "from numpy import array\n",
    "A = array([[1, 2, 3], [4, 5, 6]])\n",
    "print(A)"
   ]
  },
  {
   "cell_type": "markdown",
   "metadata": {},
   "source": [
    "Running the example prints the created matrix showing the expected structure.\n",
    "\n",
    "## Matrix Arithmetic\n",
    "In this section will demonstrate simple matrix-matrix arithmetic, where all operations are performed element-wise between two matrices of equal size to result in a new matrix with the same size.\n",
    "\n",
    "### Matrix Addition\n",
    "Two matrices with the same dimensions can be added together to create a new third matrix."
   ]
  },
  {
   "cell_type": "code",
   "execution_count": null,
   "metadata": {
    "collapsed": true
   },
   "outputs": [],
   "source": [
    "C = A + B"
   ]
  },
  {
   "cell_type": "markdown",
   "metadata": {},
   "source": [
    "The scalar elements in the resulting matrix are calculated as the addition of the elements in each of the matrices being added."
   ]
  },
  {
   "cell_type": "code",
   "execution_count": null,
   "metadata": {
    "collapsed": true
   },
   "outputs": [],
   "source": [
    "         a11 + b11, a12 + b12\n",
    "A + B = (a21 + b21, a22 + b22)\n",
    "         a31 + b31, a32 + b32"
   ]
  },
  {
   "cell_type": "markdown",
   "metadata": {},
   "source": [
    "Or, put another way:"
   ]
  },
  {
   "cell_type": "code",
   "execution_count": null,
   "metadata": {
    "collapsed": true
   },
   "outputs": [],
   "source": [
    "C[0,0] = A[0,0] + B[0,0]\n",
    "C[1,0] = A[1,0] + B[1,0]\n",
    "C[2,0] = A[2,0] + B[2,0]\n",
    "C[0,1] = A[0,1] + B[0,1]\n",
    "C[1,1] = A[1,1] + B[1,1]\n",
    "C[2,1] = A[2,1] + B[2,1]"
   ]
  },
  {
   "cell_type": "markdown",
   "metadata": {},
   "source": [
    "We can implement this in python using the plus operator directly on the two NumPy arrays."
   ]
  },
  {
   "cell_type": "code",
   "execution_count": 2,
   "metadata": {},
   "outputs": [
    {
     "name": "stdout",
     "output_type": "stream",
     "text": [
      "[[1 2 3]\n",
      " [4 5 6]]\n",
      "[[1 2 3]\n",
      " [4 5 6]]\n",
      "[[ 2  4  6]\n",
      " [ 8 10 12]]\n"
     ]
    }
   ],
   "source": [
    "# add matrices\n",
    "from numpy import array\n",
    "A = array([[1, 2, 3], [4, 5, 6]])\n",
    "print(A)\n",
    "B = array([[1, 2, 3], [4, 5, 6]])\n",
    "print(B)\n",
    "C = A + B\n",
    "print(C)"
   ]
  },
  {
   "cell_type": "markdown",
   "metadata": {},
   "source": [
    "The example first defines two 2×3 matrices and then adds them together.\n",
    "\n",
    "Running the example first prints the two parent matrices and then the result of adding them together.\n",
    "\n",
    "### Matrix Subtraction\n",
    "Similarly, one matrix can be subtracted from another matrix with the same dimensions."
   ]
  },
  {
   "cell_type": "code",
   "execution_count": null,
   "metadata": {
    "collapsed": true
   },
   "outputs": [],
   "source": [
    "C = A - B"
   ]
  },
  {
   "cell_type": "markdown",
   "metadata": {},
   "source": [
    "The scalar elements in the resulting matrix are calculated as the subtraction of the elements in each of the matrices."
   ]
  },
  {
   "cell_type": "code",
   "execution_count": null,
   "metadata": {
    "collapsed": true
   },
   "outputs": [],
   "source": [
    "         a11 - b11, a12 - b12\n",
    "A - B = (a21 - b21, a22 - b22)\n",
    "         a31 - b31, a32 - b32"
   ]
  },
  {
   "cell_type": "markdown",
   "metadata": {},
   "source": [
    "Or, put another way:"
   ]
  },
  {
   "cell_type": "code",
   "execution_count": null,
   "metadata": {
    "collapsed": true
   },
   "outputs": [],
   "source": [
    "C[0,0] = A[0,0] - B[0,0]\n",
    "C[1,0] = A[1,0] - B[1,0]\n",
    "C[2,0] = A[2,0] - B[2,0]\n",
    "C[0,1] = A[0,1] - B[0,1]\n",
    "C[1,1] = A[1,1] - B[1,1]\n",
    "C[2,1] = A[2,1] - B[2,1]"
   ]
  },
  {
   "cell_type": "markdown",
   "metadata": {},
   "source": [
    "We can implement this in python using the minus operator directly on the two NumPy arrays."
   ]
  },
  {
   "cell_type": "code",
   "execution_count": 3,
   "metadata": {},
   "outputs": [
    {
     "name": "stdout",
     "output_type": "stream",
     "text": [
      "[[1 2 3]\n",
      " [4 5 6]]\n",
      "[[0.5 0.5 0.5]\n",
      " [0.5 0.5 0.5]]\n",
      "[[0.5 1.5 2.5]\n",
      " [3.5 4.5 5.5]]\n"
     ]
    }
   ],
   "source": [
    "# subtract matrices\n",
    "from numpy import array\n",
    "A = array([[1, 2, 3], [4, 5, 6]])\n",
    "print(A)\n",
    "B = array([[0.5, 0.5, 0.5], [0.5, 0.5, 0.5]])\n",
    "print(B)\n",
    "C = A - B\n",
    "print(C)"
   ]
  },
  {
   "cell_type": "markdown",
   "metadata": {},
   "source": [
    "The example first defines two 2×3 matrices and then subtracts one from the other.\n",
    "\n",
    "Running the example first prints the two parent matrices and then subtracts the first matrix from the second.\n",
    "\n",
    "### Matrix Multiplication (Hadamard Product)\n",
    "Two matrices with the same size can be multiplied together, and this is often called element-wise matrix multiplication or the Hadamard product.\n",
    "\n",
    "It is not the typical operation meant when referring to matrix multiplication, therefore a different operator is often used, such as a circle “o”."
   ]
  },
  {
   "cell_type": "code",
   "execution_count": null,
   "metadata": {
    "collapsed": true
   },
   "outputs": [],
   "source": [
    "C = A o B"
   ]
  },
  {
   "cell_type": "markdown",
   "metadata": {},
   "source": [
    "As with element-wise subtraction and addition, element-wise multiplication involves the multiplication of elements from each parent matrix to calculate the values in the new matrix."
   ]
  },
  {
   "cell_type": "code",
   "execution_count": null,
   "metadata": {
    "collapsed": true
   },
   "outputs": [],
   "source": [
    "         a11 * b11, a12 * b12\n",
    "A o B = (a21 * b21, a22 * b22)\n",
    "         a31 * b31, a32 * b32"
   ]
  },
  {
   "cell_type": "markdown",
   "metadata": {},
   "source": [
    "Or, put another way:"
   ]
  },
  {
   "cell_type": "code",
   "execution_count": null,
   "metadata": {
    "collapsed": true
   },
   "outputs": [],
   "source": [
    "C[0,0] = A[0,0] * B[0,0]\n",
    "C[1,0] = A[1,0] * B[1,0]\n",
    "C[2,0] = A[2,0] * B[2,0]\n",
    "C[0,1] = A[0,1] * B[0,1]\n",
    "C[1,1] = A[1,1] * B[1,1]\n",
    "C[2,1] = A[2,1] * B[2,1]"
   ]
  },
  {
   "cell_type": "markdown",
   "metadata": {},
   "source": [
    "We can implement this in python using the star operator directly on the two NumPy arrays."
   ]
  },
  {
   "cell_type": "code",
   "execution_count": 4,
   "metadata": {},
   "outputs": [
    {
     "name": "stdout",
     "output_type": "stream",
     "text": [
      "[[1 2 3]\n",
      " [4 5 6]]\n",
      "[[1 2 3]\n",
      " [4 5 6]]\n",
      "[[ 1  4  9]\n",
      " [16 25 36]]\n"
     ]
    }
   ],
   "source": [
    "# element-wise multiply matrices\n",
    "from numpy import array\n",
    "A = array([[1, 2, 3], [4, 5, 6]])\n",
    "print(A)\n",
    "B = array([[1, 2, 3], [4, 5, 6]])\n",
    "print(B)\n",
    "C = A * B\n",
    "print(C)"
   ]
  },
  {
   "cell_type": "markdown",
   "metadata": {},
   "source": [
    "The example first defines two 2×3 matrices and then multiplies them together.\n",
    "\n",
    "Running the example first prints the two parent matrices and then the result of multiplying them together with a Hadamard Product.\n",
    "\n",
    "### Matrix Division\n",
    "One matrix can be divided by another matrix with the same dimensions."
   ]
  },
  {
   "cell_type": "code",
   "execution_count": null,
   "metadata": {
    "collapsed": true
   },
   "outputs": [],
   "source": [
    "C = A / B"
   ]
  },
  {
   "cell_type": "markdown",
   "metadata": {},
   "source": [
    "The scalar elements in the resulting matrix are calculated as the division of the elements in each of the matrices."
   ]
  },
  {
   "cell_type": "code",
   "execution_count": null,
   "metadata": {
    "collapsed": true
   },
   "outputs": [],
   "source": [
    "         a11 / b11, a12 / b12\n",
    "A / B = (a21 / b21, a22 / b22)\n",
    "         a31 / b31, a32 / b32"
   ]
  },
  {
   "cell_type": "markdown",
   "metadata": {},
   "source": [
    "Or, put another way:"
   ]
  },
  {
   "cell_type": "code",
   "execution_count": null,
   "metadata": {
    "collapsed": true
   },
   "outputs": [],
   "source": [
    "C[0,0] = A[0,0] / B[0,0]\n",
    "C[1,0] = A[1,0] / B[1,0]\n",
    "C[2,0] = A[2,0] / B[2,0]\n",
    "C[0,1] = A[0,1] / B[0,1]\n",
    "C[1,1] = A[1,1] / B[1,1]\n",
    "C[2,1] = A[2,1] / B[2,1]"
   ]
  },
  {
   "cell_type": "markdown",
   "metadata": {},
   "source": [
    "We can implement this in python using the division operator directly on the two NumPy arrays."
   ]
  },
  {
   "cell_type": "code",
   "execution_count": 5,
   "metadata": {},
   "outputs": [
    {
     "name": "stdout",
     "output_type": "stream",
     "text": [
      "[[1 2 3]\n",
      " [4 5 6]]\n",
      "[[1 2 3]\n",
      " [4 5 6]]\n",
      "[[1 1 1]\n",
      " [1 1 1]]\n"
     ]
    }
   ],
   "source": [
    "# divide matrices\n",
    "from numpy import array\n",
    "A = array([[1, 2, 3], [4, 5, 6]])\n",
    "print(A)\n",
    "B = array([[1, 2, 3], [4, 5, 6]])\n",
    "print(B)\n",
    "C = A / B\n",
    "print(C)"
   ]
  },
  {
   "cell_type": "markdown",
   "metadata": {},
   "source": [
    "The example first defines two 2×3 matrices and then divides the first from the second matrix.\n",
    "\n",
    "Running the example first prints the two parent matrices and then divides the first matrix by the second.\n",
    "\n",
    "## Matrix-Matrix Multiplication (Dot Product)\n",
    "Matrix multiplication, also called the matrix dot product is more complicated than the previous operations and involves a rule as not all matrices can be multiplied together."
   ]
  },
  {
   "cell_type": "code",
   "execution_count": null,
   "metadata": {
    "collapsed": true
   },
   "outputs": [],
   "source": [
    "C = A * B"
   ]
  },
  {
   "cell_type": "markdown",
   "metadata": {},
   "source": [
    "or"
   ]
  },
  {
   "cell_type": "code",
   "execution_count": null,
   "metadata": {
    "collapsed": true
   },
   "outputs": [],
   "source": [
    "C = AB"
   ]
  },
  {
   "cell_type": "markdown",
   "metadata": {},
   "source": [
    "The rule for matrix multiplication is as follows:\n",
    "\n",
    "* The number of columns (n) in the first matrix (A) must equal the number of rows (m) in the second matrix (B).\n",
    "\n",
    "For example, matrix A has the dimensions m rows and n columns and matrix B has the dimensions n and k. The n columns in A and n rows b are equal. The result is a new matrix with m rows and k columns."
   ]
  },
  {
   "cell_type": "code",
   "execution_count": null,
   "metadata": {
    "collapsed": true
   },
   "outputs": [],
   "source": [
    "C(m,k) = A(m,n) * B(n,k)"
   ]
  },
  {
   "cell_type": "markdown",
   "metadata": {},
   "source": [
    "This rule applies for a chain of matrix multiplications where the number of columns in one matrix in the chain must match the number of rows in the following matrix in the chain.\n",
    "\n",
    "The intuition for the matrix multiplication is that we are calculating the dot product between each row in matrix A with each column in matrix B. For example, we can step down rows of column A and multiply each with column 1 in B to give the scalar values in column 1 of C.\n",
    "\n",
    "Below describes the matrix multiplication using matrix notation."
   ]
  },
  {
   "cell_type": "code",
   "execution_count": null,
   "metadata": {
    "collapsed": true
   },
   "outputs": [],
   "source": [
    "     a11, a12\n",
    "A = (a21, a22)\n",
    "     a31, a32\n",
    " \n",
    "     b11, b12\n",
    "B = (b21, b22)\n",
    " \n",
    "     a11 * b11 + a12 * b21, a11 * b12 + a12 * b22\n",
    "C = (a21 * b11 + a22 * b21, a21 * b12 + a22 * b22)\n",
    "     a31 * b11 + a32 * b21, a31 * b12 + a32 * b22"
   ]
  },
  {
   "cell_type": "markdown",
   "metadata": {},
   "source": [
    "This can be simplified by removing the multiplication signs as:"
   ]
  },
  {
   "cell_type": "code",
   "execution_count": null,
   "metadata": {
    "collapsed": true
   },
   "outputs": [],
   "source": [
    "     a11b11 + a12b21, a11b12 + a12b22\n",
    "C = (a21b11 + a22b21, a21b12 + a22b22)\n",
    "     a31b11 + a32b21, a31b12 + a32b22"
   ]
  },
  {
   "cell_type": "markdown",
   "metadata": {},
   "source": [
    "We can describe the matrix multiplication operation using array notation."
   ]
  },
  {
   "cell_type": "code",
   "execution_count": null,
   "metadata": {
    "collapsed": true
   },
   "outputs": [],
   "source": [
    "C[0,0] = A[0,0] * B[0,0] + A[0,1] * B[1,0]\n",
    "C[1,0] = A[1,0] * B[0,0] + A[1,1] * B[1,0]\n",
    "C[2,0] = A[2,0] * B[0,0] + A[2,1] * B[1,0]\n",
    "C[0,1] = A[0,0] * B[0,1] + A[0,1] * B[1,1]\n",
    "C[1,1] = A[1,0] * B[0,1] + A[1,1] * B[1,1]\n",
    "C[2,1] = A[2,0] * B[0,1] + A[2,1] * B[1,1]"
   ]
  },
  {
   "cell_type": "markdown",
   "metadata": {},
   "source": [
    "The matrix multiplication operation can be implemented in NumPy using the dot() function."
   ]
  },
  {
   "cell_type": "code",
   "execution_count": 6,
   "metadata": {},
   "outputs": [
    {
     "name": "stdout",
     "output_type": "stream",
     "text": [
      "[[1 2]\n",
      " [3 4]\n",
      " [5 6]]\n",
      "[[1 2]\n",
      " [3 4]]\n",
      "[[ 7 10]\n",
      " [15 22]\n",
      " [23 34]]\n"
     ]
    }
   ],
   "source": [
    "# matrix dot product\n",
    "from numpy import array\n",
    "A = array([[1, 2], [3, 4], [5, 6]])\n",
    "print(A)\n",
    "B = array([[1, 2], [3, 4]])\n",
    "print(B)\n",
    "C = A.dot(B)\n",
    "print(C)"
   ]
  },
  {
   "cell_type": "markdown",
   "metadata": {},
   "source": [
    "The example first defines two 2×3 matrices and then calculates their dot product.\n",
    "\n",
    "Running the example first prints the two parent matrices and then the result of the dot product.\n",
    "\n",
    "## Matrix-Vector Multiplication\n",
    "A matrix and a vector can be multiplied together as long as the rule of matrix multiplication is observed.\n",
    "\n",
    "Specifically, that the number of columns in the matrix must equal the number of items in the vector. As with matrix multiplication, the operation can be written using the dot notation. Because the vector only has one column, the result is always a vector."
   ]
  },
  {
   "cell_type": "code",
   "execution_count": null,
   "metadata": {
    "collapsed": true
   },
   "outputs": [],
   "source": [
    "c = A . v"
   ]
  },
  {
   "cell_type": "markdown",
   "metadata": {},
   "source": [
    "Or without the dot in a compact form."
   ]
  },
  {
   "cell_type": "code",
   "execution_count": null,
   "metadata": {
    "collapsed": true
   },
   "outputs": [],
   "source": [
    "c = Av"
   ]
  },
  {
   "cell_type": "markdown",
   "metadata": {},
   "source": [
    "The result is a vector with the same number of rows as the parent matrix."
   ]
  },
  {
   "cell_type": "code",
   "execution_count": null,
   "metadata": {
    "collapsed": true
   },
   "outputs": [],
   "source": [
    "     a11, a12\n",
    "A = (a21, a22)\n",
    "     a31, a32\n",
    " \n",
    "     v1\n",
    "v = (v2)\n",
    " \n",
    "     a11 * v1 + a12 * v2\n",
    "c = (a21 * v1 + a22 * v2)\n",
    "     a31 * v1 + a32 * v2"
   ]
  },
  {
   "cell_type": "markdown",
   "metadata": {},
   "source": [
    "Or, more compactly."
   ]
  },
  {
   "cell_type": "code",
   "execution_count": null,
   "metadata": {
    "collapsed": true
   },
   "outputs": [],
   "source": [
    "     a11v1 + a12v2\n",
    "c = (a21v1 + a22v2)\n",
    "     a31v1 + a32v2"
   ]
  },
  {
   "cell_type": "markdown",
   "metadata": {},
   "source": [
    "The matrix-vector multiplication can be implemented in NumPy using the dot() function."
   ]
  },
  {
   "cell_type": "code",
   "execution_count": 7,
   "metadata": {},
   "outputs": [
    {
     "name": "stdout",
     "output_type": "stream",
     "text": [
      "[[1 2]\n",
      " [3 4]\n",
      " [5 6]]\n",
      "[0.5 0.5]\n",
      "[1.5 3.5 5.5]\n"
     ]
    }
   ],
   "source": [
    "# matrix-vector multiplication\n",
    "from numpy import array\n",
    "A = array([[1, 2], [3, 4], [5, 6]])\n",
    "print(A)\n",
    "B = array([0.5, 0.5])\n",
    "print(B)\n",
    "C = A.dot(B)\n",
    "print(C)"
   ]
  },
  {
   "cell_type": "markdown",
   "metadata": {},
   "source": [
    "The example first defines a 2×3 matrix and a 2 element vector and then multiplies them together.\n",
    "\n",
    "Running the example first prints the parent matrix and vector and then the result of multiplying them together.\n",
    "\n",
    "## Matrix-Scalar Multiplication\n",
    "A matrix can be multiplied by a scalar.\n",
    "\n",
    "This can be represented using the dot notation between the matrix and the scalar."
   ]
  },
  {
   "cell_type": "code",
   "execution_count": null,
   "metadata": {
    "collapsed": true
   },
   "outputs": [],
   "source": [
    "C = A . b"
   ]
  },
  {
   "cell_type": "markdown",
   "metadata": {},
   "source": [
    "Or without the dot notation."
   ]
  },
  {
   "cell_type": "code",
   "execution_count": null,
   "metadata": {
    "collapsed": true
   },
   "outputs": [],
   "source": [
    "C = Ab"
   ]
  },
  {
   "cell_type": "markdown",
   "metadata": {},
   "source": [
    "The result is a matrix with the same size as the parent matrix where each element of the matrix is multiplied by the scalar value."
   ]
  },
  {
   "cell_type": "code",
   "execution_count": null,
   "metadata": {
    "collapsed": true
   },
   "outputs": [],
   "source": [
    "     a11, a12\n",
    "A = (a21, a22)\n",
    "     a31, a32\n",
    " \n",
    "b\n",
    " \n",
    "     a11 * b, a12 * b\n",
    "C = (a21 * b, a22 * b)\n",
    "     a31 * b, a32 * b"
   ]
  },
  {
   "cell_type": "markdown",
   "metadata": {},
   "source": [
    "or"
   ]
  },
  {
   "cell_type": "code",
   "execution_count": null,
   "metadata": {
    "collapsed": true
   },
   "outputs": [],
   "source": [
    "     a11b, a12b\n",
    "C = (a21b, a22b)\n",
    "     a31b, a32b"
   ]
  },
  {
   "cell_type": "markdown",
   "metadata": {},
   "source": [
    "We can also represent this with array notation."
   ]
  },
  {
   "cell_type": "code",
   "execution_count": null,
   "metadata": {
    "collapsed": true
   },
   "outputs": [],
   "source": [
    "C[0,0] = A[0,0] * b\n",
    "C[1,0] = A[1,0] * b\n",
    "C[2,0] = A[2,0] * b\n",
    "C[0,1] = A[0,1] * b\n",
    "C[1,1] = A[1,1] * b\n",
    "C[2,1] = A[2,1] * b"
   ]
  },
  {
   "cell_type": "markdown",
   "metadata": {},
   "source": [
    "This can be implemented directly in NumPy with the multiplication operator."
   ]
  },
  {
   "cell_type": "code",
   "execution_count": 8,
   "metadata": {},
   "outputs": [
    {
     "name": "stdout",
     "output_type": "stream",
     "text": [
      "[[1 2]\n",
      " [3 4]\n",
      " [5 6]]\n",
      "0.5\n",
      "[[0.5 1. ]\n",
      " [1.5 2. ]\n",
      " [2.5 3. ]]\n"
     ]
    }
   ],
   "source": [
    "# matrix-scalar multiplication\n",
    "from numpy import array\n",
    "A = array([[1, 2], [3, 4], [5, 6]])\n",
    "print(A)\n",
    "b = 0.5\n",
    "print(b)\n",
    "C = A * b\n",
    "print(C)"
   ]
  },
  {
   "cell_type": "markdown",
   "metadata": {},
   "source": [
    "The example first defines a 2×3 matrix and a scalar and then multiplies them together.\n",
    "\n",
    "Running the example first prints the parent matrix and scalar and then the result of multiplying them together.\n",
    "\n",
    "## Summary\n",
    "In this tutorial, you discovered matrices in linear algebra and how to manipulate them in Python.\n",
    "\n",
    "Specifically, you learned:\n",
    "\n",
    "* What a matrix is and how to define one in Python with NumPy.\n",
    "* How to perform element-wise operations such as addition, subtraction, and the Hadamard product.\n",
    "* How to multiply matrices together and the intuition behind the operation."
   ]
  }
 ],
 "metadata": {
  "kernelspec": {
   "display_name": "Python 2",
   "language": "python",
   "name": "python2"
  },
  "language_info": {
   "codemirror_mode": {
    "name": "ipython",
    "version": 2
   },
   "file_extension": ".py",
   "mimetype": "text/x-python",
   "name": "python",
   "nbconvert_exporter": "python",
   "pygments_lexer": "ipython2",
   "version": "2.7.14"
  }
 },
 "nbformat": 4,
 "nbformat_minor": 2
}
