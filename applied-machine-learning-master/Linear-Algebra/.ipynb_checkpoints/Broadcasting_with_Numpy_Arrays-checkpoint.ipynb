{
 "cells": [
  {
   "cell_type": "markdown",
   "metadata": {},
   "source": [
    "# A Gentle Introduction to Broadcasting with NumPy Arrays\n",
    "Arrays with different sizes cannot be added, subtracted, or generally be used in arithmetic.\n",
    "\n",
    "A way to overcome this is to duplicate the smaller array so that it is the dimensionality and size as the larger array. This is called array broadcasting and is available in NumPy when performing array arithmetic, which can greatly reduce and simplify your code.\n",
    "\n",
    "In this tutorial, you will discover the concept of array broadcasting and how to implement it in NumPy.\n",
    "\n",
    "After completing this tutorial, you will know:\n",
    "\n",
    "* The problem of arithmetic with arrays with different sizes.\n",
    "* The solution of broadcasting and common examples in one and two dimensions.\n",
    "* The rule of array broadcasting and when broadcasting fails.\n",
    "\n",
    "Let’s get started."
   ]
  },
  {
   "cell_type": "markdown",
   "metadata": {},
   "source": [
    "## Tutorial Overview\n",
    "This tutorial is divided into 4 parts; they are:\n",
    "\n",
    "1. Limitation with Array Arithmetic\n",
    "2. Array Broadcasting\n",
    "3. Broadcasting in NumPy\n",
    "4. Limitations of Broadcasting"
   ]
  },
  {
   "cell_type": "markdown",
   "metadata": {},
   "source": [
    "## Limitation with Array Arithmetic\n",
    "You can perform arithmetic directly on NumPy arrays, such as addition and subtraction.\n",
    "\n",
    "For example, two arrays can be added together to create a new array where the values at each index are added together.\n",
    "\n",
    "For example, an array a can be defined as [1, 2, 3] and array b can be defined as [1, 2, 3] and adding together will result in a new array with the values [2, 4, 6]."
   ]
  },
  {
   "cell_type": "code",
   "execution_count": null,
   "metadata": {
    "collapsed": true
   },
   "outputs": [],
   "source": [
    "a = [1, 2, 3]\n",
    "b = [1, 2, 3]\n",
    "c = a + b\n",
    "c = [1 + 1, 2 + 2, 3 + 3]"
   ]
  },
  {
   "cell_type": "markdown",
   "metadata": {},
   "source": [
    "Strictly, arithmetic may only be performed on arrays that have the same dimensions and dimensions with the same size.\n",
    "\n",
    "This means that a one-dimensional array with the length of 10 can only perform arithmetic with another one-dimensional array with the length 10.\n",
    "\n",
    "This limitation on array arithmetic is quite limiting indeed. Thankfully, NumPy provides a built-in workaround to allow arithmetic between arrays with differing sizes."
   ]
  },
  {
   "cell_type": "markdown",
   "metadata": {},
   "source": [
    "## Array Broadcasting\n",
    "Broadcasting is the name given to the method that NumPy uses to allow array arithmetic between arrays with a different shape or size.\n",
    "\n",
    "Although the technique was developed for NumPy, it has also been adopted more broadly in other numerical computational libraries, such as Theano, TensorFlow, and Octave.\n",
    "\n",
    "Broadcasting solves the problem of arithmetic between arrays of differing shapes by in effect replicating the smaller array along the last mismatched dimension.\n",
    "\n",
    "NumPy does not actually duplicate the smaller array; instead, it makes memory and computationally efficient use of existing structures in memory that in effect achieve the same result.\n",
    "\n",
    "The concept has also permeated linear algebra notation to simplify the explanation of simple operations."
   ]
  },
  {
   "cell_type": "markdown",
   "metadata": {},
   "source": [
    "## Broadcasting in NumPy\n",
    "We can make broadcasting concrete by looking at three examples in NumPy.\n",
    "\n",
    "The examples in this section are not exhaustive, but instead are common to the types of broadcasting you may see or implement.\n",
    "\n",
    "### Scalar and One-Dimensional Array\n",
    "A single value or scalar can be used in arithmetic with a one-dimensional array.\n",
    "\n",
    "For example, we can imagine a one-dimensional array “a” with three values [a1, a2, a3] added to a scalar “b”."
   ]
  },
  {
   "cell_type": "code",
   "execution_count": null,
   "metadata": {
    "collapsed": true
   },
   "outputs": [],
   "source": [
    "a = [a1, a2, a3]\n",
    "b"
   ]
  },
  {
   "cell_type": "markdown",
   "metadata": {},
   "source": [
    "The scalar will need to be broadcast across the one-dimensional array by duplicating the value it 2 more times."
   ]
  },
  {
   "cell_type": "code",
   "execution_count": null,
   "metadata": {
    "collapsed": true
   },
   "outputs": [],
   "source": [
    "b = [b1, b2, b3]"
   ]
  },
  {
   "cell_type": "markdown",
   "metadata": {},
   "source": [
    "The two one-dimensional arrays can then be added directly."
   ]
  },
  {
   "cell_type": "code",
   "execution_count": null,
   "metadata": {
    "collapsed": true
   },
   "outputs": [],
   "source": [
    "c = a + b\n",
    "c = [a1 + b1, a2 + b2, a3 + b3]"
   ]
  },
  {
   "cell_type": "markdown",
   "metadata": {},
   "source": [
    "The example below demonstrates this in NumPy."
   ]
  },
  {
   "cell_type": "code",
   "execution_count": 1,
   "metadata": {},
   "outputs": [
    {
     "name": "stdout",
     "output_type": "stream",
     "text": [
      "[1 2 3]\n",
      "2\n",
      "[3 4 5]\n"
     ]
    }
   ],
   "source": [
    "# scalar and one-dimensional\n",
    "from numpy import array\n",
    "a = array([1, 2, 3])\n",
    "print(a)\n",
    "b = 2\n",
    "print(b)\n",
    "c = a + b\n",
    "print(c)"
   ]
  },
  {
   "cell_type": "markdown",
   "metadata": {},
   "source": [
    "Running the example first prints the defined one-dimensional array, then the scalar, followed by the result where the scalar is added to each value in the array.\n",
    "\n",
    "### Scalar and Two-Dimensional Array\n",
    "A scalar value can be used in arithmetic with a two-dimensional array.\n",
    "\n",
    "For example, we can imagine a two-dimensional array “A” with 2 rows and 3 columns added to the scalar “b”."
   ]
  },
  {
   "cell_type": "code",
   "execution_count": null,
   "metadata": {
    "collapsed": true
   },
   "outputs": [],
   "source": [
    "     a11, a12, a13\n",
    "A = (a21, a22, a23)\n",
    " \n",
    "b"
   ]
  },
  {
   "cell_type": "markdown",
   "metadata": {},
   "source": [
    "The scalar will need to be broadcast across each row of the two-dimensional array by duplicating it 5 more times."
   ]
  },
  {
   "cell_type": "code",
   "execution_count": null,
   "metadata": {
    "collapsed": true
   },
   "outputs": [],
   "source": [
    "     b11, b12, b13\n",
    "B = (b21, b22, b23)"
   ]
  },
  {
   "cell_type": "markdown",
   "metadata": {},
   "source": [
    "The two two-dimensional arrays can then be added directly."
   ]
  },
  {
   "cell_type": "code",
   "execution_count": null,
   "metadata": {
    "collapsed": true
   },
   "outputs": [],
   "source": [
    "C = A + B\n",
    " \n",
    "     a11 + b11, a12 + b12, a13 + b13\n",
    "C = (a21 + b21, a22 + b22, a23 + b23)"
   ]
  },
  {
   "cell_type": "markdown",
   "metadata": {},
   "source": [
    "The example below demonstrates this in NumPy."
   ]
  },
  {
   "cell_type": "code",
   "execution_count": 2,
   "metadata": {},
   "outputs": [
    {
     "name": "stdout",
     "output_type": "stream",
     "text": [
      "[[1 2 3]\n",
      " [1 2 3]]\n",
      "2\n",
      "[[3 4 5]\n",
      " [3 4 5]]\n"
     ]
    }
   ],
   "source": [
    "# scalar and two-dimensional\n",
    "from numpy import array\n",
    "A = array([[1, 2, 3], [1, 2, 3]])\n",
    "print(A)\n",
    "b = 2\n",
    "print(b)\n",
    "C = A + b\n",
    "print(C)"
   ]
  },
  {
   "cell_type": "markdown",
   "metadata": {},
   "source": [
    "Running the example first prints the defined two-dimensional array, then the scalar, then the result of the addition with the value “2” added to each value in the array.\n",
    "\n",
    "### One-Dimensional and Two-Dimensional Arrays\n",
    "A one-dimensional array can be used in arithmetic with a two-dimensional array.\n",
    "\n",
    "For example, we can imagine a two-dimensional array “A” with 2 rows and 3 columns added to a one-dimensional array “b” with 3 values."
   ]
  },
  {
   "cell_type": "code",
   "execution_count": null,
   "metadata": {
    "collapsed": true
   },
   "outputs": [],
   "source": [
    "     a11, a12, a13\n",
    "A = (a21, a22, a23)\n",
    " \n",
    "b = (b1, b2, b3)"
   ]
  },
  {
   "cell_type": "markdown",
   "metadata": {},
   "source": [
    "The one-dimensional array is broadcast across each row of the two-dimensional array by creating a second copy to result in a new two-dimensional array “B”."
   ]
  },
  {
   "cell_type": "code",
   "execution_count": null,
   "metadata": {
    "collapsed": true
   },
   "outputs": [],
   "source": [
    "    b11, b12, b13\n",
    "B = (b21, b22, b23)"
   ]
  },
  {
   "cell_type": "markdown",
   "metadata": {},
   "source": [
    "The two two-dimensional arrays can then be added directly."
   ]
  },
  {
   "cell_type": "code",
   "execution_count": null,
   "metadata": {
    "collapsed": true
   },
   "outputs": [],
   "source": [
    "C = A + B\n",
    " \n",
    "     a11 + b11, a12 + b12, a13 + b13\n",
    "C = (a21 + b21, a22 + b22, a23 + b23)"
   ]
  },
  {
   "cell_type": "markdown",
   "metadata": {},
   "source": [
    "Below is a worked example in NumPy."
   ]
  },
  {
   "cell_type": "code",
   "execution_count": 3,
   "metadata": {},
   "outputs": [
    {
     "name": "stdout",
     "output_type": "stream",
     "text": [
      "[[1 2 3]\n",
      " [1 2 3]]\n",
      "[1 2 3]\n",
      "[[2 4 6]\n",
      " [2 4 6]]\n"
     ]
    }
   ],
   "source": [
    "# one-dimensional and two-dimensional\n",
    "from numpy import array\n",
    "A = array([[1, 2, 3], [1, 2, 3]])\n",
    "print(A)\n",
    "b = array([1, 2, 3])\n",
    "print(b)\n",
    "C = A + b\n",
    "print(C)"
   ]
  },
  {
   "cell_type": "markdown",
   "metadata": {},
   "source": [
    "Running the example first prints the defined two-dimensional array, then the defined one-dimensional array, followed by the result C where in effect each value in the two-dimensional array is doubled.\n",
    "\n",
    "## Limitations of Broadcasting\n",
    "Broadcasting is a handy shortcut that proves very useful in practice when working with NumPy arrays.\n",
    "\n",
    "That being said, it does not work for all cases, and in fact imposes a strict rule that must be satisfied for broadcasting to be performed.\n",
    "\n",
    "Arithmetic, including broadcasting, can only be performed when the shape of each dimension in the arrays are equal or one has the dimension size of 1. The dimensions are considered in reverse order, starting with the trailing dimension; for example, looking at columns before rows in a two-dimensional case.\n",
    "\n",
    "This make more sense when we consider that NumPy will in effect pad missing dimensions with a size of “1” when comparing arrays.\n",
    "\n",
    "Therefore, the comparison between a two-dimensional array “A” with 2 rows and 3 columns and a vector “b” with 3 elements:"
   ]
  },
  {
   "cell_type": "code",
   "execution_count": null,
   "metadata": {
    "collapsed": true
   },
   "outputs": [],
   "source": [
    "A.shape = (2 x 3)\n",
    "b.shape = (3)"
   ]
  },
  {
   "cell_type": "markdown",
   "metadata": {},
   "source": [
    "In effect, this becomes a comparison between:"
   ]
  },
  {
   "cell_type": "code",
   "execution_count": null,
   "metadata": {
    "collapsed": true
   },
   "outputs": [],
   "source": [
    "A.shape = (2 x 3)\n",
    "b.shape = (1 x 3)"
   ]
  },
  {
   "cell_type": "markdown",
   "metadata": {},
   "source": [
    "This same notion applies to the comparison between a scalar that is treated as an array with the required number of dimensions:"
   ]
  },
  {
   "cell_type": "code",
   "execution_count": null,
   "metadata": {
    "collapsed": true
   },
   "outputs": [],
   "source": [
    "A.shape = (2 x 3)\n",
    "b.shape = (1)"
   ]
  },
  {
   "cell_type": "markdown",
   "metadata": {},
   "source": [
    "This becomes a comparison between:"
   ]
  },
  {
   "cell_type": "code",
   "execution_count": null,
   "metadata": {
    "collapsed": true
   },
   "outputs": [],
   "source": [
    "A.shape = (2 x 3)\n",
    "b.shape = (1 x 1)"
   ]
  },
  {
   "cell_type": "markdown",
   "metadata": {},
   "source": [
    "When the comparison fails, the broadcast cannot be performed, and an error is raised.\n",
    "\n",
    "The example below attempts to broadcast a two-element array to a 2 x 3 array. This comparison is in effect:"
   ]
  },
  {
   "cell_type": "code",
   "execution_count": null,
   "metadata": {
    "collapsed": true
   },
   "outputs": [],
   "source": [
    "A.shape = (2 x 3)\n",
    "b.shape = (1 x 2)"
   ]
  },
  {
   "cell_type": "markdown",
   "metadata": {},
   "source": [
    "We can see that the last dimensions (columns) do not match and we would expect the broadcast to fail.\n",
    "\n",
    "The example below demonstrates this in NumPy."
   ]
  },
  {
   "cell_type": "code",
   "execution_count": 4,
   "metadata": {},
   "outputs": [
    {
     "name": "stdout",
     "output_type": "stream",
     "text": [
      "(2, 3)\n",
      "(2,)\n"
     ]
    },
    {
     "ename": "ValueError",
     "evalue": "operands could not be broadcast together with shapes (2,3) (2,) ",
     "output_type": "error",
     "traceback": [
      "\u001b[0;31m---------------------------------------------------------------------------\u001b[0m",
      "\u001b[0;31mValueError\u001b[0m                                Traceback (most recent call last)",
      "\u001b[0;32m<ipython-input-4-fab9c5d972cd>\u001b[0m in \u001b[0;36m<module>\u001b[0;34m()\u001b[0m\n\u001b[1;32m      5\u001b[0m \u001b[0mb\u001b[0m \u001b[0;34m=\u001b[0m \u001b[0marray\u001b[0m\u001b[0;34m(\u001b[0m\u001b[0;34m[\u001b[0m\u001b[0;36m1\u001b[0m\u001b[0;34m,\u001b[0m \u001b[0;36m2\u001b[0m\u001b[0;34m]\u001b[0m\u001b[0;34m)\u001b[0m\u001b[0;34m\u001b[0m\u001b[0m\n\u001b[1;32m      6\u001b[0m \u001b[0;32mprint\u001b[0m\u001b[0;34m(\u001b[0m\u001b[0mb\u001b[0m\u001b[0;34m.\u001b[0m\u001b[0mshape\u001b[0m\u001b[0;34m)\u001b[0m\u001b[0;34m\u001b[0m\u001b[0m\n\u001b[0;32m----> 7\u001b[0;31m \u001b[0mC\u001b[0m \u001b[0;34m=\u001b[0m \u001b[0mA\u001b[0m \u001b[0;34m+\u001b[0m \u001b[0mb\u001b[0m\u001b[0;34m\u001b[0m\u001b[0m\n\u001b[0m\u001b[1;32m      8\u001b[0m \u001b[0;32mprint\u001b[0m\u001b[0;34m(\u001b[0m\u001b[0mC\u001b[0m\u001b[0;34m)\u001b[0m\u001b[0;34m\u001b[0m\u001b[0m\n",
      "\u001b[0;31mValueError\u001b[0m: operands could not be broadcast together with shapes (2,3) (2,) "
     ]
    }
   ],
   "source": [
    "# broadcasting error\n",
    "from numpy import array\n",
    "A = array([[1, 2, 3], [1, 2, 3]])\n",
    "print(A.shape)\n",
    "b = array([1, 2])\n",
    "print(b.shape)\n",
    "C = A + b\n",
    "print(C)"
   ]
  },
  {
   "cell_type": "markdown",
   "metadata": {},
   "source": [
    "Running the example first prints the shapes of the arrays then raises an error when attempting to broadcast, as we expected.\n",
    "\n",
    "## Summary\n",
    "In this tutorial, you discovered the concept of array broadcasting and how to implement in NumPy.\n",
    "\n",
    "Specifically, you learned:\n",
    "\n",
    "* The problem of arithmetic with arrays with different sizes.\n",
    "* The solution of broadcasting and common examples in one and two dimensions.\n",
    "* The rule of array broadcasting and when broadcasting fails."
   ]
  }
 ],
 "metadata": {
  "kernelspec": {
   "display_name": "Python 2",
   "language": "python",
   "name": "python2"
  },
  "language_info": {
   "codemirror_mode": {
    "name": "ipython",
    "version": 2
   },
   "file_extension": ".py",
   "mimetype": "text/x-python",
   "name": "python",
   "nbconvert_exporter": "python",
   "pygments_lexer": "ipython2",
   "version": "2.7.14"
  }
 },
 "nbformat": 4,
 "nbformat_minor": 2
}
