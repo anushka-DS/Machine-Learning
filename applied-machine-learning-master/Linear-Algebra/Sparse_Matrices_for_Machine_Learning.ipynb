{
 "cells": [
  {
   "cell_type": "markdown",
   "metadata": {},
   "source": [
    "# A Gentle Introduction to Sparse Matrices for Machine Learning\n",
    "Matrices that contain mostly zero values are called sparse, distinct from matrices where most of the values are non-zero, called dense.\n",
    "\n",
    "Large sparse matrices are common in general and especially in applied machine learning, such as in data that contains counts, data encodings that map categories to counts, and even in whole subfields of machine learning such as natural language processing.\n",
    "\n",
    "It is computationally expensive to represent and work with sparse matrices as though they are dense, and much improvement in performance can be achieved by using representations and operations that specifically handle the matrix sparsity.\n",
    "\n",
    "In this tutorial, you will discover sparse matrices, the issues they present, and how to work with them directly in Python.\n",
    "\n",
    "After completing this tutorial, you will know:\n",
    "\n",
    "* That sparse matrices contain mostly zero values and are distinct from dense matrices.\n",
    "* The myriad of areas where you are likely to encounter sparse matrices in data, data preparation, and sub-fields of machine learning.\n",
    "* That there are many efficient ways to store and work with sparse matrices and SciPy provides implementations that you can use directly.\n",
    "\n",
    "Let’s get started."
   ]
  },
  {
   "cell_type": "markdown",
   "metadata": {},
   "source": [
    "## Tutorial Overview\n",
    "This tutorial is divided into 5 parts; they are:\n",
    "\n",
    "* Sparse Matrix\n",
    "* Problems with Sparsity\n",
    "* Sparse Matrices in Machine Learning\n",
    "* Working with Sparse Matrices\n",
    "* Sparse Matrices in Python"
   ]
  },
  {
   "cell_type": "markdown",
   "metadata": {},
   "source": [
    "## Sparse Matrix\n",
    "A sparse matrix is a matrix that is comprised of mostly zero values.\n",
    "\n",
    "Sparse matrices are distinct from matrices with mostly non-zero values, which are referred to as dense matrices.\n",
    "\n",
    "The sparsity of a matrix can be quantified with a score, which is the number of zero values in the matrix divided by the total number of elements in the matrix."
   ]
  },
  {
   "cell_type": "code",
   "execution_count": null,
   "metadata": {
    "collapsed": true
   },
   "outputs": [],
   "source": [
    "sparsity = count zero elements / total elements"
   ]
  },
  {
   "cell_type": "markdown",
   "metadata": {},
   "source": [
    "Below is an example of a small 3 x 6 sparse matrix."
   ]
  },
  {
   "cell_type": "code",
   "execution_count": null,
   "metadata": {
    "collapsed": true
   },
   "outputs": [],
   "source": [
    "     1, 0, 0, 1, 0, 0\n",
    "A = (0, 0, 2, 0, 0, 1)\n",
    "     0, 0, 0, 2, 0, 0"
   ]
  },
  {
   "cell_type": "markdown",
   "metadata": {},
   "source": [
    "The example has 13 zero values of the 18 elements in the matrix, giving this matrix a sparsity score of 0.722 or about 72%.\n",
    "\n",
    "## Problems with Sparsity\n",
    "Sparse matrices can cause problems with regards to space and time complexity.\n",
    "\n",
    "### Space Complexity\n",
    "Very large matrices require a lot of memory, and some very large matrices that we wish to work with are sparse.\n",
    "\n",
    "An example of a very large matrix that is too large to be stored in memory is a link matrix that shows the links from one website to another.\n",
    "\n",
    "An example of a smaller sparse matrix might be a word or term occurrence matrix for words in one book against all known words in English.\n",
    "\n",
    "In both cases, the matrix contained is sparse with many more zero values than data values. The problem with representing these sparse matrices as dense matrices is that memory is required and must be allocated for each 32-bit or even 64-bit zero value in the matrix.\n",
    "\n",
    "This is clearly a waste of memory resources as those zero values do not contain any information.\n",
    "\n",
    "### Time Complexity\n",
    "Assuming a very large sparse matrix can be fit into memory, we will want to perform operations on this matrix.\n",
    "\n",
    "Simply, if the matrix contains mostly zero-values, i.e. no data, then performing operations across this matrix may take a long time where the bulk of the computation performed will involve adding or multiplying zero values together.\n",
    "\n",
    "This is a problem of increased time complexity of matrix operations that increases with the size of the matrix.\n",
    "\n",
    "This problem is compounded when we consider that even trivial machine learning methods may require many operations on each row, column, or even across the entire matrix, resulting in vastly longer execution times."
   ]
  },
  {
   "cell_type": "markdown",
   "metadata": {},
   "source": [
    "## Sparse Matrices in Machine Learning\n",
    "Sparse matrices turn up a lot in applied machine learning.\n",
    "\n",
    "In this section, we will look at some common examples to motivate you to be aware of the issues of sparsity.\n",
    "\n",
    "### Data\n",
    "Sparse matrices come up in some specific types of data, most notably observations that record the occurrence or count of an activity.\n",
    "\n",
    "Three examples include:\n",
    "\n",
    "* Whether or not a user has watched a movie in a movie catalog.\n",
    "* Whether or not a user has purchased a product in a product catalog.\n",
    "* Count of the number of listens of a song in a song catalog.\n",
    "\n",
    "### Data Preparation\n",
    "Sparse matrices come up in encoding schemes used in the preparation of data.\n",
    "\n",
    "Three common examples include:\n",
    "\n",
    "* One-hot encoding, used to represent categorical data as sparse binary vectors.\n",
    "* Count encoding, used to represent the frequency of words in a vocabulary for a document\n",
    "* TF-IDF encoding, used to represent normalized word frequency scores in a vocabulary.\n",
    "\n",
    "### Areas of Study\n",
    "Some areas of study within machine learning must develop specialized methods to address sparsity directly as the input data is almost always sparse.\n",
    "\n",
    "Three examples include:\n",
    "\n",
    "* Natural language processing for working with documents of text.\n",
    "* Recommender systems for working with product usage within a catalog.\n",
    "* Computer vision when working with images that contain lots of black pixels."
   ]
  },
  {
   "cell_type": "markdown",
   "metadata": {},
   "source": [
    "## Working with Sparse Matrices\n",
    "The solution to representing and working with sparse matrices is to use an alternate data structure to represent the sparse data.\n",
    "\n",
    "The zero values can be ignored and only the data or non-zero values in the sparse matrix need to be stored or acted upon.\n",
    "\n",
    "There are multiple data structures that can be used to efficiently construct a sparse matrix; three common examples are listed below.\n",
    "\n",
    "* **Dictionary of Keys**. A dictionary is used where a row and column index is mapped to a value.\n",
    "* **List of Lists**. Each row of the matrix is stored as a list, with each sublist containing the column index and the value.\n",
    "* **Coordinate List**. A list of tuples is stored with each tuple containing the row index, column index, and the value.\n",
    "\n",
    "There are also data structures that are more suitable for performing efficient operations; two commonly used examples are listed below.\n",
    "\n",
    "* **Compressed Sparse Row**. The sparse matrix is represented using three one-dimensional arrays for the non-zero values, the extents of the rows, and the column indexes.\n",
    "* **Compressed Sparse Column**. The same as the Compressed Sparse Row method except the column indices are compressed and read first before the row indices.\n",
    "\n",
    "The Compressed Sparse Row, also called CSR for short, is often used to represent sparse matrices in machine learning given the efficient access and matrix multiplication that it supports."
   ]
  },
  {
   "cell_type": "markdown",
   "metadata": {},
   "source": [
    "## Sparse Matrices in Python\n",
    "SciPy provides tools for creating sparse matrices using multiple data structures, as well as tools for converting a dense matrix to a sparse matrix.\n",
    "\n",
    "Many linear algebra NumPy and SciPy functions that operate on NumPy arrays can transparently operate on SciPy sparse arrays. Further, machine learning libraries that use NumPy data structures can also operate transparently on SciPy sparse arrays, such as scikit-learn for general machine learning and Keras for deep learning.\n",
    "\n",
    "A dense matrix stored in a NumPy array can be converted into a sparse matrix using the CSR representation by calling the csr_matrix() function.\n",
    "\n",
    "In the example below, we define a 3 x 6 sparse matrix as a dense array, convert it to a CSR sparse representation, and then convert it back to a dense array by calling the todense() function."
   ]
  },
  {
   "cell_type": "code",
   "execution_count": 1,
   "metadata": {},
   "outputs": [
    {
     "name": "stdout",
     "output_type": "stream",
     "text": [
      "[[1 0 0 1 0 0]\n",
      " [0 0 2 0 0 1]\n",
      " [0 0 0 2 0 0]]\n",
      "  (0, 0)\t1\n",
      "  (0, 3)\t1\n",
      "  (1, 2)\t2\n",
      "  (1, 5)\t1\n",
      "  (2, 3)\t2\n",
      "[[1 0 0 1 0 0]\n",
      " [0 0 2 0 0 1]\n",
      " [0 0 0 2 0 0]]\n"
     ]
    }
   ],
   "source": [
    "# dense to sparse\n",
    "from numpy import array\n",
    "from scipy.sparse import csr_matrix\n",
    "# create dense matrix\n",
    "A = array([[1, 0, 0, 1, 0, 0], [0, 0, 2, 0, 0, 1], [0, 0, 0, 2, 0, 0]])\n",
    "print(A)\n",
    "# convert to sparse matrix (CSR method)\n",
    "S = csr_matrix(A)\n",
    "print(S)\n",
    "# reconstruct dense matrix\n",
    "B = S.todense()\n",
    "print(B)"
   ]
  },
  {
   "cell_type": "markdown",
   "metadata": {},
   "source": [
    "Running the example first prints the defined dense array, followed by the CSR representation, and then the reconstructed dense matrix.\n",
    "\n",
    "NumPy does not provide a function to calculate the sparsity of a matrix.\n",
    "\n",
    "Nevertheless, we can calculate it easily by first finding the density of the matrix and subtracting it from one. The number of non-zero elements in a NumPy array can be given by the *count_nonzero()* function and the total number of elements in the array can be given by the size property of the array. Array sparsity can therefore be calculated as"
   ]
  },
  {
   "cell_type": "code",
   "execution_count": null,
   "metadata": {
    "collapsed": true
   },
   "outputs": [],
   "source": [
    "sparsity = 1.0 - count_nonzero(A) / A.size"
   ]
  },
  {
   "cell_type": "markdown",
   "metadata": {},
   "source": [
    "The example below demonstrates how to calculate the sparsity of an array."
   ]
  },
  {
   "cell_type": "code",
   "execution_count": 2,
   "metadata": {},
   "outputs": [
    {
     "name": "stdout",
     "output_type": "stream",
     "text": [
      "[[1 0 0 1 0 0]\n",
      " [0 0 2 0 0 1]\n",
      " [0 0 0 2 0 0]]\n",
      "1.0\n"
     ]
    }
   ],
   "source": [
    "# calculate sparsity\n",
    "from numpy import array\n",
    "from numpy import count_nonzero\n",
    "# create dense matrix\n",
    "A = array([[1, 0, 0, 1, 0, 0], [0, 0, 2, 0, 0, 1], [0, 0, 0, 2, 0, 0]])\n",
    "print(A)\n",
    "# calculate sparsity\n",
    "sparsity = 1.0 - count_nonzero(A) / A.size\n",
    "print(sparsity)"
   ]
  },
  {
   "cell_type": "markdown",
   "metadata": {},
   "source": [
    "Running the example first prints the defined sparse matrix followed by the sparsity of the matrix.\n",
    "\n",
    "## Summary\n",
    "In this tutorial, you discovered sparse matrices, the issues they present, and how to work with them directly in Python.\n",
    "\n",
    "Specifically, you learned:\n",
    "\n",
    "* That sparse matrices contain mostly zero values and are distinct from dense matrices.\n",
    "* The myriad of areas where you are likely to encounter sparse matrices in data, data preparation, and sub-fields of machine learning.\n",
    "* That there are many efficient ways to store and work with sparse matrices and SciPy provides implementations that you can use directly."
   ]
  }
 ],
 "metadata": {
  "kernelspec": {
   "display_name": "Python 2",
   "language": "python",
   "name": "python2"
  },
  "language_info": {
   "codemirror_mode": {
    "name": "ipython",
    "version": 2
   },
   "file_extension": ".py",
   "mimetype": "text/x-python",
   "name": "python",
   "nbconvert_exporter": "python",
   "pygments_lexer": "ipython2",
   "version": "2.7.14"
  }
 },
 "nbformat": 4,
 "nbformat_minor": 2
}
