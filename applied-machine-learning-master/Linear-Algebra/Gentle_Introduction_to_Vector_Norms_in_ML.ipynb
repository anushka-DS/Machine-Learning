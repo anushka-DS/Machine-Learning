{
 "cells": [
  {
   "cell_type": "markdown",
   "metadata": {},
   "source": [
    "# Gentle Introduction to Vector Norms in Machine Learning\n",
    "Calculating the length or magnitude of vectors is often required either directly as a regularization method in machine learning, or as part of broader vector or matrix operations.\n",
    "\n",
    "In this tutorial, you will discover the different ways to calculate vector lengths or magnitudes, called the vector norm.\n",
    "\n",
    "After completing this tutorial, you will know:\n",
    "\n",
    "* The L1 norm that is calculated as the sum of the absolute values of the vector.\n",
    "* The L2 norm that is calculated as the square root of the sum of the squared vector values.\n",
    "* The max norm that is calculated as the maximum vector values.\n",
    "\n",
    "Let’s get started."
   ]
  },
  {
   "cell_type": "markdown",
   "metadata": {},
   "source": [
    "## Tutorial Overview\n",
    "This tutorial is divided into 4 parts; they are:\n",
    "\n",
    "1. Vector Norm\n",
    "2. Vector L1 Norm\n",
    "3. Vector L2 Norm\n",
    "4. Vector Max Norm\n",
    "\n",
    "## Vector Norm\n",
    "Calculating the size or length of a vector is often required either directly or as part of a broader vector or vector-matrix operation.\n",
    "\n",
    "The length of the vector is referred to as the vector norm or the vector’s magnitude.\n",
    "\n",
    "The length of the vector is always a positive number, except for a vector of all zero values. It is calculated using some measure that summarizes the distance of the vector from the origin of the vector space. For example, the origin of a vector space for a vector with 3 elements is (0, 0, 0).\n",
    "\n",
    "Notations are used to represent the vector norm in broader calculations and the type of vector norm calculation almost always has its own unique notation.\n",
    "\n",
    "We will take a look at a few common vector norm calculations used in machine learning.\n",
    "\n",
    "## Vector L1 Norm\n",
    "The length of a vector can be calculated using the L1 norm, where the 1 is a superscript of the L, e.g. L^1.\n",
    "\n",
    "The notation for the L1 norm of a vector is ||v||1, where 1 is a subscript. As such, this length is sometimes called the taxicab norm or the Manhattan norm."
   ]
  },
  {
   "cell_type": "code",
   "execution_count": null,
   "metadata": {
    "collapsed": true
   },
   "outputs": [],
   "source": [
    "l1(v) = ||v||1"
   ]
  },
  {
   "cell_type": "markdown",
   "metadata": {},
   "source": [
    "The L1 norm is calculated as the sum of the absolute vector values, where the absolute value of a scalar uses the notation |a1|. In effect, the norm is a calculation of the Manhattan distance from the origin of the vector space."
   ]
  },
  {
   "cell_type": "code",
   "execution_count": null,
   "metadata": {
    "collapsed": true
   },
   "outputs": [],
   "source": [
    "||v||1 = |a1| + |a2| + |a3|"
   ]
  },
  {
   "cell_type": "markdown",
   "metadata": {},
   "source": [
    "The L1 norm of a vector can be calculated in NumPy using the norm() function with a parameter to specify the norm order, in this case 1."
   ]
  },
  {
   "cell_type": "code",
   "execution_count": 1,
   "metadata": {},
   "outputs": [
    {
     "name": "stdout",
     "output_type": "stream",
     "text": [
      "[1 2 3]\n",
      "6.0\n"
     ]
    }
   ],
   "source": [
    "# l1 norm of a vector\n",
    "from numpy import array\n",
    "from numpy.linalg import norm\n",
    "a = array([1, 2, 3])\n",
    "print(a)\n",
    "l1 = norm(a, 1)\n",
    "print(l1)"
   ]
  },
  {
   "cell_type": "markdown",
   "metadata": {},
   "source": [
    "First, a 3×3 vector is defined, then the L1 norm of the vector is calculated.\n",
    "\n",
    "Running the example first prints the defined vector and then the vector’s L1 norm.\n",
    "\n",
    "The L1 norm is often used when fitting machine learning algorithms as a regularization method, e.g. a method to keep the coefficients of the model small, and in turn, the model less complex.\n",
    "\n",
    "## Vector L2 Norm\n",
    "The length of a vector can be calculated using the L2 norm, where the 2 is a superscript of the L, e.g. L^2.\n",
    "\n",
    "The notation for the L2 norm of a vector is ||v||2 where 2 is a subscript."
   ]
  },
  {
   "cell_type": "code",
   "execution_count": null,
   "metadata": {
    "collapsed": true
   },
   "outputs": [],
   "source": [
    "l2(v) = ||v||2"
   ]
  },
  {
   "cell_type": "markdown",
   "metadata": {},
   "source": [
    "The L2 norm calculates the distance of the vector coordinate from the origin of the vector space. As such, it is also known as the Euclidean norm as it is calculated as the Euclidean distance from the origin. The result is a positive distance value.\n",
    "\n",
    "The L2 norm is calculated as the square root of the sum of the squared vector values."
   ]
  },
  {
   "cell_type": "code",
   "execution_count": null,
   "metadata": {
    "collapsed": true
   },
   "outputs": [],
   "source": [
    "||v||2 = sqrt(a1^2 + a2^2 + a3^2)"
   ]
  },
  {
   "cell_type": "markdown",
   "metadata": {},
   "source": [
    "The L2 norm of a vector can be calculated in NumPy using the norm() function with default parameters."
   ]
  },
  {
   "cell_type": "code",
   "execution_count": 2,
   "metadata": {},
   "outputs": [
    {
     "name": "stdout",
     "output_type": "stream",
     "text": [
      "[1 2 3]\n",
      "3.7416573867739413\n"
     ]
    }
   ],
   "source": [
    "# l2 norm of a vector\n",
    "from numpy import array\n",
    "from numpy.linalg import norm\n",
    "a = array([1, 2, 3])\n",
    "print(a)\n",
    "l2 = norm(a)\n",
    "print(l2)"
   ]
  },
  {
   "cell_type": "markdown",
   "metadata": {},
   "source": [
    "First, a 3×3 vector is defined, then the L2 norm of the vector is calculated.\n",
    "\n",
    "Running the example first prints the defined vector and then the vector’s L2 norm.\n",
    "\n",
    "Like the L1 norm, the L2 norm is often used when fitting machine learning algorithms as a regularization method, e.g. a method to keep the coefficients of the model small and, in turn, the model less complex.\n",
    "\n",
    "By far, the L2 norm is more commonly used than other vector norms in machine learning.\n",
    "\n",
    "## Vector Max Norm\n",
    "The length of a vector can be calculated using the maximum norm, also called max norm.\n",
    "\n",
    "Max norm of a vector is referred to as L^inf where inf is a superscript and can be represented with the infinity symbol. The notation for max norm is ||x||inf, where inf is a subscript."
   ]
  },
  {
   "cell_type": "code",
   "execution_count": null,
   "metadata": {
    "collapsed": true
   },
   "outputs": [],
   "source": [
    "maxnorm(v) = ||v||inf"
   ]
  },
  {
   "cell_type": "markdown",
   "metadata": {},
   "source": [
    "The max norm is calculated as returning the maximum value of the vector, hence the name."
   ]
  },
  {
   "cell_type": "code",
   "execution_count": null,
   "metadata": {
    "collapsed": true
   },
   "outputs": [],
   "source": [
    "||v||inf = max(|a1|, |a2|, |a3|)"
   ]
  },
  {
   "cell_type": "markdown",
   "metadata": {},
   "source": [
    "The max norm of a vector can be calculated in NumPy using the norm() function with the order parameter set to inf."
   ]
  },
  {
   "cell_type": "code",
   "execution_count": 3,
   "metadata": {},
   "outputs": [
    {
     "name": "stdout",
     "output_type": "stream",
     "text": [
      "[1 2 3]\n",
      "3.0\n"
     ]
    }
   ],
   "source": [
    "# max norm of a vector\n",
    "from numpy import inf\n",
    "from numpy import array\n",
    "from numpy.linalg import norm\n",
    "a = array([1, 2, 3])\n",
    "print(a)\n",
    "maxnorm = norm(a, inf)\n",
    "print(maxnorm)"
   ]
  },
  {
   "cell_type": "markdown",
   "metadata": {},
   "source": [
    "First, a 3×3 vector is defined, then the max norm of the vector is calculated.\n",
    "\n",
    "Running the example first prints the defined vector and then the vector’s max norm.\n",
    "\n",
    "Max norm is also used as a regularization in machine learning, such as on neural network weights, called max norm regularization.\n",
    "\n",
    "## Summary\n",
    "In this tutorial, you discovered the different ways to calculate vector lengths or magnitudes, called the vector norm.\n",
    "\n",
    "Specifically, you learned:\n",
    "\n",
    "* The L1 norm that is calculated as the sum of the absolute values of the vector.\n",
    "* The L2 norm that is calculated as the square root of the sum of the squared vector values.\n",
    "* The max norm that is calculated as the maximum vector values."
   ]
  }
 ],
 "metadata": {
  "kernelspec": {
   "display_name": "Python 2",
   "language": "python",
   "name": "python2"
  },
  "language_info": {
   "codemirror_mode": {
    "name": "ipython",
    "version": 2
   },
   "file_extension": ".py",
   "mimetype": "text/x-python",
   "name": "python",
   "nbconvert_exporter": "python",
   "pygments_lexer": "ipython2",
   "version": "2.7.14"
  }
 },
 "nbformat": 4,
 "nbformat_minor": 2
}
