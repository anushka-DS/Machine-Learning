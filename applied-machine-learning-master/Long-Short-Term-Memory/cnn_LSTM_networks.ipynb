{
 "cells": [
  {
   "cell_type": "markdown",
   "metadata": {},
   "source": [
    "# CNN Long Short-Term Memory Networks\n",
    "Input with spatial structure, like images, cannot be modeled easily with the standard Vanilla LSTM.\n",
    "\n",
    "The CNN Long Short-Term Memory Network or CNN LSTM for short is an LSTM architecture specifically designed for sequence prediction problems with spatial inputs, like images or videos.\n",
    "\n",
    "In this post, you will discover the CNN LSTM architecture for sequence prediction.\n",
    "\n",
    "After completing this post, you will know:\n",
    "\n",
    "* About the development of the CNN LSTM model architecture for sequence prediction.\n",
    "* Examples of the types of problems to which the CNN LSTM model is suited.\n",
    "* How to implement the CNN LSTM architecture in Python with Keras.\n",
    "\n",
    "Let’s get started."
   ]
  },
  {
   "cell_type": "markdown",
   "metadata": {},
   "source": [
    "## CNN LSTM Architecture\n",
    "The CNN LSTM architecture involves using Convolutional Neural Network (CNN) layers for feature extraction on input data combined with LSTMs to support sequence prediction.\n",
    "\n",
    "CNN LSTMs were developed for visual time series prediction problems and the application of generating textual descriptions from sequences of images (e.g. videos). Specifically, the problems of:\n",
    "\n",
    "* **Activity Recognition**: Generating a textual description of an activity demonstrated in a sequence of images.\n",
    "* **Image Description**: Generating a textual description of a single image.\n",
    "* **Video Description**: Generating a textual description of a sequence of images.\n",
    "\n",
    "This architecture was originally referred to as a Long-term Recurrent Convolutional Network or LRCN model, although we will use the more generic name “CNN LSTM” to refer to LSTMs that use a CNN as a front end in this lesson.\n",
    "\n",
    "This architecture is used for the task of generating textual descriptions of images. Key is the use of a CNN that is pre-trained on a challenging image classification task that is re-purposed as a feature extractor for the caption generating problem.\n",
    "\n",
    "This architecture has also been used on speech recognition and natural language processing problems where CNNs are used as feature extractors for the LSTMs on audio and textual input data.\n",
    "\n",
    "This architecture is appropriate for problems that:\n",
    "\n",
    "* Have spatial structure in their input such as the 2D structure or pixels in an image or the 1D structure of words in a sentence, paragraph, or document.\n",
    "* Have a temporal structure in their input such as the order of images in a video or words in text, or require the generation of output with temporal structure such as words in a textual description.\n",
    "\n",
    "![cnn-lstm](Convolutional-Neural-Network-Long-Short-Term-Memory-Network-Archiecture.png)"
   ]
  },
  {
   "cell_type": "markdown",
   "metadata": {},
   "source": [
    "## Implement CNN LSTM in Keras\n",
    "We can define a CNN LSTM model to be trained jointly in Keras.\n",
    "\n",
    "A CNN LSTM can be defined by adding CNN layers on the front end followed by LSTM layers with a Dense layer on the output.\n",
    "\n",
    "It is helpful to think of this architecture as defining two sub-models: the CNN Model for feature extraction and the LSTM Model for interpreting the features across time steps.\n",
    "\n",
    "Let’s take a look at both of these sub models in the context of a sequence of 2D inputs which we will assume are images.\n",
    "\n",
    "### CNN Model\n",
    "As a refresher, we can define a 2D convolutional network as comprised of Conv2D and MaxPooling2D layers ordered into a stack of the required depth.\n",
    "\n",
    "The Conv2D will interpret snapshots of the image (e.g. small squares) and the polling layers will consolidate or abstract the interpretation.\n",
    "\n",
    "For example, the snippet below expects to read in 10×10 pixel images with 1 channel (e.g. black and white). The Conv2D will read the image in 2×2 snapshots and output one new 10×10 interpretation of the image. The MaxPooling2D will pool the interpretation into 2×2 blocks reducing the output to a 5×5 consolidation. The Flatten layer will take the single 5×5 map and transform it into a 25-element vector ready for some other layer to deal with, such as a Dense for outputting a prediction."
   ]
  },
  {
   "cell_type": "code",
   "execution_count": null,
   "metadata": {
    "collapsed": true
   },
   "outputs": [],
   "source": [
    "cnn = Sequential()\n",
    "cnn.add(Conv2D(1, (2,2), activation='relu', padding='same', input_shape=(10,10,1)))\n",
    "cnn.add(MaxPooling2D(pool_size=(2, 2)))\n",
    "cnn.add(Flatten())"
   ]
  },
  {
   "cell_type": "markdown",
   "metadata": {},
   "source": [
    "This makes sense for image classification and other computer vision tasks.\n",
    "\n",
    "### LSTM Model\n",
    "The CNN model above is only capable of handling a single image, transforming it from input pixels into an internal matrix or vector representation.\n",
    "\n",
    "We need to repeat this operation across multiple images and allow the LSTM to build up internal state and update weights using BPTT across a sequence of the internal vector representations of input images.\n",
    "\n",
    "The CNN could be fixed in the case of using an existing pre-trained model like VGG for feature extraction from images. The CNN may not be trained, and we may wish to train it by backpropagating error from the LSTM across multiple input images to the CNN model.\n",
    "\n",
    "In both of these cases, conceptually there is a single CNN model and a sequence of LSTM models, one for each time step. We want to apply the CNN model to each input image and pass on the output of each input image to the LSTM as a single time step.\n",
    "\n",
    "We can achieve this by wrapping the entire CNN input model (one layer or more) in a TimeDistributed layer. This layer achieves the desired outcome of applying the same layer or layers multiple times. In this case, applying it multiple times to multiple input time steps and in turn providing a sequence of “image interpretations” or “image features” to the LSTM model to work on."
   ]
  },
  {
   "cell_type": "code",
   "execution_count": null,
   "metadata": {
    "collapsed": true
   },
   "outputs": [],
   "source": [
    "model.add(TimeDistributed(...))\n",
    "model.add(LSTM(...))\n",
    "model.add(Dense(...))"
   ]
  },
  {
   "cell_type": "markdown",
   "metadata": {},
   "source": [
    "We now have the two elements of the model; let’s put them together.\n",
    "\n",
    "### CNN LSTM Model\n",
    "We can define a CNN LSTM model in Keras by first defining the CNN layer or layers, wrapping them in a TimeDistributed layer and then defining the LSTM and output layers.\n",
    "\n",
    "We have two ways to define the model that are equivalent and only differ as a matter of taste.\n",
    "\n",
    "You can define the CNN model first, then add it to the LSTM model by wrapping the entire sequence of CNN layers in a TimeDistributed layer, as follows:"
   ]
  },
  {
   "cell_type": "code",
   "execution_count": null,
   "metadata": {
    "collapsed": true
   },
   "outputs": [],
   "source": [
    "# define CNN model\n",
    "cnn = Sequential()\n",
    "cnn.add(Conv2D(...))\n",
    "cnn.add(MaxPooling2D(...))\n",
    "cnn.add(Flatten())\n",
    "# define LSTM model\n",
    "model = Sequential()\n",
    "model.add(TimeDistributed(cnn, ...))\n",
    "model.add(LSTM(..))\n",
    "model.add(Dense(...))"
   ]
  },
  {
   "cell_type": "markdown",
   "metadata": {},
   "source": [
    "An alternate, and perhaps easier to read, approach is to wrap each layer in the CNN model in a TimeDistributed layer when adding it to the main model."
   ]
  },
  {
   "cell_type": "code",
   "execution_count": null,
   "metadata": {
    "collapsed": true
   },
   "outputs": [],
   "source": [
    "model = Sequential()\n",
    "# define CNN model\n",
    "model.add(TimeDistributed(Conv2D(...))\n",
    "model.add(TimeDistributed(MaxPooling2D(...)))\n",
    "model.add(TimeDistributed(Flatten()))\n",
    "# define LSTM model\n",
    "model.add(LSTM(...))\n",
    "model.add(Dense(...))"
   ]
  },
  {
   "cell_type": "markdown",
   "metadata": {},
   "source": [
    "The benefit of this second approach is that all of the layers appear in the model summary and as such is preferred for now.\n",
    "\n",
    "You can choose the method that you prefer.\n",
    "\n",
    "## Summary\n",
    "In this post, you discovered the CNN LSTN model architecture.\n",
    "\n",
    "Specifically, you learned:\n",
    "\n",
    "* About the development of the CNN LSTM model architecture for sequence prediction.\n",
    "* Examples of the types of problems to which the CNN LSTM model is suited.\n",
    "* How to implement the CNN LSTM architecture in Python with Keras."
   ]
  }
 ],
 "metadata": {
  "kernelspec": {
   "display_name": "Python 3",
   "language": "python",
   "name": "python3"
  },
  "language_info": {
   "codemirror_mode": {
    "name": "ipython",
    "version": 3
   },
   "file_extension": ".py",
   "mimetype": "text/x-python",
   "name": "python",
   "nbconvert_exporter": "python",
   "pygments_lexer": "ipython3",
   "version": "3.6.4"
  }
 },
 "nbformat": 4,
 "nbformat_minor": 2
}
