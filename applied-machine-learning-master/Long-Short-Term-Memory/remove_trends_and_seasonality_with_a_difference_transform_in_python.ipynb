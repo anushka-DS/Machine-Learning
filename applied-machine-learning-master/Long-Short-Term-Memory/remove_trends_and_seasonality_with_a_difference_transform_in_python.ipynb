{
 "cells": [
  {
   "cell_type": "markdown",
   "metadata": {},
   "source": [
    "# How to Remove Trends and Seasonality with a Difference Transform in Python\n",
    "Time series datasets may contain trends and seasonality, which may need to be removed prior to modeling.\n",
    "\n",
    "Trends can result in a varying mean over time, whereas seasonality can result in a changing variance over time, both which define a time series as being non-stationary. Stationary datasets are those that have a stable mean and variance, and are in turn much easier to model.\n",
    "\n",
    "Differencing is a popular and widely used data transform for making time series data stationary.\n",
    "\n",
    "In this tutorial, you will discover how to apply the difference operation to your time series data with Python.\n",
    "\n",
    "After completing this tutorial, you will know:\n",
    "\n",
    "* The contrast between a stationary and non-stationary time series and how to make a series stationary with a difference transform.\n",
    "* How to apply the difference transform to remove a linear trend from a series.\n",
    "* How to apply the difference transform to remove a seasonal signal from a series.\n",
    "\n",
    "Let’s get started."
   ]
  },
  {
   "cell_type": "markdown",
   "metadata": {},
   "source": [
    "## Tutorial Overview\n",
    "This tutorial is divided into 4 parts; they are:\n",
    "\n",
    "1. Stationarity\n",
    "2. Difference Transform\n",
    "3. Differencing to Remove Trends\n",
    "4. Differencing to Remove Seasonality\n",
    "\n",
    "## Stationarity\n",
    "Time series is different from more traditional classification and regression predictive modeling problems.\n",
    "\n",
    "The temporal structure adds an order to the observations. This imposed order means that important assumptions about the consistency of those observations needs to be handled specifically.\n",
    "\n",
    "For example, when modeling, there are assumptions that the summary statistics of observations are consistent. In time series terminology, we refer to this expectation as the time series being stationary.\n",
    "\n",
    "These assumptions can be easily violated in time series by the addition of a trend, seasonality, and other time-dependent structures.\n",
    "\n",
    "### Stationary Time Series\n",
    "The observations in a stationary time series are not dependent on time.\n",
    "\n",
    "Time series are stationary if they do not have trend or seasonal effects. Summary statistics calculated on the time series are consistent over time, like the mean or the variance of the observations.\n",
    "\n",
    "When a time series is stationary, it can be easier to model. Statistical modeling methods assume or require the time series to be stationary.\n",
    "\n",
    "### Non-Stationary Time Series\n",
    "Observations from a non-stationary time series show seasonal effects, trends, and other structures that depend on the time index.\n",
    "\n",
    "Summary statistics like the mean and variance do change over time, providing a drift in the concepts a model may try to capture.\n",
    "\n",
    "Classical time series analysis and forecasting methods are concerned with making non-stationary time series data stationary by identifying and removing trends and removing stationary effects.\n",
    "\n",
    "### Making Series Data Stationary\n",
    "You can check if your time series is stationary by looking at a line plot of the series over time.\n",
    "\n",
    "Sign of obvious trends, seasonality, or other systematic structures in the series are indicators of a non-stationary series.\n",
    "\n",
    "A more accurate method would be to use a statistical test, such as the Dickey-Fuller test.\n",
    "\n",
    "Should you make your time series stationary?\n",
    "\n",
    "Generally, yes.\n",
    "\n",
    "If you have clear trend and seasonality in your time series, then model these components, remove them from observations, then train models on the residuals.\n",
    "\n",
    "Statistical time series methods and even modern machine learning methods will benefit from the clearer signal in the data."
   ]
  },
  {
   "cell_type": "markdown",
   "metadata": {},
   "source": [
    "## Difference Transform\n",
    "Differencing is a method of transforming a time series dataset.\n",
    "\n",
    "It can be used to remove the series dependence on time, so-called temporal dependence. This includes structures like trends and seasonality.\n",
    "\n",
    "Differencing is performed by subtracting the previous observation from the current observation."
   ]
  },
  {
   "cell_type": "code",
   "execution_count": null,
   "metadata": {
    "collapsed": true
   },
   "outputs": [],
   "source": [
    "difference(t) = observation(t) - observation(t-1)"
   ]
  },
  {
   "cell_type": "markdown",
   "metadata": {},
   "source": [
    "Inverting the process is required when a prediction must be converted back into the original scale.\n",
    "\n",
    "This process can be reversed by adding the observation at the prior time step to the difference value."
   ]
  },
  {
   "cell_type": "code",
   "execution_count": null,
   "metadata": {
    "collapsed": true
   },
   "outputs": [],
   "source": [
    "inverted(t) = differenced(t) + observation(t-1)"
   ]
  },
  {
   "cell_type": "markdown",
   "metadata": {},
   "source": [
    "In this way, a series of differences and inverted differences can be calculated.\n",
    "\n",
    "### Lag Difference\n",
    "Taking the difference between consecutive observations is called a lag-1 difference.\n",
    "\n",
    "The lag difference can be adjusted to suit the specific temporal structure.\n",
    "\n",
    "For time series with a seasonal component, the lag may be expected to be the period (width) of the seasonality.\n",
    "\n",
    "### Difference Order\n",
    "Some temporal structure may still exist after performing a differencing operation, such as in the case of a nonlinear trend.\n",
    "\n",
    "As such, the process of differencing can be repeated more than once until all temporal dependence has been removed.\n",
    "\n",
    "The number of times that differencing is performed is called the difference order.\n",
    "\n",
    "### Calculating Differencing\n",
    "We can difference the dataset manually.\n",
    "\n",
    "This involves developing a new function that creates a differenced dataset. The function would loop through a provided series and calculate the differenced values at the specified interval or lag.\n",
    "\n",
    "The function below named difference() implements this procedure."
   ]
  },
  {
   "cell_type": "code",
   "execution_count": null,
   "metadata": {
    "collapsed": true
   },
   "outputs": [],
   "source": [
    "# create a differenced series\n",
    "def difference(dataset, interval=1):\n",
    "\tdiff = list()\n",
    "\tfor i in range(interval, len(dataset)):\n",
    "\t\tvalue = dataset[i] - dataset[i - interval]\n",
    "\t\tdiff.append(value)\n",
    "\treturn Series(diff)"
   ]
  },
  {
   "cell_type": "markdown",
   "metadata": {},
   "source": [
    "We can see that the function is careful to begin the differenced dataset after the specified interval to ensure differenced values can, in fact, be calculated. A default interval or lag value of 1 is defined. This is a sensible default.\n",
    "\n",
    "One further improvement would be to also be able to specify the order or number of times to perform the differencing operation.\n",
    "\n",
    "The function below named inverse_difference() inverts the difference operation for a single forecast. It requires that the real observation value for the previous time step also be provided."
   ]
  },
  {
   "cell_type": "code",
   "execution_count": null,
   "metadata": {
    "collapsed": true
   },
   "outputs": [],
   "source": [
    "# invert differenced forecast\n",
    "def inverse_difference(last_ob, value):\n",
    "\treturn value + last_ob"
   ]
  },
  {
   "cell_type": "markdown",
   "metadata": {},
   "source": [
    "### Differencing to Remove Trends\n",
    "In this section, we will look at using the difference transform to remove a trend.\n",
    "\n",
    "A trend makes a time series non-stationary by increasing the level. This has the effect of varying the mean time series value over time.\n",
    "\n",
    "The example below applies the difference() function to a contrived dataset with a linearly increasing trend."
   ]
  },
  {
   "cell_type": "code",
   "execution_count": 1,
   "metadata": {},
   "outputs": [
    {
     "name": "stdout",
     "output_type": "stream",
     "text": [
      "[1, 2, 3, 4, 5, 6, 7, 8, 9, 10, 11, 12, 13, 14, 15, 16, 17, 18, 19, 20]\n",
      "[1, 1, 1, 1, 1, 1, 1, 1, 1, 1, 1, 1, 1, 1, 1, 1, 1, 1, 1]\n",
      "[2, 3, 4, 5, 6, 7, 8, 9, 10, 11, 12, 13, 14, 15, 16, 17, 18, 19, 20]\n"
     ]
    }
   ],
   "source": [
    "# create a differenced series\n",
    "def difference(dataset, interval=1):\n",
    "\tdiff = list()\n",
    "\tfor i in range(interval, len(dataset)):\n",
    "\t\tvalue = dataset[i] - dataset[i - interval]\n",
    "\t\tdiff.append(value)\n",
    "\treturn diff\n",
    " \n",
    "# invert differenced forecast\n",
    "def inverse_difference(last_ob, value):\n",
    "\treturn value + last_ob\n",
    " \n",
    "# define a dataset with a linear trend\n",
    "data = [i+1 for i in range(20)]\n",
    "print(data)\n",
    "# difference the dataset\n",
    "diff = difference(data)\n",
    "print(diff)\n",
    "# invert the difference\n",
    "inverted = [inverse_difference(data[i], diff[i]) for i in range(len(diff))]\n",
    "print(inverted)"
   ]
  },
  {
   "cell_type": "markdown",
   "metadata": {},
   "source": [
    "Running the example first prints the contrived sequence with a linear trend. Next, the differenced dataset is printed showing the increase by one unit each time step. The length of this sequence is 19 instead of 20 as the difference for the first value in the sequence cannot be calculated as there is no prior value.\n",
    "\n",
    "Finally, the difference sequence is inverted using the prior values from the original sequence as the primer for each transform."
   ]
  },
  {
   "cell_type": "markdown",
   "metadata": {},
   "source": [
    "## Differencing to Remove Seasonality\n",
    "In this section, we will look at using the difference transform to remove seasonality.\n",
    "\n",
    "Seasonal variation, or seasonality, are cycles that repeat regularly over time.\n",
    "\n",
    "There are many types of seasonality. Some obvious examples include; time of day, daily, weekly, monthly, annually, and so on. As such, identifying whether there is a seasonality component in your time series problem is subjective.\n",
    "\n",
    "The simplest approach to determining if there is an aspect of seasonality is to plot and review your data, perhaps at different scales and with the addition of trend lines.\n",
    "\n",
    "The example below applies the difference() function to a contrived seasonal dataset. The dataset includes two cycles of 360 units each."
   ]
  },
  {
   "cell_type": "code",
   "execution_count": 9,
   "metadata": {},
   "outputs": [],
   "source": [
    "%matplotlib inline"
   ]
  },
  {
   "cell_type": "code",
   "execution_count": 10,
   "metadata": {},
   "outputs": [
    {
     "data": {
      "image/png": "[encoded data removed]",
      "text/plain": [
       "<matplotlib.figure.Figure at 0x109319f98>"
      ]
     },
     "metadata": {},
     "output_type": "display_data"
    },
    {
     "data": {
      "image/png": "[encoded data removed]",
      "text/plain": [
       "<matplotlib.figure.Figure at 0x10b63a7f0>"
      ]
     },
     "metadata": {},
     "output_type": "display_data"
    },
    {
     "data": {
      "image/png": "[encoded data removed]",
      "text/plain": [
       "<matplotlib.figure.Figure at 0x1093446a0>"
      ]
     },
     "metadata": {},
     "output_type": "display_data"
    }
   ],
   "source": [
    "from math import sin\n",
    "from math import radians\n",
    "from matplotlib import pyplot\n",
    "\n",
    "# create a differenced series\n",
    "def difference(dataset, interval=1):\n",
    "\tdiff = list()\n",
    "\tfor i in range(interval, len(dataset)):\n",
    "\t\tvalue = dataset[i] - dataset[i - interval]\n",
    "\t\tdiff.append(value)\n",
    "\treturn diff\n",
    " \n",
    "# invert differenced forecast\n",
    "def inverse_difference(last_ob, value):\n",
    "\treturn value + last_ob\n",
    " \n",
    "# define a dataset with a linear trend\n",
    "data = [sin(radians(i)) for i in range(360)] + [sin(radians(i)) for i in range(360)]\n",
    "pyplot.plot(data)\n",
    "pyplot.show()\n",
    "# difference the dataset\n",
    "diff = difference(data, 360)\n",
    "pyplot.plot(diff)\n",
    "pyplot.show()\n",
    "# invert the difference\n",
    "inverted = [inverse_difference(data[i], diff[i]) for i in range(len(diff))]\n",
    "pyplot.plot(inverted)\n",
    "pyplot.show()"
   ]
  },
  {
   "cell_type": "markdown",
   "metadata": {},
   "source": [
    "Running the example first creates and plots the dataset of two cycles of the 360 time step series.\n",
    "\n",
    "Next, the difference transform is applied and the result is plotted. The plot shows 360 zero values with all seasonality signal removed.\n",
    "\n",
    "In the de-trending example above, differencing was applied with a lag of 1, which means the first value was sacrificed. Here an entire cycle is used for differencing, that is 360 time steps. The result is that the entire first cycle is sacrificed in order to difference the second cycle.\n",
    "\n",
    "Finally, the transform is inverted showing the second cycle with the seasonality restored."
   ]
  },
  {
   "cell_type": "markdown",
   "metadata": {},
   "source": [
    "## Summary\n",
    "In this tutorial, you discovered the distinction between stationary and non-stationary time series and how to use the difference transform to remove trends and seasonality with Python.\n",
    "\n",
    "Specifically, you learned:\n",
    "\n",
    "* The contrast between a stationary and non-stationary time series and how to make a series stationary with a difference transform.\n",
    "* How to apply the difference transform to remove a linear trend from a series.\n",
    "* How to apply the difference transform to remove a seasonal signal from a series."
   ]
  }
 ],
 "metadata": {
  "kernelspec": {
   "display_name": "Python 3",
   "language": "python",
   "name": "python3"
  },
  "language_info": {
   "codemirror_mode": {
    "name": "ipython",
    "version": 3
   },
   "file_extension": ".py",
   "mimetype": "text/x-python",
   "name": "python",
   "nbconvert_exporter": "python",
   "pygments_lexer": "ipython3",
   "version": "3.6.4"
  }
 },
 "nbformat": 4,
 "nbformat_minor": 2
}
