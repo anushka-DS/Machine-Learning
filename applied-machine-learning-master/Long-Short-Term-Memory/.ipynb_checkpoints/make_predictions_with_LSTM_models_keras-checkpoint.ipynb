{
 "cells": [
  {
   "cell_type": "markdown",
   "metadata": {},
   "source": [
    "# How to Make Predictions with Long Short-Term Memory Models in Keras\n",
    "The goal of developing an LSTM model is a final model that you can use on your sequence prediction problem.\n",
    "\n",
    "In this post, you will discover how to finalize your model and use it to make predictions on new data.\n",
    "\n",
    "After completing this post, you will know:\n",
    "\n",
    "* How to train a final LSTM model.\n",
    "* How to save your final LSTM model, and later load it again.\n",
    "* How to make predictions on new data.\n",
    "\n",
    "Let’s get started."
   ]
  },
  {
   "cell_type": "markdown",
   "metadata": {},
   "source": [
    "## Step 1. Train a Final Model\n",
    "### What Is a Final LSTM Model?\n",
    "A final LSTM model is one that you use to make predictions on new data.\n",
    "\n",
    "That is, given new examples of input data, you want to use the model to predict the expected output. This may be a classification (assign a label) or a regression (a real value).\n",
    "\n",
    "The goal of your sequence prediction project is to arrive at a final model that performs the best, where “best” is defined by:\n",
    "\n",
    "* **Data**: the historical data that you have available.\n",
    "* **Time**: the time you have to spend on the project.\n",
    "* **Procedure**: the data preparation steps, algorithm or algorithms, and the chosen algorithm configurations.\n",
    "\n",
    "In your project, you gather the data, spend the time you have, and discover the data preparation procedures, algorithm to use, and how to configure it.\n",
    "\n",
    "The final model is the pinnacle of this process, the end you seek in order to start actually making predictions.\n",
    "\n",
    "There is no such thing as a perfect model. There is only the best model that you were able to discover.\n",
    "\n",
    "### How to Finalize an LSTM Model?\n",
    "You finalize a model by applying the chosen LSTM architecture and configuration on all of your data.\n",
    "\n",
    "There is no train and test split and no cross-validation folds. Put all of the data back together into one large training dataset and fit your model.\n",
    "\n",
    "That’s it.\n",
    "\n",
    "With the finalized model, you can:\n",
    "\n",
    "* Save the model for later or operational use.\n",
    "* Load the model and make predictions on new data."
   ]
  },
  {
   "cell_type": "markdown",
   "metadata": {},
   "source": [
    "## Step 2. Save Your Final Model\n",
    "Keras provides an API to allow you to save your model to file.\n",
    "\n",
    "The model is saved in HDF5 file format that efficiently stores large arrays of numbers on disk. You will need to confirm that you have the h5py Python library installed. It can be installed as follows:"
   ]
  },
  {
   "cell_type": "code",
   "execution_count": null,
   "metadata": {
    "collapsed": true
   },
   "outputs": [],
   "source": [
    "sudo pip install h5py"
   ]
  },
  {
   "cell_type": "markdown",
   "metadata": {},
   "source": [
    "You can save a fit Keras model to file using the save() function on the model.\n",
    "\n",
    "For example:"
   ]
  },
  {
   "cell_type": "code",
   "execution_count": null,
   "metadata": {
    "collapsed": true
   },
   "outputs": [],
   "source": [
    "# define model\n",
    "model = Sequential()\n",
    "model.add(LSTM(...))\n",
    "# compile model\n",
    "model.compile(...)\n",
    "# fit model\n",
    "model.fit(...)\n",
    "# save model to single file\n",
    "model.save('lstm_model.h5')"
   ]
  },
  {
   "cell_type": "markdown",
   "metadata": {},
   "source": [
    "This single file will contain the model architecture and weights. It also includes the specification of the chosen loss and optimization algorithm so that you can resume training.\n",
    "\n",
    "The model can be loaded again (from a different script in a different Python session) using the load_model() function."
   ]
  },
  {
   "cell_type": "code",
   "execution_count": null,
   "metadata": {
    "collapsed": true
   },
   "outputs": [],
   "source": [
    "from keras.models import load_model\n",
    "# load model from single file\n",
    "model = load_model('lstm_model.h5')\n",
    "# make predictions\n",
    "yhat = model.predict(X, verbose=0)\n",
    "print(yhat)"
   ]
  },
  {
   "cell_type": "markdown",
   "metadata": {},
   "source": [
    "Below is a complete example of fitting an LSTM model, saving it to a single file and later loading it again. Although the loading of the model is in the same script, this section may be run from another script in another Python session. Running the example saves the model to the file lstm_model.h5."
   ]
  },
  {
   "cell_type": "code",
   "execution_count": null,
   "metadata": {
    "collapsed": true
   },
   "outputs": [],
   "source": [
    "from keras.models import Sequential\n",
    "from keras.layers import Dense\n",
    "from keras.layers import LSTM\n",
    "from numpy import array\n",
    "from keras.models import load_model\n",
    " \n",
    "# return training data\n",
    "def get_train():\n",
    "seq = [[0.0, 0.1], [0.1, 0.2], [0.2, 0.3], [0.3, 0.4], [0.4, 0.5]]\n",
    "seq = array(seq)\n",
    "X, y = seq[:, 0], seq[:, 1]\n",
    "X = X.reshape((len(X), 1, 1))\n",
    "return X, y\n",
    " \n",
    "# define model\n",
    "model = Sequential()\n",
    "model.add(LSTM(10, input_shape=(1,1)))\n",
    "model.add(Dense(1, activation='linear'))\n",
    "# compile model\n",
    "model.compile(loss='mse', optimizer='adam')\n",
    "# fit model\n",
    "X,y = get_train()\n",
    "model.fit(X, y, epochs=300, shuffle=False, verbose=0)\n",
    "# save model to single file\n",
    "model.save('lstm_model.h5')\n",
    " \n",
    "# snip...\n",
    "# later, perhaps run from another script\n",
    " \n",
    "# load model from single file\n",
    "model = load_model('lstm_model.h5')\n",
    "# make predictions\n",
    "yhat = model.predict(X, verbose=0)\n",
    "print(yhat)"
   ]
  },
  {
   "cell_type": "markdown",
   "metadata": {},
   "source": [
    "## Step 3. Make Predictions on New Data\n",
    "After you have finalized your model and saved it to file, you can load it and use it to make predictions.\n",
    "\n",
    "For example:\n",
    "\n",
    "* On a sequence regression problem, this may be the prediction of the real value at the next time step.\n",
    "* On a sequence classification problem, this may be a class outcome for a given input sequence.\n",
    "\n",
    "Or it may be any other variation based on the specifics of your sequence prediction problem. You would like an outcome from your model (yhat) given an input sequence (X) where the true outcome for the sequence (y) is currently unknown.\n",
    "\n",
    "You may be interested in making predictions in a production environment, as the backend to an interface, or manually. It really depends on the goals of your project.\n",
    "\n",
    "Any data preparation performed on your training data prior to fitting your final model must also be applied to any new data prior to making predictions.\n",
    "\n",
    "Predicting is the easy part.\n",
    "\n",
    "It involves taking the prepared input data (X) and calling one of the Keras prediction methods on the loaded model.\n",
    "\n",
    "Remember that the input for making a prediction (X) is only comprised of the input sequence data required to make a prediction, not all prior training data. In the case of predicting the next value in one sequence, the input sequence would be 1 sample with the fixed number of time steps and features used when you defined and fit your model.\n",
    "\n",
    "For example, a raw prediction in the shape and scale of the activation function of the output layer can be made by calling the predict() function on the model:"
   ]
  },
  {
   "cell_type": "code",
   "execution_count": null,
   "metadata": {
    "collapsed": true
   },
   "outputs": [],
   "source": [
    "X = ...\n",
    "model = ...\n",
    "yhat = model.predict(X)"
   ]
  },
  {
   "cell_type": "markdown",
   "metadata": {},
   "source": [
    "The prediction of a class index can be made by calling the predict_classes() function on the model."
   ]
  },
  {
   "cell_type": "code",
   "execution_count": null,
   "metadata": {
    "collapsed": true
   },
   "outputs": [],
   "source": [
    "X = ...\n",
    "model = ...\n",
    "yhat = model.predict_classes(X)"
   ]
  },
  {
   "cell_type": "markdown",
   "metadata": {},
   "source": [
    "The prediction of probabilities can be made by calling the predict_proba() function on the model."
   ]
  },
  {
   "cell_type": "code",
   "execution_count": null,
   "metadata": {
    "collapsed": true
   },
   "outputs": [],
   "source": [
    "X = ...\n",
    "model = ...\n",
    "yhat = model.predict_proba(X)"
   ]
  },
  {
   "cell_type": "markdown",
   "metadata": {},
   "source": [
    "## Summary\n",
    "In this post, you discovered how to finalize your model and use it to make predictions on new data.\n",
    "\n",
    "Specifically, you learned:\n",
    "\n",
    "* How to train a final LSTM model.\n",
    "* How to save your final LSTM model, and later load it again.\n",
    "* How to make predictions on new data."
   ]
  }
 ],
 "metadata": {
  "kernelspec": {
   "display_name": "Python 3",
   "language": "python",
   "name": "python3"
  },
  "language_info": {
   "codemirror_mode": {
    "name": "ipython",
    "version": 3
   },
   "file_extension": ".py",
   "mimetype": "text/x-python",
   "name": "python",
   "nbconvert_exporter": "python",
   "pygments_lexer": "ipython3",
   "version": "3.6.4"
  }
 },
 "nbformat": 4,
 "nbformat_minor": 2
}
