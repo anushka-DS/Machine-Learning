{
 "cells": [
  {
   "cell_type": "markdown",
   "metadata": {},
   "source": [
    "# On the Suitability of Long Short-Term Memory Networks for Time Series Forecasting\n",
    "Long Short-Term Memory (LSTM) is a type of recurrent neural network that can learn the order dependence between items in a sequence.\n",
    "\n",
    "LSTMs have the promise of being able to learn the context required to make predictions in time series forecasting problems, rather than having this context pre-specified and fixed.\n",
    "\n",
    "Given the promise, there is some doubt as to whether LSTMs are appropriate for time series forecasting.\n",
    "\n",
    "In this post, we will look at the application of LSTMs to time series forecasting by some of the leading developers of the technique.\n",
    "\n",
    "Let’s get started."
   ]
  },
  {
   "cell_type": "markdown",
   "metadata": {},
   "source": [
    "## LSTM for Time Series Forecasting\n",
    "We will take a closer look at a paper that seeks to explore the suitability of LSTMs for time series forecasting.\n",
    "\n",
    "The paper is titled “[Applying LSTM to Time Series Predictable through Time-Window Approaches](https://link.springer.com/chapter/10.1007/3-540-44668-0_93)” (get the PDF, Gers, Eck and Schmidhuber, published in 2001.\n",
    "\n",
    "They start off by commenting that univariate time series forecasting problems are actually simpler than the types of problems traditionally used to demonstrate the capabilities of LSTMs.\n",
    "\n",
    "*\"Time series benchmark problems found in the literature … are often conceptually simpler than many tasks already solved by LSTM. They often do not require RNNs at all, because all relevant information about the next event is conveyed by a few recent events contained within a small time window.\"*\n",
    "\n",
    "The paper focuses on the application of LSTMs to two complex time series forecasting problems and contrasting the results of LSTMs to other types of neural networks.\n",
    "\n",
    "The focus of the study are two classical time series problems:\n",
    "\n",
    "### Mackey-Glass Series\n",
    "This is a contrived time series calculated from a differential equation.\n",
    "\n",
    "![mackey-glass-series](Plot-of-the-Mackey-Glass-Series-Taken-from-Schoarpedia.png)\n",
    "\n",
    "### Chaotic Laser Data (Set A)\n",
    "This is a series taken from a from a contest at the Santa Fe Institute.\n",
    "\n",
    "Set A is defined as:\n",
    "\n",
    "*\"A clean physics laboratory experiment. 1,000 points of the fluctuations in a far-infrared laser, approximately described by three coupled nonlinear ordinary differential equations.\"*"
   ]
  },
  {
   "cell_type": "markdown",
   "metadata": {},
   "source": [
    "### Autoregression\n",
    "An autoregression (AR) approach was used to model these problems.\n",
    "\n",
    "This means that the next time step was taken as a function of some number of past (or lag) observations.\n",
    "\n",
    "This is a common approach for classical statistical time series forecasting.\n",
    "\n",
    "The LSTM is exposed to one input at a time with no fixed set of lag variables, as the windowed-multilayer Perceptron (MLP).\n",
    "\n",
    "### Analysis of Results\n",
    "Some of the more salient comments were in response to the poor results of the LSTMs on the Mackey-Glass Series problem.\n",
    "\n",
    "First, they comment that increasing the learning capacity of the network did not help:\n",
    "\n",
    "*\"Increasing the number of memory blocks did not significantly improve the results.\"*\n",
    "\n",
    "This may have required a further increase in the number of training epochs. It is also possible that a stack of LSTMs may have improved results.\n",
    "\n",
    "They comment that in order to do well on the Mackey-Glass Series, the LSTM is required to remember recent past observations, whereas the MLP is given this data explicitly.\n",
    "\n",
    "*\"The results for the AR-LSTM approach are clearly worse than the results for the time window approaches, for example with MLPs. The AR-LSTM network does not have access to the past as part of its input … [for the LSTM to do well] required remembering one or two events from the past, then using this information before over-writing the same memory cells.\"*\n",
    "\n",
    "They comment that in general, this poses more of a challenge for LSTMs and RNNs than it does for MLPs.\n",
    "\n",
    "*\"Assuming that any dynamic model needs all inputs from t-tau …, we note that the AR-RNN has to store all inputs from t-tau to t and overwrite them at the adequate time. This requires the implementation of a circular buffer, a structure quite difficult for an RNN to simulate.\"*\n",
    "\n",
    "Again, I can’t help but think that a much larger hidden layer (more memory units) and a much deeper network (stacked LSTMs) would be better suited to learn multiple past observations.\n",
    "\n",
    "They later conclude the paper and discuss that based on the results, LSTMs may not be suited to AR type formulations of time series forecasting, at least when the lagged observations are close to the time being forecasted.\n",
    "\n",
    "This is a fair conclusion given the LSTMs performance compared to MLPs on the tested univariate problems.\n",
    "\n",
    "*\"A time window based MLP outperformed the LSTM pure-AR approach on certain time series prediction benchmarks solvable by looking at a few recent inputs only. Thus LSTM’s special strength, namely, to learn to remember single events for very long, unknown time periods, was not necessary here.\"*\n",
    "\n",
    "*\"LSTM learned to tune into the fundamental oscillation of each series but was unable to accurately follow the signal.\"*\n",
    "\n",
    "They do highlight the LSTMs ability to learn oscillation behavior (e.g. cycles or seasonality).\n",
    "\n",
    "*\"Our results suggest to use LSTM only on tasks where traditional time window-based approaches must fail.\"*\n",
    "\n",
    "*\"LSTM’s ability to track slow oscillations in the chaotic signal may be applicable to cognitive domains such as rhythm detection in speech and music.\"*\n",
    "\n",
    "This is interesting, but perhaps not as useful, as such patterns are often explicitly removed wherever possible prior to forecasting. Nevertheless, it may highlight the possibility of LSTMs learning to forecast in the context of a non-stationary series."
   ]
  },
  {
   "cell_type": "markdown",
   "metadata": {},
   "source": [
    "## Final Word\n",
    "So, what does all of this mean?\n",
    "\n",
    "Taken at face value, we may conclude that LSTMs are unsuitable for AR-based univariate time series forecasting. That we should turn first to MLPs with a fixed window and only to LSTMs if MLPs cannot achieve a good result.\n",
    "\n",
    "This sounds fair.\n",
    "\n",
    "I would argue a few points that should be considered before we write-off LSTMs for time series forecasting:\n",
    "\n",
    "* Consider more sophisticated data preparation, such as at least scaling and stationarity. If a cycle or trend is obvious, then it should be removed so that the model can focus on the underlying signal. That being said, the capability of LSTMs to perform well on non-stationary data as well or better than other methods is intriguing, but I would expect would be commensurate with an increase in required network capacity and training.\n",
    "* Consider the use of both larger models and hierarchical models (stacked LSTMs) to automatically learn (or “remember”) a larger temporal dependence. Larger models can learn more.\n",
    "* Consider fitting the model for much longer, e.g. thousands or hundreds of thousands of epochs, whilst making use of regularization techniques. LSTMs take a long time to learn complex dependencies.\n",
    "\n",
    "I won’t point out that we can move beyond AR based models; it’s obvious, and AR models are a nice clean proving ground for LSTMs to consider and take on classical statistical methods like ARIMA and well performing neural nets like window MLPs.\n",
    "\n",
    "I believe there’s great promise and opportunity for LSTMs applied to the problem of time series forecasting."
   ]
  }
 ],
 "metadata": {
  "kernelspec": {
   "display_name": "Python 3",
   "language": "python",
   "name": "python3"
  },
  "language_info": {
   "codemirror_mode": {
    "name": "ipython",
    "version": 3
   },
   "file_extension": ".py",
   "mimetype": "text/x-python",
   "name": "python",
   "nbconvert_exporter": "python",
   "pygments_lexer": "ipython3",
   "version": "3.6.4"
  }
 },
 "nbformat": 4,
 "nbformat_minor": 2
}
