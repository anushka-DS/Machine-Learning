{
 "cells": [
  {
   "cell_type": "markdown",
   "metadata": {},
   "source": [
    "# A Gentle Introduction to the Law of Large Numbers in Machine Learning\n",
    "We have an intuition that more observations is better.\n",
    "\n",
    "This is the same intuition behind the idea that if we collect more data, our sample of data will be more representative of the problem domain.\n",
    "\n",
    "There is a theorem in statistics and probability that supports this intuition that is a pillar of both of these fields and has important implications in applied machine learning. The name of this theorem is the law of large numbers.\n",
    "\n",
    "In this tutorial, you will discover the law of large numbers and why it is important in applied machine learning.\n",
    "\n",
    "After completing this tutorial, you will know:\n",
    "\n",
    "* The law of large numbers supports the intuition that the sample becomes more representative of the population as its size is increased.\n",
    "* How to develop a small example in Python to demonstrate the decrease in error from the increase in sample size.\n",
    "* The law of large numbers is critical for understanding the selection of training datasets, test datasets, and in the evaluation of model skill in machine learning.\n",
    "\n",
    "Let’s get started."
   ]
  },
  {
   "cell_type": "markdown",
   "metadata": {},
   "source": [
    "## Tutorial Overview\n",
    "This tutorial is divided into 3 parts; they are:\n",
    "\n",
    "1. Law of Large Numbers\n",
    "2. Worked Example\n",
    "3. Implications in Machine Learning\n",
    "\n",
    "## Law of Large Numbers\n",
    "The law of large numbers is a theorem from probability and statistics that suggests that the average result from repeating an experiment multiple times will better approximate the true or expected underlying result.\n",
    "\n",
    "We can think of a trial of an experiment as one observation. The standalone and independent repetition of the experiment will perform multiple trials and lead to multiple observations. All sample observations for an experiment are drawn from an idealized population of observations.\n",
    "\n",
    "* Observation: Result from one trial of an experiment.\n",
    "* Sample: Group of results gathered from separate independent trials.\n",
    "* Population: Space of all possible observations that could be seen from a trial.\n",
    "\n",
    "Using these terms from statistics, we can say that as the size of the sample increases, the mean value of the sample will better approximate the mean or expected value in the population. As the sample size goes to infinity, the sample mean will converge to the population mean.\n",
    "\n",
    "This is an important theoretical finding for statistics and probability, as well as for applied machine learning.\n",
    "\n",
    "### Independent and Identically Distributed\n",
    "It is important to be clear that the observations in the sample must be independent.\n",
    "\n",
    "This means that the trial is run in an identical manner and does not depend on the results of any other trial. This is often reasonable and easy to achieve in computers, although can be difficult elsewhere (e.g. how do you achieve identically random rolls of a dice?).\n",
    "\n",
    "In statistics, this expectation is called “independent and identically distributed,” or IID, iid, or i.i.d. for short. This is to ensure that the samples are indeed drawn from the same underlying population distribution.\n",
    "\n",
    "### Regression to the Mean\n",
    "The law of large numbers helps us understand why we cannot trust a single observation from an experiment in isolation.\n",
    "\n",
    "We expect that a single result or the mean result from a small sample is likely. That is close to the central tendency, the mean of the population distribution. It may not be; in fact, it may be very strange or unlikely.\n",
    "\n",
    "The law reminds us to repeat the experiment in order to develop a large and representative sample of observations before we start making inferences about what the result means.\n",
    "\n",
    "As we increase the sample size, the finding or mean of the sample will move back toward the population mean, back toward the true underlying expected value. This is called regression to the mean or sometimes reversion to the mean.\n",
    "\n",
    "It is why we must be skeptical of inferences from small sample sizes, called small n.\n",
    "\n",
    "### Law of Truly Large Numbers\n",
    "Related to the regression to the mean is the idea of the law of truly large numbers.\n",
    "\n",
    "This is the idea that when we start investigating or working with extremely large samples of observations, we increase the likelihood of seeing something strange. That by having so many samples of the underlying population distribution, the sample will contain some astronomically rare events.\n",
    "\n",
    "Again, we must be wary not to make inferences from single cases.\n",
    "\n",
    "This is especially important to consider when running queries and investigating big data."
   ]
  },
  {
   "cell_type": "markdown",
   "metadata": {},
   "source": [
    "## Worked Example\n",
    "We can demonstrate the law of large numbers with a small worked example.\n",
    "\n",
    "First, we can design an idealized underlying distribution. We will use a Gaussian distribution with a mean of 50 and a standard deviation of 5. The expected value or mean of this population is therefore 50.\n",
    "\n",
    "Below is some code that generates a plot of this idealized distribution."
   ]
  },
  {
   "cell_type": "code",
   "execution_count": 2,
   "metadata": {},
   "outputs": [
    {
     "data": {
      "image/png": "[encoded data removed]",
      "text/plain": [
       "<matplotlib.figure.Figure at 0x10843b978>"
      ]
     },
     "metadata": {},
     "output_type": "display_data"
    }
   ],
   "source": [
    "# idealized population distribution\n",
    "from numpy import arange\n",
    "from matplotlib import pyplot\n",
    "from scipy.stats import norm\n",
    "%matplotlib inline\n",
    "# x-axis for the plot\n",
    "xaxis = arange(30, 70, 1)\n",
    "# y-axis for the plot\n",
    "yaxis = norm.pdf(xaxis, 50, 5)\n",
    "# plot ideal population\n",
    "pyplot.plot(xaxis, yaxis)\n",
    "pyplot.show()"
   ]
  },
  {
   "cell_type": "markdown",
   "metadata": {},
   "source": [
    "Running the code creates a plot of the designed population with the familiar bell shape.\n",
    "\n",
    "Now, we can pretend to forget everything that we know about the population and make independent random samples from the population.\n",
    "\n",
    "We can create samples of different sizes and calculate the mean. Given our intuition and the law of large numbers, we expect that as the size of the sample is increased, the sample mean will better approximate the population mean.\n",
    "\n",
    "The example below calculates samples of different sizes then prints the sample means."
   ]
  },
  {
   "cell_type": "code",
   "execution_count": 3,
   "metadata": {},
   "outputs": [
    {
     "name": "stdout",
     "output_type": "stream",
     "text": [
      "[49.5142955459695, 50.371593294898695, 50.2919653390298, 50.1521157689338, 50.03955033528776]\n"
     ]
    },
    {
     "data": {
      "image/png": "[encoded data removed]",
      "text/plain": [
       "<matplotlib.figure.Figure at 0x10491a1d0>"
      ]
     },
     "metadata": {},
     "output_type": "display_data"
    }
   ],
   "source": [
    "# demonstrate the law of large numbers\n",
    "from numpy.random import seed\n",
    "from numpy.random import randn\n",
    "from numpy import mean\n",
    "from numpy import array\n",
    "from matplotlib import pyplot\n",
    "%matplotlib inline\n",
    "# seed the random number generator\n",
    "seed(1)\n",
    "# sample sizes\n",
    "sizes = [10, 100, 500, 1000, 10000]\n",
    "# generate samples of different sizes and calculate their means\n",
    "means = [mean(5 * randn(size) + 50) for size in sizes]\n",
    "print(means)\n",
    "# plot sample mean error vs sample size\n",
    "pyplot.scatter(sizes, array(means)-50)\n",
    "pyplot.show()"
   ]
  },
  {
   "cell_type": "markdown",
   "metadata": {},
   "source": [
    "Running the example first prints the means of each sample.\n",
    "\n",
    "We can see a loose trend of the sample mean getting closer to 50.0 as the sample size increases.\n",
    "\n",
    "Note too that this sample of sample means too must suffer the law of large numbers. For example, by chance you may get a very accurate estimate of the population mean with the mean of a small sample.\n",
    "\n",
    "The example also creates a plot that compares the size of the sample to the error of the sample mean from the population mean. Generally, we can see that larger sample sizes have less error, and we would expect this trend to continue, on average.\n",
    "\n",
    "We can also see that some sample means overestimate and some underestimate. Do not fall into the trap of assuming that the underestimate will fall on one side or another."
   ]
  },
  {
   "cell_type": "markdown",
   "metadata": {},
   "source": [
    "## Implications in Machine Learning\n",
    "The law of large numbers has important implications in applied machine learning.\n",
    "\n",
    "Let’s take a moment to highlight a few of these implications.\n",
    "\n",
    "### Training Data\n",
    "The data used to train the model must be representative of the observations from the domain.\n",
    "\n",
    "This really means that it must contain enough information to generalize to the true unknown and underlying distribution of the population.\n",
    "\n",
    "This is easy to conceptualize with a single input variable for a model, but is also just as important when you have multiple input variables. There will be unknown relationships or dependencies between the input variables and together, the input data will represent a multivariate distribution from which observations will be drawn to comprise your training sample.\n",
    "\n",
    "Keep this in mind during data collection, data cleaning, and data preparation.\n",
    "\n",
    "You may choose to exclude sections of the underlying population by setting hard limits on observed values (e.g. for outliers) where you expect data to be too sparse to model effectively.\n",
    "\n",
    "### Test Data\n",
    "The thoughts given to the training dataset must also be given to the test dataset.\n",
    "\n",
    "This is often neglected with the blind use of 80/20 spits for train/test data or the blind use of 10-fold cross-validation, even on datasets where the size of 1/10th of the available data may not be a suitable representative of observations from the problem domain.\n",
    "\n",
    "### Model Skill Evaluation\n",
    "Consider the law of large numbers when presenting the estimated skill of a model on unseen data.\n",
    "\n",
    "It provides a defense for not simply reporting or proceeding with a model based on a skill score from a single train/test evaluation.\n",
    "\n",
    "It highlights the need to develop a sample of multiple independent (or close to independent) evaluations of a given model such that the mean reported skill from the sample is an accurate enough estimate of population mean.\n",
    "\n",
    "## Summary\n",
    "In this tutorial, you discovered the law of large numbers and why it is important in applied machine learning.\n",
    "\n",
    "Specifically, you learned:\n",
    "\n",
    "* The law of large numbers supports the intuition that the sample becomes more representative of the population as its size is increased.\n",
    "* How to develop a small example in Python to demonstrate the decrease in error from the increase in sample size.\n",
    "* The law of large numbers is critical for understanding the selection of training datasets, test datasets, and in the evaluation of model skill in machine learning."
   ]
  }
 ],
 "metadata": {
  "kernelspec": {
   "display_name": "Python 3",
   "language": "python",
   "name": "python3"
  },
  "language_info": {
   "codemirror_mode": {
    "name": "ipython",
    "version": 3
   },
   "file_extension": ".py",
   "mimetype": "text/x-python",
   "name": "python",
   "nbconvert_exporter": "python",
   "pygments_lexer": "ipython3",
   "version": "3.6.4"
  }
 },
 "nbformat": 4,
 "nbformat_minor": 2
}
