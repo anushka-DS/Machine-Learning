{
 "cells": [
  {
   "cell_type": "markdown",
   "metadata": {},
   "source": [
    "# Prediction Intervals for Machine Learning\n",
    "A prediction from a machine learning perspective is a single point that hides the uncertainty of that prediction.\n",
    "\n",
    "Prediction intervals provide a way to quantify and communicate the uncertainty in a prediction. They are different from confidence intervals that instead seek to quantify the uncertainty in a population parameter such as a mean or standard deviation. Prediction intervals describe the uncertainty for a single specific outcome.\n",
    "\n",
    "In this tutorial, you will discover the prediction interval and how to calculate it for a simple linear regression model.\n",
    "\n",
    "After completing this tutorial, you will know:\n",
    "\n",
    "* That a prediction interval quantifies the uncertainty of a single point prediction.\n",
    "* That prediction intervals can be estimated analytically for simple models, but are more challenging for nonlinear machine learning models.\n",
    "* How to calculate the prediction interval for a simple linear regression model.\n",
    "\n",
    "Let’s get started."
   ]
  },
  {
   "cell_type": "markdown",
   "metadata": {},
   "source": [
    "## Tutorial Overview\n",
    "This tutorial is divided into 5 parts; they are:\n",
    "\n",
    "1. What Is Wrong With a Point Estimate?\n",
    "2. What Is a Prediction Interval?\n",
    "3. How to Calculate a Prediction Interval\n",
    "4. Prediction Interval for Linear Regression\n",
    "5. Worked Example\n",
    "\n",
    "## Why Calculate a Prediction Interval?\n",
    "In predictive modeling, a prediction or a forecast is a single outcome value given some input variables.\n",
    "\n",
    "For example:"
   ]
  },
  {
   "cell_type": "code",
   "execution_count": null,
   "metadata": {
    "collapsed": true
   },
   "outputs": [],
   "source": [
    "yhat = model.predict(X)"
   ]
  },
  {
   "cell_type": "markdown",
   "metadata": {},
   "source": [
    "Where yhat is the estimated outcome or prediction made by the trained model for the given input data X.\n",
    "\n",
    "This is a point prediction.\n",
    "\n",
    "By definition, it is an estimate or an approximation and contains some uncertainty.\n",
    "\n",
    "The uncertainty comes from the errors in the model itself and noise in the input data. The model is an approximation of the relationship between the input variables and the output variables.\n",
    "\n",
    "Given the process used to choose and tune the model, it will be the best approximation made given available information, but it will still make errors. Data from the domain will naturally obscure the underlying and unknown relationship between the input and output variables. This will make it a challenge to fit the model, and will also make it a challenge for a fit model to make predictions.\n",
    "\n",
    "Given these two main sources of error, their point prediction from a predictive model is insufficient for describing the true uncertainty of the prediction.\n",
    "\n",
    "## What Is a Prediction Interval?\n",
    "A prediction interval is a quantification of the uncertainty on a prediction.\n",
    "\n",
    "It provides a probabilistic upper and lower bounds on the estimate of an outcome variable.\n",
    "\n",
    "Prediction intervals are most commonly used when making predictions or forecasts with a regression model, where a quantity is being predicted.\n",
    "\n",
    "An example of the presentation of a prediction interval is as follows:\n",
    "\n",
    "*Given a prediction of ‘y’ given ‘x’, there is a 95% likelihood that the range ‘a’ to ‘b’ covers the true outcome.*\n",
    "\n",
    "The prediction interval surrounds the prediction made by the model and hopefully covers the range of the true outcome.\n",
    "\n",
    "A prediction interval is different from a confidence interval.\n",
    "\n",
    "A confidence interval quantifies the uncertainty on an estimated population variable, such as the mean or standard deviation. Whereas a prediction interval quantifies the uncertainty on a single observation estimated from the population.\n",
    "\n",
    "In predictive modeling, a confidence interval can be used to quantify the uncertainty of the estimated skill of a model, whereas a prediction interval can be used to quantify the uncertainty of a single forecast.\n",
    "\n",
    "A prediction interval is often larger than the confidence interval as it must take the confidence interval and the variance in the output variable being predicted into account."
   ]
  },
  {
   "cell_type": "markdown",
   "metadata": {},
   "source": [
    "## How to Calculate a Prediction Interval\n",
    "A prediction interval is calculated as some combination of the estimated variance of the model and the variance of the outcome variable.\n",
    "\n",
    "Prediction intervals are easy to describe, but difficult to calculate in practice.\n",
    "\n",
    "In simple cases like linear regression, we can estimate the confidence interval directly.\n",
    "\n",
    "In the cases of nonlinear regression algorithms, such as artificial neural networks, it is a lot more challenging and requires the choice and implementation of specialized techniques. General techniques such as the bootstrap resampling method can be used, but are computationally expensive to calculate.\n",
    "\n",
    "The paper “A Comprehensive Review of Neural Network-based Prediction Intervals and New Advances” provides a reasonably recent study of prediction intervals for nonlinear models in the context of neural networks. The following list summarizes some methods that can be used for prediction uncertainty for nonlinear machine learning models:\n",
    "\n",
    "* The Delta Method, from the field of nonlinear regression.\n",
    "* The Bayesian Method, from Bayesian modeling and statistics.\n",
    "* The Mean-Variance Estimation Method, using estimated statistics.\n",
    "* The Bootstrap Method, using data resampling and developing an ensemble of models.\n",
    "\n",
    "We can make the calculation of a prediction interval concrete with a worked example in the next section.\n",
    "\n",
    "## Prediction Interval for Linear Regression\n",
    "A linear regression is a model that describes the linear combination of inputs to calculate the output variables.\n",
    "\n",
    "For example, an estimated linear regression model may be written as:"
   ]
  },
  {
   "cell_type": "code",
   "execution_count": null,
   "metadata": {
    "collapsed": true
   },
   "outputs": [],
   "source": [
    "yhat = b0 + b1 . x"
   ]
  },
  {
   "cell_type": "markdown",
   "metadata": {},
   "source": [
    "Where yhat is the prediction, b0 and b1 are coefficients of the model estimated from training data and x is the input variable.\n",
    "\n",
    "We do not know the true values of the coefficients b0 and b1. We also do not know the true population parameters such as mean and standard deviation for x or y. All of these elements must be estimated, which introduces uncertainty into the use of the model in order to make predictions.\n",
    "\n",
    "We can make some assumptions, such as the distributions of x and y and the prediction errors made by the model, called residuals, are Gaussian.\n",
    "\n",
    "The prediction interval around yhat can be calculated as follows:"
   ]
  },
  {
   "cell_type": "code",
   "execution_count": null,
   "metadata": {
    "collapsed": true
   },
   "outputs": [],
   "source": [
    "yhat +/- z * sigma"
   ]
  },
  {
   "cell_type": "markdown",
   "metadata": {},
   "source": [
    "Where yhat is the predicted value, z is the critical value from the Gaussian distribution (e.g. 1.96 for a 95% interval) and sigma is the standard deviation of the predicted distribution.\n",
    "\n",
    "We do not known in practice. We can calculate an unbiased estimate of the of the predicted standard deviation as follows (taken from Machine learning approaches for estimation of prediction interval for the model output):"
   ]
  },
  {
   "cell_type": "code",
   "execution_count": null,
   "metadata": {
    "collapsed": true
   },
   "outputs": [],
   "source": [
    "stdev = sqrt(1 / (N - 2) * e(i)^2 for i to N)"
   ]
  },
  {
   "cell_type": "markdown",
   "metadata": {},
   "source": [
    "Where stdev is an unbiased estimate of the standard deviation for the predicted distribution, n are the total predictions made, and e(i) is the difference between the ith prediction and actual value.\n",
    "\n",
    "## Worked Example\n",
    "Let’s make the case of linear regression prediction intervals concrete with a worked example.\n",
    "\n",
    "First, let’s define a simple two-variable dataset where the output variable (y) depends on the input variable (x) with some Gaussian noise.\n",
    "\n",
    "The example below defines the dataset we will use for this example."
   ]
  },
  {
   "cell_type": "code",
   "execution_count": 2,
   "metadata": {},
   "outputs": [
    {
     "name": "stdout",
     "output_type": "stream",
     "text": [
      "x: mean=100.776 stdv=19.620\n",
      "y: mean=151.050 stdv=22.358\n"
     ]
    },
    {
     "data": {
      "image/png": "[encoded data removed]",
      "text/plain": [
       "<matplotlib.figure.Figure at 0x106608240>"
      ]
     },
     "metadata": {},
     "output_type": "display_data"
    }
   ],
   "source": [
    "# generate related variables\n",
    "from numpy import mean\n",
    "from numpy import std\n",
    "from numpy.random import randn\n",
    "from numpy.random import seed\n",
    "from matplotlib import pyplot\n",
    "%matplotlib inline\n",
    "# seed random number generator\n",
    "seed(1)\n",
    "# prepare data\n",
    "x = 20 * randn(1000) + 100\n",
    "y = x + (10 * randn(1000) + 50)\n",
    "# summarize\n",
    "print('x: mean=%.3f stdv=%.3f' % (mean(x), std(x)))\n",
    "print('y: mean=%.3f stdv=%.3f' % (mean(y), std(y)))\n",
    "# plot\n",
    "pyplot.scatter(x, y)\n",
    "pyplot.show()"
   ]
  },
  {
   "cell_type": "markdown",
   "metadata": {},
   "source": [
    "Running the example first prints the mean and standard deviations of the two variables.\n",
    "\n",
    "A plot of the dataset is then created.\n",
    "\n",
    "We can see the clear linear relationship between the variables with the spread of the points highlighting the noise or random error in the relationship.\n",
    "\n",
    "Next, we can develop a simple linear regression that given the input variable x, will predict the y variable. We can use the linregress() SciPy function to fit the model and return the b0 and b1 coefficients for the model."
   ]
  },
  {
   "cell_type": "code",
   "execution_count": null,
   "metadata": {
    "collapsed": true
   },
   "outputs": [],
   "source": [
    "# fit linear regression model\n",
    "b1, b0, r_value, p_value, std_err = linregress(x, y)"
   ]
  },
  {
   "cell_type": "markdown",
   "metadata": {},
   "source": [
    "We can use the coefficients to calculate the predicted y values, called yhat, for each of the input variables. The resulting points will form a line that represents the learned relationship."
   ]
  },
  {
   "cell_type": "code",
   "execution_count": null,
   "metadata": {
    "collapsed": true
   },
   "outputs": [],
   "source": [
    "# make prediction\n",
    "yhat = b0 + b1 * x"
   ]
  },
  {
   "cell_type": "markdown",
   "metadata": {},
   "source": [
    "The complete example is listed below."
   ]
  },
  {
   "cell_type": "code",
   "execution_count": 3,
   "metadata": {},
   "outputs": [
    {
     "name": "stdout",
     "output_type": "stream",
     "text": [
      "b0=1.011, b1=49.117\n"
     ]
    },
    {
     "data": {
      "image/png": "[encoded data removed]",
      "text/plain": [
       "<matplotlib.figure.Figure at 0x10667cc50>"
      ]
     },
     "metadata": {},
     "output_type": "display_data"
    }
   ],
   "source": [
    "# simple linear regression model\n",
    "from numpy.random import randn\n",
    "from numpy.random import seed\n",
    "from scipy.stats import linregress\n",
    "from matplotlib import pyplot\n",
    "%matplotlib inline\n",
    "# seed random number generator\n",
    "seed(1)\n",
    "# prepare data\n",
    "x = 20 * randn(1000) + 100\n",
    "y = x + (10 * randn(1000) + 50)\n",
    "# fit linear regression model\n",
    "b1, b0, r_value, p_value, std_err = linregress(x, y)\n",
    "print('b0=%.3f, b1=%.3f' % (b1, b0))\n",
    "# make prediction\n",
    "yhat = b0 + b1 * x\n",
    "# plot data and predictions\n",
    "pyplot.scatter(x, y)\n",
    "pyplot.plot(x, yhat, color='r')\n",
    "pyplot.show()"
   ]
  },
  {
   "cell_type": "markdown",
   "metadata": {},
   "source": [
    "Running the example fits the model and prints the coefficients.\n",
    "\n",
    "The coefficients are then used with the inputs from the dataset to make a prediction. The resulting inputs and predicted y-values are plotted as a line on top of the scatter plot for the dataset.\n",
    "\n",
    "We can clearly see that the model has learned the underlying relationship in the dataset.\n",
    "\n",
    "We are now ready to make a prediction with our simple linear regression model and add a prediction interval.\n",
    "\n",
    "We will fit the model as before. This time we will take one sample from the dataset to demonstrate the prediction interval. We will use the input to make a prediction, calculate the prediction interval for the prediction, and compare the prediction and interval to the known expected value.\n",
    "\n",
    "First, let’s define the input, prediction, and expected values."
   ]
  },
  {
   "cell_type": "code",
   "execution_count": null,
   "metadata": {
    "collapsed": true
   },
   "outputs": [],
   "source": [
    "x_in = x[0]\n",
    "y_out = y[0]\n",
    "yhat_out = yhat[0]"
   ]
  },
  {
   "cell_type": "markdown",
   "metadata": {},
   "source": [
    "Next, we can estimate the standard deviation in the prediction direction."
   ]
  },
  {
   "cell_type": "code",
   "execution_count": null,
   "metadata": {
    "collapsed": true
   },
   "outputs": [],
   "source": [
    "SE = sqrt(1 / (N - 2) * e(i)^2 for i to N)"
   ]
  },
  {
   "cell_type": "markdown",
   "metadata": {},
   "source": [
    "We can calculate this directly using the NumPy arrays as follows:"
   ]
  },
  {
   "cell_type": "code",
   "execution_count": null,
   "metadata": {
    "collapsed": true
   },
   "outputs": [],
   "source": [
    "# estimate stdev of yhat\n",
    "sum_errs = arraysum((y - yhat)**2)\n",
    "stdev = sqrt(1/(len(y)-2) * sum_errs)"
   ]
  },
  {
   "cell_type": "markdown",
   "metadata": {},
   "source": [
    "Next, we can calculate the prediction interval for our chosen input:"
   ]
  },
  {
   "cell_type": "code",
   "execution_count": null,
   "metadata": {
    "collapsed": true
   },
   "outputs": [],
   "source": [
    "interval = z . stdev"
   ]
  },
  {
   "cell_type": "markdown",
   "metadata": {},
   "source": [
    "We will use the significance level of 95%, which is the Gaussian critical value of 1.69.\n",
    "\n",
    "Once the interval is calculated, we can summarize the bounds on the prediction to the user."
   ]
  },
  {
   "cell_type": "code",
   "execution_count": null,
   "metadata": {
    "collapsed": true
   },
   "outputs": [],
   "source": [
    "# calculate prediction interval\n",
    "interval = 1.96 * stdev\n",
    "lower, upper = y_out - interval, y_out + interval"
   ]
  },
  {
   "cell_type": "markdown",
   "metadata": {},
   "source": [
    "We can tie all of this together. The complete example is listed below."
   ]
  },
  {
   "cell_type": "code",
   "execution_count": 4,
   "metadata": {},
   "outputs": [
    {
     "name": "stdout",
     "output_type": "stream",
     "text": [
      "Prediction Interval: 20.204\n",
      "95% likelihood that the true value is between 160.750 and 201.159\n",
      "True value: 183.124\n"
     ]
    },
    {
     "data": {
      "image/png": "[encoded data removed]",
      "text/plain": [
       "<matplotlib.figure.Figure at 0x10669c438>"
      ]
     },
     "metadata": {},
     "output_type": "display_data"
    }
   ],
   "source": [
    "# linear regression prediction with prediction interval\n",
    "from numpy.random import randn\n",
    "from numpy.random import seed\n",
    "from numpy import power\n",
    "from numpy import sqrt\n",
    "from numpy import mean\n",
    "from numpy import std\n",
    "from numpy import sum as arraysum\n",
    "from scipy.stats import linregress\n",
    "from matplotlib import pyplot\n",
    "%matplotlib inline\n",
    "# seed random number generator\n",
    "seed(1)\n",
    "# prepare data\n",
    "x = 20 * randn(1000) + 100\n",
    "y = x + (10 * randn(1000) + 50)\n",
    "# fit linear regression model\n",
    "b1, b0, r_value, p_value, std_err = linregress(x, y)\n",
    "# make predictions\n",
    "yhat = b0 + b1 * x\n",
    "# define new input, expected value and prediction\n",
    "x_in = x[0]\n",
    "y_out = y[0]\n",
    "yhat_out = yhat[0]\n",
    "# estimate stdev of yhat\n",
    "sum_errs = arraysum((y - yhat)**2)\n",
    "stdev = sqrt(1/(len(y)-2) * sum_errs)\n",
    "# calculate prediction interval\n",
    "interval = 1.96 * stdev\n",
    "print('Prediction Interval: %.3f' % interval)\n",
    "lower, upper = y_out - interval, y_out + interval\n",
    "print('95%% likelihood that the true value is between %.3f and %.3f' % (lower, upper))\n",
    "print('True value: %.3f' % yhat_out)\n",
    "# plot dataset and prediction with interval\n",
    "pyplot.scatter(x, y)\n",
    "pyplot.plot(x, yhat, color='red')\n",
    "pyplot.errorbar(x_in, yhat_out, yerr=interval, color='black', fmt='o')\n",
    "pyplot.show()"
   ]
  },
  {
   "cell_type": "markdown",
   "metadata": {},
   "source": [
    "Running the example estimates the yhat standard deviation and then calculates the confidence interval.\n",
    "\n",
    "Once calculated, the prediction interval is presented to the user for the given input variable. Because we contrived this example, we know the true outcome, which we also display. We can see that in this case, the 95% prediction interval does cover the true expected value.\n",
    "\n",
    "A plot is also created showing the raw dataset as a scatter plot, the predictions for the dataset as a red line, and the prediction and prediction interval as a black dot and line respectively.\n",
    "\n",
    "## Summary\n",
    "In this tutorial, you discovered the prediction interval and how to calculate it for a simple linear regression model.\n",
    "\n",
    "Specifically, you learned:\n",
    "\n",
    "* That a prediction interval quantifies the uncertainty of a single point prediction.\n",
    "* That prediction intervals can be estimated analytically for simple models but are more challenging for nonlinear machine learning models.\n",
    "* How to calculate the prediction interval for a simple linear regression model."
   ]
  }
 ],
 "metadata": {
  "kernelspec": {
   "display_name": "Python 3",
   "language": "python",
   "name": "python3"
  },
  "language_info": {
   "codemirror_mode": {
    "name": "ipython",
    "version": 3
   },
   "file_extension": ".py",
   "mimetype": "text/x-python",
   "name": "python",
   "nbconvert_exporter": "python",
   "pygments_lexer": "ipython3",
   "version": "3.6.4"
  }
 },
 "nbformat": 4,
 "nbformat_minor": 2
}
