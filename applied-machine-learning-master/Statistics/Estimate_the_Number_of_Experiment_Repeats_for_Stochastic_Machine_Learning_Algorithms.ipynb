{
 "cells": [
  {
   "cell_type": "markdown",
   "metadata": {},
   "source": [
    "# Estimate the Number of Experiment Repeats for Stochastic Machine Learning Algorithms\n",
    "A problem with many stochastic machine learning algorithms is that different runs of the same algorithm on the same data return different results.\n",
    "\n",
    "This means that when performing experiments to configure a stochastic algorithm or compare algorithms, you must collect multiple results and use the average performance to summarize the skill of the model.\n",
    "\n",
    "This raises the question as to how many repeats of an experiment are enough to sufficiently characterize the skill of a stochastic machine learning algorithm for a given problem.\n",
    "\n",
    "It is often recommended to use 30 or more repeats, or even 100. Some practitioners use thousands of repeats that seemingly push beyond the idea of diminishing returns.\n",
    "\n",
    "In this tutorial, you will explore the statistical methods that you can use to estimate the right number of repeats to effectively characterize the performance of your stochastic machine learning algorithm.\n",
    "\n",
    "Let’s get started."
   ]
  },
  {
   "cell_type": "markdown",
   "metadata": {},
   "source": [
    "## Tutorial Overview\n",
    "This tutorial is broken down into 4 parts. They are:\n",
    "\n",
    "1. Generate Data.\n",
    "2. Basic Analysis.\n",
    "3. Impact of the Number of Repeats.\n",
    "4. Calculate Standard Error.\n",
    "\n",
    "This tutorial assumes you have a working Python 2 or 3 SciPy environment installed with NumPy, Pandas and Matplotlib.\n",
    "\n",
    "## 1. Generate Data\n",
    "The first step is to generate some data.\n",
    "\n",
    "We will pretend that we have fit a neural network or some other stochastic algorithm to a training dataset 1000 times and collected the final RMSE score on a dataset. We will further assume that the data is normally distributed, which is a requirement for the type of analysis we will use in this tutorial.\n",
    "\n",
    "Always check the distribution of your results; more often than not the results will be Gaussian.\n",
    "\n",
    "We will generate a population of results to analyze. This is useful as we will know the true population mean and standard deviation, which we would not know in a real scenario.\n",
    "\n",
    "We will use a mean score of 60 with a standard deviation of 10.\n",
    "\n",
    "The code below generates the sample of 1000 random results and saves them to a CSV file called results.csv.\n",
    "\n",
    "We use the seed() function to seed the random number generator to ensure that we always get the same results each time this code is run (so you get the same numbers I do). We then use the normal() function to generate Gaussian random numbers and the savetxt() function to save the array of numbers in ASCII format."
   ]
  },
  {
   "cell_type": "code",
   "execution_count": 1,
   "metadata": {
    "collapsed": true
   },
   "outputs": [],
   "source": [
    "from numpy.random import seed\n",
    "from numpy.random import normal\n",
    "from numpy import savetxt\n",
    "# define underlying distribution of results\n",
    "mean = 60\n",
    "stev = 10\n",
    "# generate samples from ideal distribution\n",
    "seed(1)\n",
    "results = normal(mean, stev, 1000)\n",
    "# save to ASCII file\n",
    "savetxt('results.csv', results)"
   ]
  },
  {
   "cell_type": "markdown",
   "metadata": {},
   "source": [
    "You should now have a file called *results.csv* with 1000 final results from our pretend stochastic algorithm test harness.\n",
    "\n",
    "We will forget that we know how these fake results were generated for the time being.\n",
    "\n",
    "## 2. Basic Analysis\n",
    "The first step when we have a population of results is to do some basic statistical analysis and see what we have.\n",
    "\n",
    "Three useful tools for basic analysis include:\n",
    "\n",
    "1. Calculate summary statistics, such as mean, standard deviation, and percentiles.\n",
    "2. Review the spread of the data using a box and whisker plot.\n",
    "3. Review the distribution of the data using a histogram.\n",
    "\n",
    "The code below performs this basic analysis. First the *results.csv* is loaded, summary statistics are calculated, and plots are shown."
   ]
  },
  {
   "cell_type": "code",
   "execution_count": 2,
   "metadata": {},
   "outputs": [
    {
     "name": "stdout",
     "output_type": "stream",
     "text": [
      "                 0\n",
      "count  1000.000000\n",
      "mean     60.388125\n",
      "std       9.814950\n",
      "min      29.462356\n",
      "25%      53.998396\n",
      "50%      60.412926\n",
      "75%      67.039989\n",
      "max      99.586027\n"
     ]
    },
    {
     "data": {
      "image/png": "[encoded data removed]",
      "text/plain": [
       "<matplotlib.figure.Figure at 0x10542d400>"
      ]
     },
     "metadata": {},
     "output_type": "display_data"
    },
    {
     "data": {
      "image/png": "[encoded data removed]",
      "text/plain": [
       "<matplotlib.figure.Figure at 0x107f670f0>"
      ]
     },
     "metadata": {},
     "output_type": "display_data"
    }
   ],
   "source": [
    "from pandas import DataFrame\n",
    "from pandas import read_csv\n",
    "from numpy import mean\n",
    "from numpy import std\n",
    "from matplotlib import pyplot\n",
    "%matplotlib inline\n",
    "# load results file\n",
    "results = read_csv('results.csv', header=None)\n",
    "# descriptive stats\n",
    "print(results.describe())\n",
    "# box and whisker plot\n",
    "results.boxplot()\n",
    "pyplot.show()\n",
    "# histogram\n",
    "results.hist()\n",
    "pyplot.show()"
   ]
  },
  {
   "cell_type": "markdown",
   "metadata": {},
   "source": [
    "Running the example first prints the summary statistics.\n",
    "\n",
    "We can see that the average performance of the algorithm is about 60.3 units with a standard deviation of about 9.8.\n",
    "\n",
    "If we assume the score is a minimizing score like RMSE, we can see that the worst performance was about 99.5 and the best performance was about 29.4.\n",
    "\n",
    "A box and whisker plot is created to summarize the spread of the data, showing the middle 50% (box), outliers (dots), and the median (green line).\n",
    "\n",
    "We can see that the spread of the results appears reasonable even around the median.\n",
    "\n",
    "Finally, a histogram of the results is created. We can see the tell-tale bell curve shape of the Gaussian distribution, which is a good sign as it means we can use the standard statistical tools.\n",
    "\n",
    "We do not see any obvious skew to the distribution; it seems centered around 60 or so.\n",
    "\n",
    "## 3. Impact of the Number of Repeats\n",
    "We have a lot of results, 1000 to be exact.\n",
    "\n",
    "This may be far more results than we need, or not enough.\n",
    "\n",
    "How do we know?\n",
    "\n",
    "We can get a first-cut idea by plotting the number of repeats of an experiment against the average of scores from those repeats.\n",
    "\n",
    "We would expect that as the number of repeats of the experiment increase, the average score would quickly stabilize. It should produce a plot that is initially noisy with a long tail of stability.\n",
    "\n",
    "The code below creates this graph."
   ]
  },
  {
   "cell_type": "code",
   "execution_count": 3,
   "metadata": {},
   "outputs": [
    {
     "data": {
      "image/png": "[encoded data removed]",
      "text/plain": [
       "<matplotlib.figure.Figure at 0x10542d358>"
      ]
     },
     "metadata": {},
     "output_type": "display_data"
    }
   ],
   "source": [
    "from pandas import DataFrame\n",
    "from pandas import read_csv\n",
    "from numpy import mean\n",
    "from matplotlib import pyplot\n",
    "%matplotlib inline\n",
    "import numpy\n",
    "# load results file\n",
    "results = read_csv('results.csv', header=None)\n",
    "values = results.values\n",
    "# collect cumulative stats\n",
    "means = list()\n",
    "for i in range(1,len(values)+1):\n",
    "\tdata = values[0:i, 0]\n",
    "\tmean_rmse = mean(data)\n",
    "\tmeans.append(mean_rmse)\n",
    "# line plot of cumulative values\n",
    "pyplot.plot(means)\n",
    "pyplot.show()"
   ]
  },
  {
   "cell_type": "markdown",
   "metadata": {},
   "source": [
    "The plot indeed shows a period of noisy average results for perhaps the first 200 repeats until it becomes stable. It appears to become even more stable after perhaps 600 repeats.\n",
    "\n",
    "We can zoom in on this graph to the first 500 repeats to see if we can better understand what is happening.\n",
    "\n",
    "We can also overlay the final mean score (mean from all 1000 runs) and attempt to locate a point of diminishing returns."
   ]
  },
  {
   "cell_type": "code",
   "execution_count": 4,
   "metadata": {},
   "outputs": [
    {
     "data": {
      "image/png": "[encoded data removed]",
      "text/plain": [
       "<matplotlib.figure.Figure at 0x10324a6a0>"
      ]
     },
     "metadata": {},
     "output_type": "display_data"
    }
   ],
   "source": [
    "from pandas import DataFrame\n",
    "from pandas import read_csv\n",
    "from numpy import mean\n",
    "from matplotlib import pyplot\n",
    "%matplotlib inline\n",
    "import numpy\n",
    "# load results file\n",
    "results = read_csv('results.csv', header=None)\n",
    "values = results.values\n",
    "final_mean = mean(values)\n",
    "# collect cumulative stats\n",
    "means = list()\n",
    "for i in range(1,501):\n",
    "\tdata = values[0:i, 0]\n",
    "\tmean_rmse = mean(data)\n",
    "\tmeans.append(mean_rmse)\n",
    "# line plot of cumulative values\n",
    "pyplot.plot(means)\n",
    "pyplot.plot([final_mean for x in range(len(means))])\n",
    "pyplot.show()"
   ]
  },
  {
   "cell_type": "markdown",
   "metadata": {},
   "source": [
    "The orange line shows the mean of all 1000 runs.\n",
    "\n",
    "We can see that 100 runs might be one good point to stop, otherwise perhaps 400 for a more refined result, but only slightly.\n",
    "\n",
    "This is a good start, but can we do better?\n",
    "\n",
    "## 4. Calculate Standard Error\n",
    "Standard error is a calculation of how much the “sample mean” differences from the “population mean”.\n",
    "\n",
    "This is different from standard deviation that describes the average amount of variation of observations within a sample.\n",
    "\n",
    "The standard error can provide an indication for a given sample size the amount of error or the spread of error that may be expected from the sample mean to the underlying and unknown population mean.\n",
    "\n",
    "Standard error can be calculated as follows:"
   ]
  },
  {
   "cell_type": "code",
   "execution_count": null,
   "metadata": {
    "collapsed": true
   },
   "outputs": [],
   "source": [
    "standard_error = sample_standard_deviation / sqrt(number of repeats)"
   ]
  },
  {
   "cell_type": "markdown",
   "metadata": {},
   "source": [
    "That is in this context the standard deviation of the sample of model scores divided by the square root of the total number of repeats.\n",
    "\n",
    "We would expect the standard error to decrease with the number of repeats of the experiment.\n",
    "\n",
    "Given the results, we can calculate the standard error for the sample mean from the population mean at each number of repeats. The full code listing is provided below."
   ]
  },
  {
   "cell_type": "code",
   "execution_count": 5,
   "metadata": {},
   "outputs": [
    {
     "data": {
      "image/png": "[encoded data removed]",
      "text/plain": [
       "<matplotlib.figure.Figure at 0x1082da3c8>"
      ]
     },
     "metadata": {},
     "output_type": "display_data"
    }
   ],
   "source": [
    "from pandas import read_csv\n",
    "from numpy import std\n",
    "from numpy import mean\n",
    "from matplotlib import pyplot\n",
    "%matplotlib inline\n",
    "from math import sqrt\n",
    "# load results file\n",
    "results = read_csv('results.csv', header=None)\n",
    "values = results.values\n",
    "# collect cumulative stats\n",
    "std_errors = list()\n",
    "for i in range(1,len(values)+1):\n",
    "\tdata = values[0:i, 0]\n",
    "\tstderr = std(data) / sqrt(len(data))\n",
    "\tstd_errors.append(stderr)\n",
    "# line plot of cumulative values\n",
    "pyplot.plot(std_errors)\n",
    "pyplot.show()"
   ]
  },
  {
   "cell_type": "markdown",
   "metadata": {},
   "source": [
    "A line plot of standard error vs the number of repeats is created.\n",
    "\n",
    "We can see that, as expected, as the number of repeats is increased, the standard error decreases. We can also see that there will be a point of acceptable error, say one or two units.\n",
    "\n",
    "The units for standard error are the same as the units of the model skill.\n",
    "\n",
    "We can recreate the above graph and draw the 0.5 and 1 units as guides that can be used to find an acceptable level of error."
   ]
  },
  {
   "cell_type": "code",
   "execution_count": 6,
   "metadata": {},
   "outputs": [
    {
     "data": {
      "image/png": "[encoded data removed]",
      "text/plain": [
       "<matplotlib.figure.Figure at 0x108217748>"
      ]
     },
     "metadata": {},
     "output_type": "display_data"
    }
   ],
   "source": [
    "from pandas import read_csv\n",
    "from numpy import std\n",
    "from numpy import mean\n",
    "from matplotlib import pyplot\n",
    "%matplotlib inline\n",
    "from math import sqrt\n",
    "# load results file\n",
    "results = read_csv('results.csv', header=None)\n",
    "values = results.values\n",
    "# collect cumulative stats\n",
    "std_errors = list()\n",
    "for i in range(1,len(values)+1):\n",
    "\tdata = values[0:i, 0]\n",
    "\tstderr = std(data) / sqrt(len(data))\n",
    "\tstd_errors.append(stderr)\n",
    "# line plot of cumulative values\n",
    "pyplot.plot(std_errors)\n",
    "pyplot.plot([0.5 for x in range(len(std_errors))], color='red')\n",
    "pyplot.plot([1 for x in range(len(std_errors))], color='red')\n",
    "pyplot.show()"
   ]
  },
  {
   "cell_type": "markdown",
   "metadata": {},
   "source": [
    "Again, we see the same line plot of standard error with red guidelines at a standard error of 1 and 0.5.\n",
    "\n",
    "We can see that if a standard error of 1 was acceptable, then perhaps about 100 repeats would be sufficient. If a standard error of 0.5 was acceptable, perhaps 300-350 repeats would be sufficient.\n",
    "\n",
    "We can see that the number of repeats quickly reaches a point of diminishing returns on standard error.\n",
    "\n",
    "Again, remember, that standard error is a measure of how much the mean of the sample of model skill scores is wrong compared to the true underlying population of possible scores for a given model configuration given random initial conditions.\n",
    "\n",
    "We can also use standard error as a confidence interval on the mean model skill.\n",
    "\n",
    "For example, that the unknown population mean performance of a model has a likelihood of 95% of being between an upper and lower bound.\n",
    "\n",
    "Note that this method is only appropriate for modest and large numbers of repeats, such as 20 or more.\n",
    "\n",
    "The confidence interval can be defined as:"
   ]
  },
  {
   "cell_type": "code",
   "execution_count": null,
   "metadata": {
    "collapsed": true
   },
   "outputs": [],
   "source": [
    "sample mean +/- (standard error * 1.96)"
   ]
  },
  {
   "cell_type": "markdown",
   "metadata": {},
   "source": [
    "We can calculate this confidence interval and add it to the sample mean for each number of repeats as error bars.\n",
    "\n",
    "The full code listing is provided below."
   ]
  },
  {
   "cell_type": "code",
   "execution_count": 7,
   "metadata": {},
   "outputs": [
    {
     "data": {
      "image/png": "[encoded data removed]",
      "text/plain": [
       "<matplotlib.figure.Figure at 0x108073550>"
      ]
     },
     "metadata": {},
     "output_type": "display_data"
    }
   ],
   "source": [
    "from pandas import read_csv\n",
    "from numpy import std\n",
    "from numpy import mean\n",
    "from matplotlib import pyplot\n",
    "%matplotlib inline\n",
    "from math import sqrt\n",
    "# load results file\n",
    "results = read_csv('results.csv', header=None)\n",
    "values = results.values\n",
    "# collect cumulative stats\n",
    "means, confidence = list(), list()\n",
    "n = len(values) + 1\n",
    "for i in range(20,n):\n",
    "\tdata = values[0:i, 0]\n",
    "\tmean_rmse = mean(data)\n",
    "\tstderr = std(data) / sqrt(len(data))\n",
    "\tconf = stderr * 1.96\n",
    "\tmeans.append(mean_rmse)\n",
    "\tconfidence.append(conf)\n",
    "# line plot of cumulative values\n",
    "pyplot.errorbar(range(20, n), means, yerr=confidence)\n",
    "pyplot.plot(range(20, n), [60 for x in range(len(means))], color='red')\n",
    "pyplot.show()"
   ]
  },
  {
   "cell_type": "markdown",
   "metadata": {},
   "source": [
    "A line plot is created showing the mean sample value for each number of repeats with error bars showing the confidence interval of each mean value capturing the unknown underlying population mean.\n",
    "\n",
    "A read line is drawn showing the actual population mean (known only because we contrived the model skill scores at the beginning of the tutorial). As a surrogate for the population mean, you could add a line of the final sample mean after 1000 repeats or more.\n",
    "\n",
    "The error bars obscure the line of the mean scores. We can see that the mean overestimates the population mean but the 95% confidence interval captures the population mean.\n",
    "\n",
    "Note that a 95% confidence interval means that 95 out of 100 sample means with the interval will capture the population mean, and 5 such sample means and confidence intervals will not.\n",
    "\n",
    "We can see that the 95% confidence interval does appear to tighten up with the increase of repeats as the standard error decreases, but there is perhaps diminishing returns beyond 500 repeats.\n",
    "\n",
    "We can get a clearer idea of what is going on by zooming this graph in, highlighting repeats from 20 to 200."
   ]
  },
  {
   "cell_type": "code",
   "execution_count": 8,
   "metadata": {},
   "outputs": [
    {
     "data": {
      "image/png": "[encoded data removed]",
      "text/plain": [
       "<matplotlib.figure.Figure at 0x104787828>"
      ]
     },
     "metadata": {},
     "output_type": "display_data"
    }
   ],
   "source": [
    "from pandas import read_csv\n",
    "from numpy import std\n",
    "from numpy import mean\n",
    "from matplotlib import pyplot\n",
    "%matplotlib inline\n",
    "from math import sqrt\n",
    "# load results file\n",
    "results = read_csv('results.csv', header=None)\n",
    "values = results.values\n",
    "# collect cumulative stats\n",
    "means, confidence = list(), list()\n",
    "n = 200 + 1\n",
    "for i in range(20,n):\n",
    "\tdata = values[0:i, 0]\n",
    "\tmean_rmse = mean(data)\n",
    "\tstderr = std(data) / sqrt(len(data))\n",
    "\tconf = stderr * 1.96\n",
    "\tmeans.append(mean_rmse)\n",
    "\tconfidence.append(conf)\n",
    "# line plot of cumulative values\n",
    "pyplot.errorbar(range(20, n), means, yerr=confidence)\n",
    "pyplot.plot(range(20, n), [60 for x in range(len(means))], color='red')\n",
    "pyplot.show()"
   ]
  },
  {
   "cell_type": "markdown",
   "metadata": {},
   "source": [
    "In the line plot created, we can clearly see the sample mean and the symmetrical error bars around it. This plot does do a better job of showing the bias in the sample mean.\n",
    "\n",
    "## Summary\n",
    "In this tutorial, you discovered techniques that you can use to help choose the number of repeats that is right for evaluating stochastic machine learning algorithms.\n",
    "\n",
    "You discovered a number of methods that you can use immediately:\n",
    "\n",
    "* A rough guess of 30, 100, or 1000 repeats.\n",
    "* Plot of sample mean vs number of repeats and choose based on inflection point.\n",
    "* Plot of standard error vs number of repeats and choose based on error threshold.\n",
    "* Plot of sample confidence interval vs number of repeats and choose based on spread of error."
   ]
  }
 ],
 "metadata": {
  "kernelspec": {
   "display_name": "Python 3",
   "language": "python",
   "name": "python3"
  },
  "language_info": {
   "codemirror_mode": {
    "name": "ipython",
    "version": 3
   },
   "file_extension": ".py",
   "mimetype": "text/x-python",
   "name": "python",
   "nbconvert_exporter": "python",
   "pygments_lexer": "ipython3",
   "version": "3.6.4"
  }
 },
 "nbformat": 4,
 "nbformat_minor": 2
}
