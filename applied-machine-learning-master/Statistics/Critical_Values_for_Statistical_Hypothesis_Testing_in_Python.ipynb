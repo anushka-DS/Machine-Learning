{
 "cells": [
  {
   "cell_type": "markdown",
   "metadata": {},
   "source": [
    "In is common, if not standard, to interpret the results of statistical hypothesis tests using a p-value.\n",
    "\n",
    "Not all implementations of statistical tests return p-values. In some cases, you must use alternatives, such as critical values. In addition, critical values are used when estimating the expected intervals for observations from a population, such as in tolerance intervals.\n",
    "\n",
    "In this tutorial, you will discover critical values, why they are important, how they are used, and how to calculate them in Python using SciPy.\n",
    "\n",
    "After completing this tutorial, you will know:\n",
    "\n",
    "* Examples of statistical hypothesis tests and their distributions from which critical values can be calculated and used.\n",
    "* How exactly critical values are used on one-tail and two-tail statistical hypothesis tests.\n",
    "* How to calculate critical values for the Gaussian, Student’s t, and Chi-Squared distributions.\n",
    "\n",
    "Let’s get started."
   ]
  },
  {
   "cell_type": "markdown",
   "metadata": {},
   "source": [
    "## Tutorial Overview\n",
    "This tutorial is divided into 4 parts; they are:\n",
    "\n",
    "1. Why Do We Need Critical Values?\n",
    "2. What Is a Critical Value?\n",
    "3. How to Use Critical Values\n",
    "4. How to Calculate Critical Values\n",
    "\n",
    "## Why Do We Need Critical Values?\n",
    "Many statistical hypothesis tests return a p-value that is used to interpret the outcome of the test.\n",
    "\n",
    "Some tests do not return a p-value, requiring an alternative method for interpreting the calculated test statistic directly.\n",
    "\n",
    "A statistic calculated by a statistical hypothesis test can be interpreted using critical values from the distribution of the test statistic.\n",
    "\n",
    "Some examples of statistical hypothesis tests and their distributions from which critical values can be calculated are as follows:\n",
    "\n",
    "* **Z-Test**: Gaussian distribution.\n",
    "* **Student t-Test**: Student’s t-distribution.\n",
    "* **Chi-Squared Test**: Chi-Squared distribution.\n",
    "* **ANOVA**: F-distribution.\n",
    "\n",
    "Critical values are also used when defining intervals for expected (or unexpected) observations in distributions. Calculating and using critical values may be appropriate when quantifying the uncertainty of estimated statistics or intervals such as confidence intervals and tolerance intervals.\n",
    "\n",
    "## What Is a Critical Value?\n",
    "A critical value is defined in the context of the population distribution and a probability.\n",
    "\n",
    "An observation from the population with a value equal to or lesser than a critical value with the given probability.\n",
    "\n",
    "We can express this mathematically as follows:"
   ]
  },
  {
   "cell_type": "code",
   "execution_count": null,
   "metadata": {
    "collapsed": true
   },
   "outputs": [],
   "source": [
    "Pr[X <= critical value] = probability"
   ]
  },
  {
   "cell_type": "markdown",
   "metadata": {},
   "source": [
    "Where Pr is the calculation of probability, X are observations from the population, critica_value is the calculated critical value, and probability is the chosen probability.\n",
    "\n",
    "Critical values are calculated using a mathematical function where the probability is provided as an argument. For most common distributions, the value cannot be calculated analytically; instead it must be estimated using numerical methods. Historically it is common for tables of pre-calculated critical values to be provided in the appendices of statistics textbooks for reference purposes.\n",
    "\n",
    "Critical values are used in statistical significance testing. The probability is often expressed as a significance, denoted as the lowercase Greek letter alpha (a), which is the inverted probability."
   ]
  },
  {
   "cell_type": "code",
   "execution_count": null,
   "metadata": {
    "collapsed": true
   },
   "outputs": [],
   "source": [
    "probability = 1 - alpha"
   ]
  },
  {
   "cell_type": "markdown",
   "metadata": {},
   "source": [
    "Standard alpha values are used when calculating critical values, chosen for historical reasons and continually used for consistency reasons. These alpha values include:\n",
    "\n",
    "* 1% (alpha=0.01)\n",
    "* 5% (alpha=0.05)\n",
    "* 10% (alpha=0.10)\n",
    "\n",
    "Critical values provide an alternative and equivalent way to interpret statistical hypothesis tests to the p-value.\n",
    "\n",
    "## How to Use Critical Values\n",
    "Calculated critical values are used as a threshold for interpreting the result of a statistical test.\n",
    "\n",
    "The observation values in the population beyond the critical value are often called the “critical region” or the “region of rejection“.\n",
    "\n",
    "A statistical test may be one-tailed or two-tailed.\n",
    "\n",
    "### One-Tailed Test\n",
    "A one-tailed test has a single critical value, such as on the left or the right of the distribution.\n",
    "\n",
    "Often, a one-tailed test has a critical value on the right of the distribution for non-symmetrical distributions (such as the Chi-Squared distribution).\n",
    "\n",
    "The statistic is compared to the calculated critical value. If the statistic is less than or equal to the critical value, the null hypothesis of the statistical test is failed to be rejected. Otherwise it is rejected.\n",
    "\n",
    "We can summarize this interpretation as follows:\n",
    "\n",
    "* **Test Statistic < Critical Value**: Fail to reject the null hypothesis of the statistical test.\n",
    "* **Test Statistic => Critical Value**: Reject the null hypothesis of the statistical test.\n",
    "\n",
    "### Two-Tailed Test\n",
    "A two-tailed test has two critical values, one on each side of the distribution, which is often assumed to be symmetrical (e.g. Gaussian and Student-t distributions.).\n",
    "\n",
    "When using a two-tailed test, a significance level (or alpha) used in the calculation of the critical values must be divided by 2. The critical value will then use a portion of this alpha on each side of the distribution.\n",
    "\n",
    "To make this concrete, consider an alpha of 5%. This would be split to give two alpha values of 2.5% on either side of the distribution with an acceptance area in the middle of the distribution of 95%.\n",
    "\n",
    "We can refer to each critical value as the lower and upper critical values for the left and right of the distribution respectively. Test statistic values more than or equal to the lower critical value and less than or equal to the upper critical value indicate the failure to reject the null hypothesis. Whereas test statistic values less than the lower critical value and more than the upper critical value indicate rejection of the null hypothesis for the test.\n",
    "\n",
    "We can summarize this interpretation as follows:\n",
    "\n",
    "* **Lower CR < Test Statistic < Upper CR**: Failure to reject the null hypothesis of the statistical test.\n",
    "* **Test Statistic <= Lower CR OR Test Statistic >= Upper CR**: Reject the null hypothesis of the statistical test.\n",
    "\n",
    "If the distribution of the test statistic is symmetric around a mean of zero, then we can shortcut the check by comparing the absolute (positive) value of the test statistic to the upper critical value.\n",
    "\n",
    "* **|Test Statistic| < Upper Critical Value**: Failure to reject the null hypothesis of the statistical test.\n",
    "Where |Test Statistic| is the absolute value of the calculated test statistic."
   ]
  },
  {
   "cell_type": "markdown",
   "metadata": {},
   "source": [
    "## How to Calculate Critical Values\n",
    "Density functions return the probability of an observation in the distribution. Recall the definitions of the PDF and CDF as follows:\n",
    "\n",
    "* **Probability Density Function (PDF)**: Returns the probability for an observation having a specific value from the distribution.\n",
    "* **Cumulative Density Function (CDF)**: Returns the probability for an observation equal to or lesser than a specific value from the distribution.\n",
    "\n",
    "In order to calculate a critical value, we require a function that, given a probability (or significance), will return the observation value from the distribution.\n",
    "\n",
    "Specifically, we require the inverse of the cumulative density function, where given a probability, we are given the observation value that is less than or equal to the probability. This is called the percent point function (PPF), or more generally the quantile function.\n",
    "\n",
    "* **Percent Point Function (PPF)**: Returns the observation value for the provided probability that is less than or equal to the provided probability from the distribution.\n",
    "\n",
    "Specifically, a value from the distribution will equal or be less than the value returned from the PPF with the specified probability.\n",
    "\n",
    "Let’s make this concrete with three distributions from which it is commonly required to calculate critical values. Namely, the Gaussian distribution, Student’s t-distribution, and the Chi-squared distribution.\n",
    "\n",
    "We can calculate the percent point function in SciPy using the ppf() function on a given distribution. It should also be noted that you can also calculate the ppf() using the inverse survival function called isf() in SciPy. This is mentioned as you may see use of this alternate approach in third party code.\n",
    "\n",
    "## Gaussian Critical Values\n",
    "The example below calculates the percent point function for 95% on the standard Gaussian distribution."
   ]
  },
  {
   "cell_type": "code",
   "execution_count": 1,
   "metadata": {},
   "outputs": [
    {
     "name": "stdout",
     "output_type": "stream",
     "text": [
      "1.6448536269514722\n",
      "0.95\n"
     ]
    }
   ],
   "source": [
    "# Gaussian Percent Point Function\n",
    "from scipy.stats import norm\n",
    "# define probability\n",
    "p = 0.95\n",
    "# retrieve value <= probability\n",
    "value = norm.ppf(p)\n",
    "print(value)\n",
    "# confirm with cdf\n",
    "p = norm.cdf(value)\n",
    "print(p)"
   ]
  },
  {
   "cell_type": "markdown",
   "metadata": {},
   "source": [
    "Running the example first prints the value that marks 95% or less of the observations from the distribution of about 1.65. This value is then confirmed by retrieving the probability of the observation from the CDF, which returns 95%, as expected.\n",
    "\n",
    "We can see that the value 1.65 aligns with our expectation with regard to the number of standard deviations from the mean that cover 95% of the distribution in the 68–95–99.7 rule.\n",
    "\n",
    "### Student’s t Critical Values\n",
    "The example below calculates the percentage point function for 95% on the standard Student’s t-distribution with 10 degrees of freedom."
   ]
  },
  {
   "cell_type": "code",
   "execution_count": 2,
   "metadata": {},
   "outputs": [
    {
     "name": "stdout",
     "output_type": "stream",
     "text": [
      "1.8124611228107335\n",
      "0.949999999999923\n"
     ]
    }
   ],
   "source": [
    "# Student t-distribution Percent Point Function\n",
    "from scipy.stats import t\n",
    "# define probability\n",
    "p = 0.95\n",
    "df = 10\n",
    "# retrieve value <= probability\n",
    "value = t.ppf(p, df)\n",
    "print(value)\n",
    "# confirm with cdf\n",
    "p = t.cdf(value, df)\n",
    "print(p)"
   ]
  },
  {
   "cell_type": "markdown",
   "metadata": {},
   "source": [
    "Running the example returns the value of about 1.812 or less that covers 95% of the observations from the chosen distribution. The probability of the value is then confirmed (with minor rounding error) via the CDF.\n",
    "\n",
    "### Chi-squared Critical Values\n",
    "The example below calculates the percentage point function for 95% on the standard Chi-Squared distribution with 10 degrees of freedom."
   ]
  },
  {
   "cell_type": "code",
   "execution_count": 3,
   "metadata": {},
   "outputs": [
    {
     "name": "stdout",
     "output_type": "stream",
     "text": [
      "18.307038053275143\n",
      "0.95\n"
     ]
    }
   ],
   "source": [
    "# Chi-Squared Percent Point Function\n",
    "from scipy.stats import chi2\n",
    "# define probability\n",
    "p = 0.95\n",
    "df = 10\n",
    "# retrieve value <= probability\n",
    "value = chi2.ppf(p, df)\n",
    "print(value)\n",
    "# confirm with cdf\n",
    "p = chi2.cdf(value, df)\n",
    "print(p)"
   ]
  },
  {
   "cell_type": "markdown",
   "metadata": {},
   "source": [
    "Running the example first calculates the value of 18.3 or less that covers 95% of the observations from the distribution. The probability of this observation is confirmed by using it as input to the CDF.\n",
    "\n",
    "## Summary\n",
    "In this tutorial, you discovered critical values, why they are important, how they are used, and how to calculate them in Python using SciPy.\n",
    "\n",
    "Specifically, you learned:\n",
    "\n",
    "* Examples of statistical hypothesis tests and their distributions from which critical values can be calculated and used.\n",
    "* How exactly critical values are used on one-tail and two-tail statistical hypothesis tests.\n",
    "* How to calculate critical values for the Gaussian, Student’s t, and Chi-Squared distributions."
   ]
  }
 ],
 "metadata": {
  "kernelspec": {
   "display_name": "Python 3",
   "language": "python",
   "name": "python3"
  },
  "language_info": {
   "codemirror_mode": {
    "name": "ipython",
    "version": 3
   },
   "file_extension": ".py",
   "mimetype": "text/x-python",
   "name": "python",
   "nbconvert_exporter": "python",
   "pygments_lexer": "ipython3",
   "version": "3.6.4"
  }
 },
 "nbformat": 4,
 "nbformat_minor": 2
}
