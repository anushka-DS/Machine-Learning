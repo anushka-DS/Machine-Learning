{
 "cells": [
  {
   "cell_type": "markdown",
   "metadata": {},
   "source": [
    "# A Gentle Introduction to the Bootstrap Method\n",
    "The bootstrap method is a resampling technique used to estimate statistics on a population by sampling a dataset with replacement.\n",
    "\n",
    "It can be used to estimate summary statistics such as the mean or standard deviation. It is used in applied machine learning to estimate the skill of machine learning models when making predictions on data not included in the training data.\n",
    "\n",
    "A desirable property of the results from estimating machine learning model skill is that the estimated skill can be presented with confidence intervals, a feature not readily available with other methods such as cross-validation.\n",
    "\n",
    "In this tutorial, you will discover the bootstrap resampling method for estimating the skill of machine learning models on unseen data.\n",
    "\n",
    "After completing this tutorial, you will know:\n",
    "\n",
    "* The bootstrap method involves iteratively resampling a dataset with replacement.\n",
    "* That when using the bootstrap you must choose the size of the sample and the number of repeats.\n",
    "* The scikit-learn provides a function that you can use to resample a dataset for the bootstrap method.\n",
    "\n",
    "Let’s get started."
   ]
  },
  {
   "cell_type": "markdown",
   "metadata": {},
   "source": [
    "## Tutorial Overview\n",
    "This tutorial is divided into 4 parts; they are:\n",
    "\n",
    "1. Bootstrap Method\n",
    "2. Configuration of the Bootstrap\n",
    "3. Worked Example\n",
    "4. Bootstrap API"
   ]
  },
  {
   "cell_type": "markdown",
   "metadata": {},
   "source": [
    "## Bootstrap Method\n",
    "The bootstrap method is a statistical technique for estimating quantities about a population by averaging estimates from multiple small data samples.\n",
    "\n",
    "Importantly, samples are constructed by drawing observations from a large data sample one at a time and returning them to the data sample after they have been chosen. This allows a given observation to be included in a given small sample more than once. This approach to sampling is called sampling with replacement.\n",
    "\n",
    "The process for building one sample can be summarized as follows:\n",
    "\n",
    "1. Choose the size of the sample.\n",
    "2. While the size of the sample is less than the chosen size\n",
    "    * Randomly select an observation from the dataset\n",
    "    * Add it to the sample\n",
    "\n",
    "The bootstrap method can be used to estimate a quantity of a population. This is done by repeatedly taking small samples, calculating the statistic, and taking the average of the calculated statistics. We can summarize this procedure as follows:\n",
    "\n",
    "1. Choose a number of bootstrap samples to perform\n",
    "2. Choose a sample size\n",
    "3. For each bootstrap sample\n",
    "    * Draw a sample with replacement with the chosen size\n",
    "    * Calculate the statistic on the sample\n",
    "4. Calculate the mean of the calculated sample statistics.\n",
    "\n",
    "The procedure can also be used to estimate the skill of a machine learning model.\n",
    "\n",
    "This is done by training the model on the sample and evaluating the skill of the model on those samples not included in the sample. These samples not included in a given sample are called the out-of-bag samples, or OOB for short.\n",
    "\n",
    "This procedure of using the bootstrap method to estimate the skill of the model can be summarized as follows:\n",
    "\n",
    "1. Choose a number of bootstrap samples to perform\n",
    "2. Choose a sample size\n",
    "3. For each bootstrap sample\n",
    "    * Draw a sample with replacement with the chosen size\n",
    "    * Fit a model on the data sample\n",
    "    * Estimate the skill of the model on the out-of-bag sample.\n",
    "4. Calculate the mean of the sample of model skill estimates.\n",
    "\n",
    "Importantly, any data preparation prior to fitting the model or tuning of the hyperparameter of the model must occur within the for-loop on the data sample. This is to avoid data leakage where knowledge of the test dataset is used to improve the model. This, in turn, can result in an optimistic estimate of the model skill.\n",
    "\n",
    "A useful feature of the bootstrap method is that the resulting sample of estimations often forms a Gaussian distribution. In additional to summarizing this distribution with a central tendency, measures of variance can be given, such as standard deviation and standard error. Further, a confidence interval can be calculated and used to bound the presented estimate. This is useful when presenting the estimated skill of a machine learning model."
   ]
  },
  {
   "cell_type": "markdown",
   "metadata": {},
   "source": [
    "## Configuration of the Bootstrap\n",
    "There are two parameters that must be chosen when performing the bootstrap: the size of the sample and the number of repetitions of the procedure to perform.\n",
    "\n",
    "### Sample Size\n",
    "In machine learning, it is common to use a sample size that is the same as the original dataset.\n",
    "\n",
    "If the dataset is enormous and computational efficiency is an issue, smaller samples can be used, such as 50% or 80% of the size of the dataset.\n",
    "\n",
    "### Repetitions\n",
    "The number of repetitions must be large enough to ensure that meaningful statistics, such as the mean, standard deviation, and standard error can be calculated on the sample.\n",
    "\n",
    "A minimum might be 20 or 30 repetitions. Smaller values can be used will further add variance to the statistics calculated on the sample of estimated values.\n",
    "\n",
    "Ideally, the sample of estimates would be as large as possible given the time resources, with hundreds or thousands of repeats.\n",
    "\n",
    "## Worked Example\n",
    "We can make the bootstrap procedure concrete with a small worked example. We will work through one iteration of the procedure.\n",
    "\n",
    "Imagine we have a dataset with 6 observations:"
   ]
  },
  {
   "cell_type": "code",
   "execution_count": null,
   "metadata": {
    "collapsed": true
   },
   "outputs": [],
   "source": [
    "[0.1, 0.2, 0.3, 0.4, 0.5, 0.6]"
   ]
  },
  {
   "cell_type": "markdown",
   "metadata": {},
   "source": [
    "The first step is to choose the size of the sample. Here, we will use 4.\n",
    "\n",
    "Next, we must randomly choose the first observation from the dataset. Let’s choose 0.2."
   ]
  },
  {
   "cell_type": "code",
   "execution_count": null,
   "metadata": {
    "collapsed": true
   },
   "outputs": [],
   "source": [
    "sample = [0.2]"
   ]
  },
  {
   "cell_type": "markdown",
   "metadata": {},
   "source": [
    "This observation is returned to the dataset and we repeat this step 3 more times."
   ]
  },
  {
   "cell_type": "code",
   "execution_count": null,
   "metadata": {
    "collapsed": true
   },
   "outputs": [],
   "source": [
    "sample = [0.2, 0.1, 0.2, 0.6]"
   ]
  },
  {
   "cell_type": "markdown",
   "metadata": {},
   "source": [
    "We now have our data sample. The example purposefully demonstrates that the same value can appear zero, one or more times in the sample. Here the observation 0.2 appears twice.\n",
    "\n",
    "An estimate can then be calculated on the drawn sample."
   ]
  },
  {
   "cell_type": "code",
   "execution_count": null,
   "metadata": {
    "collapsed": true
   },
   "outputs": [],
   "source": [
    "statistic = calculation([0.2, 0.1, 0.2, 0.6])"
   ]
  },
  {
   "cell_type": "markdown",
   "metadata": {},
   "source": [
    "Those observations not chosen for the sample may be used as out of sample observations."
   ]
  },
  {
   "cell_type": "code",
   "execution_count": null,
   "metadata": {
    "collapsed": true
   },
   "outputs": [],
   "source": [
    "oob = [0.3, 0.4, 0.5]"
   ]
  },
  {
   "cell_type": "markdown",
   "metadata": {},
   "source": [
    "In the case of evaluating a machine learning model, the model is fit on the drawn sample and evaluated on the out-of-bag sample."
   ]
  },
  {
   "cell_type": "code",
   "execution_count": null,
   "metadata": {
    "collapsed": true
   },
   "outputs": [],
   "source": [
    "train = [0.2, 0.1, 0.2, 0.6]\n",
    "test = [0.3, 0.4, 0.5]\n",
    "model = fit(train)\n",
    "statistic = evaluate(model, test)"
   ]
  },
  {
   "cell_type": "markdown",
   "metadata": {},
   "source": [
    "That concludes one repeat of the procedure. It can be repeated 30 or more times to give a sample of calculated statistics."
   ]
  },
  {
   "cell_type": "code",
   "execution_count": null,
   "metadata": {
    "collapsed": true
   },
   "outputs": [],
   "source": [
    "statistics = [...]"
   ]
  },
  {
   "cell_type": "markdown",
   "metadata": {},
   "source": [
    "This sample of statistics can then be summarized by calculating a mean, standard deviation, or other summary values to give a final usable estimate of the statistic."
   ]
  },
  {
   "cell_type": "code",
   "execution_count": null,
   "metadata": {
    "collapsed": true
   },
   "outputs": [],
   "source": [
    "estimate = mean([...])"
   ]
  },
  {
   "cell_type": "markdown",
   "metadata": {},
   "source": [
    "## Bootstrap API\n",
    "We do not have to implement the bootstrap method manually. The scikit-learn library provides an implementation that will create a single bootstrap sample of a dataset.\n",
    "\n",
    "The resample() scikit-learn function can be used. It takes as arguments the data array, whether or not to sample with replacement, the size of the sample, and the seed for the pseudorandom number generator used prior to the sampling.\n",
    "\n",
    "For example, we can create a bootstrap that creates a sample with replacement with 4 observations and uses a value of 1 for the pseudorandom number generator."
   ]
  },
  {
   "cell_type": "code",
   "execution_count": null,
   "metadata": {
    "collapsed": true
   },
   "outputs": [],
   "source": [
    "boot = resample(data, replace=True, n_samples=4, random_state=1)"
   ]
  },
  {
   "cell_type": "markdown",
   "metadata": {},
   "source": [
    "Unfortunately, the API does not include any mechanism to easily gather the out-of-bag observations that could be used as a test set to evaluate a fit model.\n",
    "\n",
    "At least in the univariate case we can gather the out-of-bag observations using a simple Python list comprehension."
   ]
  },
  {
   "cell_type": "code",
   "execution_count": null,
   "metadata": {
    "collapsed": true
   },
   "outputs": [],
   "source": [
    "# out of bag observations\n",
    "oob = [x for x in data if x not in boot]"
   ]
  },
  {
   "cell_type": "markdown",
   "metadata": {},
   "source": [
    "We can tie all of this together with our small dataset used in the worked example of the prior section."
   ]
  },
  {
   "cell_type": "code",
   "execution_count": 1,
   "metadata": {},
   "outputs": [
    {
     "name": "stdout",
     "output_type": "stream",
     "text": [
      "Bootstrap Sample: [0.6, 0.4, 0.5, 0.1]\n",
      "OOB Sample: [0.2, 0.3]\n"
     ]
    }
   ],
   "source": [
    "# scikit-learn bootstrap\n",
    "from sklearn.utils import resample\n",
    "# data sample\n",
    "data = [0.1, 0.2, 0.3, 0.4, 0.5, 0.6]\n",
    "# prepare bootstrap sample\n",
    "boot = resample(data, replace=True, n_samples=4, random_state=1)\n",
    "print('Bootstrap Sample: %s' % boot)\n",
    "# out of bag observations\n",
    "oob = [x for x in data if x not in boot]\n",
    "print('OOB Sample: %s' % oob)"
   ]
  },
  {
   "cell_type": "markdown",
   "metadata": {},
   "source": [
    "Running the example prints the observations in the bootstrap sample and those observations in the out-of-bag sample.\n",
    "\n",
    "## Summary\n",
    "In this tutorial, you discovered the bootstrap resampling method for estimating the skill of machine learning models on unseen data.\n",
    "\n",
    "Specifically, you learned:\n",
    "\n",
    "* The bootstrap method involves iteratively resampling a dataset with replacement.\n",
    "* That when using the bootstrap you must choose the size of the sample and the number of repeats.\n",
    "* The scikit-learn provides a function that you can use to resample a dataset for the bootstrap method."
   ]
  }
 ],
 "metadata": {
  "kernelspec": {
   "display_name": "Python 3",
   "language": "python",
   "name": "python3"
  },
  "language_info": {
   "codemirror_mode": {
    "name": "ipython",
    "version": 3
   },
   "file_extension": ".py",
   "mimetype": "text/x-python",
   "name": "python",
   "nbconvert_exporter": "python",
   "pygments_lexer": "ipython3",
   "version": "3.6.4"
  }
 },
 "nbformat": 4,
 "nbformat_minor": 2
}
