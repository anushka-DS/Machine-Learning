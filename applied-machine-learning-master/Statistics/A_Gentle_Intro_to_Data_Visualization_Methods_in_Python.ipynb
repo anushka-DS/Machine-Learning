{
 "cells": [
  {
   "cell_type": "markdown",
   "metadata": {},
   "source": [
    "# A Gentle Introduction to Data Visualization Methods in Python\n",
    "Sometimes data does not make sense until you can look at in a visual form, such as with charts and plots.\n",
    "\n",
    "Being able to quickly visualize your data samples for yourself and others is an important skill both in applied statistics and in applied machine learning.\n",
    "\n",
    "In this tutorial, you will discover the five types of plots that you will need to know when visualizing data in Python and how to use them to better understand your own data.\n",
    "\n",
    "After completing this tutorial, you will know:\n",
    "\n",
    "* How to chart time series data with line plots and categorical quantities with bar charts.\n",
    "* How to summarize data distributions with histograms and box plots.\n",
    "* How to summarize the relationship between variables with scatter plots.\n",
    "\n",
    "Let’s get started."
   ]
  },
  {
   "cell_type": "markdown",
   "metadata": {},
   "source": [
    "## Tutorial Overview\n",
    "This tutorial is divided into 7 parts; they are:\n",
    "\n",
    "1. Data Visualization\n",
    "2. Introduction to Matplotlib\n",
    "3. Line Plot\n",
    "4. Bar Chart\n",
    "5. Histogram Plot\n",
    "6. Box and Whisker Plot\n",
    "7. Scatter Plot"
   ]
  },
  {
   "cell_type": "markdown",
   "metadata": {},
   "source": [
    "## Data Visualization\n",
    "Data visualization is an important skill in applied statistics and machine learning.\n",
    "\n",
    "Statistics does indeed focus on quantitative descriptions and estimations of data. Data visualization provides an important suite of tools for gaining a qualitative understanding.\n",
    "\n",
    "This can be helpful when exploring and getting to know a dataset and can help with identifying patterns, corrupt data, outliers, and much more. With a little domain knowledge, data visualizations can be used to express and demonstrate key relationships in plots and charts that are more visceral to yourself and stakeholders than measures of association or significance.\n",
    "\n",
    "Data visualization and exploratory data analysis are whole fields themselves and I will recommend a deeper dive into some the books mentioned at the end. In this tutorial, let’s look at basic charts and plots you can use to better understand your data.\n",
    "\n",
    "There are five key plots that you need to know well for basic data visualization. They are:\n",
    "\n",
    "* Line Plot\n",
    "* Bar Chart\n",
    "* Histogram Plot\n",
    "* Box and Whisker Plot\n",
    "* Scatter Plot\n",
    "\n",
    "With a knowledge of these plots, you can quickly get a qualitative understanding of most data that you come across.\n",
    "\n",
    "For the rest of this tutorial, we will take a closer look at each plot type."
   ]
  },
  {
   "cell_type": "markdown",
   "metadata": {},
   "source": [
    "## Introduction to Matplotlib\n",
    "There are many excellent plotting libraries in Python and I recommend exploring them in order to create presentable graphics.\n",
    "\n",
    "For quick and dirty plots intended for your own use, I recommend using the matplotlib library. It is the foundation for many other plotting libraries and plotting support in higher-level libraries such as Pandas.\n",
    "\n",
    "The matplotlib provides a context, one in which one or more plots can be drawn before the image is shown or saved to file. The context can be accessed via functions on pyplot. The context can be imported as follows:"
   ]
  },
  {
   "cell_type": "code",
   "execution_count": null,
   "metadata": {
    "collapsed": true
   },
   "outputs": [],
   "source": [
    "import matplotlib import pyplot"
   ]
  },
  {
   "cell_type": "markdown",
   "metadata": {},
   "source": [
    "There is some convention to import this context and name it plt; for example:"
   ]
  },
  {
   "cell_type": "code",
   "execution_count": null,
   "metadata": {
    "collapsed": true
   },
   "outputs": [],
   "source": [
    "import matplotlib.pyplot as plt"
   ]
  },
  {
   "cell_type": "markdown",
   "metadata": {},
   "source": [
    "We will not use this convention, instead we will stick to the standard Python import convention.\n",
    "\n",
    "Charts and plots are made by making and calling on context; for example:"
   ]
  },
  {
   "cell_type": "code",
   "execution_count": null,
   "metadata": {
    "collapsed": true
   },
   "outputs": [],
   "source": [
    "pyplot.plot(...)"
   ]
  },
  {
   "cell_type": "markdown",
   "metadata": {},
   "source": [
    "Elements such as axis, labels, legends, and so on can be accessed and configured on this context as separate function calls.\n",
    "\n",
    "The drawings on the context can be shown in a new window by calling the show() function:"
   ]
  },
  {
   "cell_type": "code",
   "execution_count": null,
   "metadata": {
    "collapsed": true
   },
   "outputs": [],
   "source": [
    "# display the plot\n",
    "pyplot.show()"
   ]
  },
  {
   "cell_type": "markdown",
   "metadata": {},
   "source": [
    "Alternately, the drawings on the context can be saved to file, such as a PNG formatted image file. The savefig() function can be used to save images."
   ]
  },
  {
   "cell_type": "code",
   "execution_count": null,
   "metadata": {
    "collapsed": true
   },
   "outputs": [],
   "source": [
    "pyplot.savefig('my_image.png')"
   ]
  },
  {
   "cell_type": "markdown",
   "metadata": {},
   "source": [
    "This is the most basic crash course for using the matplotlib library.\n",
    "\n",
    "For more detail, see the User Guide and the resources at the end of the tutorial.\n",
    "\n",
    "## Line Plot\n",
    "A line plot is generally used to present observations collected at regular intervals.\n",
    "\n",
    "The x-axis represents the regular interval, such as time. The y-axis shows the observations, ordered by the x-axis and connected by a line.\n",
    "\n",
    "A line plot can be created by calling the plot() function and passing the x-axis data for the regular interval, and y-axis for the observations."
   ]
  },
  {
   "cell_type": "code",
   "execution_count": null,
   "metadata": {
    "collapsed": true
   },
   "outputs": [],
   "source": [
    "# create line plot\n",
    "pyplot.plot(x, y)"
   ]
  },
  {
   "cell_type": "markdown",
   "metadata": {},
   "source": [
    "Line plots are useful for presenting time series data as well as any sequence data where there is an ordering between observations.\n",
    "\n",
    "The example below creates a sequence of 100 floating point values as the x-axis and a sine wave as a function of the x-axis as the observations on the y-axis. The results are plotted as a line plot."
   ]
  },
  {
   "cell_type": "code",
   "execution_count": 1,
   "metadata": {},
   "outputs": [
    {
     "data": {
      "image/png": "[encoded data removed]",
      "text/plain": [
       "<matplotlib.figure.Figure at 0x104942cf8>"
      ]
     },
     "metadata": {},
     "output_type": "display_data"
    }
   ],
   "source": [
    "# example of a line plot\n",
    "from numpy import sin\n",
    "from matplotlib import pyplot\n",
    "%matplotlib inline\n",
    "# consistent interval for x-axis\n",
    "x = [x*0.1 for x in range(100)]\n",
    "# function of x for y-axis\n",
    "y = sin(x)\n",
    "# create line plot\n",
    "pyplot.plot(x, y)\n",
    "# show line plot\n",
    "pyplot.show()"
   ]
  },
  {
   "cell_type": "markdown",
   "metadata": {},
   "source": [
    "Running the example creates a line plot showing the familiar sine wave pattern on the y-axis across the x-axis with a consistent interval between observations.\n",
    "\n",
    "## Bar Chart\n",
    "A bar chart is generally used to present relative quantities for multiple categories.\n",
    "\n",
    "The x-axis represents the categories and are spaced evenly. The y-axis represents the quantity for each category and is drawn as a bar from the baseline to the appropriate level on the y-axis.\n",
    "\n",
    "A bar chart can be created by calling the bar() function and passing the category names for the x-axis and the quantities for the y-axis."
   ]
  },
  {
   "cell_type": "code",
   "execution_count": null,
   "metadata": {
    "collapsed": true
   },
   "outputs": [],
   "source": [
    "# create bar chart\n",
    "pyplot.bar(x, y)"
   ]
  },
  {
   "cell_type": "markdown",
   "metadata": {},
   "source": [
    "Bar charts can be useful for comparing multiple point quantities or estimations.\n",
    "\n",
    "The example below creates a dataset with three categories, each defined with a string label. A single random integer value is drawn for the quantity in each category."
   ]
  },
  {
   "cell_type": "code",
   "execution_count": 2,
   "metadata": {},
   "outputs": [
    {
     "data": {
      "image/png": "[encoded data removed]",
      "text/plain": [
       "<matplotlib.figure.Figure at 0x104942cc0>"
      ]
     },
     "metadata": {},
     "output_type": "display_data"
    }
   ],
   "source": [
    "# example of a bar chart\n",
    "from random import seed\n",
    "from random import randint\n",
    "from matplotlib import pyplot\n",
    "%matplotlib inline\n",
    "# seed the random number generator\n",
    "seed(1)\n",
    "# names for categories\n",
    "x = ['red', 'green', 'blue']\n",
    "# quantities for each category\n",
    "y = [randint(0, 100), randint(0, 100), randint(0, 100)]\n",
    "# create bar chart\n",
    "pyplot.bar(x, y)\n",
    "# show line plot\n",
    "pyplot.show()"
   ]
  },
  {
   "cell_type": "markdown",
   "metadata": {},
   "source": [
    "Running the example creates the bar chart showing the category labels on the x-axis and the quantities on the y-axis.\n",
    "\n",
    "## Histogram Plot\n",
    "A histogram plot is generally used to summarize the distribution of a data sample.\n",
    "\n",
    "The x-axis represents discrete bins or intervals for the observations. For example observations with values between 1 and 10 may be split into five bins, the values [1,2] would be allocated to the first bin, [3,4] would be allocated to the second bin, and so on.\n",
    "\n",
    "The y-axis represents the frequency or count of the number of observations in the dataset that belong to each bin.\n",
    "\n",
    "Essentially, a data sample is transformed into a bar chart where each category on the x-axis represents an interval of observation values.\n",
    "\n",
    "A histogram plot can be created by calling the hist() function and passing in a list or array that represents the data sample."
   ]
  },
  {
   "cell_type": "code",
   "execution_count": null,
   "metadata": {
    "collapsed": true
   },
   "outputs": [],
   "source": [
    "# create histogram plot\n",
    "pyplot.hist(x)"
   ]
  },
  {
   "cell_type": "markdown",
   "metadata": {},
   "source": [
    "Histograms are valuable for summarizing the distribution of data samples.\n",
    "\n",
    "The example below creates a dataset of 1,000 random numbers drawn from a standard Gaussian distribution, then plots the dataset as a histogram."
   ]
  },
  {
   "cell_type": "code",
   "execution_count": 3,
   "metadata": {},
   "outputs": [
    {
     "data": {
      "image/png": "[encoded data removed]",
      "text/plain": [
       "<matplotlib.figure.Figure at 0x106493518>"
      ]
     },
     "metadata": {},
     "output_type": "display_data"
    }
   ],
   "source": [
    "# example of a histogram plot\n",
    "from numpy.random import seed\n",
    "from numpy.random import randn\n",
    "from matplotlib import pyplot\n",
    "%matplotlib inline\n",
    "# seed the random number generator\n",
    "seed(1)\n",
    "# random numbers drawn from a Gaussian distribution\n",
    "x = randn(1000)\n",
    "# create histogram plot\n",
    "pyplot.hist(x)\n",
    "# show line plot\n",
    "pyplot.show()"
   ]
  },
  {
   "cell_type": "markdown",
   "metadata": {},
   "source": [
    "Running the example, we can see that the shape of the bars shows the bell-shaped curve of the Gaussian distribution. We can see that the function automatically chose the number of bins, in this case splitting the values into groups by integer value.\n",
    "\n",
    "Often, careful choice of the number of bins can help to better expose the shape of the data distribution. The number of bins can be specified by setting the “bins” argument; for example:"
   ]
  },
  {
   "cell_type": "code",
   "execution_count": null,
   "metadata": {
    "collapsed": true
   },
   "outputs": [],
   "source": [
    "# create histogram plot\n",
    "pyplot.hist(x, bins=100)"
   ]
  },
  {
   "cell_type": "markdown",
   "metadata": {},
   "source": [
    "## Box and Whisker Plot\n",
    "A box and whisker plot, or boxplot for short, is generally used to summarize the distribution of a data sample.\n",
    "\n",
    "The x-axis is used to represent the data sample, where multiple boxplots can be drawn side by side on the x-axis if desired.\n",
    "\n",
    "The y-axis represents the observation values. A box is drawn to summarize the middle 50% of the dataset starting at the observation at the 25th percentile and ending at the 75th percentile. The median, or 50th percentile, is drawn with a line. A value called the interquartile range, or IQR, is calculated as 1.5 * the difference between the 75th and 25th percentiles. Lines called whiskers are drawn extending from both ends of the box with the length of the IQR to demonstrate the expected range of sensible values in the distribution. Observations outside the whiskers might be outliers and are drawn with small circles.\n",
    "\n",
    "Boxplots can be drawn by calling the boxplot() function passing in the data sample as an array or list."
   ]
  },
  {
   "cell_type": "code",
   "execution_count": null,
   "metadata": {
    "collapsed": true
   },
   "outputs": [],
   "source": [
    "# create box and whisker plot\n",
    "pyplot.boxplot(x)"
   ]
  },
  {
   "cell_type": "markdown",
   "metadata": {},
   "source": [
    "Boxplots are useful to summarize the distribution of a data sample as an alternative to the histogram. They can help to quickly get an idea of the range of common and sensible values in the box and in the whisker respectively. Because we are not looking at the shape of the distribution explicitly, this method is often used when the data has an unknown or unusual distribution, such as non-Gaussian.\n",
    "\n",
    "The example below creates three boxplots in one chart, each summarizing a data sample drawn from a slightly different Gaussian distribution. Each data sample is created as an array and all three data sample arrays are added to a list that is padded to the plotting function."
   ]
  },
  {
   "cell_type": "code",
   "execution_count": 4,
   "metadata": {},
   "outputs": [
    {
     "data": {
      "image/png": "[encoded data removed]",
      "text/plain": [
       "<matplotlib.figure.Figure at 0x104936470>"
      ]
     },
     "metadata": {},
     "output_type": "display_data"
    }
   ],
   "source": [
    "# example of a box and whisker plot\n",
    "from numpy.random import seed\n",
    "from numpy.random import randn\n",
    "from matplotlib import pyplot\n",
    "%matplotlib inline\n",
    "# seed the random number generator\n",
    "seed(1)\n",
    "# random numbers drawn from a Gaussian distribution\n",
    "x = [randn(1000), 5 * randn(1000), 10 * randn(1000)]\n",
    "# create box and whisker plot\n",
    "pyplot.boxplot(x)\n",
    "# show line plot\n",
    "pyplot.show()"
   ]
  },
  {
   "cell_type": "markdown",
   "metadata": {},
   "source": [
    "Running the example creates a chart showing the three box and whisker plots. We can see that the same scale is used on the y-axis for each, making the first plot look squashed and the last plot look spread out.\n",
    "\n",
    "In this case, we can see the black box for the middle 50% of the data, the orange line for the median, the lines for the whiskers summarizing the range of sensible data, and finally dots for the possible outliers.\n",
    "\n",
    "## Scatter Plot\n",
    "A scatter plot (or ‘scatterplot’) is generally used to summarize the relationship between two paired data samples.\n",
    "\n",
    "Paired data samples means that two measures were recorded for a given observation, such as the weight and height of a person.\n",
    "\n",
    "The x-axis represents observation values for the first sample, and the y-axis represents the observation values for the second sample. Each point on the plot represents a single observation.\n",
    "\n",
    "Scatter plots can be created by calling the scatter() function and passing the two data sample arrays."
   ]
  },
  {
   "cell_type": "code",
   "execution_count": null,
   "metadata": {
    "collapsed": true
   },
   "outputs": [],
   "source": [
    "# create scatter plot\n",
    "pyplot.scatter(x, y)"
   ]
  },
  {
   "cell_type": "markdown",
   "metadata": {},
   "source": [
    "Scatter plots are useful for showing the association or correlation between two variables. A correlation can be quantified, such as a line of best fit, that too can be drawn as a line plot on the same chart, making the relationship clearer.\n",
    "\n",
    "A dataset may have more than two measures (variables or columns) for a given observation. A scatter plot matrix is a cart containing scatter plots for each pair of variables in a dataset with more than two variables.\n",
    "\n",
    "The example below creates two data samples that are related. The first is a sample of random numbers drawn from a standard Gaussian. The second is dependent upon the first by adding a second random Gaussian value to the value of the first measure."
   ]
  },
  {
   "cell_type": "code",
   "execution_count": 5,
   "metadata": {},
   "outputs": [
    {
     "data": {
      "image/png": "[encoded data removed]",
      "text/plain": [
       "<matplotlib.figure.Figure at 0x1065fbfd0>"
      ]
     },
     "metadata": {},
     "output_type": "display_data"
    }
   ],
   "source": [
    "# example of a scatter plot\n",
    "from numpy.random import seed\n",
    "from numpy.random import randn\n",
    "from matplotlib import pyplot\n",
    "%matplotlib inline\n",
    "# seed the random number generator\n",
    "seed(1)\n",
    "# first variable\n",
    "x = 20 * randn(1000) + 100\n",
    "# second variable\n",
    "y = x + (10 * randn(1000) + 50)\n",
    "# create scatter plot\n",
    "pyplot.scatter(x, y)\n",
    "# show line plot\n",
    "pyplot.show()"
   ]
  },
  {
   "cell_type": "markdown",
   "metadata": {},
   "source": [
    "Running the example creates the scatter plot, showing the positive relationship between the two variables.\n",
    "\n",
    "## Summary\n",
    "In this tutorial, you discovered a gentle introduction to visualization data in Python.\n",
    "\n",
    "Specifically, you learned:\n",
    "\n",
    "* How to chart time series data with line plots and categorical quantities with bar charts.\n",
    "* How to summarize data distributions with histograms and boxplots.\n",
    "* How to summarize the relationship between variables with scatter plots."
   ]
  }
 ],
 "metadata": {
  "kernelspec": {
   "display_name": "Python 3",
   "language": "python",
   "name": "python3"
  },
  "language_info": {
   "codemirror_mode": {
    "name": "ipython",
    "version": 3
   },
   "file_extension": ".py",
   "mimetype": "text/x-python",
   "name": "python",
   "nbconvert_exporter": "python",
   "pygments_lexer": "ipython3",
   "version": "3.6.4"
  }
 },
 "nbformat": 4,
 "nbformat_minor": 2
}
