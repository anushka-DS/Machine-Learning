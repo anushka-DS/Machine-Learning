{
 "cells": [
  {
   "cell_type": "markdown",
   "metadata": {},
   "source": [
    "# A Gentle Introduction to Statistical Tolerance Intervals in Machine Learning\n",
    "It can be useful to have an upper and lower limit on data.\n",
    "\n",
    "These bounds can be used to help identify anomalies and set expectations for what to expect. A bound on observations from a population is called a tolerance interval.\n",
    "\n",
    "A tolerance interval is different from a prediction interval that quantifies the uncertainty for a single predicted value. It is also different from a confidence interval that quantifies the uncertainty of a population parameter such as a mean. Instead, a tolerance interval covers a proportion of the population distribution.\n",
    "\n",
    "In this tutorial, you will discover statistical tolerance intervals and how to calculate a tolerance interval for Gaussian data.\n",
    "\n",
    "After completing this tutorial, you will know:\n",
    "\n",
    "* That statistical tolerance intervals provide a bounds on observations from a population.\n",
    "* That a tolerance interval requires that both a coverage proportion and confidence be specified.\n",
    "* That the tolerance interval for a data sample with a Gaussian distribution can be easily calculated.\n",
    "\n",
    "Let’s get started."
   ]
  },
  {
   "cell_type": "markdown",
   "metadata": {},
   "source": [
    "## Tutorial Overview\n",
    "This tutorial is divided into 4 parts; they are:\n",
    "\n",
    "1. Bounds on Data\n",
    "2. What Are Statistical Tolerance Intervals?\n",
    "3. How to Calculate Tolerance Intervals\n",
    "4. Tolerance Interval for Gaussian Distribution\n",
    "\n",
    "## Bounds on Data\n",
    "It is useful to put bounds on data.\n",
    "\n",
    "For example, if you have a sample of data from a domain, knowing the upper and lower bound for normal values can be helpful for identifying anomalies or outliers in the data.\n",
    "\n",
    "For a process or model that is making predictions, it can be helpful to know the expected range that sensible predictions may take.\n",
    "\n",
    "Knowing the common range of values can help with setting expectations and detecting anomalies.\n",
    "\n",
    "The range of common values for data is called a tolerance interval.\n",
    "\n",
    "## What Are Statistical Tolerance Intervals?\n",
    "The tolerance interval is a bound on an estimate of the proportion of data in a population.\n",
    "\n",
    "The interval is limited by the sampling error and by the variance of the population distribution. Given the law of large numbers, as the sample size is increased, the probabilities will better match the underlying population distribution.\n",
    "\n",
    "Below is an example of a stated tolerance interval:\n",
    "\n",
    "*The range from x to y covers 95% of the data with a confidence of 99%.*\n",
    "\n",
    "If the data is Gaussian, the interval can be expressed in the context of the mean value; for example:\n",
    "\n",
    "*x +/- y covers 95% of the data with a confidence of 99%.*\n",
    "\n",
    "We refer to these intervals as statistical tolerance intervals, to differentiate them from tolerance intervals in engineering that describe limits of acceptability, such as for a design or of a material. Generally, we will describe them as simply “tolerance intervals” for convenience.\n",
    "\n",
    "A tolerance interval is defined in terms of two quantities:\n",
    "\n",
    "* Coverage: The proportion of the population covered by the interval.\n",
    "* Confidence: The probabilistic confidence that the interval covers the proportion of the population.\n",
    "\n",
    "## How to Calculate Tolerance Intervals\n",
    "The size of a tolerance interval is proportional to the size of the data sample from the population and the variance of the population.\n",
    "\n",
    "There are two main methods for calculating tolerance intervals depending on the distribution of data: parametric and nonparametric methods.\n",
    "\n",
    "* Parametric Tolerance Interval: Use knowledge of the population distribution in specifying both the coverage and confidence. Often used to refer to a Gaussian distribution.\n",
    "* Nonparametric Tolerance Interval: Use rank statistics to estimate the coverage and confidence, often resulting less precision (wider intervals) given the lack of information about the distribution.\n",
    "\n",
    "Tolerance intervals are relatively straightforward to calculate for a sample of independent observations drawn from a Gaussian distribution. We will demonstrate this calculation in the next section.\n",
    "\n",
    "## Tolerance Interval for Gaussian Distribution\n",
    "In this section, we will work through an example of calculating the tolerance intervals on a data sample.\n",
    "\n",
    "First, let’s define our data sample. We will create a sample of 100 observations drawn from a Gaussian distribution with a mean of 50 and a standard deviation of 5."
   ]
  },
  {
   "cell_type": "code",
   "execution_count": null,
   "metadata": {
    "collapsed": true
   },
   "outputs": [],
   "source": [
    "# generate dataset\n",
    "data = 5 * randn(100) + 50"
   ]
  },
  {
   "cell_type": "markdown",
   "metadata": {},
   "source": [
    "During the example, we will assume that we are unaware of the true population mean and standard deviation, and that these values must be estimated.\n",
    "\n",
    "Because the population parameters have to be estimated, there is additional uncertainty. For example, for a 95% coverage, we could use 1.96 (or 2) standard deviations from the estimated mean as the tolerance interval. We must estimate the mean and standard deviation from the sample and take this uncertainty into account, therefore the calculation of the interval is slightly more complex.\n",
    "\n",
    "Next, we must specify the number of degrees of freedom. This will be used in the calculation of critical values and in the calculation of the interval. Specifically, it is used in the calculation of the standard deviation.\n",
    "\n",
    "Remember that the degrees of freedom are the number of values in the calculation that can vary. Here, we have 100 observations, therefore 100 degrees of freedom. We do not know the standard deviation, therefore it must be estimated using the mean. This means our degrees of freedom will be (N – 1) or 99."
   ]
  },
  {
   "cell_type": "code",
   "execution_count": null,
   "metadata": {
    "collapsed": true
   },
   "outputs": [],
   "source": [
    "# specify degrees of freedom\n",
    "n = len(data)\n",
    "dof = n - 1"
   ]
  },
  {
   "cell_type": "markdown",
   "metadata": {},
   "source": [
    "Next, we must specify the proportional coverage of the data. In this example, we are interested in the middle 95% of the data. The proportion is 95. We must shift this proportion so that it covers the middle 95%, that is from 2.5th percentile to the 97.5th percentile.\n",
    "\n",
    "We know that the critical value for 95% is 1.96 given that we use it so often; nevertheless, we can calculate it directly in Python given the percentage 2.5% of the inverse survival function. This can be calculated using the norm.isf() SciPy function."
   ]
  },
  {
   "cell_type": "code",
   "execution_count": null,
   "metadata": {
    "collapsed": true
   },
   "outputs": [],
   "source": [
    "# specify data coverage\n",
    "prop = 0.95\n",
    "prop_inv = (1.0 - prop) / 2.0\n",
    "gauss_critical = norm.isf(prop_inv)"
   ]
  },
  {
   "cell_type": "markdown",
   "metadata": {},
   "source": [
    "Next, we need to calculate the confidence of the coverage. We can do this by retrieving the critical value from the Chi Squared distribution for the given number of degrees of freedom and desired probability. We can use the chi2.isf() SciPy function."
   ]
  },
  {
   "cell_type": "code",
   "execution_count": null,
   "metadata": {
    "collapsed": true
   },
   "outputs": [],
   "source": [
    "# specify confidence\n",
    "prob = 0.99\n",
    "chi_critical = chi2.isf(q=prob, df=dof)"
   ]
  },
  {
   "cell_type": "markdown",
   "metadata": {},
   "source": [
    "We now have all of the pieces to calculate the Gaussian tolerance interval. The calculation is as follows:"
   ]
  },
  {
   "cell_type": "code",
   "execution_count": null,
   "metadata": {
    "collapsed": true
   },
   "outputs": [],
   "source": [
    "interval = sqrt((dof * (1 + (1/n)) * gauss_critical^2) / chi_critical)"
   ]
  },
  {
   "cell_type": "markdown",
   "metadata": {},
   "source": [
    "Where dof is the number of degrees of freedom, n is the size of the data sample, gauss_critical is the critical value, such as 1.96 for 95% coverage of the population, and chi_critical is the Chi Squared critical value for the desired confidence and degrees of freedom."
   ]
  },
  {
   "cell_type": "code",
   "execution_count": null,
   "metadata": {
    "collapsed": true
   },
   "outputs": [],
   "source": [
    "interval = sqrt((dof * (1 + (1/n)) * gauss_critical**2) / chi_critical)"
   ]
  },
  {
   "cell_type": "markdown",
   "metadata": {},
   "source": [
    "We can tie all of this together and calculate the Gaussian tolerance interval for our data sample.\n",
    "\n",
    "The complete example is listed below."
   ]
  },
  {
   "cell_type": "code",
   "execution_count": 1,
   "metadata": {},
   "outputs": [
    {
     "name": "stdout",
     "output_type": "stream",
     "text": [
      "Gaussian critical value: 1.960 (coverage=95%)\n",
      "Chi-Squared critical value: 69.230 (prob=99%, dof=99)\n",
      "Tolerance Interval: 2.355\n",
      "47.95 to 52.66 covers 95% of data with a confidence of 99%\n"
     ]
    }
   ],
   "source": [
    "# parametric tolerance interval\n",
    "from numpy.random import seed\n",
    "from numpy.random import randn\n",
    "from numpy import mean\n",
    "from numpy import sqrt\n",
    "from scipy.stats import chi2\n",
    "from scipy.stats import norm\n",
    "# seed the random number generator\n",
    "seed(1)\n",
    "# generate dataset\n",
    "data = 5 * randn(100) + 50\n",
    "# specify degrees of freedom\n",
    "n = len(data)\n",
    "dof = n - 1\n",
    "# specify data coverage\n",
    "prop = 0.95\n",
    "prop_inv = (1.0 - prop) / 2.0\n",
    "gauss_critical = norm.isf(prop_inv)\n",
    "print('Gaussian critical value: %.3f (coverage=%d%%)' % (gauss_critical, prop*100))\n",
    "# specify confidence\n",
    "prob = 0.99\n",
    "chi_critical = chi2.isf(q=prob, df=dof)\n",
    "print('Chi-Squared critical value: %.3f (prob=%d%%, dof=%d)' % (chi_critical, prob*100, dof))\n",
    "# tolerance\n",
    "interval = sqrt((dof * (1 + (1/n)) * gauss_critical**2) / chi_critical)\n",
    "print('Tolerance Interval: %.3f' % interval)\n",
    "# summarize\n",
    "data_mean = mean(data)\n",
    "lower, upper = data_mean-interval, data_mean+interval\n",
    "print('%.2f to %.2f covers %d%% of data with a confidence of %d%%' % (lower, upper, prop*100, prob*100))"
   ]
  },
  {
   "cell_type": "markdown",
   "metadata": {},
   "source": [
    "Running the example first calculates and prints the relevant critical values for the Gaussian and Chi Squared distributions. The tolerance is printed, then presented correctly.\n",
    "\n",
    "It can also be helpful to demonstrate how the tolerance interval will decrease (become more precise) as the size of the sample is increased.\n",
    "\n",
    "The example below demonstrates this by calculating the tolerance interval for different sample sizes for the same small contrived problem."
   ]
  },
  {
   "cell_type": "code",
   "execution_count": 2,
   "metadata": {},
   "outputs": [
    {
     "data": {
      "image/png": "[encoded data removed]",
      "text/plain": [
       "<matplotlib.figure.Figure at 0x107206438>"
      ]
     },
     "metadata": {},
     "output_type": "display_data"
    }
   ],
   "source": [
    "# plot tolerance interval vs sample size\n",
    "from numpy.random import seed\n",
    "from numpy.random import randn\n",
    "from numpy import sqrt\n",
    "from scipy.stats import chi2\n",
    "from scipy.stats import norm\n",
    "from matplotlib import pyplot\n",
    "%matplotlib inline\n",
    "# seed the random number generator\n",
    "seed(1)\n",
    "# sample sizes\n",
    "sizes = range(5,15)\n",
    "for n in sizes:\n",
    "\t# generate dataset\n",
    "\tdata = 5 * randn(n) + 50\n",
    "\t# calculate degrees of freedom\n",
    "\tdof = n - 1\n",
    "\t# specify data coverage\n",
    "\tprop = 0.95\n",
    "\tprop_inv = (1.0 - prop) / 2.0\n",
    "\tgauss_critical = norm.isf(prop_inv)\n",
    "\t# specify confidence\n",
    "\tprob = 0.99\n",
    "\tchi_critical = chi2.isf(q=prob, df=dof)\n",
    "\t# tolerance\n",
    "\ttol = sqrt((dof * (1 + (1/n)) * gauss_critical**2) / chi_critical)\n",
    "\t# plot\n",
    "\tpyplot.errorbar(n, 50, yerr=tol, color='blue', fmt='o')\n",
    "# plot results\n",
    "pyplot.show()"
   ]
  },
  {
   "cell_type": "markdown",
   "metadata": {},
   "source": [
    "Running the example creates a plot showing the tolerance interval around the true population mean.\n",
    "\n",
    "We can see that the interval becomes smaller (more precise) as the sample size is increased from 5 to 15 examples.\n",
    "\n",
    "## Summary\n",
    "In this tutorial, you discovered statistical tolerance intervals and how to calculate a tolerance interval for Gaussian data.\n",
    "\n",
    "Specifically, you learned:\n",
    "\n",
    "* That statistical tolerance intervals provide a bounds on observations from a population.\n",
    "* That a tolerance interval requires that both a coverage proportion and confidence be specified.\n",
    "* That the tolerance interval for a data sample with a Gaussian distribution can be easily calculated."
   ]
  }
 ],
 "metadata": {
  "kernelspec": {
   "display_name": "Python 3",
   "language": "python",
   "name": "python3"
  },
  "language_info": {
   "codemirror_mode": {
    "name": "ipython",
    "version": 3
   },
   "file_extension": ".py",
   "mimetype": "text/x-python",
   "name": "python",
   "nbconvert_exporter": "python",
   "pygments_lexer": "ipython3",
   "version": "3.6.4"
  }
 },
 "nbformat": 4,
 "nbformat_minor": 2
}
