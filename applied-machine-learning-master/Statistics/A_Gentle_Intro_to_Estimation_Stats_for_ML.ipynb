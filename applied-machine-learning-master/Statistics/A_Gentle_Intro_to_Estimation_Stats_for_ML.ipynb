{
 "cells": [
  {
   "cell_type": "markdown",
   "metadata": {},
   "source": [
    "# A Gentle Introduction to Estimation Statistics for Machine Learning\n",
    "Statistical hypothesis tests can be used to indicate whether the difference between two samples is due to random chance, but cannot comment on the size of the difference.\n",
    "\n",
    "A group of methods referred to as “new statistics” are seeing increased use instead of or in addition to p-values in order to quantify the magnitude of effects and the amount of uncertainty for estimated values. This group of statistical methods is referred to as “estimation statistics“.\n",
    "\n",
    "In this tutorial, you will discover a gentle introduction to estimation statistics as an alternate or complement to statistical hypothesis testing.\n",
    "\n",
    "After completing this tutorial, you will know:\n",
    "\n",
    "* Effect size methods involve quantifying the association or difference between samples.\n",
    "* Interval estimate methods involve quantifying the uncertainty around point estimations.\n",
    "* Meta-analyses involve quantifying the magnitude of an effect across multiple similar independent studies.\n",
    "\n",
    "Let’s get started."
   ]
  },
  {
   "cell_type": "markdown",
   "metadata": {},
   "source": [
    "## Tutorial Overview\n",
    "This tutorial is divided into 5 parts; they are:\n",
    "\n",
    "1. Problems with Hypothesis Testing\n",
    "2. Estimation Statistics\n",
    "3. Effect Size\n",
    "4. Interval Estimation\n",
    "5. Meta-Analysis"
   ]
  },
  {
   "cell_type": "markdown",
   "metadata": {},
   "source": [
    "## Problems with Hypothesis Testing\n",
    "Statistical hypothesis testing and the calculation of p-values is a popular way to present and interpret results.\n",
    "\n",
    "Tests like the Student’s t-test can be used to describe whether or not two samples have the same distribution. They can help interpret whether the difference between two sample means is likely real or due to random chance.\n",
    "\n",
    "Although they are widely used, they have some problems. For example:\n",
    "\n",
    "* Calculated p-values are easily misused and misunderstood.\n",
    "* There’s always some significant difference between samples, even if the difference is tiny.\n",
    "\n",
    "Interestingly, in the last few decades there has been a push back against the use of p-values in the presentation of research. For example, in the 1990s, the journal of Epidemiology banned the use of p-values. Many related areas in medicine and psychology have followed suit.\n",
    "\n",
    "Although p-values may still be used, there is a push toward the presentation of results using estimation statistics."
   ]
  },
  {
   "cell_type": "markdown",
   "metadata": {},
   "source": [
    "## Estimation Statistics\n",
    "Estimation statistics refers to methods that attempt to quantify a finding.\n",
    "\n",
    "This might include quantifying the size of an effect or the amount of uncertainty for a specific outcome or result.\n",
    "\n",
    "Estimation statistics is a term to describe three main classes of methods. The three main classes of methods include:\n",
    "\n",
    "* Effect Size. Methods for quantifying the size of an effect given a treatment or intervention.\n",
    "* Interval Estimation. Methods for quantifying the amount of uncertainty in a value.\n",
    "* Meta-Analysis. Methods for quantifying the findings across multiple similar studies.\n",
    "\n",
    "We will look at each of these groups of methods in more detail in the following sections.\n",
    "\n",
    "Although they are not new, they are being called the “new statistics” given their increased use in research literature over statistical hypothesis testing.\n",
    "\n",
    "The main reason that the shift from statistical hypothesis methods to estimation systems is occurring is the results are easier to analyze and interpret in the context of the domain or research question.\n",
    "\n",
    "The quantified size of the effect and uncertainty allows claims to be made that are easier to understand and use. The results are more meaningful.\n",
    "\n",
    "Where statistical hypothesis tests talk about whether the samples come from the same distribution or not, estimation statistics can describe the size and confidence of the difference. This allows you to comment on how different one method is from another."
   ]
  },
  {
   "cell_type": "markdown",
   "metadata": {},
   "source": [
    "## Effect Size\n",
    "The effect size describes the magnitude of a treatment or difference between two samples.\n",
    "\n",
    "A hypothesis test can comment on whether the difference between samples is the result of chance or is real, whereas an effect size puts a number on how much the samples differ.\n",
    "\n",
    "Measuring the size of an effect is a big part of applied machine learning, and in fact, research in general.\n",
    "\n",
    "There are two main classes of techniques used to quantify the magnitude of effects; they are:\n",
    "\n",
    "* Association. The degree to which two samples change together.\n",
    "* Difference. The degree to which two samples are different.\n",
    "\n",
    "For example, association effect sizes include calculations of correlation, such as the Pearson’s correlation coefficient, and the r^2 coefficient of determination. They may quantify the linear or monotonic way that observations in two samples change together.\n",
    "\n",
    "Difference effect size may include methods such as Cohen’s d statistic that provide a standardized measure for how the means of two populations differ. They seek a quantification for the magnitude of difference between observations in two samples."
   ]
  },
  {
   "cell_type": "markdown",
   "metadata": {},
   "source": [
    "## Interval Estimation\n",
    "Interval estimation refers to statistical methods for quantifying the uncertainty for an observation.\n",
    "\n",
    "Intervals transform a point estimate into a range that provides more information about the estimate, such as its precision, making them easier to compare and interpret.\n",
    "\n",
    "There are three main types of intervals that are commonly calculated. They are:\n",
    "\n",
    "* Tolerance Interval: The bounds or coverage of a proportion of a distribution with a specific level of confidence.\n",
    "* Confidence Interval: The bounds on the estimate of a population parameter.\n",
    "* Prediction Interval: The bounds on a single observation.\n",
    "\n",
    "A tolerance interval may be used to set expectations on observations in a population or help to identify outliers. A confidence interval can be used to interpret the range for a mean of a data sample that can become more precise as the sample size is increased. A prediction interval can be used to provide a range for a prediction or forecast from a model.\n",
    "\n",
    "For example, when presenting the mean estimated skill of a model, a confidence interval can be used to provide bounds on the precision of the estimate. This could also be combined with p-values if models are being compared."
   ]
  },
  {
   "cell_type": "markdown",
   "metadata": {},
   "source": [
    "## Meta-Analysis\n",
    "A meta-analysis refers to the use of a weighting of multiple similar studies in order to quantify a broader cross-study effect.\n",
    "\n",
    "Meta studies are useful when many small and similar studies have been performed with noisy and conflicting findings. Instead of taking the study conclusions at face value, statistical methods are used to combine multiple findings into a stronger finding than any single study.\n",
    "\n",
    "Although not often used in applied machine learning, it is useful to note meta-analyses as they form part of this trust of new statistical methods.\n",
    "\n",
    "## Summary\n",
    "In this tutorial, you discovered a gentle introduction to estimation statistics as an alternate or complement to statistical hypothesis testing.\n",
    "\n",
    "Specifically, you learned:\n",
    "\n",
    "* Effect size methods involve quantifying the association or difference between samples.\n",
    "* Interval estimate methods involve quantifying the uncertainty around point estimations.\n",
    "* Meta-analyses involve quantifying the magnitude of an effect across multiple similar independent studies."
   ]
  }
 ],
 "metadata": {
  "kernelspec": {
   "display_name": "Python 3",
   "language": "python",
   "name": "python3"
  },
  "language_info": {
   "codemirror_mode": {
    "name": "ipython",
    "version": 3
   },
   "file_extension": ".py",
   "mimetype": "text/x-python",
   "name": "python",
   "nbconvert_exporter": "python",
   "pygments_lexer": "ipython3",
   "version": "3.6.4"
  }
 },
 "nbformat": 4,
 "nbformat_minor": 2
}
