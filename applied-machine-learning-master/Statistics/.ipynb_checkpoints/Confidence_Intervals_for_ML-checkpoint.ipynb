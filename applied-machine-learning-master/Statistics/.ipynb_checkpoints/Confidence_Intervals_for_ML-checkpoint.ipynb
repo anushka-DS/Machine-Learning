{
 "cells": [
  {
   "cell_type": "markdown",
   "metadata": {},
   "source": [
    "# Confidence Intervals for Machine Learning\n",
    "Much of machine learning involves estimating the performance of a machine learning algorithm on unseen data.\n",
    "\n",
    "Confidence intervals are a way of quantifying the uncertainty of an estimate. They can be used to add a bounds or likelihood on a population parameter, such as a mean, estimated from a sample of independent observations from the population.\n",
    "\n",
    "In this tutorial, you will discover confidence intervals and how to calculate confidence intervals in practice.\n",
    "\n",
    "After completing this tutorial, you will know:\n",
    "\n",
    "* That a confidence interval is a bounds on an estimate of a population parameter.\n",
    "* That the confidence interval for the estimated skill of a classification method can be calculated directly.\n",
    "* That the confidence interval for any arbitrary population statistic can be estimated in a distribution-free way using the bootstrap.\n",
    "\n",
    "Let’s get started."
   ]
  },
  {
   "cell_type": "markdown",
   "metadata": {},
   "source": [
    "## Tutorial Overview\n",
    "This tutorial is divided into 3 parts; they are:\n",
    "\n",
    "1. What is a Confidence Interval?\n",
    "2. Interval for Classification Accuracy\n",
    "3. Nonparametric Confidence Interval\n",
    "\n",
    "## What is a Confidence Interval?\n",
    "A confidence interval is a bounds on the estimate of a population variable. It is an interval statistic used to quantify the uncertainty on an estimate.\n",
    "\n",
    "A confidence interval is different from a tolerance interval that describes the bounds of data sampled from the distribution. It is also different from a prediction interval that describes the bounds on a single observation. Instead, the confidence interval provides bounds on a population parameter, such as a mean, standard deviation, or similar.\n",
    "\n",
    "In applied machine learning, we may wish to use confidence intervals in the presentation of the skill of a predictive model.\n",
    "\n",
    "For example, a confidence interval could be used in presenting the skill of a classification model, which could be stated as:\n",
    "\n",
    "*Given the sample, there is a 95% likelihood that the range x to y covers the true model accuracy.*\n",
    "\n",
    "or\n",
    "\n",
    "*The accuracy of the model was x +/- y at the 95% confidence level.*\n",
    "\n",
    "Confidence intervals can also be used in the presentation of the error of a regression predictive model; for example:\n",
    "\n",
    "*There is a 95% likelihood that the range x to y covers the true error of the model.*\n",
    "\n",
    "or\n",
    "\n",
    "*The error of the model was x +/- y at the 95% confidence level.*\n",
    "\n",
    "The choice of 95% confidence is very common in presenting confidence intervals, although other less common values are used, such as 90% and 99.7%. In practice, you can use any value you prefer.\n",
    "\n",
    "The value of a confidence interval is its ability to quantify the uncertainty of the estimate. It provides both a lower and upper bound and a likelihood. Taken as a radius measure alone, the confidence interval is often referred to as the margin of error and may be used to graphically depict the uncertainty of an estimate on graphs through the use of error bars.\n",
    "\n",
    "Often, the larger the sample from which the estimate was drawn, the more precise the estimate and the smaller (better) the confidence interval.\n",
    "\n",
    "* Smaller Confidence Interval: A more precise estimate.\n",
    "* Larger Confidence Interval: A less precise estimate.\n",
    "\n",
    "Confidence intervals belong to a field of statistics called estimation statistics that can be used to present and interpret experimental results instead of, or in addition to, statistical significance tests.\n",
    "\n",
    "Confidence intervals may be preferred in practice over the use of statistical significance tests.\n",
    "\n",
    "The reason is that they are easier for practitioners and stakeholders to relate directly to the domain. They can also be interpreted and used to compare machine learning models.\n",
    "\n",
    "Now that we know what a confidence interval is, let’s look at a few ways that we can calculate them for predictive models.\n",
    "\n",
    "## Interval for Classification Accuracy\n",
    "Classification problems are those where a label or class outcome variable is predicted given some input data.\n",
    "\n",
    "It is common to use classification accuracy or classification error (the inverse of accuracy) to describe the skill of a classification predictive model. For example, a model that makes correct predictions of the class outcome variable 75% of the time has a classification accuracy of 75%, calculated as:"
   ]
  },
  {
   "cell_type": "code",
   "execution_count": null,
   "metadata": {
    "collapsed": true
   },
   "outputs": [],
   "source": [
    "accuracy = total correct predictions / total predictions made * 100"
   ]
  },
  {
   "cell_type": "markdown",
   "metadata": {},
   "source": [
    "This accuracy can be calculated based on a hold-out dataset not seen by the model during training, such as a validation or test dataset.\n",
    "\n",
    "Classification accuracy or classification error is a proportion or a ratio. It describes the proportion of correct or incorrect predictions made by the model. Each prediction is a binary decision that could be correct or incorrect. Technically, this is called a Bernoulli trial, named for Jacob Bernoulli. The proportions in a Bernoulli trial have a specific distribution called a binomial distribution. Thankfully, with large sample sizes (e.g. more than 30), we can approximate the distribution with a Gaussian.\n",
    "\n",
    "We can use the assumption of a Gaussian distribution of the proportion (i.e. the classification accuracy or error) to easily calculate the confidence interval.\n",
    "\n",
    "In the case of classification error, the radius of the interval can be calculated as:"
   ]
  },
  {
   "cell_type": "code",
   "execution_count": null,
   "metadata": {
    "collapsed": true
   },
   "outputs": [],
   "source": [
    "interval = z * sqrt( (error * (1 - error)) / n)"
   ]
  },
  {
   "cell_type": "markdown",
   "metadata": {},
   "source": [
    "In the case of classification accuracy, the radius of the interval can be calculated as:"
   ]
  },
  {
   "cell_type": "code",
   "execution_count": null,
   "metadata": {
    "collapsed": true
   },
   "outputs": [],
   "source": [
    "interval = z * sqrt( (accuracy * (1 - accuracy)) / n)"
   ]
  },
  {
   "cell_type": "markdown",
   "metadata": {},
   "source": [
    "Where interval is the radius of the confidence interval, error and accuracy are classification error and classification accuracy respectively, n is the size of the sample, sqrt is the square root function, and z is a critical value from the Gaussian distribution. Technically, this is called the Binomial proportion confidence interval.\n",
    "\n",
    "Commonly used critical values from the Gaussian distribution and their corresponding significance level are as follows:\n",
    "\n",
    "* 1.64 (90%)\n",
    "* 1.96 (95%)\n",
    "* 2.33 (98%)\n",
    "* 2.58 (99%)\n",
    "\n",
    "Consider a model with an error of 20%, or 0.2 (error = 0.2), on a validation dataset with 50 examples (n = 50). We can calculate the 95% confidence interval (z = 1.96) as follows:"
   ]
  },
  {
   "cell_type": "code",
   "execution_count": 1,
   "metadata": {},
   "outputs": [
    {
     "name": "stdout",
     "output_type": "stream",
     "text": [
      "0.111\n"
     ]
    }
   ],
   "source": [
    "# binomial confidence interval\n",
    "from math import sqrt\n",
    "interval = 1.96 * sqrt( (0.2 * (1 - 0.2)) / 50)\n",
    "print('%.3f' % interval)"
   ]
  },
  {
   "cell_type": "markdown",
   "metadata": {},
   "source": [
    "Running the example, we see the calculated radius of the confidence interval calculated and printed.\n",
    "\n",
    "We can then make claims such as:\n",
    "\n",
    "* The classification error of the model is 20% +/- 11%\n",
    "* The true classification error of the model is likely between 9% and 31%.\n",
    "\n",
    "We can see the impact that the sample size has on the precision of the estimate in terms of the radius of the confidence interval."
   ]
  },
  {
   "cell_type": "code",
   "execution_count": 2,
   "metadata": {},
   "outputs": [
    {
     "name": "stdout",
     "output_type": "stream",
     "text": [
      "0.078\n"
     ]
    }
   ],
   "source": [
    "# binomial confidence interval\n",
    "interval = 1.96 * sqrt( (0.2 * (1 - 0.2)) / 100)\n",
    "print('%.3f' % interval)"
   ]
  },
  {
   "cell_type": "markdown",
   "metadata": {},
   "source": [
    "Running the example shows that the confidence interval drops to about 7%, increasing the precision of the estimate of the models skill.\n",
    "\n",
    "Remember that the confidence interval is a likelihood over a range. The true model skill may lie outside of the range.\n",
    "\n",
    "The proportion_confint() statsmodels function an implementation of the binomial proportion confidence interval.\n",
    "\n",
    "By default, it makes the Gaussian assumption for the Binomial distribution, although other more sophisticated variations on the calculation are supported. The function takes the count of successes (or failures), the total number of trials, and the significance level as arguments and returns the lower and upper bound of the confidence interval.\n",
    "\n",
    "The example below demonstrates this function in a hypothetical case where a model made 88 correct predictions out of a dataset with 100 instances and we are interested in the 95% confidence interval (provided to the function as a significance of 0.05)."
   ]
  },
  {
   "cell_type": "code",
   "execution_count": 3,
   "metadata": {},
   "outputs": [
    {
     "name": "stdout",
     "output_type": "stream",
     "text": [
      "lower=0.816, upper=0.944\n"
     ]
    }
   ],
   "source": [
    "from statsmodels.stats.proportion import proportion_confint\n",
    "lower, upper = proportion_confint(88, 100, 0.05)\n",
    "print('lower=%.3f, upper=%.3f' % (lower, upper))"
   ]
  },
  {
   "cell_type": "markdown",
   "metadata": {},
   "source": [
    "Running the example prints the lower and upper bounds on the model’s classification accuracy.\n",
    "\n",
    "## Nonparametric Confidence Interval\n",
    "Often we do not know the distribution for a chosen performance measure. Alternately, we may not know the analytical way to calculate a confidence interval for a skill score.\n",
    "\n",
    "In these cases, the bootstrap resampling method can be used as a nonparametric method for calculating confidence intervals, nominally called bootstrap confidence intervals.\n",
    "\n",
    "The bootstrap is a simulated Monte Carlo method where samples are drawn from a fixed finite dataset with replacement and a parameter is estimated on each sample. This procedure leads to a robust estimate of the true population parameter via sampling.\n",
    "\n",
    "We can demonstrate this with the following pseudocode."
   ]
  },
  {
   "cell_type": "code",
   "execution_count": null,
   "metadata": {
    "collapsed": true
   },
   "outputs": [],
   "source": [
    "statistics = []\n",
    "for i in bootstraps:\n",
    "\tsample = select_sample_with_replacement(data)\n",
    "\tstat = calculate_statistic(sample)\n",
    "\tstatistics.append(stat)"
   ]
  },
  {
   "cell_type": "raw",
   "metadata": {},
   "source": [
    "The procedure can be used to estimate the skill of a predictive model by fitting the model on each sample and evaluating the skill of the model on those samples not included in the sample. The mean or median skill of the model can then be presented as an estimate of the model skill when evaluated on unseen data.\n",
    "\n",
    "Confidence intervals can be added to this estimate by selecting observations from the sample of skill scores at specific percentiles.\n",
    "\n",
    "Recall that a percentile is an observation value drawn from the sorted sample where a percentage of the observations in the sample fall. For example, the 70th percentile of a sample indicates that 70% of the samples fall below that value. The 50th percentile is the median or middle of the distribution.\n",
    "\n",
    "First, we must choose a significance level for the confidence level, such as 95%, represented as 5.0% (e.g. 100 – 95). Because the confidence interval is symmetric around the median, we must choose observations at the 2.5th percentile and the 97.5th percentiles to give the full range.\n",
    "\n",
    "We can make the calculation of the bootstrap confidence interval concrete with a worked example.\n",
    "\n",
    "Let’s assume we have a dataset of 1,000 observations of values between 0.5 and 1.0 drawn from a uniform distribution."
   ]
  },
  {
   "cell_type": "code",
   "execution_count": null,
   "metadata": {
    "collapsed": true
   },
   "outputs": [],
   "source": [
    "# generate dataset\n",
    "dataset = 0.5 + rand(1000) * 0.5"
   ]
  },
  {
   "cell_type": "markdown",
   "metadata": {},
   "source": [
    "We will perform the bootstrap procedure 100 times and draw samples of 1,000 observations from the dataset with replacement. We will estimate the mean of the population as the statistic we will calculate on the bootstrap samples. This could just as easily be a model evaluation."
   ]
  },
  {
   "cell_type": "code",
   "execution_count": null,
   "metadata": {
    "collapsed": true
   },
   "outputs": [],
   "source": [
    "# bootstrap\n",
    "scores = list()\n",
    "for _ in range(100):\n",
    "\t# bootstrap sample\n",
    "\tindices = randint(0, 100, 1000)\n",
    "\tsample = dataset[indices]\n",
    "\t# calculate and store statistic\n",
    "\tstatistic = mean(sample)\n",
    "\tscores.append(statistic)"
   ]
  },
  {
   "cell_type": "markdown",
   "metadata": {},
   "source": [
    "Once we have a sample of bootstrap statistics, we can calculate the central tendency. We will use the median or 50th percentile as we do not assume any distribution."
   ]
  },
  {
   "cell_type": "code",
   "execution_count": null,
   "metadata": {
    "collapsed": true
   },
   "outputs": [],
   "source": [
    "print('median=%.3f' % median(scores))"
   ]
  },
  {
   "cell_type": "markdown",
   "metadata": {},
   "source": [
    "We can then calculate the confidence interval as the middle 95% of observed statistical values centered around the median."
   ]
  },
  {
   "cell_type": "code",
   "execution_count": null,
   "metadata": {
    "collapsed": true
   },
   "outputs": [],
   "source": [
    "# calculate 95% confidence intervals (100 - alpha)\n",
    "alpha = 5.0"
   ]
  },
  {
   "cell_type": "markdown",
   "metadata": {},
   "source": [
    "First, the desired lower percentile is calculated based on the chosen confidence interval. Then the observation at this percentile is retrieved from the sample of bootstrap statistics."
   ]
  },
  {
   "cell_type": "code",
   "execution_count": null,
   "metadata": {
    "collapsed": true
   },
   "outputs": [],
   "source": [
    "# calculate lower percentile (e.g. 2.5)\n",
    "lower_p = alpha / 2.0\n",
    "# retrieve observation at lower percentile\n",
    "lower = max(0.0, percentile(scores, lower_p))"
   ]
  },
  {
   "cell_type": "markdown",
   "metadata": {},
   "source": [
    "We do the same thing for the upper boundary of the confidence interval."
   ]
  },
  {
   "cell_type": "code",
   "execution_count": null,
   "metadata": {
    "collapsed": true
   },
   "outputs": [],
   "source": [
    "# calculate upper percentile (e.g. 97.5)\n",
    "upper_p = (100 - alpha) + (alpha / 2.0)\n",
    "# retrieve observation at upper percentile\n",
    "upper = min(1.0, percentile(scores, upper_p))"
   ]
  },
  {
   "cell_type": "markdown",
   "metadata": {},
   "source": [
    "The complete example is listed below."
   ]
  },
  {
   "cell_type": "code",
   "execution_count": 4,
   "metadata": {},
   "outputs": [
    {
     "name": "stdout",
     "output_type": "stream",
     "text": [
      "50th percentile (median) = 0.743\n",
      "2.5th percentile = 0.735\n",
      "97.5th percentile = 0.751\n"
     ]
    }
   ],
   "source": [
    "# bootstrap confidence intervals\n",
    "from numpy.random import seed\n",
    "from numpy.random import rand\n",
    "from numpy.random import randint\n",
    "from numpy import mean\n",
    "from numpy import median\n",
    "from numpy import percentile\n",
    "# seed the random number generator\n",
    "seed(1)\n",
    "# generate dataset\n",
    "dataset = 0.5 + rand(1000) * 0.5\n",
    "# bootstrap\n",
    "scores = list()\n",
    "for _ in range(100):\n",
    "\t# bootstrap sample\n",
    "\tindices = randint(0, 100, 1000)\n",
    "\tsample = dataset[indices]\n",
    "\t# calculate and store statistic\n",
    "\tstatistic = mean(sample)\n",
    "\tscores.append(statistic)\n",
    "print('50th percentile (median) = %.3f' % median(scores))\n",
    "# calculate 95% confidence intervals (100 - alpha)\n",
    "alpha = 5.0\n",
    "# calculate lower percentile (e.g. 2.5)\n",
    "lower_p = alpha / 2.0\n",
    "# retrieve observation at lower percentile\n",
    "lower = max(0.0, percentile(scores, lower_p))\n",
    "print('%.1fth percentile = %.3f' % (lower_p, lower))\n",
    "# calculate upper percentile (e.g. 97.5)\n",
    "upper_p = (100 - alpha) + (alpha / 2.0)\n",
    "# retrieve observation at upper percentile\n",
    "upper = min(1.0, percentile(scores, upper_p))\n",
    "print('%.1fth percentile = %.3f' % (upper_p, upper))"
   ]
  },
  {
   "cell_type": "markdown",
   "metadata": {},
   "source": [
    "Running the example summarizes the distribution of bootstrap sample statistics including the 2.5th, 50th (median) and 97.5th percentile.\n",
    "\n",
    "We can then use these observations to make a claim about the sample distribution, such as:\n",
    "\n",
    "*There is a 95% likelihood that the range 0.735 to 0.751 covers the true statistic median.*\n",
    "\n",
    "## Summary\n",
    "In this tutorial, you discovered confidence intervals and how to calculate confidence intervals in practice.\n",
    "\n",
    "Specifically, you learned:\n",
    "\n",
    "* That a confidence interval is a bounds on an estimate of a population parameter.\n",
    "* That the confidence interval for the estimated skill of a classification method can be calculated directly.\n",
    "* That the confidence interval for any arbitrary population statistic can be estimated in a distribution-free way using the bootstrap."
   ]
  }
 ],
 "metadata": {
  "kernelspec": {
   "display_name": "Python 3",
   "language": "python",
   "name": "python3"
  },
  "language_info": {
   "codemirror_mode": {
    "name": "ipython",
    "version": 3
   },
   "file_extension": ".py",
   "mimetype": "text/x-python",
   "name": "python",
   "nbconvert_exporter": "python",
   "pygments_lexer": "ipython3",
   "version": "3.6.4"
  }
 },
 "nbformat": 4,
 "nbformat_minor": 2
}
