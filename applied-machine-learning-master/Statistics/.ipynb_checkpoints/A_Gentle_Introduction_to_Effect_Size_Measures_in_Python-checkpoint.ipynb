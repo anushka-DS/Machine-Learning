{
 "cells": [
  {
   "cell_type": "markdown",
   "metadata": {},
   "source": [
    "# A Gentle Introduction to Effect Size Measures in Python\n",
    "Statistical hypothesis tests report on the likelihood of the observed results given an assumption, such as no association between variables or no difference between groups.\n",
    "\n",
    "Hypothesis tests do not comment on the size of the effect if the association or difference is statistically significant. This highlights the need for standard ways of calculating and reporting a result.\n",
    "\n",
    "Effect size methods refer to a suite of statistical tools for quantifying an the size of an effect in the results of experiments that can be used to complement the results from statistical hypothesis tests.\n",
    "\n",
    "In this tutorial, you will discover effect size and effect size measures for quantifying the magnitude of a result.\n",
    "\n",
    "After completing this tutorial, you will know:\n",
    "\n",
    "* The importance of calculating and reporting effect size in the results of experiments.\n",
    "* Effect size measures for quantifying the association between variables, such as Pearson’s correlation coefficient.\n",
    "* Effect size measures for quantifying the difference between groups, such as Cohen’s d measure.\n",
    "\n",
    "Let’s get started.\n",
    "\n",
    "## Tutorial Overview\n",
    "This tutorial is divided into three parts; they are:\n",
    "\n",
    "1. The Need to Report Effect Size\n",
    "2. What Is Effect Size?\n",
    "3. How to Calculate Effect Size"
   ]
  },
  {
   "cell_type": "markdown",
   "metadata": {},
   "source": [
    "## The Need to Report Effect Size\n",
    "Once practitioners become versed in statistical methods, it is common to become focused on quantifying the likelihood of a result.\n",
    "\n",
    "This is often seen with the calculation and presentation of the results from statistical hypothesis tests in terms of p-value and the significance level.\n",
    "\n",
    "One aspect that is often neglected in the presentation of results is to actually quantify the difference or relationship, called the effect. It can be easy to forget that the intention of an experiment is to quantify an effect.\n",
    "\n",
    "The statistical test can only comment on the likelihood that there is an effect. It does not comment on the size of the effect. The results of an experiment could be significant, but the effect so small that it has little consequence.\n",
    "\n",
    "The problem with neglecting the presentation of the effect is that it may be calculated using ad hoc measures or even ignored completely and left to the reader to interpret. This is a big problem as quantifying the size of the effect is essential to interpreting results.\n",
    "\n",
    "## What Is Effect Size?\n",
    "An effect size refers to the size or magnitude of an effect or result as it would be expected to occur in a population.\n",
    "\n",
    "The effect size is estimated from samples of data.\n",
    "\n",
    "Effect size methods refers to a collection of statistical tools used to calculate the effect size. Often the field of effect size measures is referred to as simply “effect size“, to note the general concern of the field.\n",
    "\n",
    "It is common to organize effect size statistical methods into groups, based on the type of effect that is to be quantified. Two main groups of methods for calculating effect size are:\n",
    "\n",
    "* **Association**. Statistical methods for quantifying an association between variables (e.g. correlation).\n",
    "* **Difference**. Statistical methods for quantifying the difference between variables (e.g. difference between means).\n",
    "\n",
    "The result of an effect size calculation must be interpreted, and it depends on the specific statistical method used. A measure must be chosen based on the goals of the interpretation. Three types of calculated result include:\n",
    "\n",
    "* **Standardized Result**. The effect size has a standard scale allowing it to be interpreted generally regardless of application (e.g. Cohen’s d calculation).\n",
    "* **Original Units Result**. The effect size may use the original units of the variable, which can aid in the interpretation within the domain (e.g. difference between two sample means).\n",
    "* **Unit Free Result**. The effect size may not have units such as a count or proportion (e.g. a correlation coefficient).\n",
    "\n",
    "It may be a good idea to report an effect size using multiple measures to aide the different types of readers of your findings.\n",
    "\n",
    "The effect size does not replace the results of a statistical hypothesis test. Instead, the effect size complements the test. Ideally, the results of both the hypothesis test and the effect size calculation would be presented side-by-side.\n",
    "\n",
    "* **Hypothesis Test**: Quantify the likelihood of observing the data given an assumption (null hypothesis).\n",
    "* **Effect Size**: Quantify the size of the effect assuming that the effect is present."
   ]
  },
  {
   "cell_type": "markdown",
   "metadata": {},
   "source": [
    "## How to Calculate Effect Size\n",
    "The calculation of an effect size could be the calculation of a mean of a sample or the absolute difference between two means. It could also be a more elaborate statistical calculation.\n",
    "\n",
    "In this section, we will look at some common effect size calculations for both associations and differences. The examples of methods is not complete; there may be 100s of methods that can be used to calculate an effect size.\n",
    "\n",
    "### Calculate Association Effect Size\n",
    "The association between variables is often referred to as the “r family” of effect size methods.\n",
    "\n",
    "This name comes from perhaps the most common method for calculating the effect size called Pearson’s correlation coefficient, also called Pearson’s r.\n",
    "\n",
    "The Pearson’s correlation coefficient measures the degree of linear association between two real-valued variables. It is a unit-free effect size measure, that can be interpreted in a standard way, as follows:\n",
    "\n",
    "* -1.0: Perfect negative relationship.\n",
    "* -0.7: Strong negative relationship\n",
    "* -0.5: Moderate negative relationship\n",
    "* -0.3: Weak negative relationship\n",
    "* 0.0: No relationship.\n",
    "* 0.3: Weak positive relationship\n",
    "* 0.5: Moderate positive relationship\n",
    "* 0.7: Strong positive relationship\n",
    "* 1.0: Perfect positive relationship.\n",
    "\n",
    "The Pearson’s correlation coefficient can be calculated in Python using the pearsonr() SciPy function.\n",
    "\n",
    "The example below demonstrates the calculation of the Pearson’s correlation coefficient to quantify the size of the association between two samples of random Gaussian numbers where one sample has a strong relationship with the second."
   ]
  },
  {
   "cell_type": "code",
   "execution_count": 1,
   "metadata": {},
   "outputs": [
    {
     "name": "stdout",
     "output_type": "stream",
     "text": [
      "Pearsons correlation: 0.712\n"
     ]
    }
   ],
   "source": [
    "# calculate the Pearson's correlation between two variables\n",
    "from numpy.random import randn\n",
    "from numpy.random import seed\n",
    "from scipy.stats import pearsonr\n",
    "# seed random number generator\n",
    "seed(1)\n",
    "# prepare data\n",
    "data1 = 10 * randn(10000) + 50\n",
    "data2 = data1 + (10 * randn(10000) + 50)\n",
    "# calculate Pearson's correlation\n",
    "corr, _ = pearsonr(data1, data2)\n",
    "print('Pearsons correlation: %.3f' % corr)"
   ]
  },
  {
   "cell_type": "markdown",
   "metadata": {},
   "source": [
    "Running the example calculates and prints the Pearson’s correlation between the two data samples. We can see that the effect shows a strong positive relationship between the samples.\n",
    "\n",
    "Another very popular method for calculating the association effect size is the r-squared measure, or r^2, also called the coefficient of determination. It summarizes the proportion of variance in one variable explained by the other.\n",
    "\n",
    "### Calculate Difference Effect Size\n",
    "The difference between groups is often referred to as the “d family” of effect size methods.\n",
    "\n",
    "This name comes from perhaps the most common method for calculating the difference between the mean value of groups, called Cohen’s d.\n",
    "\n",
    "Cohen’s d measures the difference between the mean from two Gaussian-distributed variables. It is a standard score that summarizes the difference in terms of the number of standard deviations. Because the score is standardized, there is a table for the interpretation of the result, summarized as:\n",
    "\n",
    "* **Small Effect Size**: d=0.20\n",
    "* **Medium Effect Size**: d=0.50\n",
    "* **Large Effect Size**: d=0.80\n",
    "\n",
    "The Cohen’s d calculation is not provided in Python; we can calculate it manually.\n",
    "\n",
    "The calculation of the difference between the mean of two samples is as follows:"
   ]
  },
  {
   "cell_type": "code",
   "execution_count": null,
   "metadata": {
    "collapsed": true
   },
   "outputs": [],
   "source": [
    "d = (u1 - u2) / s"
   ]
  },
  {
   "cell_type": "markdown",
   "metadata": {},
   "source": [
    "Where d is the Cohen’s d, u1 is the mean of the first sample, u2 is the mean of the second sample, and s is the pooled standard deviation of both samples.\n",
    "\n",
    "The pooled standard deviation for two independent samples can be calculated as follows:"
   ]
  },
  {
   "cell_type": "code",
   "execution_count": null,
   "metadata": {
    "collapsed": true
   },
   "outputs": [],
   "source": [
    "s = sqrt(((n1 - 1) . s1^2 + (n2 - 1) . s2^2) / (n1 + n2 - 2))"
   ]
  },
  {
   "cell_type": "markdown",
   "metadata": {},
   "source": [
    "Where s is the pooled standard deviation, n1 and n2 are the size of the first sample and second samples and s1^2 and s2^2 is the variance for the first and second samples. The subtractions are the adjustments for the number of degrees of freedom.\n",
    "\n",
    "The function below will calculate the Cohen’s d measure for two samples of real-valued variables. The NumPy functions mean() and var() are used to calculate the sample mean and variance respectively."
   ]
  },
  {
   "cell_type": "code",
   "execution_count": null,
   "metadata": {
    "collapsed": true
   },
   "outputs": [],
   "source": [
    "# function to calculate Cohen's d for independent samples\n",
    "def cohend(d1, d2):\n",
    "\t# calculate the size of samples\n",
    "\tn1, n2 = len(d1), len(d2)\n",
    "\t# calculate the variance of the samples\n",
    "\ts1, s2 = var(d1, ddof=1), var(d2, ddof=1)\n",
    "\t# calculate the pooled standard deviation\n",
    "\ts = sqrt(((n1 - 1) * s1 + (n2 - 1) * s2) / (n1 + n2 - 2))\n",
    "\t# calculate the means of the samples\n",
    "\tu1, u2 = mean(d1), mean(d2)\n",
    "\t# calculate the effect size\n",
    "\treturn (u1 - u2) / s"
   ]
  },
  {
   "cell_type": "markdown",
   "metadata": {},
   "source": [
    "The example below calculates the Cohen’s d measure for two samples of random Gaussian variables with differing means.\n",
    "\n",
    "The example is contrived such that the means are different by one half standard deviation and both samples have the same standard deviation."
   ]
  },
  {
   "cell_type": "code",
   "execution_count": 2,
   "metadata": {},
   "outputs": [
    {
     "name": "stdout",
     "output_type": "stream",
     "text": [
      "Cohens d: 0.500\n"
     ]
    }
   ],
   "source": [
    "# calculate the Cohen's d between two samples\n",
    "from numpy.random import randn\n",
    "from numpy.random import seed\n",
    "from numpy import mean\n",
    "from numpy import var\n",
    "from math import sqrt\n",
    " \n",
    "# function to calculate Cohen's d for independent samples\n",
    "def cohend(d1, d2):\n",
    "\t# calculate the size of samples\n",
    "\tn1, n2 = len(d1), len(d2)\n",
    "\t# calculate the variance of the samples\n",
    "\ts1, s2 = var(d1, ddof=1), var(d2, ddof=1)\n",
    "\t# calculate the pooled standard deviation\n",
    "\ts = sqrt(((n1 - 1) * s1 + (n2 - 1) * s2) / (n1 + n2 - 2))\n",
    "\t# calculate the means of the samples\n",
    "\tu1, u2 = mean(d1), mean(d2)\n",
    "\t# calculate the effect size\n",
    "\treturn (u1 - u2) / s\n",
    " \n",
    "# seed random number generator\n",
    "seed(1)\n",
    "# prepare data\n",
    "data1 = 10 * randn(10000) + 60\n",
    "data2 = 10 * randn(10000) + 55\n",
    "# calculate cohen's d\n",
    "d = cohend(data1, data2)\n",
    "print('Cohens d: %.3f' % d)"
   ]
  },
  {
   "cell_type": "markdown",
   "metadata": {},
   "source": [
    "Running the example calculates and prints the Cohen’s d effect size.\n",
    "\n",
    "We can see that as expected, the difference between the means is one half of one standard deviation interpreted as a medium effect size.\n",
    "\n",
    "Two other popular methods for quantifying the difference effect size are:\n",
    "* **Odds Ratio**. Measures the odds of an outcome occurring from one treatment compared to another.\n",
    "* **Relative Risk Ratio**. Measures the probabilities of an outcome occurring from one treatment compared to another.\n",
    "\n",
    "## Summary\n",
    "In this tutorial, you discovered effect size and effect size measures for quantifying the magnitude of a result.\n",
    "\n",
    "Specifically, you learned:\n",
    "* The importance of calculating and reporting effect size in the results of experiments.\n",
    "* Effect size measures for quantifying the association between variables, such as Pearson’s correlation coefficient.\n",
    "* Effect size measures for quantifying the difference between groups, such as Cohen’s d measure."
   ]
  }
 ],
 "metadata": {
  "kernelspec": {
   "display_name": "Python 3",
   "language": "python",
   "name": "python3"
  },
  "language_info": {
   "codemirror_mode": {
    "name": "ipython",
    "version": 3
   },
   "file_extension": ".py",
   "mimetype": "text/x-python",
   "name": "python",
   "nbconvert_exporter": "python",
   "pygments_lexer": "ipython3",
   "version": "3.6.4"
  }
 },
 "nbformat": 4,
 "nbformat_minor": 2
}
