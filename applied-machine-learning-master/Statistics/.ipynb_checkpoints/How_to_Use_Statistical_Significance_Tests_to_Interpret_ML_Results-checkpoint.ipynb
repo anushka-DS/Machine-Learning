{
 "cells": [
  {
   "cell_type": "markdown",
   "metadata": {},
   "source": [
    "# How to Use Statistical Significance Tests to Interpret Machine Learning Results\n",
    "It is good practice to gather a population of results when comparing two different machine learning algorithms or when comparing the same algorithm with different configurations.\n",
    "\n",
    "Repeating each experimental run 30 or more times gives you a population of results from which you can calculate the mean expected performance, given the stochastic nature of most machine learning algorithms.\n",
    "\n",
    "If the mean expected performance from two algorithms or configurations are different, how do you know that the difference is significant, and how significant?\n",
    "\n",
    "Statistical significance tests are an important tool to help to interpret the results from machine learning experiments. Additionally, the findings from these tools can help you better and more confidently present your experimental results and choose the right algorithms and configurations for your predictive modeling problem.\n",
    "\n",
    "In this tutorial, you will discover how you can investigate and interpret machine learning experimental results using statistical significance tests in Python.\n",
    "\n",
    "After completing this tutorial, you will know:\n",
    "\n",
    "* How to apply normality tests to confirm that your data is (or is not) normally distributed.\n",
    "* How to apply parametric statistical significance tests for normally distributed results.\n",
    "* How to apply nonparametric statistical significance tests for more complex distributions of results.\n",
    "\n",
    "Let’s get started."
   ]
  },
  {
   "cell_type": "markdown",
   "metadata": {},
   "source": [
    "## Tutorial Overview\n",
    "This tutorial is broken down into 6 parts. They are:\n",
    "\n",
    "1. Generate Sample Data\n",
    "2. Summary Statistics\n",
    "3. Normality Test\n",
    "4. Compare Means for Gaussian Results\n",
    "5. Compare Means for Gaussian Results with Different Variance\n",
    "6. Compare Means for Non-Gaussian Results\n",
    "\n",
    "This tutorial assumes Python 2 or 3 and a SciPy environment with NumPy, Pandas, and Matplotlib.\n",
    "\n",
    "## Generate Sample Data\n",
    "The situation is that you have experimental results from two algorithms or two different configurations of the same algorithm.\n",
    "\n",
    "Each algorithm has been trialed multiple times on the test dataset and a skill score has been collected. We are left with two populations of skill scores.\n",
    "\n",
    "We can simulate this by generating two populations of Gaussian random numbers distributed around slightly different means.\n",
    "\n",
    "The code below generates the results from the first algorithm. A total of 1000 results are stored in a file named results1.csv. The results are drawn from a Gaussian distribution with the mean of 50 and the standard deviation of 10."
   ]
  },
  {
   "cell_type": "code",
   "execution_count": 1,
   "metadata": {
    "collapsed": true
   },
   "outputs": [],
   "source": [
    "from numpy.random import seed\n",
    "from numpy.random import normal\n",
    "from numpy import savetxt\n",
    "# define underlying distribution of results\n",
    "mean = 50\n",
    "stev = 10\n",
    "# generate samples from ideal distribution\n",
    "seed(1)\n",
    "results = normal(mean, stev, 1000)\n",
    "# save to ASCII file\n",
    "savetxt('results1.csv', results)"
   ]
  },
  {
   "cell_type": "markdown",
   "metadata": {},
   "source": [
    "We can now generate the results for the second algorithm. We will use the same method and draw the results from a slightly different Gaussian distribution (mean of 60 with the same standard deviation). Results are written to results2.csv."
   ]
  },
  {
   "cell_type": "code",
   "execution_count": 2,
   "metadata": {
    "collapsed": true
   },
   "outputs": [],
   "source": [
    "from numpy.random import seed\n",
    "from numpy.random import normal\n",
    "from numpy import savetxt\n",
    "# define underlying distribution of results\n",
    "mean = 60\n",
    "stev = 10\n",
    "# generate samples from ideal distribution\n",
    "seed(1)\n",
    "results = normal(mean, stev, 1000)\n",
    "# save to ASCII file\n",
    "savetxt('results2.csv', results)"
   ]
  },
  {
   "cell_type": "markdown",
   "metadata": {},
   "source": [
    "Going forward, we will pretend that we don’t know the underlying distribution of either set of results.\n",
    "\n",
    "I chose populations of 1000 results per experiment arbitrarily. It is more realistic to use populations of 30 or 100 results to achieve a suitably good estimate (e.g. low standard error).\n",
    "\n",
    "Don’t worry if your results are not Gaussian; we will look at how the methods break down for non-Gaussian data and what alternate methods to use instead.\n",
    "\n",
    "## Summary Statistics\n",
    "The first step after collecting results is to review some summary statistics and learn more about the distribution of the data.\n",
    "\n",
    "This includes reviewing summary statistics and plots of the data.\n",
    "\n",
    "Below is a complete code listing to review some summary statistics for the two sets of results."
   ]
  },
  {
   "cell_type": "code",
   "execution_count": 3,
   "metadata": {},
   "outputs": [
    {
     "name": "stdout",
     "output_type": "stream",
     "text": [
      "                 A            B\n",
      "count  1000.000000  1000.000000\n",
      "mean     50.388125    60.388125\n",
      "std       9.814950     9.814950\n",
      "min      19.462356    29.462356\n",
      "25%      43.998396    53.998396\n",
      "50%      50.412926    60.412926\n",
      "75%      57.039989    67.039989\n",
      "max      89.586027    99.586027\n"
     ]
    },
    {
     "data": {
      "image/png": "[encoded data removed]",
      "text/plain": [
       "<matplotlib.figure.Figure at 0x107ee6c50>"
      ]
     },
     "metadata": {},
     "output_type": "display_data"
    },
    {
     "data": {
      "image/png": "[encoded data removed]",
      "text/plain": [
       "<matplotlib.figure.Figure at 0x103245e10>"
      ]
     },
     "metadata": {},
     "output_type": "display_data"
    }
   ],
   "source": [
    "from pandas import DataFrame\n",
    "from pandas import read_csv\n",
    "from matplotlib import pyplot\n",
    "%matplotlib inline\n",
    "# load results file\n",
    "results = DataFrame()\n",
    "results['A'] = read_csv('results1.csv', header=None).values[:, 0]\n",
    "results['B'] = read_csv('results2.csv', header=None).values[:, 0]\n",
    "# descriptive stats\n",
    "print(results.describe())\n",
    "# box and whisker plot\n",
    "results.boxplot()\n",
    "pyplot.show()\n",
    "# histogram\n",
    "results.hist()\n",
    "pyplot.show()"
   ]
  },
  {
   "cell_type": "markdown",
   "metadata": {},
   "source": [
    "The example loads both sets of results and starts off by printing summary statistics. Data in *results1.csv* is called “A” and data in *results2.csv* is called “B” for brevity.\n",
    "\n",
    "We will assume that the data represents an error score on a test dataset and that minimizing the score is the goal.\n",
    "\n",
    "We can see that on average A (50.388125) was better than B (60.388125). We can also see the same story in the median (50th percentile). Looking at the standard deviations, we can also see that it appears both distributions have a similar (identical) spread.\n",
    "\n",
    "Next, a box and whisker plot is created comparing both sets of results. The box captures the middle 50% of the data, outliers are shown as dots and the green line shows the median. We can see the data indeed has a similar spread from both distributions and appears to be symmetrical around the median.\n",
    "\n",
    "The results for A look better than B.\n",
    "\n",
    "Finally, histograms of both sets of results are plotted.\n",
    "\n",
    "The plots strongly suggest that both sets of results are drawn from a Gaussian distribution.\n",
    "\n",
    "## Normality Test\n",
    "Data drawn from a Gaussian distribution can be easier to work with as there are many tools and techniques specifically designed for this case.\n",
    "\n",
    "We can use a statistical test to confirm that the results drawn from both distributions are Gaussian (also called the normal distribution).\n",
    "\n",
    "In SciPy, this is the normaltest() function.\n",
    "\n",
    "The null hypothesis of the test (H0), or the default expectation, is that the statistic describes a normal distribution.\n",
    "\n",
    "We fail to reject this hypothesis if the p-value is greater than 0.05. We reject this hypothesis if the p-value <= 0.05. In this case, we would believe the distribution is not normal with 95% confidence.\n",
    "\n",
    "The code below loads *results1.csv* and determines whether it is likely that the data is Gaussian."
   ]
  },
  {
   "cell_type": "code",
   "execution_count": 4,
   "metadata": {},
   "outputs": [
    {
     "name": "stdout",
     "output_type": "stream",
     "text": [
      "2.9901307811630056 0.22423394146329587\n",
      "It is likely that result1 is normal\n"
     ]
    }
   ],
   "source": [
    "from pandas import read_csv\n",
    "from scipy.stats import normaltest\n",
    "from matplotlib import pyplot\n",
    "result1 = read_csv('results1.csv', header=None)\n",
    "value, p = normaltest(result1.values[:,0])\n",
    "print(value, p)\n",
    "if p >= 0.05:\n",
    "\tprint('It is likely that result1 is normal')\n",
    "else:\n",
    "\tprint('It is unlikely that result1 is normal')"
   ]
  },
  {
   "cell_type": "markdown",
   "metadata": {},
   "source": [
    "Running the example first prints the calculated statistic and the p-value that the statistic was calculated from a Gaussian distribution.\n",
    "\n",
    "We can see that it is very likely that *results1.csv* is Gaussian.\n",
    "\n",
    "We can repeat this same test with data from *results2.csv*.\n",
    "\n",
    "The complete code listing is provided below."
   ]
  },
  {
   "cell_type": "code",
   "execution_count": 5,
   "metadata": {},
   "outputs": [
    {
     "name": "stdout",
     "output_type": "stream",
     "text": [
      "2.9901307811630233 0.2242339414632938\n",
      "It is likely that result2 is normal\n"
     ]
    }
   ],
   "source": [
    "from pandas import read_csv\n",
    "from scipy.stats import normaltest\n",
    "from matplotlib import pyplot\n",
    "result2 = read_csv('results2.csv', header=None)\n",
    "value, p = normaltest(result2.values[:,0])\n",
    "print(value, p)\n",
    "if p >= 0.05:\n",
    "\tprint('It is likely that result2 is normal')\n",
    "else:\n",
    "\tprint('It is unlikely that result2 is normal')"
   ]
  },
  {
   "cell_type": "markdown",
   "metadata": {},
   "source": [
    "Running the example provides the same statistic p-value and outcome.\n",
    "\n",
    "Both sets of results are Gaussian.\n",
    "\n",
    "## Compare Means for Gaussian Results\n",
    "Both sets of results are Gaussian and have the same variance; this means we can use the Student t-test to see if the difference between the means of the two distributions is statistically significant or not.\n",
    "\n",
    "In SciPy, we can use the ttest_ind() function.\n",
    "\n",
    "The null hypothesis of the test (H0) or the default expectation is that both samples were drawn from the same population. If we fail to reject this hypothesis, it means that there is no significant difference between the means.\n",
    "\n",
    "If we get a p-value of <= 0.05, it means that we can reject the null hypothesis and that the means are significantly different with a 95% confidence. That means for 95 similar samples out of 100, the means would be significantly different, and not so in 5 out of 100 cases.\n",
    "\n",
    "An important assumption of this statistical test, besides the data being Gaussian, is that both distributions have the same variance. We know this to be the case from reviewing the descriptive statistics in a previous step.\n",
    "\n",
    "The complete code listing is provided below."
   ]
  },
  {
   "cell_type": "code",
   "execution_count": 6,
   "metadata": {},
   "outputs": [
    {
     "name": "stdout",
     "output_type": "stream",
     "text": [
      "-22.78226550283975 2.5159901708040968e-102\n",
      "Samples are likely drawn from different distributions (reject H0)\n"
     ]
    }
   ],
   "source": [
    "from pandas import read_csv\n",
    "from scipy.stats import ttest_ind\n",
    "from matplotlib import pyplot\n",
    "# load results1\n",
    "result1 = read_csv('results1.csv', header=None)\n",
    "values1 = result1.values[:,0]\n",
    "# load results2\n",
    "result2 = read_csv('results2.csv', header=None)\n",
    "values2 = result2.values[:,0]\n",
    "# calculate the significance\n",
    "value, pvalue = ttest_ind(values1, values2, equal_var=True)\n",
    "print(value, pvalue)\n",
    "if pvalue > 0.05:\n",
    "\tprint('Samples are likely drawn from the same distributions (fail to reject H0)')\n",
    "else:\n",
    "\tprint('Samples are likely drawn from different distributions (reject H0)')"
   ]
  },
  {
   "cell_type": "markdown",
   "metadata": {},
   "source": [
    "Running the example prints the statistic and the p-value. We can see that the p-value is much lower than 0.05.\n",
    "\n",
    "In fact, it is so small that we have a near certainty that the difference between the means is statistically significant.\n",
    "\n",
    "## Compare Means for Gaussian Results with Different Variance\n",
    "What if the means were the same for the two sets of results, but the variance was different?\n",
    "\n",
    "We would not be able to use the Student t-test as is. In fact, we would have to use a modified version of the test called Welch’s t-test.\n",
    "\n",
    "In SciPy, this is the same ttest_ind() function, but we must set the “equal_var” argument to “False” to indicate the variances are not equal.\n",
    "\n",
    "We can demonstrate this with an example where we generate two sets of results with means that are very similar (50 vs 51) and very different standard deviations (1 vs 10). We will generate 100 samples."
   ]
  },
  {
   "cell_type": "code",
   "execution_count": 7,
   "metadata": {},
   "outputs": [
    {
     "name": "stdout",
     "output_type": "stream",
     "text": [
      "-2.6223313740555843 0.010087148378339763\n",
      "Samples are likely drawn from different distributions (reject H0)\n"
     ]
    }
   ],
   "source": [
    "from numpy.random import seed\n",
    "from numpy.random import normal\n",
    "from scipy.stats import ttest_ind\n",
    "# generate results\n",
    "seed(1)\n",
    "n = 100\n",
    "values1 = normal(50, 1, n)\n",
    "values2 = normal(51, 10, n)\n",
    "# calculate the significance\n",
    "value, pvalue = ttest_ind(values1, values2, equal_var=False)\n",
    "print(value, pvalue)\n",
    "if pvalue > 0.05:\n",
    "\tprint('Samples are likely drawn from the same distributions (fail to reject H0)')\n",
    "else:\n",
    "\tprint('Samples are likely drawn from different distributions (reject H0)')"
   ]
  },
  {
   "cell_type": "markdown",
   "metadata": {},
   "source": [
    "Running the example prints the test statistic and the p-value.\n",
    "\n",
    "We can see that there is good evidence (nearly 99%) that the samples were drawn from different distributions, that the means are significantly different.\n",
    "\n",
    "The closer the distributions are, the larger the sample that is required to tell them apart.\n",
    "\n",
    "We can demonstrate this by calculating the statistical test on different sized sub-samples of each set of results and plotting the p-values against the sample size.\n",
    "\n",
    "We would expect the p-value to get smaller with the increase sample size. We can also draw a line at the 95% level (0.05) and show at what point the sample size is large enough to indicate these two populations are significantly different."
   ]
  },
  {
   "cell_type": "code",
   "execution_count": 8,
   "metadata": {},
   "outputs": [
    {
     "name": "stderr",
     "output_type": "stream",
     "text": [
      "/Library/Frameworks/Python.framework/Versions/3.6/lib/python3.6/site-packages/numpy/core/fromnumeric.py:3194: RuntimeWarning: Degrees of freedom <= 0 for slice\n",
      "  **kwargs)\n",
      "/Library/Frameworks/Python.framework/Versions/3.6/lib/python3.6/site-packages/numpy/core/_methods.py:127: RuntimeWarning: invalid value encountered in double_scalars\n",
      "  ret = ret.dtype.type(ret / rcount)\n"
     ]
    },
    {
     "data": {
      "image/png": "[encoded data removed]",
      "text/plain": [
       "<matplotlib.figure.Figure at 0x105320780>"
      ]
     },
     "metadata": {},
     "output_type": "display_data"
    }
   ],
   "source": [
    "from numpy.random import seed\n",
    "from numpy.random import normal\n",
    "from scipy.stats import ttest_ind\n",
    "from matplotlib import pyplot\n",
    "%matplotlib inline\n",
    "# generate results\n",
    "seed(1)\n",
    "n = 100\n",
    "values1 = normal(50, 1, n)\n",
    "values2 = normal(51, 10, n)\n",
    "# calculate p-values for different subsets of results\n",
    "pvalues = list()\n",
    "for i in range(1, n+1):\n",
    "\tvalue, p = ttest_ind(values1[0:i], values2[0:i], equal_var=False)\n",
    "\tpvalues.append(p)\n",
    "# plot p-values vs number of results in sample\n",
    "pyplot.plot(pvalues)\n",
    "# draw line at 95%, below which we reject H0\n",
    "pyplot.plot([0.05 for x in range(len(pvalues))], color='red')\n",
    "pyplot.show()"
   ]
  },
  {
   "cell_type": "markdown",
   "metadata": {},
   "source": [
    "Running the example creates a line plot of p-value vs sample size.\n",
    "\n",
    "We can see that for these two sets of results, the sample size must be about 90 before we have a 95% confidence that the means are significantly different (where the blue line intersects the red line).\n",
    "\n",
    "## Compare Means for Non-Gaussian Results\n",
    "We cannot use the Student t-test or the Welch’s t-test if our data is not Gaussian.\n",
    "\n",
    "An alternative statistical significance test we can use for non-Gaussian data is called the Kolmogorov-Smirnov test.\n",
    "\n",
    "In SciPy, this is called the ks_2samp() function.\n",
    "\n",
    "This test can be used on Gaussian data, but will have less statistical power and may require large samples.\n",
    "\n",
    "We can demonstrate the calculation of statistical significance on two sets of results with non-Gaussian distributions. We can generate two sets of results with overlapping uniform distributions (50 to 60 and 55 to 65). These sets of results will have different mean values of about 55 and 60 respectively.\n",
    "\n",
    "The code below generates the two sets of 100 results and uses the Kolmogorov-Smirnov test to demonstrate that the difference between the population means is statistically significant."
   ]
  },
  {
   "cell_type": "code",
   "execution_count": 9,
   "metadata": {},
   "outputs": [
    {
     "name": "stdout",
     "output_type": "stream",
     "text": [
      "0.47 2.1682585673653708e-10\n",
      "Samples are likely drawn from different distributions (reject H0)\n"
     ]
    }
   ],
   "source": [
    "from numpy.random import seed\n",
    "from numpy.random import randint\n",
    "from scipy.stats import ks_2samp\n",
    "# generate results\n",
    "seed(1)\n",
    "n = 100\n",
    "values1 = randint(50, 60, n)\n",
    "values2 = randint(55, 65, n)\n",
    "# calculate the significance\n",
    "value, pvalue = ks_2samp(values1, values2)\n",
    "print(value, pvalue)\n",
    "if pvalue > 0.05:\n",
    "\tprint('Samples are likely drawn from the same distributions (fail to reject H0)')\n",
    "else:\n",
    "\tprint('Samples are likely drawn from different distributions (reject H0)')"
   ]
  },
  {
   "cell_type": "markdown",
   "metadata": {},
   "source": [
    "Running the example prints the statistic and the p-value.\n",
    "\n",
    "The p-value is very small, suggesting a near certainty that the difference between the two populations is significant.\n",
    "\n",
    "## Summary\n",
    "In this tutorial, you discovered how you can use statistical significance tests to interpret machine learning results.\n",
    "\n",
    "You can use these tests to help you confidently choose one machine learning algorithm over another or one set of configuration parameters over another for the same algorithm.\n",
    "\n",
    "You learned:\n",
    "\n",
    "* How to use normality tests to check if your experimental results are Gaussian or not.\n",
    "* How to use statistical tests to check if the difference between mean results is significant for Gaussian data with the same and different variance.\n",
    "* How to use statistical tests to check if the difference between mean results is significant for non-Gaussian data."
   ]
  }
 ],
 "metadata": {
  "kernelspec": {
   "display_name": "Python 3",
   "language": "python",
   "name": "python3"
  },
  "language_info": {
   "codemirror_mode": {
    "name": "ipython",
    "version": 3
   },
   "file_extension": ".py",
   "mimetype": "text/x-python",
   "name": "python",
   "nbconvert_exporter": "python",
   "pygments_lexer": "ipython3",
   "version": "3.6.4"
  }
 },
 "nbformat": 4,
 "nbformat_minor": 2
}
