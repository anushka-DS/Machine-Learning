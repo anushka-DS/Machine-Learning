{
 "cells": [
  {
   "cell_type": "markdown",
   "metadata": {},
   "source": [
    "# Stochastic Gradient Boosting with XGBoost and scikit-learn in Python\n",
    "A simple technique for ensembling decision trees involves training trees on subsamples of the training dataset.\n",
    "\n",
    "Subsets of the the rows in the training data can be taken to train individual trees called bagging. When subsets of rows of the training data are also taken when calculating each split point, this is called random forest.\n",
    "\n",
    "These techniques can also be used in the gradient tree boosting model in a technique called stochastic gradient boosting.\n",
    "\n",
    "In this post you will discover stochastic gradient boosting and how to tune the sampling parameters using XGBoost with scikit-learn in Python.\n",
    "\n",
    "After reading this post you will know:\n",
    "\n",
    "* The rationale behind training trees on subsamples of data and how this can be used in gradient boosting.\n",
    "* How to tune row-based subsampling in XGBoost using scikit-learn.\n",
    "* How to tune column-based subsampling by both tree and split-point in XGBoost.\n",
    "\n",
    "Let’s get started."
   ]
  },
  {
   "cell_type": "markdown",
   "metadata": {},
   "source": [
    "## Stochastic Gradient Boosting\n",
    "Gradient boosting is a greedy procedure.\n",
    "\n",
    "New decision trees are added to the model to correct the residual error of the existing model.\n",
    "\n",
    "Each decision tree is created using a greedy search procedure to select split points that best minimize an objective function. This can result in trees that use the same attributes and even the same split points again and again.\n",
    "\n",
    "Bagging is a technique where a collection of decision trees are created, each from a different random subset of rows from the training data. The effect is that better performance is achieved from the ensemble of trees because the randomness in the sample allows slightly different trees to be created, adding variance to the ensembled predictions.\n",
    "\n",
    "Random forest takes this one step further, by allowing the features (columns) to be subsampled when choosing split points, adding further variance to the ensemble of trees.\n",
    "\n",
    "These same techniques can be used in the construction of decision trees in gradient boosting in a variation called stochastic gradient boosting.\n",
    "\n",
    "It is common to use aggressive sub-samples of the training data such as 40% to 80%."
   ]
  },
  {
   "cell_type": "markdown",
   "metadata": {},
   "source": [
    "## Tutorial Overview\n",
    "In this tutorial we are going to look at the effect of different subsampling techniques in gradient boosting.\n",
    "\n",
    "We will tune three different flavors of stochastic gradient boosting supported by the XGBoost library in Python, specifically:\n",
    "\n",
    "1. Subsampling of rows in the dataset when creating each tree.\n",
    "2. Subsampling of columns in the dataset when creating each tree.\n",
    "3. Subsampling of columns for each split in the dataset when creating each tree."
   ]
  },
  {
   "cell_type": "markdown",
   "metadata": {},
   "source": [
    "## Problem Description: Otto Dataset\n",
    "In this tutorial we will use the [Otto Group Product Classification Challenge](https://www.kaggle.com/c/otto-group-product-classification-challenge) dataset.\n",
    "\n",
    "This dataset is available for free from Kaggle (you will need to sign-up to Kaggle to be able to download this dataset). You can download the training dataset **train.csv.zip** from the [Data page](https://www.kaggle.com/c/otto-group-product-classification-challenge/data) and place the unzipped **train.csv** file into your working directory.\n",
    "\n",
    "This dataset describes the 93 obfuscated details of more than 61,000 products grouped into 10 product categories (e.g. fashion, electronics, etc.). Input attributes are counts of different events of some kind.\n",
    "\n",
    "The goal is to make predictions for new products as an array of probabilities for each of the 10 categories and models are evaluated using multiclass logarithmic loss (also called cross entropy).\n",
    "\n",
    "This competition was completed in May 2015 and this dataset is a good challenge for XGBoost because of the nontrivial number of examples, the difficulty of the problem and the fact that little data preparation is required (other than encoding the string class variables as integers)."
   ]
  },
  {
   "cell_type": "markdown",
   "metadata": {},
   "source": [
    "## Tuning Row Subsampling in XGBoost\n",
    "Row subsampling involves selecting a random sample of the training dataset without replacement.\n",
    "\n",
    "Row subsampling can be specified in the scikit-learn wrapper of the XGBoost class in the **subsample** parameter. The default is 1.0 which is no sub-sampling.\n",
    "\n",
    "We can use the grid search capability built into scikit-learn to evaluate the effect of different subsample values from 0.1 to 1.0 on the Otto dataset."
   ]
  },
  {
   "cell_type": "code",
   "execution_count": null,
   "metadata": {
    "collapsed": true
   },
   "outputs": [],
   "source": [
    "[0.1, 0.2, 0.3, 0.4, 0.5, 0.6, 0.7, 0.8, 1.0]"
   ]
  },
  {
   "cell_type": "markdown",
   "metadata": {},
   "source": [
    "There are 9 variations of subsample and each model will be evaluated using 10-fold cross validation, meaning that 9×10 or 90 models need to be trained and tested.\n",
    "\n",
    "The complete code listing is provided below."
   ]
  },
  {
   "cell_type": "code",
   "execution_count": null,
   "metadata": {
    "collapsed": true
   },
   "outputs": [],
   "source": [
    "# XGBoost on Otto dataset, tune subsample\n",
    "from pandas import read_csv\n",
    "from xgboost import XGBClassifier\n",
    "from sklearn.model_selection import GridSearchCV\n",
    "from sklearn.model_selection import StratifiedKFold\n",
    "from sklearn.preprocessing import LabelEncoder\n",
    "import matplotlib\n",
    "matplotlib.use('Agg')\n",
    "from matplotlib import pyplot\n",
    "# load data\n",
    "data = read_csv('train.csv')\n",
    "dataset = data.values\n",
    "# split data into X and y\n",
    "X = dataset[:,0:94]\n",
    "y = dataset[:,94]\n",
    "# encode string class values as integers\n",
    "label_encoded_y = LabelEncoder().fit_transform(y)\n",
    "# grid search\n",
    "model = XGBClassifier()\n",
    "subsample = [0.1, 0.2, 0.3, 0.4, 0.5, 0.6, 0.7, 0.8, 1.0]\n",
    "param_grid = dict(subsample=subsample)\n",
    "kfold = StratifiedKFold(n_splits=10, shuffle=True, random_state=7)\n",
    "grid_search = GridSearchCV(model, param_grid, scoring=\"neg_log_loss\", n_jobs=-1, cv=kfold)\n",
    "grid_result = grid_search.fit(X, label_encoded_y)\n",
    "# summarize results\n",
    "print(\"Best: %f using %s\" % (grid_result.best_score_, grid_result.best_params_))\n",
    "means = grid_result.cv_results_['mean_test_score']\n",
    "stds = grid_result.cv_results_['std_test_score']\n",
    "params = grid_result.cv_results_['params']\n",
    "for mean, stdev, param in zip(means, stds, params):\n",
    "\tprint(\"%f (%f) with: %r\" % (mean, stdev, param))\n",
    "# plot\n",
    "pyplot.errorbar(subsample, means, yerr=stds)\n",
    "pyplot.title(\"XGBoost subsample vs Log Loss\")\n",
    "pyplot.xlabel('subsample')\n",
    "pyplot.ylabel('Log Loss')\n",
    "pyplot.savefig('subsample.png')"
   ]
  },
  {
   "cell_type": "markdown",
   "metadata": {},
   "source": [
    "Running this example prints the best configuration as well as the log loss for each tested configuration.\n",
    "\n",
    "We can see that the best results achieved were 0.3, or training trees using a 30% sample of the training dataset."
   ]
  },
  {
   "cell_type": "code",
   "execution_count": null,
   "metadata": {
    "collapsed": true
   },
   "outputs": [],
   "source": [
    "Best: -0.000647 using {'subsample': 0.3}\n",
    "-0.001156 (0.000286) with: {'subsample': 0.1}\n",
    "-0.000765 (0.000430) with: {'subsample': 0.2}\n",
    "-0.000647 (0.000471) with: {'subsample': 0.3}\n",
    "-0.000659 (0.000635) with: {'subsample': 0.4}\n",
    "-0.000717 (0.000849) with: {'subsample': 0.5}\n",
    "-0.000773 (0.000998) with: {'subsample': 0.6}\n",
    "-0.000877 (0.001179) with: {'subsample': 0.7}\n",
    "-0.001007 (0.001371) with: {'subsample': 0.8}\n",
    "-0.001239 (0.001730) with: {'subsample': 1.0}"
   ]
  },
  {
   "cell_type": "markdown",
   "metadata": {},
   "source": [
    "We can plot these mean and standard deviation log loss values to get a better understanding of how performance varies with the subsample value.\n",
    "\n",
    "![subsample](subsample.png)\n",
    "\n",
    "We can see that indeed 30% has the best mean performance, but we can also see that as the ratio increased, the variance in performance grows quite markedly.\n",
    "\n",
    "It is interesting to note that the mean performance of all **subsample** values outperforms the mean performance without subsampling (**subsample=1.0**).\n",
    "\n",
    "## Tuning Column Subsampling in XGBoost By Tree\n",
    "We can also create a random sample of the features (or columns) to use prior to creating each decision tree in the boosted model.\n",
    "\n",
    "In the XGBoost wrapper for scikit-learn, this is controlled by the **colsample_bytree** parameter.\n",
    "\n",
    "The default value is 1.0 meaning that all columns are used in each decision tree. We can evaluate values for **colsample_bytree** between 0.1 and 1.0 incrementing by 0.1."
   ]
  },
  {
   "cell_type": "code",
   "execution_count": null,
   "metadata": {
    "collapsed": true
   },
   "outputs": [],
   "source": [
    "[0.1, 0.2, 0.3, 0.4, 0.5, 0.6, 0.7, 0.8, 1.0]"
   ]
  },
  {
   "cell_type": "markdown",
   "metadata": {},
   "source": [
    "The full code listing is provided below."
   ]
  },
  {
   "cell_type": "code",
   "execution_count": null,
   "metadata": {
    "collapsed": true
   },
   "outputs": [],
   "source": [
    "# XGBoost on Otto dataset, tune colsample_bytree\n",
    "from pandas import read_csv\n",
    "from xgboost import XGBClassifier\n",
    "from sklearn.model_selection import GridSearchCV\n",
    "from sklearn.model_selection import StratifiedKFold\n",
    "from sklearn.preprocessing import LabelEncoder\n",
    "import matplotlib\n",
    "matplotlib.use('Agg')\n",
    "from matplotlib import pyplot\n",
    "# load data\n",
    "data = read_csv('train.csv')\n",
    "dataset = data.values\n",
    "# split data into X and y\n",
    "X = dataset[:,0:94]\n",
    "y = dataset[:,94]\n",
    "# encode string class values as integers\n",
    "label_encoded_y = LabelEncoder().fit_transform(y)\n",
    "# grid search\n",
    "model = XGBClassifier()\n",
    "colsample_bytree = [0.1, 0.2, 0.3, 0.4, 0.5, 0.6, 0.7, 0.8, 1.0]\n",
    "param_grid = dict(colsample_bytree=colsample_bytree)\n",
    "kfold = StratifiedKFold(n_splits=10, shuffle=True, random_state=7)\n",
    "grid_search = GridSearchCV(model, param_grid, scoring=\"neg_log_loss\", n_jobs=-1, cv=kfold)\n",
    "grid_result = grid_search.fit(X, label_encoded_y)\n",
    "# summarize results\n",
    "print(\"Best: %f using %s\" % (grid_result.best_score_, grid_result.best_params_))\n",
    "means = grid_result.cv_results_['mean_test_score']\n",
    "stds = grid_result.cv_results_['std_test_score']\n",
    "params = grid_result.cv_results_['params']\n",
    "for mean, stdev, param in zip(means, stds, params):\n",
    "\tprint(\"%f (%f) with: %r\" % (mean, stdev, param))\n",
    "# plot\n",
    "pyplot.errorbar(colsample_bytree, means, yerr=stds)\n",
    "pyplot.title(\"XGBoost colsample_bytree vs Log Loss\")\n",
    "pyplot.xlabel('colsample_bytree')\n",
    "pyplot.ylabel('Log Loss')\n",
    "pyplot.savefig('colsample_bytree.png')"
   ]
  },
  {
   "cell_type": "markdown",
   "metadata": {},
   "source": [
    "Running this example prints the best configuration as well as the log loss for each tested configuration.\n",
    "\n",
    "We can see that the best performance for the model was **colsample_bytree=1.0**. This suggests that subsampling columns on this problem does not add value."
   ]
  },
  {
   "cell_type": "code",
   "execution_count": null,
   "metadata": {
    "collapsed": true
   },
   "outputs": [],
   "source": [
    "Best: -0.001239 using {'colsample_bytree': 1.0}\n",
    "-0.298955 (0.002177) with: {'colsample_bytree': 0.1}\n",
    "-0.092441 (0.000798) with: {'colsample_bytree': 0.2}\n",
    "-0.029993 (0.000459) with: {'colsample_bytree': 0.3}\n",
    "-0.010435 (0.000669) with: {'colsample_bytree': 0.4}\n",
    "-0.004176 (0.000916) with: {'colsample_bytree': 0.5}\n",
    "-0.002614 (0.001062) with: {'colsample_bytree': 0.6}\n",
    "-0.001694 (0.001221) with: {'colsample_bytree': 0.7}\n",
    "-0.001306 (0.001435) with: {'colsample_bytree': 0.8}\n",
    "-0.001239 (0.001730) with: {'colsample_bytree': 1.0}"
   ]
  },
  {
   "cell_type": "markdown",
   "metadata": {},
   "source": [
    "Plotting the results, we can see the performance of the model plateau (at least at this scale) with values between 0.5 to 1.0.\n",
    "\n",
    "![colsample_bytree](colsample_bytree.png)\n",
    "\n",
    "## Tuning Column Subsampling in XGBoost By Split\n",
    "Rather than subsample the columns once for each tree, we can subsample them at each split in the decision tree. In principle, this is the approach used in random forest.\n",
    "\n",
    "We can set the size of the sample of columns used at each split in the **colsample_bylevel** parameter in the XGBoost wrapper classes for scikit-learn.\n",
    "\n",
    "As before, we will vary the ratio from 10% to the default of 100%.\n",
    "\n",
    "The full code listing is provided below."
   ]
  },
  {
   "cell_type": "code",
   "execution_count": null,
   "metadata": {
    "collapsed": true
   },
   "outputs": [],
   "source": [
    "# XGBoost on Otto dataset, tune colsample_bylevel\n",
    "from pandas import read_csv\n",
    "from xgboost import XGBClassifier\n",
    "from sklearn.model_selection import GridSearchCV\n",
    "from sklearn.model_selection import StratifiedKFold\n",
    "from sklearn.preprocessing import LabelEncoder\n",
    "import matplotlib\n",
    "matplotlib.use('Agg')\n",
    "from matplotlib import pyplot\n",
    "# load data\n",
    "data = read_csv('train.csv')\n",
    "dataset = data.values\n",
    "# split data into X and y\n",
    "X = dataset[:,0:94]\n",
    "y = dataset[:,94]\n",
    "# encode string class values as integers\n",
    "label_encoded_y = LabelEncoder().fit_transform(y)\n",
    "# grid search\n",
    "model = XGBClassifier()\n",
    "colsample_bylevel = [0.1, 0.2, 0.3, 0.4, 0.5, 0.6, 0.7, 0.8, 1.0]\n",
    "param_grid = dict(colsample_bylevel=colsample_bylevel)\n",
    "kfold = StratifiedKFold(n_splits=10, shuffle=True, random_state=7)\n",
    "grid_search = GridSearchCV(model, param_grid, scoring=\"neg_log_loss\", n_jobs=-1, cv=kfold)\n",
    "grid_result = grid_search.fit(X, label_encoded_y)\n",
    "# summarize results\n",
    "print(\"Best: %f using %s\" % (grid_result.best_score_, grid_result.best_params_))\n",
    "means = grid_result.cv_results_['mean_test_score']\n",
    "stds = grid_result.cv_results_['std_test_score']\n",
    "params = grid_result.cv_results_['params']\n",
    "for mean, stdev, param in zip(means, stds, params):\n",
    "\tprint(\"%f (%f) with: %r\" % (mean, stdev, param))\n",
    "# plot\n",
    "pyplot.errorbar(colsample_bylevel, means, yerr=stds)\n",
    "pyplot.title(\"XGBoost colsample_bylevel vs Log Loss\")\n",
    "pyplot.xlabel('colsample_bylevel')\n",
    "pyplot.ylabel('Log Loss')\n",
    "pyplot.savefig('colsample_bylevel.png')"
   ]
  },
  {
   "cell_type": "markdown",
   "metadata": {},
   "source": [
    "Running this example prints the best configuration as well as the log loss for each tested configuration.\n",
    "\n",
    "We can see that the best results were achieved by setting **colsample_bylevel** to 70%, resulting in an (inverted) log loss of -0.001062, which is better than -0.001239 seen when setting the per-tree column sampling to 100%.\n",
    "\n",
    "This suggest to not give up on column subsampling if per-tree results suggest using 100% of columns, and to instead try per-split column subsampling."
   ]
  },
  {
   "cell_type": "code",
   "execution_count": null,
   "metadata": {
    "collapsed": true
   },
   "outputs": [],
   "source": [
    "Best: -0.001062 using {'colsample_bylevel': 0.7}\n",
    "-0.159455 (0.007028) with: {'colsample_bylevel': 0.1}\n",
    "-0.034391 (0.003533) with: {'colsample_bylevel': 0.2}\n",
    "-0.007619 (0.000451) with: {'colsample_bylevel': 0.3}\n",
    "-0.002982 (0.000726) with: {'colsample_bylevel': 0.4}\n",
    "-0.001410 (0.000946) with: {'colsample_bylevel': 0.5}\n",
    "-0.001182 (0.001144) with: {'colsample_bylevel': 0.6}\n",
    "-0.001062 (0.001221) with: {'colsample_bylevel': 0.7}\n",
    "-0.001071 (0.001427) with: {'colsample_bylevel': 0.8}\n",
    "-0.001239 (0.001730) with: {'colsample_bylevel': 1.0}"
   ]
  },
  {
   "cell_type": "markdown",
   "metadata": {},
   "source": [
    "We can plot the performance of each **colsample_bylevel** variation. The results show relatively low variance and seemingly a plateau in performance after a value of 0.3 at this scale.\n",
    "\n",
    "![colsample_bylevel](colsample_bylevel.png)\n",
    "\n",
    "## Summary\n",
    "In this post you discovered stochastic gradient boosting with XGBoost in Python.\n",
    "\n",
    "Specifically, you learned:\n",
    "\n",
    "* About stochastic boosting and how you can subsample your training data to improve the generalization of your model\n",
    "* How to tune row subsampling with XGBoost in Python and scikit-learn.\n",
    "* How to tune column subsampling with XGBoost both per-tree and per-split."
   ]
  }
 ],
 "metadata": {
  "kernelspec": {
   "display_name": "Python 2",
   "language": "python",
   "name": "python2"
  },
  "language_info": {
   "codemirror_mode": {
    "name": "ipython",
    "version": 2
   },
   "file_extension": ".py",
   "mimetype": "text/x-python",
   "name": "python",
   "nbconvert_exporter": "python",
   "pygments_lexer": "ipython2",
   "version": "2.7.14"
  }
 },
 "nbformat": 4,
 "nbformat_minor": 2
}
