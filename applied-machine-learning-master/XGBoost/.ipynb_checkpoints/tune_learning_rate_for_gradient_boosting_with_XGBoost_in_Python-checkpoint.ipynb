{
 "cells": [
  {
   "cell_type": "markdown",
   "metadata": {},
   "source": [
    "# Tune Learning Rate for Gradient Boosting with XGBoost in Python\n",
    "A problem with gradient boosted decision trees is that they are quick to learn and overfit training data.\n",
    "\n",
    "One effective way to slow down learning in the gradient boosting model is to use a learning rate, also called shrinkage (or eta in XGBoost documentation).\n",
    "\n",
    "In this post you will discover the effect of the learning rate in gradient boosting and how to tune it on your machine learning problem using the XGBoost library in Python.\n",
    "\n",
    "After reading this post you will know:\n",
    "\n",
    "* The effect learning rate has on the gradient boosting model.\n",
    "* How to tune learning rate on your machine learning on your problem.\n",
    "* How to tune the trade-off between the number of boosted trees and learning rate on your problem.\n",
    "\n",
    "Let’s get started."
   ]
  },
  {
   "cell_type": "markdown",
   "metadata": {},
   "source": [
    "## Slow Learning in Gradient Boosting with a Learning Rate\n",
    "Gradient boosting involves creating and adding trees to the model sequentially.\n",
    "\n",
    "New trees are created to correct the residual errors in the predictions from the existing sequence of trees.\n",
    "\n",
    "The effect is that the model can quickly fit, then overfit the training dataset.\n",
    "\n",
    "A technique to slow down the learning in the gradient boosting model is to apply a weighting factor for the corrections by new trees when added to the model.\n",
    "\n",
    "This weighting is called the shrinkage factor or the learning rate, depending on the literature or the tool.\n",
    "\n",
    "Naive gradient boosting is the same as gradient boosting with shrinkage where the shrinkage factor is set to 1.0. Setting values less than 1.0 has the effect of making less corrections for each tree added to the model. This in turn results in more trees that must be added to the model.\n",
    "\n",
    "It is common to have small values in the range of 0.1 to 0.3, as well as values less than 0.1.\n",
    "\n",
    "Let’s investigate the effect of the learning rate on a standard machine learning dataset."
   ]
  },
  {
   "cell_type": "markdown",
   "metadata": {},
   "source": [
    "## Problem Description: Otto Dataset\n",
    "In this tutorial we will use the [Otto Group Product Classification Challenge](https://www.kaggle.com/c/otto-group-product-classification-challenge) dataset.\n",
    "\n",
    "This dataset is available for free from Kaggle (you will need to sign-up to Kaggle to be able to download this dataset). You can download the training dataset train.csv.zip from the [Data page](https://www.kaggle.com/c/otto-group-product-classification-challenge/data) and place the unzipped train.csv file into your working directory.\n",
    "\n",
    "This dataset describes the 93 obfuscated details of more than 61,000 products grouped into 10 product categories (e.g. fashion, electronics, etc.). Input attributes are counts of different events of some kind.\n",
    "\n",
    "The goal is to make predictions for new products as an array of probabilities for each of the 10 categories and models are evaluated using multiclass logarithmic loss (also called cross entropy).\n",
    "\n",
    "This competition was completed in May 2015 and this dataset is a good challenge for XGBoost because of the nontrivial number of examples, the difficulty of the problem and the fact that little data preparation is required (other than encoding the string class variables as integers)."
   ]
  },
  {
   "cell_type": "markdown",
   "metadata": {},
   "source": [
    "## Tuning Learning Rate in XGBoost\n",
    "When creating gradient boosting models with XGBoost using the scikit-learn wrapper, the **learning_rate** parameter can be set to control the weighting of new trees added to the model.\n",
    "\n",
    "We can use the grid search capability in scikit-learn to evaluate the effect on logarithmic loss of training a gradient boosting model with different learning rate values.\n",
    "\n",
    "We will hold the number of trees constant at the default of 100 and evaluate of suite of standard values for the learning rate on the Otto dataset."
   ]
  },
  {
   "cell_type": "code",
   "execution_count": null,
   "metadata": {
    "collapsed": true
   },
   "outputs": [],
   "source": [
    "learning_rate = [0.0001, 0.001, 0.01, 0.1, 0.2, 0.3]"
   ]
  },
  {
   "cell_type": "markdown",
   "metadata": {},
   "source": [
    "There are 6 variations of learning rate to be tested and each variation will be evaluated using 10-fold cross validation, meaning that there is a total of 6×10 or 60 XGBoost models to be trained and evaluated.\n",
    "\n",
    "The log loss for each learning rate will be printed as well as the value that resulted in the best performance."
   ]
  },
  {
   "cell_type": "code",
   "execution_count": 1,
   "metadata": {},
   "outputs": [
    {
     "name": "stdout",
     "output_type": "stream",
     "text": [
      "Best: -0.000832 using {'learning_rate': 0.3}\n",
      "-2.155496 (0.000089) with: {'learning_rate': 0.0001}\n",
      "-1.841059 (0.000739) with: {'learning_rate': 0.001}\n",
      "-0.597215 (0.001007) with: {'learning_rate': 0.01}\n",
      "-0.000926 (0.001211) with: {'learning_rate': 0.1}\n",
      "-0.000835 (0.001185) with: {'learning_rate': 0.2}\n",
      "-0.000832 (0.001178) with: {'learning_rate': 0.3}\n"
     ]
    }
   ],
   "source": [
    "# XGBoost on Otto dataset, Tune learning_rate\n",
    "from pandas import read_csv\n",
    "from xgboost import XGBClassifier\n",
    "from sklearn.model_selection import GridSearchCV\n",
    "from sklearn.model_selection import StratifiedKFold\n",
    "from sklearn.preprocessing import LabelEncoder\n",
    "import matplotlib\n",
    "matplotlib.use('Agg')\n",
    "from matplotlib import pyplot\n",
    "# load data\n",
    "data = read_csv('train.csv')\n",
    "dataset = data.values\n",
    "# split data into X and y\n",
    "X = dataset[:,0:94]\n",
    "y = dataset[:,94]\n",
    "# encode string class values as integers\n",
    "label_encoded_y = LabelEncoder().fit_transform(y)\n",
    "# grid search\n",
    "model = XGBClassifier()\n",
    "learning_rate = [0.0001, 0.001, 0.01, 0.1, 0.2, 0.3]\n",
    "param_grid = dict(learning_rate=learning_rate)\n",
    "kfold = StratifiedKFold(n_splits=10, shuffle=True, random_state=7)\n",
    "grid_search = GridSearchCV(model, param_grid, scoring=\"neg_log_loss\", n_jobs=-1, cv=kfold)\n",
    "grid_result = grid_search.fit(X, label_encoded_y)\n",
    "# summarize results\n",
    "print(\"Best: %f using %s\" % (grid_result.best_score_, grid_result.best_params_))\n",
    "means = grid_result.cv_results_['mean_test_score']\n",
    "stds = grid_result.cv_results_['std_test_score']\n",
    "params = grid_result.cv_results_['params']\n",
    "for mean, stdev, param in zip(means, stds, params):\n",
    "\tprint(\"%f (%f) with: %r\" % (mean, stdev, param))\n",
    "# plot\n",
    "pyplot.errorbar(learning_rate, means, yerr=stds)\n",
    "pyplot.title(\"XGBoost learning_rate vs Log Loss\")\n",
    "pyplot.xlabel('learning_rate')\n",
    "pyplot.ylabel('Log Loss')\n",
    "pyplot.savefig('learning_rate.png')"
   ]
  },
  {
   "cell_type": "markdown",
   "metadata": {},
   "source": [
    "Running this example prints the best result as well as the log loss for each of the evaluated learning rates.\n",
    "\n",
    "Interestingly, we can see that the best learning rate was 0.2.\n",
    "\n",
    "This is a high learning rate and it suggest that perhaps the default number of trees of 100 is too low and needs to be increased.\n",
    "\n",
    "We can also plot the effect of the learning rate of the (inverted) log loss scores, although the log10-like spread of chosen learning_rate values means that most are squashed down the left-hand side of the plot near zero.\n",
    "\n",
    "![learning-rate](learning_rate.png)\n",
    "\n",
    "Next, we will look at varying the number of trees whilst varying the learning rate."
   ]
  },
  {
   "cell_type": "markdown",
   "metadata": {},
   "source": [
    "## Tuning Learning Rate and the Number of Trees in XGBoost\n",
    "Smaller learning rates generally require more trees to be added to the model.\n",
    "\n",
    "We can explore this relationship by evaluating a grid of parameter pairs. The number of decision trees will be varied from 100 to 500 and the learning rate varied on a log10 scale from 0.0001 to 0.1."
   ]
  },
  {
   "cell_type": "code",
   "execution_count": null,
   "metadata": {
    "collapsed": true
   },
   "outputs": [],
   "source": [
    "n_estimators = [100, 200, 300, 400, 500]\n",
    "learning_rate = [0.0001, 0.001, 0.01, 0.1]"
   ]
  },
  {
   "cell_type": "markdown",
   "metadata": {},
   "source": [
    "There are 5 variations of **n_estimators** and 4 variations of **learning_rate**. Each combination will be evaluated using 10-fold cross validation, so that is a total of 4x5x10 or 200 XGBoost models that must be trained and evaluated.\n",
    "\n",
    "The expectation is that for a given learning rate, performance will improve and then plateau as the number of trees is increased. The full code listing is provided below."
   ]
  },
  {
   "cell_type": "code",
   "execution_count": null,
   "metadata": {
    "collapsed": true
   },
   "outputs": [],
   "source": [
    "# XGBoost on Otto dataset, Tune learning_rate and n_estimators\n",
    "from pandas import read_csv\n",
    "from xgboost import XGBClassifier\n",
    "from sklearn.model_selection import GridSearchCV\n",
    "from sklearn.model_selection import StratifiedKFold\n",
    "from sklearn.preprocessing import LabelEncoder\n",
    "import matplotlib\n",
    "matplotlib.use('Agg')\n",
    "from matplotlib import pyplot\n",
    "import numpy\n",
    "# load data\n",
    "data = read_csv('train.csv')\n",
    "dataset = data.values\n",
    "# split data into X and y\n",
    "X = dataset[:,0:94]\n",
    "y = dataset[:,94]\n",
    "# encode string class values as integers\n",
    "label_encoded_y = LabelEncoder().fit_transform(y)\n",
    "# grid search\n",
    "model = XGBClassifier()\n",
    "n_estimators = [100, 200, 300, 400, 500]\n",
    "learning_rate = [0.0001, 0.001, 0.01, 0.1]\n",
    "param_grid = dict(learning_rate=learning_rate, n_estimators=n_estimators)\n",
    "kfold = StratifiedKFold(n_splits=10, shuffle=True, random_state=7)\n",
    "grid_search = GridSearchCV(model, param_grid, scoring=\"neg_log_loss\", n_jobs=-1, cv=kfold)\n",
    "grid_result = grid_search.fit(X, label_encoded_y)\n",
    "# summarize results\n",
    "print(\"Best: %f using %s\" % (grid_result.best_score_, grid_result.best_params_))\n",
    "means = grid_result.cv_results_['mean_test_score']\n",
    "stds = grid_result.cv_results_['std_test_score']\n",
    "params = grid_result.cv_results_['params']\n",
    "for mean, stdev, param in zip(means, stds, params):\n",
    "\tprint(\"%f (%f) with: %r\" % (mean, stdev, param))\n",
    "# plot results\n",
    "scores = numpy.array(means).reshape(len(learning_rate), len(n_estimators))\n",
    "for i, value in enumerate(learning_rate):\n",
    "    pyplot.plot(n_estimators, scores[i], label='learning_rate: ' + str(value))\n",
    "pyplot.legend()\n",
    "pyplot.xlabel('n_estimators')\n",
    "pyplot.ylabel('Log Loss')\n",
    "pyplot.savefig('n_estimators_vs_learning_rate.png')"
   ]
  },
  {
   "cell_type": "markdown",
   "metadata": {},
   "source": [
    "Running the example prints the best combination as well as the log loss for each evaluated pair."
   ]
  },
  {
   "cell_type": "code",
   "execution_count": null,
   "metadata": {
    "collapsed": true
   },
   "outputs": [],
   "source": [
    "Best: -0.001152 using {'n_estimators': 300, 'learning_rate': 0.1}\n",
    "-2.155497 (0.000081) with: {'n_estimators': 100, 'learning_rate': 0.0001}\n",
    "-2.115540 (0.000159) with: {'n_estimators': 200, 'learning_rate': 0.0001}\n",
    "-2.077211 (0.000233) with: {'n_estimators': 300, 'learning_rate': 0.0001}\n",
    "-2.040386 (0.000304) with: {'n_estimators': 400, 'learning_rate': 0.0001}\n",
    "-2.004955 (0.000373) with: {'n_estimators': 500, 'learning_rate': 0.0001}\n",
    "-1.841069 (0.000716) with: {'n_estimators': 100, 'learning_rate': 0.001}\n",
    "-1.572384 (0.000692) with: {'n_estimators': 200, 'learning_rate': 0.001}\n",
    "-1.364543 (0.000699) with: {'n_estimators': 300, 'learning_rate': 0.001}\n",
    "-1.196490 (0.000713) with: {'n_estimators': 400, 'learning_rate': 0.001}\n",
    "-1.056687 (0.000728) with: {'n_estimators': 500, 'learning_rate': 0.001}\n",
    "-0.597299 (0.000822) with: {'n_estimators': 100, 'learning_rate': 0.01}\n",
    "-0.214311 (0.000929) with: {'n_estimators': 200, 'learning_rate': 0.01}\n",
    "-0.080729 (0.000982) with: {'n_estimators': 300, 'learning_rate': 0.01}\n",
    "-0.030533 (0.000949) with: {'n_estimators': 400, 'learning_rate': 0.01}\n",
    "-0.011769 (0.001071) with: {'n_estimators': 500, 'learning_rate': 0.01}\n",
    "-0.001239 (0.001730) with: {'n_estimators': 100, 'learning_rate': 0.1}\n",
    "-0.001153 (0.001702) with: {'n_estimators': 200, 'learning_rate': 0.1}\n",
    "-0.001152 (0.001704) with: {'n_estimators': 300, 'learning_rate': 0.1}\n",
    "-0.001153 (0.001708) with: {'n_estimators': 400, 'learning_rate': 0.1}\n",
    "-0.001153 (0.001708) with: {'n_estimators': 500, 'learning_rate': 0.1}"
   ]
  },
  {
   "cell_type": "markdown",
   "metadata": {},
   "source": [
    "We can see that the best result observed was a learning rate of 0.1 with 300 trees.\n",
    "\n",
    "It is hard to pick out trends from the raw data and small negative log loss results. Below is a plot of each learning rate as a series showing log loss performance as the number of trees is varied.\n",
    "\n",
    "![tuning-learning-rates](Tuning-Learning-Rate-and-Number-of-Trees-in-XGBoost.png)\n",
    "\n",
    "We can see that the expected general trend holds, where the performance (inverted log loss) improves as the number of trees is increased.\n",
    "\n",
    "Performance is generally poor for the smaller learning rates, suggesting that a much larger number of trees may be required. We may need to increase the number of trees to many thousands which may be quite computationally expensive.\n",
    "\n",
    "The results for **learning_rate=0.1** are obscured due the large y-axis scale of the graph. We can extract the performance measure for just **learning_rate=0.1** and plot them directly."
   ]
  },
  {
   "cell_type": "code",
   "execution_count": null,
   "metadata": {
    "collapsed": true
   },
   "outputs": [],
   "source": [
    "# Plot performance for learning_rate=0.1\n",
    "from matplotlib import pyplot\n",
    "n_estimators = [100, 200, 300, 400, 500]\n",
    "loss = [-0.001239, -0.001153, -0.001152, -0.001153, -0.001153]\n",
    "pyplot.plot(n_estimators, loss)\n",
    "pyplot.xlabel('n_estimators')\n",
    "pyplot.ylabel('Log Loss')\n",
    "pyplot.title('XGBoost learning_rate=0.1 n_estimators vs Log Loss')\n",
    "pyplot.show()"
   ]
  },
  {
   "cell_type": "markdown",
   "metadata": {},
   "source": [
    "Running this code shows the increased performance as the number of trees are added, followed by a plateau in performance across 400 and 500 trees.\n",
    "\n",
    "![plot-of-learning-rates](Plot-of-Learning-Rate0.1-and-varying-the-Number-of-Trees-in-XGBoost.png)"
   ]
  },
  {
   "cell_type": "markdown",
   "metadata": {},
   "source": [
    "## Summary\n",
    "In this post you discovered the effect of weighting the addition of new trees to a gradient boosting model, called shrinkage or the learning rate.\n",
    "\n",
    "Specifically, you learned:\n",
    "\n",
    "* That adding a learning rate is intended to slow down the adaptation of the model to the training data.\n",
    "* How to evaluate a range of learning rate values on your machine learning problem.\n",
    "* How to evaluate the relationship of varying both the number of trees and the learning rate on your problem."
   ]
  }
 ],
 "metadata": {
  "kernelspec": {
   "display_name": "Python 2",
   "language": "python",
   "name": "python2"
  },
  "language_info": {
   "codemirror_mode": {
    "name": "ipython",
    "version": 2
   },
   "file_extension": ".py",
   "mimetype": "text/x-python",
   "name": "python",
   "nbconvert_exporter": "python",
   "pygments_lexer": "ipython2",
   "version": "2.7.14"
  }
 },
 "nbformat": 4,
 "nbformat_minor": 2
}
